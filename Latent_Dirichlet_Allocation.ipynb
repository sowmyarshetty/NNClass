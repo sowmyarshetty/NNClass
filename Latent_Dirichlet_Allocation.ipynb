{
  "cells": [
    {
      "cell_type": "markdown",
      "metadata": {
        "id": "view-in-github",
        "colab_type": "text"
      },
      "source": [
        "<a href=\"https://colab.research.google.com/github/sowmyarshetty/NNClass/blob/main/Latent_Dirichlet_Allocation.ipynb\" target=\"_parent\"><img src=\"https://colab.research.google.com/assets/colab-badge.svg\" alt=\"Open In Colab\"/></a>"
      ]
    },
    {
      "cell_type": "code",
      "execution_count": 2,
      "metadata": {
        "id": "sc4hxO9EpMlC"
      },
      "outputs": [],
      "source": [
        "# Import dependencies\n",
        "import pandas as pd\n",
        "import numpy as np\n",
        "import random\n",
        "import re\n",
        "from sklearn.feature_extraction.text import CountVectorizer\n",
        "from sklearn.decomposition import LatentDirichletAllocation\n",
        "# Set the column width\n",
        "pd.set_option('max_colwidth', 200)"
      ]
    },
    {
      "cell_type": "code",
      "source": [
        "import gdown\n",
        "# Mount Google Drive (For Colab Users)\n",
        "from google.colab import drive\n",
        "drive.mount('/content/drive')\n",
        "\n",
        "\n",
        "#URL for downloading lung cancer data\n",
        "url_lc = 'https://drive.google.com/uc?id=1dCjysGH7CjseeifERUin9gaoKchtcGnh'\n",
        "gdown.download(url_lc, 'news_article.csv', quiet=False)\n",
        "# https://drive.google.com/file/d/1dCjysGH7CjseeifERUin9gaoKchtcGnh/view?usp=drive_link\n",
        "\n",
        "\n",
        "#Read the Lung cancer data.csv\n",
        "data = pd.read_csv(url_lc)\n",
        "data.head()\n"
      ],
      "metadata": {
        "colab": {
          "base_uri": "https://localhost:8080/",
          "height": 293
        },
        "id": "Tkr7FS56pgZ0",
        "outputId": "3b2e758b-4797-4653-fada-51ee7d9fb014"
      },
      "execution_count": 7,
      "outputs": [
        {
          "output_type": "stream",
          "name": "stdout",
          "text": [
            "Drive already mounted at /content/drive; to attempt to forcibly remount, call drive.mount(\"/content/drive\", force_remount=True).\n"
          ]
        },
        {
          "output_type": "stream",
          "name": "stderr",
          "text": [
            "Downloading...\n",
            "From: https://drive.google.com/uc?id=1dCjysGH7CjseeifERUin9gaoKchtcGnh\n",
            "To: /content/news_article.csv\n",
            "100%|██████████| 1.43M/1.43M [00:00<00:00, 127MB/s]\n"
          ]
        },
        {
          "output_type": "execute_result",
          "data": {
            "text/plain": [
              "                                                                   headline\n",
              "0       Is 22 Too Young To Marry A 36-Year-Old? 'The Bachelor' Investigates\n",
              "1                         The Only Shopping Guide For Cyber Monday You Need\n",
              "2       Taylor Swift Dances When No One Can See Her In New 'Delicate' Video\n",
              "3                               How To Say 'Cheers' In 20 Languages (AUDIO)\n",
              "4  'Welcome To Hell': Rio Police Warn They Can't Promise Olympic Protection"
            ],
            "text/html": [
              "\n",
              "  <div id=\"df-f11b9ea7-f515-4cf2-810e-55eee3de36e8\" class=\"colab-df-container\">\n",
              "    <div>\n",
              "<style scoped>\n",
              "    .dataframe tbody tr th:only-of-type {\n",
              "        vertical-align: middle;\n",
              "    }\n",
              "\n",
              "    .dataframe tbody tr th {\n",
              "        vertical-align: top;\n",
              "    }\n",
              "\n",
              "    .dataframe thead th {\n",
              "        text-align: right;\n",
              "    }\n",
              "</style>\n",
              "<table border=\"1\" class=\"dataframe\">\n",
              "  <thead>\n",
              "    <tr style=\"text-align: right;\">\n",
              "      <th></th>\n",
              "      <th>headline</th>\n",
              "    </tr>\n",
              "  </thead>\n",
              "  <tbody>\n",
              "    <tr>\n",
              "      <th>0</th>\n",
              "      <td>Is 22 Too Young To Marry A 36-Year-Old? 'The Bachelor' Investigates</td>\n",
              "    </tr>\n",
              "    <tr>\n",
              "      <th>1</th>\n",
              "      <td>The Only Shopping Guide For Cyber Monday You Need</td>\n",
              "    </tr>\n",
              "    <tr>\n",
              "      <th>2</th>\n",
              "      <td>Taylor Swift Dances When No One Can See Her In New 'Delicate' Video</td>\n",
              "    </tr>\n",
              "    <tr>\n",
              "      <th>3</th>\n",
              "      <td>How To Say 'Cheers' In 20 Languages (AUDIO)</td>\n",
              "    </tr>\n",
              "    <tr>\n",
              "      <th>4</th>\n",
              "      <td>'Welcome To Hell': Rio Police Warn They Can't Promise Olympic Protection</td>\n",
              "    </tr>\n",
              "  </tbody>\n",
              "</table>\n",
              "</div>\n",
              "    <div class=\"colab-df-buttons\">\n",
              "\n",
              "  <div class=\"colab-df-container\">\n",
              "    <button class=\"colab-df-convert\" onclick=\"convertToInteractive('df-f11b9ea7-f515-4cf2-810e-55eee3de36e8')\"\n",
              "            title=\"Convert this dataframe to an interactive table.\"\n",
              "            style=\"display:none;\">\n",
              "\n",
              "  <svg xmlns=\"http://www.w3.org/2000/svg\" height=\"24px\" viewBox=\"0 -960 960 960\">\n",
              "    <path d=\"M120-120v-720h720v720H120Zm60-500h600v-160H180v160Zm220 220h160v-160H400v160Zm0 220h160v-160H400v160ZM180-400h160v-160H180v160Zm440 0h160v-160H620v160ZM180-180h160v-160H180v160Zm440 0h160v-160H620v160Z\"/>\n",
              "  </svg>\n",
              "    </button>\n",
              "\n",
              "  <style>\n",
              "    .colab-df-container {\n",
              "      display:flex;\n",
              "      gap: 12px;\n",
              "    }\n",
              "\n",
              "    .colab-df-convert {\n",
              "      background-color: #E8F0FE;\n",
              "      border: none;\n",
              "      border-radius: 50%;\n",
              "      cursor: pointer;\n",
              "      display: none;\n",
              "      fill: #1967D2;\n",
              "      height: 32px;\n",
              "      padding: 0 0 0 0;\n",
              "      width: 32px;\n",
              "    }\n",
              "\n",
              "    .colab-df-convert:hover {\n",
              "      background-color: #E2EBFA;\n",
              "      box-shadow: 0px 1px 2px rgba(60, 64, 67, 0.3), 0px 1px 3px 1px rgba(60, 64, 67, 0.15);\n",
              "      fill: #174EA6;\n",
              "    }\n",
              "\n",
              "    .colab-df-buttons div {\n",
              "      margin-bottom: 4px;\n",
              "    }\n",
              "\n",
              "    [theme=dark] .colab-df-convert {\n",
              "      background-color: #3B4455;\n",
              "      fill: #D2E3FC;\n",
              "    }\n",
              "\n",
              "    [theme=dark] .colab-df-convert:hover {\n",
              "      background-color: #434B5C;\n",
              "      box-shadow: 0px 1px 3px 1px rgba(0, 0, 0, 0.15);\n",
              "      filter: drop-shadow(0px 1px 2px rgba(0, 0, 0, 0.3));\n",
              "      fill: #FFFFFF;\n",
              "    }\n",
              "  </style>\n",
              "\n",
              "    <script>\n",
              "      const buttonEl =\n",
              "        document.querySelector('#df-f11b9ea7-f515-4cf2-810e-55eee3de36e8 button.colab-df-convert');\n",
              "      buttonEl.style.display =\n",
              "        google.colab.kernel.accessAllowed ? 'block' : 'none';\n",
              "\n",
              "      async function convertToInteractive(key) {\n",
              "        const element = document.querySelector('#df-f11b9ea7-f515-4cf2-810e-55eee3de36e8');\n",
              "        const dataTable =\n",
              "          await google.colab.kernel.invokeFunction('convertToInteractive',\n",
              "                                                    [key], {});\n",
              "        if (!dataTable) return;\n",
              "\n",
              "        const docLinkHtml = 'Like what you see? Visit the ' +\n",
              "          '<a target=\"_blank\" href=https://colab.research.google.com/notebooks/data_table.ipynb>data table notebook</a>'\n",
              "          + ' to learn more about interactive tables.';\n",
              "        element.innerHTML = '';\n",
              "        dataTable['output_type'] = 'display_data';\n",
              "        await google.colab.output.renderOutput(dataTable, element);\n",
              "        const docLink = document.createElement('div');\n",
              "        docLink.innerHTML = docLinkHtml;\n",
              "        element.appendChild(docLink);\n",
              "      }\n",
              "    </script>\n",
              "  </div>\n",
              "\n",
              "\n",
              "<div id=\"df-71c42579-d68f-4f11-9e42-bc1c022adf0e\">\n",
              "  <button class=\"colab-df-quickchart\" onclick=\"quickchart('df-71c42579-d68f-4f11-9e42-bc1c022adf0e')\"\n",
              "            title=\"Suggest charts\"\n",
              "            style=\"display:none;\">\n",
              "\n",
              "<svg xmlns=\"http://www.w3.org/2000/svg\" height=\"24px\"viewBox=\"0 0 24 24\"\n",
              "     width=\"24px\">\n",
              "    <g>\n",
              "        <path d=\"M19 3H5c-1.1 0-2 .9-2 2v14c0 1.1.9 2 2 2h14c1.1 0 2-.9 2-2V5c0-1.1-.9-2-2-2zM9 17H7v-7h2v7zm4 0h-2V7h2v10zm4 0h-2v-4h2v4z\"/>\n",
              "    </g>\n",
              "</svg>\n",
              "  </button>\n",
              "\n",
              "<style>\n",
              "  .colab-df-quickchart {\n",
              "      --bg-color: #E8F0FE;\n",
              "      --fill-color: #1967D2;\n",
              "      --hover-bg-color: #E2EBFA;\n",
              "      --hover-fill-color: #174EA6;\n",
              "      --disabled-fill-color: #AAA;\n",
              "      --disabled-bg-color: #DDD;\n",
              "  }\n",
              "\n",
              "  [theme=dark] .colab-df-quickchart {\n",
              "      --bg-color: #3B4455;\n",
              "      --fill-color: #D2E3FC;\n",
              "      --hover-bg-color: #434B5C;\n",
              "      --hover-fill-color: #FFFFFF;\n",
              "      --disabled-bg-color: #3B4455;\n",
              "      --disabled-fill-color: #666;\n",
              "  }\n",
              "\n",
              "  .colab-df-quickchart {\n",
              "    background-color: var(--bg-color);\n",
              "    border: none;\n",
              "    border-radius: 50%;\n",
              "    cursor: pointer;\n",
              "    display: none;\n",
              "    fill: var(--fill-color);\n",
              "    height: 32px;\n",
              "    padding: 0;\n",
              "    width: 32px;\n",
              "  }\n",
              "\n",
              "  .colab-df-quickchart:hover {\n",
              "    background-color: var(--hover-bg-color);\n",
              "    box-shadow: 0 1px 2px rgba(60, 64, 67, 0.3), 0 1px 3px 1px rgba(60, 64, 67, 0.15);\n",
              "    fill: var(--button-hover-fill-color);\n",
              "  }\n",
              "\n",
              "  .colab-df-quickchart-complete:disabled,\n",
              "  .colab-df-quickchart-complete:disabled:hover {\n",
              "    background-color: var(--disabled-bg-color);\n",
              "    fill: var(--disabled-fill-color);\n",
              "    box-shadow: none;\n",
              "  }\n",
              "\n",
              "  .colab-df-spinner {\n",
              "    border: 2px solid var(--fill-color);\n",
              "    border-color: transparent;\n",
              "    border-bottom-color: var(--fill-color);\n",
              "    animation:\n",
              "      spin 1s steps(1) infinite;\n",
              "  }\n",
              "\n",
              "  @keyframes spin {\n",
              "    0% {\n",
              "      border-color: transparent;\n",
              "      border-bottom-color: var(--fill-color);\n",
              "      border-left-color: var(--fill-color);\n",
              "    }\n",
              "    20% {\n",
              "      border-color: transparent;\n",
              "      border-left-color: var(--fill-color);\n",
              "      border-top-color: var(--fill-color);\n",
              "    }\n",
              "    30% {\n",
              "      border-color: transparent;\n",
              "      border-left-color: var(--fill-color);\n",
              "      border-top-color: var(--fill-color);\n",
              "      border-right-color: var(--fill-color);\n",
              "    }\n",
              "    40% {\n",
              "      border-color: transparent;\n",
              "      border-right-color: var(--fill-color);\n",
              "      border-top-color: var(--fill-color);\n",
              "    }\n",
              "    60% {\n",
              "      border-color: transparent;\n",
              "      border-right-color: var(--fill-color);\n",
              "    }\n",
              "    80% {\n",
              "      border-color: transparent;\n",
              "      border-right-color: var(--fill-color);\n",
              "      border-bottom-color: var(--fill-color);\n",
              "    }\n",
              "    90% {\n",
              "      border-color: transparent;\n",
              "      border-bottom-color: var(--fill-color);\n",
              "    }\n",
              "  }\n",
              "</style>\n",
              "\n",
              "  <script>\n",
              "    async function quickchart(key) {\n",
              "      const quickchartButtonEl =\n",
              "        document.querySelector('#' + key + ' button');\n",
              "      quickchartButtonEl.disabled = true;  // To prevent multiple clicks.\n",
              "      quickchartButtonEl.classList.add('colab-df-spinner');\n",
              "      try {\n",
              "        const charts = await google.colab.kernel.invokeFunction(\n",
              "            'suggestCharts', [key], {});\n",
              "      } catch (error) {\n",
              "        console.error('Error during call to suggestCharts:', error);\n",
              "      }\n",
              "      quickchartButtonEl.classList.remove('colab-df-spinner');\n",
              "      quickchartButtonEl.classList.add('colab-df-quickchart-complete');\n",
              "    }\n",
              "    (() => {\n",
              "      let quickchartButtonEl =\n",
              "        document.querySelector('#df-71c42579-d68f-4f11-9e42-bc1c022adf0e button');\n",
              "      quickchartButtonEl.style.display =\n",
              "        google.colab.kernel.accessAllowed ? 'block' : 'none';\n",
              "    })();\n",
              "  </script>\n",
              "</div>\n",
              "\n",
              "    </div>\n",
              "  </div>\n"
            ],
            "application/vnd.google.colaboratory.intrinsic+json": {
              "type": "dataframe",
              "variable_name": "data",
              "summary": "{\n  \"name\": \"data\",\n  \"rows\": 23377,\n  \"fields\": [\n    {\n      \"column\": \"headline\",\n      \"properties\": {\n        \"dtype\": \"string\",\n        \"num_unique_values\": 23278,\n        \"samples\": [\n          \"SXSW Chronicles: Anticipation -- Day 1\",\n          \"Trump Tells 57,000 Honduran Immigrants To Leave Or Risk Deportation\",\n          \"This Just Might Be The Spot That Inspired 'Frozen'\"\n        ],\n        \"semantic_type\": \"\",\n        \"description\": \"\"\n      }\n    }\n  ]\n}"
            }
          },
          "metadata": {},
          "execution_count": 7
        }
      ]
    },
    {
      "cell_type": "code",
      "execution_count": null,
      "metadata": {
        "id": "LgN9tiV0pMlE"
      },
      "outputs": [],
      "source": [
        "# Load the news_articles.csv into a DataFrame.\n",
        "news_articles_df = pd.read_csv('Resources/news_articles.csv')\n",
        "# Display the first 20 headlines\n",
        "news_articles_df.head(10)"
      ]
    },
    {
      "cell_type": "markdown",
      "metadata": {
        "id": "lKxM4AqnpMlE"
      },
      "source": [
        "## Preprocess the Text"
      ]
    },
    {
      "cell_type": "code",
      "execution_count": null,
      "metadata": {
        "id": "MdU1eMytpMlF"
      },
      "outputs": [],
      "source": [
        "# Get the info on the DataFrame\n",
        "news_articles_df.info()"
      ]
    },
    {
      "cell_type": "code",
      "execution_count": null,
      "metadata": {
        "id": "uCpSLPqUpMlF"
      },
      "outputs": [],
      "source": [
        "# Remove digits and non-alphabetic characters\n"
      ]
    },
    {
      "cell_type": "markdown",
      "metadata": {
        "id": "mIF7pUIipMlG"
      },
      "source": [
        "## Process the Text to Tokens and Counts."
      ]
    },
    {
      "cell_type": "code",
      "execution_count": null,
      "metadata": {
        "id": "R-A8dCWqpMlG"
      },
      "outputs": [],
      "source": [
        "# Create an instance of the CountVectorizer and set the max_df to 0.95 and min_df to 10, and use the \"english\" stopwords.\n",
        "cv = CountVectorizer(max_df=0.95,min_df=10, stop_words='english')\n",
        "cv"
      ]
    },
    {
      "cell_type": "code",
      "execution_count": null,
      "metadata": {
        "id": "Cqjtll0YpMlG"
      },
      "outputs": [],
      "source": [
        "# Get the headlines.\n"
      ]
    },
    {
      "cell_type": "code",
      "execution_count": null,
      "metadata": {
        "id": "Zx_DwKTZpMlG"
      },
      "outputs": [],
      "source": [
        "# Transform each row from the headlines Series to a DTM.\n",
        "\n",
        "# Get the shape of the DTM.\n",
        "print(dtm.shape)"
      ]
    },
    {
      "cell_type": "code",
      "execution_count": null,
      "metadata": {
        "id": "OzJwk5XspMlH"
      },
      "outputs": [],
      "source": [
        "# Get the length of the vocabulary\n",
        "len(cv.get_feature_names_out())"
      ]
    },
    {
      "cell_type": "code",
      "execution_count": null,
      "metadata": {
        "id": "IXthZJpKpMlH"
      },
      "outputs": [],
      "source": [
        "# Look at 100 random words in the vocabulary\n",
        "print(cv.get_feature_names_out()[:100])"
      ]
    },
    {
      "cell_type": "code",
      "execution_count": null,
      "metadata": {
        "id": "lq4jkkxypMlH"
      },
      "outputs": [],
      "source": [
        "# Print the first 500 elements (transformed words)from the 1st row, i.e., document.\n",
        "print(dtm.toarray()[0][:500])"
      ]
    },
    {
      "cell_type": "code",
      "execution_count": null,
      "metadata": {
        "id": "ZZU1BswNpMlH"
      },
      "outputs": [],
      "source": [
        "# Get the feature names (words) from the CountVectorizer\n",
        "\n",
        "\n",
        "# Get all the non-zero elements from the first row.\n",
        "\n",
        "\n",
        "# Get the indices for each non-zero element.\n",
        "\n",
        "\n",
        "# Print out the word and the number of times the word is in the row.\n"
      ]
    },
    {
      "cell_type": "code",
      "execution_count": null,
      "metadata": {
        "id": "eT6SlGVzpMlH"
      },
      "outputs": [],
      "source": [
        "# Convert the DTM to a DataFrame\n",
        "\n",
        "\n",
        "# Display some random columns and the first 20 rows of the DataFrame.\n"
      ]
    },
    {
      "cell_type": "markdown",
      "metadata": {
        "id": "ga2DEhZTpMlH"
      },
      "source": [
        "## LDA"
      ]
    },
    {
      "cell_type": "code",
      "execution_count": null,
      "metadata": {
        "id": "tGx438qgpMlI"
      },
      "outputs": [],
      "source": [
        "# Create and instance of the LatentDirichletAllocation() class with 5 topics.\n",
        "\n",
        "# Fit the model with our DTM data. This may take awhile if you have a large amount of documents.\n",
        "LDA_data = LDA.fit(dtm)"
      ]
    },
    {
      "cell_type": "code",
      "execution_count": null,
      "metadata": {
        "id": "SMCEdRzIpMlI"
      },
      "outputs": [],
      "source": [
        "# Get the values of each topic-word distribution.\n"
      ]
    },
    {
      "cell_type": "code",
      "execution_count": null,
      "metadata": {
        "id": "KIgxO3mSpMlI"
      },
      "outputs": [],
      "source": [
        "# Get the length of the array of each topic. It should be the same as the vocabulary.\n"
      ]
    },
    {
      "cell_type": "code",
      "execution_count": null,
      "metadata": {
        "id": "35F-ubJHpMlI"
      },
      "outputs": [],
      "source": [
        "# Get the array of the first topic\n",
        "\n",
        "# This is the ranking of each word in the array. Lower values have less impact than higher values.\n"
      ]
    },
    {
      "cell_type": "code",
      "execution_count": null,
      "metadata": {
        "id": "X1YTCwUxpMlI"
      },
      "outputs": [],
      "source": [
        "# Get the indices for the first topic in descending order.\n",
        "\n",
        "\n",
        "# Use the sorted indices to the values from greatest to least.\n"
      ]
    },
    {
      "cell_type": "markdown",
      "metadata": {
        "id": "phSg0y0hpMlI"
      },
      "source": [
        "## Using `argsort()`\n",
        "---\n",
        "- `argsort()` returns index positions from least to greatest."
      ]
    },
    {
      "cell_type": "code",
      "execution_count": null,
      "metadata": {
        "id": "T1PQQWQ8pMlI"
      },
      "outputs": [],
      "source": [
        "# Define an array of values index 0 = 10, index 1 = 200, index 2 = 1.\n",
        "arr = np.array([10, 200, 1])\n",
        "# Print out the indices after sorting the array from least to greatest, i.e., 1, 10, 200:\n",
        "print(f\"The indices the the array, '10, 200, 1' from least to greatest: {np.argsort(arr)}\")\n",
        "# Reverse the sort from greatest to least.\n",
        "print(f\"The indices the the array, '10, 200, 1' from greatest to least: {np.argsort(-arr)}\")"
      ]
    },
    {
      "cell_type": "code",
      "execution_count": null,
      "metadata": {
        "id": "_NOotsAApMlI"
      },
      "outputs": [],
      "source": [
        "# Sort the array of the first topic\n"
      ]
    },
    {
      "cell_type": "code",
      "execution_count": null,
      "metadata": {
        "id": "KeYtXNDSpMlJ"
      },
      "outputs": [],
      "source": [
        "# Get the value of the word that is least representative of this topic\n",
        "print(f\"The value of the word that is least representative of this topic is: {first_topic[1716]}\")\n",
        "# Get the value of the word that is most representative of this topic\n",
        "print(f\"The value of the word that is most representative of this topic is: {first_topic[1688]}\")"
      ]
    },
    {
      "cell_type": "code",
      "execution_count": null,
      "metadata": {
        "id": "Tyni2HozpMlJ"
      },
      "outputs": [],
      "source": [
        "# Get the indices of the top ten words for the first topic (e.g., top 10 words for topic 0):\n"
      ]
    },
    {
      "cell_type": "code",
      "execution_count": null,
      "metadata": {
        "id": "dV2TS2V9pMlJ"
      },
      "outputs": [],
      "source": [
        "# Get the top ten words from the indices.\n"
      ]
    },
    {
      "cell_type": "code",
      "execution_count": null,
      "metadata": {
        "id": "xgqm-YoUpMlJ"
      },
      "outputs": [],
      "source": [
        "# Get the bottom ten words from the indices.\n"
      ]
    },
    {
      "cell_type": "code",
      "execution_count": null,
      "metadata": {
        "id": "6NXzvHT0pMlJ"
      },
      "outputs": [],
      "source": [
        "# Print the top 20 words for each topic\n"
      ]
    },
    {
      "cell_type": "markdown",
      "metadata": {
        "id": "qJtBRA5ZpMlJ"
      },
      "source": [
        "### Taking our best guess at the topics.\n",
        "---\n",
        "- TOPIC 1: **Travel**\n",
        "- TOPIC 2: **Sports**\n",
        "- TOPIC 3: **Food**\n",
        "- TOPIC 4: **Politics**\n",
        "- TOPIC 5: **Business**\n",
        "- TOPIC 6: **Entertainment**\n",
        "- TOPIC 7: **Technology**"
      ]
    },
    {
      "cell_type": "markdown",
      "metadata": {
        "id": "oleepBHkpMlJ"
      },
      "source": [
        "### Assigning the Topic to the Headline"
      ]
    },
    {
      "cell_type": "code",
      "execution_count": null,
      "metadata": {
        "id": "W5FT8Eh0pMlJ"
      },
      "outputs": [],
      "source": [
        "# Transform our DTM so we get an array with the (number_of_documents, number_of_topics).\n",
        "topic_results = LDA.transform(dtm)\n",
        "\n",
        "# Get the shape of the topic results\n",
        "topic_results.shape"
      ]
    },
    {
      "cell_type": "code",
      "execution_count": null,
      "metadata": {
        "id": "0TNGnSv7pMlK"
      },
      "outputs": [],
      "source": [
        "# Get the first headline's topic probability distribution rounded to 6 decimal places.\n"
      ]
    },
    {
      "cell_type": "code",
      "execution_count": null,
      "metadata": {
        "id": "bF7RetHapMlK"
      },
      "outputs": [],
      "source": [
        "# Get the sorted indices for each topic in the first headline.\n",
        "\n",
        "# Print the ranking of topics for the headline\n"
      ]
    },
    {
      "cell_type": "code",
      "execution_count": null,
      "metadata": {
        "id": "qf8PZuD8pMlK"
      },
      "outputs": [],
      "source": [
        "# Get the topic with the highest probability.\n"
      ]
    },
    {
      "cell_type": "markdown",
      "metadata": {
        "id": "pMC1R4ybpMlK"
      },
      "source": [
        "This means that our model thinks that the first article belongs to topic \"2\"."
      ]
    },
    {
      "cell_type": "code",
      "execution_count": null,
      "metadata": {
        "id": "iBTcDKEopMlK"
      },
      "outputs": [],
      "source": [
        "# Read in our original news headlines.\n",
        "\n",
        "# Combine the original data with the topic label.\n",
        "news_articles_df_2['topic'] = (topic_results.argmax(axis=1)+1)"
      ]
    },
    {
      "cell_type": "code",
      "execution_count": null,
      "metadata": {
        "id": "QzDe-Q4RpMlK"
      },
      "outputs": [],
      "source": [
        "# Get the first 20 rows.\n"
      ]
    },
    {
      "cell_type": "code",
      "execution_count": null,
      "metadata": {
        "id": "R520TGl3pMlK"
      },
      "outputs": [],
      "source": [
        "# Get the last 20 rows.\n"
      ]
    },
    {
      "cell_type": "code",
      "execution_count": null,
      "metadata": {
        "id": "Ku4dh0GApMlK"
      },
      "outputs": [],
      "source": []
    }
  ],
  "metadata": {
    "kernelspec": {
      "display_name": "Python 3 (ipykernel)",
      "language": "python",
      "name": "python3"
    },
    "language_info": {
      "codemirror_mode": {
        "name": "ipython",
        "version": 3
      },
      "file_extension": ".py",
      "mimetype": "text/x-python",
      "name": "python",
      "nbconvert_exporter": "python",
      "pygments_lexer": "ipython3",
      "version": "3.10.12"
    },
    "colab": {
      "provenance": [],
      "include_colab_link": true
    }
  },
  "nbformat": 4,
  "nbformat_minor": 0
}