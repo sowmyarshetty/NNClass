{
  "cells": [
    {
      "cell_type": "markdown",
      "metadata": {
        "id": "view-in-github",
        "colab_type": "text"
      },
      "source": [
        "<a href=\"https://colab.research.google.com/github/sowmyarshetty/NNClass/blob/main/preprocessing_images.ipynb\" target=\"_parent\"><img src=\"https://colab.research.google.com/assets/colab-badge.svg\" alt=\"Open In Colab\"/></a>"
      ]
    },
    {
      "cell_type": "code",
      "execution_count": 15,
      "metadata": {
        "id": "wLDQ6Kf8T_Aj"
      },
      "outputs": [],
      "source": [
        "import pandas as pd\n",
        "import numpy as np\n",
        "from PIL import Image"
      ]
    },
    {
      "cell_type": "code",
      "execution_count": 16,
      "metadata": {
        "colab": {
          "base_uri": "https://localhost:8080/",
          "height": 47
        },
        "id": "cOpVeqlpUM0S",
        "outputId": "c8a0fd3c-1c91-4428-81d0-1e250570409e"
      },
      "outputs": [
        {
          "output_type": "execute_result",
          "data": {
            "text/plain": [
              "<PIL.PngImagePlugin.PngImageFile image mode=L size=32x30>"
            ],
            "image/png": "[encoded data removed]",
            "image/jpeg": "[encoded data removed]"
          },
          "metadata": {},
          "execution_count": 16
        }
      ],
      "source": [
        "# Import images from a pickle file\n",
        "# This pickle file is hosted at a url, so some\n",
        "# additional code is needed\n",
        "import pickle\n",
        "import requests\n",
        "import io\n",
        "\n",
        "path = 'https://static.bc-edx.com/ai/ail-v-1-0/m19/lesson_1/datasets/pickles/face_images.pkl'\n",
        "\n",
        "imgs = pickle.load(io.BytesIO(requests.get(path).content))\n",
        "\n",
        "imgs[1]"
      ]
    },
    {
      "cell_type": "code",
      "execution_count": 17,
      "metadata": {
        "colab": {
          "base_uri": "https://localhost:8080/"
        },
        "id": "2fD3p7h5UXo8",
        "outputId": "5f5ae7fe-ccd5-4515-8bda-14d58b03f71f"
      },
      "outputs": [
        {
          "output_type": "execute_result",
          "data": {
            "text/plain": [
              "(32, 30)"
            ]
          },
          "metadata": {},
          "execution_count": 17
        }
      ],
      "source": [
        "# Check the size of the second image\n",
        "imgs[1].size\n"
      ]
    },
    {
      "cell_type": "code",
      "execution_count": 18,
      "metadata": {
        "colab": {
          "base_uri": "https://localhost:8080/"
        },
        "id": "G8gLcmtDUuXW",
        "outputId": "ebd2206d-5aac-4045-ff17-23a20488c498"
      },
      "outputs": [
        {
          "output_type": "execute_result",
          "data": {
            "text/plain": [
              "{(32, 30), (64, 60), (128, 120)}"
            ]
          },
          "metadata": {},
          "execution_count": 18
        }
      ],
      "source": [
        "# Get all the sizes into a list, then convert to a set\n",
        "sizes = set([img.size for img in imgs]) # set means no duplicate values\n",
        "sizes"
      ]
    },
    {
      "cell_type": "code",
      "execution_count": 19,
      "metadata": {
        "colab": {
          "base_uri": "https://localhost:8080/",
          "height": 77
        },
        "id": "HdcWptcfUzSF",
        "outputId": "6a3fc4a1-d0a1-4616-a7c3-9f7ed8f2ec71"
      },
      "outputs": [
        {
          "output_type": "execute_result",
          "data": {
            "text/plain": [
              "<PIL.Image.Image image mode=L size=64x60>"
            ],
            "image/png": "[encoded data removed]",
            "image/jpeg": "[encoded data removed]"
          },
          "metadata": {},
          "execution_count": 19
        }
      ],
      "source": [
        "# Convert the images to the middle 64, 60 size\n",
        "# Lets try with the first image\n",
        "target_size = (64,60)\n",
        "imgs[1].resize(target_size,resample = Image.LANCZOS)\n",
        "\n",
        "#data augmentation\n",
        "\n"
      ]
    },
    {
      "cell_type": "code",
      "source": [
        "len(imgs)"
      ],
      "metadata": {
        "colab": {
          "base_uri": "https://localhost:8080/"
        },
        "id": "_sDEAt7Sw6TU",
        "outputId": "bcc48de9-2063-46e6-9b12-f9e00bca0462"
      },
      "execution_count": 20,
      "outputs": [
        {
          "output_type": "execute_result",
          "data": {
            "text/plain": [
              "624"
            ]
          },
          "metadata": {},
          "execution_count": 20
        }
      ]
    },
    {
      "cell_type": "code",
      "execution_count": 21,
      "metadata": {
        "colab": {
          "base_uri": "https://localhost:8080/",
          "height": 77
        },
        "id": "ouwjLZRpYNZH",
        "outputId": "b5e9b7b8-3981-4ffa-cb85-e310b72790bf"
      },
      "outputs": [
        {
          "output_type": "execute_result",
          "data": {
            "text/plain": [
              "<PIL.Image.Image image mode=L size=64x60>"
            ],
            "image/png": "[encoded data removed]",
            "image/jpeg": "[encoded data removed]"
          },
          "metadata": {},
          "execution_count": 21
        }
      ],
      "source": [
        "# Using the same syntax, use a for loop to apply resizing to all images\n",
        "resized_images = [img.resize(target_size,resample = Image.LANCZOS) for img in imgs]\n",
        "resized_images[1]\n"
      ]
    },
    {
      "cell_type": "code",
      "execution_count": 22,
      "metadata": {
        "colab": {
          "base_uri": "https://localhost:8080/"
        },
        "id": "JoA74zHcZQ4n",
        "outputId": "c050f385-f766-428f-c94d-44f678ea9df3"
      },
      "outputs": [
        {
          "output_type": "stream",
          "name": "stdout",
          "text": [
            "Pixel values:\n",
            "[[21 19 19 ... 45 45 43]\n",
            " [47 43 33 ... 45 45 45]\n",
            " [64 66 75 ... 45 45 43]\n",
            " ...\n",
            " [50 43 40 ...  0  0  0]\n",
            " [49 43 33 ...  0  0  0]\n",
            " [49 47 33 ... 29  0  0]]\n"
          ]
        }
      ],
      "source": [
        "# Lets examine our data numerically.\n",
        "# This is most easily done by converting the image to a numpy array\n",
        "pixel_values = np.array(resized_images[0])\n",
        "\n",
        "# Convert one image to a NumPy array\n",
        "print(\"Pixel values:\")\n",
        "\n",
        "# Display the pixel values\n",
        "print(pixel_values)\n"
      ]
    },
    {
      "cell_type": "markdown",
      "metadata": {
        "id": "ZjS2VSHpZaW6"
      },
      "source": [
        "Note the shape of the data: an array of arrays, where each internal array represents one row of pixels. The numbers indicate how bright each pixel is on a scale of 0 to 255 where 255 is full brightness and zero is black. These numbers are what our model will use to make predictions! Many image models expect floating point values, so its common practice to convert from integers to floating point before other preprocessing steps. Note that from this point forward, we will not be able to visualize the images without using some sort of plotting library; we've converted the images to numbers!"
      ]
    },
    {
      "cell_type": "code",
      "execution_count": 23,
      "metadata": {
        "colab": {
          "base_uri": "https://localhost:8080/"
        },
        "id": "_ArW54UvYUBv",
        "outputId": "45435f96-1c61-497f-a45e-b6abe37faa82"
      },
      "outputs": [
        {
          "output_type": "stream",
          "name": "stdout",
          "text": [
            "pixel values\n",
            "[[21. 19. 19. ... 45. 45. 43.]\n",
            " [47. 43. 33. ... 45. 45. 45.]\n",
            " [64. 66. 75. ... 45. 45. 43.]\n",
            " ...\n",
            " [50. 43. 40. ...  0.  0.  0.]\n",
            " [49. 43. 33. ...  0.  0.  0.]\n",
            " [49. 47. 33. ... 29.  0.  0.]]\n"
          ]
        }
      ],
      "source": [
        "# Convert all images to floating point numpy arrays\n",
        "float_images = [np.array(img).astype(np.float32) for img in resized_images]\n",
        "\n",
        "# Display the pixel values of the first image\n",
        "print(\"pixel values\")\n",
        "print(float_images[0])\n",
        "\n",
        "# flops - how fast the chips operate . floating points operations per second\n",
        "\n",
        "\n"
      ]
    },
    {
      "cell_type": "code",
      "execution_count": 24,
      "metadata": {
        "colab": {
          "base_uri": "https://localhost:8080/"
        },
        "id": "PNDed0bUZgUl",
        "outputId": "2ba5f22f-98bb-4bfd-ea3a-b4b06cada0b4"
      },
      "outputs": [
        {
          "output_type": "execute_result",
          "data": {
            "text/plain": [
              "(624, 60, 64)"
            ]
          },
          "metadata": {},
          "execution_count": 24
        }
      ],
      "source": [
        "# To normalize pixel values to a range between 0 and 1,\n",
        "# we need to divide all pixel values by the max of 255\n",
        "#Standardscaler\n",
        "# converts a number ot its Z-score 99.99% of the time is between -3 and 3\n",
        "# 0 mean and 1 standard devation\n",
        "#MinMaxScaler\n",
        "\n",
        "\n",
        "# this will be another 3 dimensional array\n",
        "#we are putting the entire dataset into a 3 dimensional\n",
        "\n",
        "\n",
        "normalized_images = [img/255 for img in float_images]\n",
        "\n",
        "# Display the pixel values of the first image\n",
        "np.array(normalized_images).shape"
      ]
    },
    {
      "cell_type": "code",
      "execution_count": 25,
      "metadata": {
        "colab": {
          "base_uri": "https://localhost:8080/"
        },
        "id": "R3DFlICs1dKi",
        "outputId": "0912dac5-8161-4ee3-cec9-1e14b20a4e2f"
      },
      "outputs": [
        {
          "output_type": "stream",
          "name": "stdout",
          "text": [
            "Drive already mounted at /content/drive/; to attempt to forcibly remount, call drive.mount(\"/content/drive/\", force_remount=True).\n"
          ]
        }
      ],
      "source": [
        "# Import the modules\n",
        "from google.colab import drive\n",
        "import pickle\n",
        "\n",
        "drive.mount('/content/drive/')\n",
        "\n",
        "# Open a new file named 'img_preprocessed.pkl' with write permission\n",
        "with open('/content/drive/MyDrive/img_preprocessed.pkl', 'wb') as file:\n",
        "    # Use pickle.dump to store the list of images\n",
        "    pickle.dump(imgs, file)"
      ]
    },
    {
      "cell_type": "code",
      "execution_count": 26,
      "metadata": {
        "id": "ZJXH09OGZnfd"
      },
      "outputs": [],
      "source": [
        "# Save our preprocessed images to a new pickle file\n",
        "\n",
        "with open('/content/drive/My Drive/img_preprocessed.pkl', 'wb') as file:\n",
        "    pickle.dump(normalized_images, file)"
      ]
    },
    {
      "cell_type": "code",
      "source": [],
      "metadata": {
        "id": "itmeSGRR8BQX"
      },
      "execution_count": null,
      "outputs": []
    },
    {
      "cell_type": "code",
      "source": [
        "import matplotlib.pyplot as plt\n",
        "plt.imshow(normalized_images[0])"
      ],
      "metadata": {
        "id": "9VVYGfbE7tJ8",
        "colab": {
          "base_uri": "https://localhost:8080/",
          "height": 449
        },
        "outputId": "01ea6f87-9242-42c9-dbca-41c026015b68"
      },
      "execution_count": 27,
      "outputs": [
        {
          "output_type": "execute_result",
          "data": {
            "text/plain": [
              "<matplotlib.image.AxesImage at 0x7f424ae737d0>"
            ]
          },
          "metadata": {},
          "execution_count": 27
        },
        {
          "output_type": "display_data",
          "data": {
            "text/plain": [
              "<Figure size 640x480 with 1 Axes>"
            ],
            "image/png": "[encoded data removed]"
          },
          "metadata": {}
        }
      ]
    }
  ],
  "metadata": {
    "colab": {
      "provenance": [],
      "include_colab_link": true
    },
    "kernelspec": {
      "display_name": "Python 3",
      "name": "python3"
    },
    "language_info": {
      "codemirror_mode": {
        "name": "ipython",
        "version": 3
      },
      "file_extension": ".py",
      "mimetype": "text/x-python",
      "name": "python",
      "nbconvert_exporter": "python",
      "pygments_lexer": "ipython3",
      "version": "3.9.18"
    }
  },
  "nbformat": 4,
  "nbformat_minor": 0
}