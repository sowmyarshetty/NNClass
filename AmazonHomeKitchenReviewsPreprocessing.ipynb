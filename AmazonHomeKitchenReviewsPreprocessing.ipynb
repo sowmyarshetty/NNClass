{
  "nbformat": 4,
  "nbformat_minor": 0,
  "metadata": {
    "colab": {
      "provenance": [],
      "machine_shape": "hm",
      "gpuType": "L4",
      "authorship_tag": "ABX9TyPYFTRpUu17GFrjedSOR9/K",
      "include_colab_link": true
    },
    "kernelspec": {
      "name": "python3",
      "display_name": "Python 3"
    },
    "language_info": {
      "name": "python"
    },
    "accelerator": "GPU"
  },
  "cells": [
    {
      "cell_type": "markdown",
      "metadata": {
        "id": "view-in-github",
        "colab_type": "text"
      },
      "source": [
        "<a href=\"https://colab.research.google.com/github/sowmyarshetty/NNClass/blob/main/AmazonHomeKitchenReviewsPreprocessing.ipynb\" target=\"_parent\"><img src=\"https://colab.research.google.com/assets/colab-badge.svg\" alt=\"Open In Colab\"/></a>"
      ]
    },
    {
      "cell_type": "code",
      "source": [
        "!pip install BERTopic"
      ],
      "metadata": {
        "colab": {
          "base_uri": "https://localhost:8080/"
        },
        "id": "PclZc23p7xUe",
        "outputId": "c504218b-7e27-4d9e-ede8-d6d00dec0b8f"
      },
      "execution_count": 1,
      "outputs": [
        {
          "output_type": "stream",
          "name": "stdout",
          "text": [
            "Collecting BERTopic\n",
            "  Downloading bertopic-0.17.0-py3-none-any.whl.metadata (23 kB)\n",
            "Requirement already satisfied: hdbscan>=0.8.29 in /usr/local/lib/python3.11/dist-packages (from BERTopic) (0.8.40)\n",
            "Requirement already satisfied: numpy>=1.20.0 in /usr/local/lib/python3.11/dist-packages (from BERTopic) (2.0.2)\n",
            "Requirement already satisfied: pandas>=1.1.5 in /usr/local/lib/python3.11/dist-packages (from BERTopic) (2.2.2)\n",
            "Requirement already satisfied: plotly>=4.7.0 in /usr/local/lib/python3.11/dist-packages (from BERTopic) (5.24.1)\n",
            "Requirement already satisfied: scikit-learn>=1.0 in /usr/local/lib/python3.11/dist-packages (from BERTopic) (1.6.1)\n",
            "Requirement already satisfied: sentence-transformers>=0.4.1 in /usr/local/lib/python3.11/dist-packages (from BERTopic) (3.4.1)\n",
            "Requirement already satisfied: tqdm>=4.41.1 in /usr/local/lib/python3.11/dist-packages (from BERTopic) (4.67.1)\n",
            "Requirement already satisfied: umap-learn>=0.5.0 in /usr/local/lib/python3.11/dist-packages (from BERTopic) (0.5.7)\n",
            "Requirement already satisfied: scipy>=1.0 in /usr/local/lib/python3.11/dist-packages (from hdbscan>=0.8.29->BERTopic) (1.14.1)\n",
            "Requirement already satisfied: joblib>=1.0 in /usr/local/lib/python3.11/dist-packages (from hdbscan>=0.8.29->BERTopic) (1.4.2)\n",
            "Requirement already satisfied: python-dateutil>=2.8.2 in /usr/local/lib/python3.11/dist-packages (from pandas>=1.1.5->BERTopic) (2.8.2)\n",
            "Requirement already satisfied: pytz>=2020.1 in /usr/local/lib/python3.11/dist-packages (from pandas>=1.1.5->BERTopic) (2025.1)\n",
            "Requirement already satisfied: tzdata>=2022.7 in /usr/local/lib/python3.11/dist-packages (from pandas>=1.1.5->BERTopic) (2025.1)\n",
            "Requirement already satisfied: tenacity>=6.2.0 in /usr/local/lib/python3.11/dist-packages (from plotly>=4.7.0->BERTopic) (9.0.0)\n",
            "Requirement already satisfied: packaging in /usr/local/lib/python3.11/dist-packages (from plotly>=4.7.0->BERTopic) (24.2)\n",
            "Requirement already satisfied: threadpoolctl>=3.1.0 in /usr/local/lib/python3.11/dist-packages (from scikit-learn>=1.0->BERTopic) (3.6.0)\n",
            "Requirement already satisfied: transformers<5.0.0,>=4.41.0 in /usr/local/lib/python3.11/dist-packages (from sentence-transformers>=0.4.1->BERTopic) (4.50.0)\n",
            "Requirement already satisfied: torch>=1.11.0 in /usr/local/lib/python3.11/dist-packages (from sentence-transformers>=0.4.1->BERTopic) (2.6.0+cu124)\n",
            "Requirement already satisfied: huggingface-hub>=0.20.0 in /usr/local/lib/python3.11/dist-packages (from sentence-transformers>=0.4.1->BERTopic) (0.29.3)\n",
            "Requirement already satisfied: Pillow in /usr/local/lib/python3.11/dist-packages (from sentence-transformers>=0.4.1->BERTopic) (11.1.0)\n",
            "Requirement already satisfied: numba>=0.51.2 in /usr/local/lib/python3.11/dist-packages (from umap-learn>=0.5.0->BERTopic) (0.60.0)\n",
            "Requirement already satisfied: pynndescent>=0.5 in /usr/local/lib/python3.11/dist-packages (from umap-learn>=0.5.0->BERTopic) (0.5.13)\n",
            "Requirement already satisfied: filelock in /usr/local/lib/python3.11/dist-packages (from huggingface-hub>=0.20.0->sentence-transformers>=0.4.1->BERTopic) (3.18.0)\n",
            "Requirement already satisfied: fsspec>=2023.5.0 in /usr/local/lib/python3.11/dist-packages (from huggingface-hub>=0.20.0->sentence-transformers>=0.4.1->BERTopic) (2025.3.0)\n",
            "Requirement already satisfied: pyyaml>=5.1 in /usr/local/lib/python3.11/dist-packages (from huggingface-hub>=0.20.0->sentence-transformers>=0.4.1->BERTopic) (6.0.2)\n",
            "Requirement already satisfied: requests in /usr/local/lib/python3.11/dist-packages (from huggingface-hub>=0.20.0->sentence-transformers>=0.4.1->BERTopic) (2.32.3)\n",
            "Requirement already satisfied: typing-extensions>=3.7.4.3 in /usr/local/lib/python3.11/dist-packages (from huggingface-hub>=0.20.0->sentence-transformers>=0.4.1->BERTopic) (4.12.2)\n",
            "Requirement already satisfied: llvmlite<0.44,>=0.43.0dev0 in /usr/local/lib/python3.11/dist-packages (from numba>=0.51.2->umap-learn>=0.5.0->BERTopic) (0.43.0)\n",
            "Requirement already satisfied: six>=1.5 in /usr/local/lib/python3.11/dist-packages (from python-dateutil>=2.8.2->pandas>=1.1.5->BERTopic) (1.17.0)\n",
            "Requirement already satisfied: networkx in /usr/local/lib/python3.11/dist-packages (from torch>=1.11.0->sentence-transformers>=0.4.1->BERTopic) (3.4.2)\n",
            "Requirement already satisfied: jinja2 in /usr/local/lib/python3.11/dist-packages (from torch>=1.11.0->sentence-transformers>=0.4.1->BERTopic) (3.1.6)\n",
            "Collecting nvidia-cuda-nvrtc-cu12==12.4.127 (from torch>=1.11.0->sentence-transformers>=0.4.1->BERTopic)\n",
            "  Downloading nvidia_cuda_nvrtc_cu12-12.4.127-py3-none-manylinux2014_x86_64.whl.metadata (1.5 kB)\n",
            "Collecting nvidia-cuda-runtime-cu12==12.4.127 (from torch>=1.11.0->sentence-transformers>=0.4.1->BERTopic)\n",
            "  Downloading nvidia_cuda_runtime_cu12-12.4.127-py3-none-manylinux2014_x86_64.whl.metadata (1.5 kB)\n",
            "Collecting nvidia-cuda-cupti-cu12==12.4.127 (from torch>=1.11.0->sentence-transformers>=0.4.1->BERTopic)\n",
            "  Downloading nvidia_cuda_cupti_cu12-12.4.127-py3-none-manylinux2014_x86_64.whl.metadata (1.6 kB)\n",
            "Collecting nvidia-cudnn-cu12==9.1.0.70 (from torch>=1.11.0->sentence-transformers>=0.4.1->BERTopic)\n",
            "  Downloading nvidia_cudnn_cu12-9.1.0.70-py3-none-manylinux2014_x86_64.whl.metadata (1.6 kB)\n",
            "Collecting nvidia-cublas-cu12==12.4.5.8 (from torch>=1.11.0->sentence-transformers>=0.4.1->BERTopic)\n",
            "  Downloading nvidia_cublas_cu12-12.4.5.8-py3-none-manylinux2014_x86_64.whl.metadata (1.5 kB)\n",
            "Collecting nvidia-cufft-cu12==11.2.1.3 (from torch>=1.11.0->sentence-transformers>=0.4.1->BERTopic)\n",
            "  Downloading nvidia_cufft_cu12-11.2.1.3-py3-none-manylinux2014_x86_64.whl.metadata (1.5 kB)\n",
            "Collecting nvidia-curand-cu12==10.3.5.147 (from torch>=1.11.0->sentence-transformers>=0.4.1->BERTopic)\n",
            "  Downloading nvidia_curand_cu12-10.3.5.147-py3-none-manylinux2014_x86_64.whl.metadata (1.5 kB)\n",
            "Collecting nvidia-cusolver-cu12==11.6.1.9 (from torch>=1.11.0->sentence-transformers>=0.4.1->BERTopic)\n",
            "  Downloading nvidia_cusolver_cu12-11.6.1.9-py3-none-manylinux2014_x86_64.whl.metadata (1.6 kB)\n",
            "Collecting nvidia-cusparse-cu12==12.3.1.170 (from torch>=1.11.0->sentence-transformers>=0.4.1->BERTopic)\n",
            "  Downloading nvidia_cusparse_cu12-12.3.1.170-py3-none-manylinux2014_x86_64.whl.metadata (1.6 kB)\n",
            "Requirement already satisfied: nvidia-cusparselt-cu12==0.6.2 in /usr/local/lib/python3.11/dist-packages (from torch>=1.11.0->sentence-transformers>=0.4.1->BERTopic) (0.6.2)\n",
            "Requirement already satisfied: nvidia-nccl-cu12==2.21.5 in /usr/local/lib/python3.11/dist-packages (from torch>=1.11.0->sentence-transformers>=0.4.1->BERTopic) (2.21.5)\n",
            "Requirement already satisfied: nvidia-nvtx-cu12==12.4.127 in /usr/local/lib/python3.11/dist-packages (from torch>=1.11.0->sentence-transformers>=0.4.1->BERTopic) (12.4.127)\n",
            "Collecting nvidia-nvjitlink-cu12==12.4.127 (from torch>=1.11.0->sentence-transformers>=0.4.1->BERTopic)\n",
            "  Downloading nvidia_nvjitlink_cu12-12.4.127-py3-none-manylinux2014_x86_64.whl.metadata (1.5 kB)\n",
            "Requirement already satisfied: triton==3.2.0 in /usr/local/lib/python3.11/dist-packages (from torch>=1.11.0->sentence-transformers>=0.4.1->BERTopic) (3.2.0)\n",
            "Requirement already satisfied: sympy==1.13.1 in /usr/local/lib/python3.11/dist-packages (from torch>=1.11.0->sentence-transformers>=0.4.1->BERTopic) (1.13.1)\n",
            "Requirement already satisfied: mpmath<1.4,>=1.1.0 in /usr/local/lib/python3.11/dist-packages (from sympy==1.13.1->torch>=1.11.0->sentence-transformers>=0.4.1->BERTopic) (1.3.0)\n",
            "Requirement already satisfied: regex!=2019.12.17 in /usr/local/lib/python3.11/dist-packages (from transformers<5.0.0,>=4.41.0->sentence-transformers>=0.4.1->BERTopic) (2024.11.6)\n",
            "Requirement already satisfied: tokenizers<0.22,>=0.21 in /usr/local/lib/python3.11/dist-packages (from transformers<5.0.0,>=4.41.0->sentence-transformers>=0.4.1->BERTopic) (0.21.1)\n",
            "Requirement already satisfied: safetensors>=0.4.3 in /usr/local/lib/python3.11/dist-packages (from transformers<5.0.0,>=4.41.0->sentence-transformers>=0.4.1->BERTopic) (0.5.3)\n",
            "Requirement already satisfied: MarkupSafe>=2.0 in /usr/local/lib/python3.11/dist-packages (from jinja2->torch>=1.11.0->sentence-transformers>=0.4.1->BERTopic) (3.0.2)\n",
            "Requirement already satisfied: charset-normalizer<4,>=2 in /usr/local/lib/python3.11/dist-packages (from requests->huggingface-hub>=0.20.0->sentence-transformers>=0.4.1->BERTopic) (3.4.1)\n",
            "Requirement already satisfied: idna<4,>=2.5 in /usr/local/lib/python3.11/dist-packages (from requests->huggingface-hub>=0.20.0->sentence-transformers>=0.4.1->BERTopic) (3.10)\n",
            "Requirement already satisfied: urllib3<3,>=1.21.1 in /usr/local/lib/python3.11/dist-packages (from requests->huggingface-hub>=0.20.0->sentence-transformers>=0.4.1->BERTopic) (2.3.0)\n",
            "Requirement already satisfied: certifi>=2017.4.17 in /usr/local/lib/python3.11/dist-packages (from requests->huggingface-hub>=0.20.0->sentence-transformers>=0.4.1->BERTopic) (2025.1.31)\n",
            "Downloading bertopic-0.17.0-py3-none-any.whl (150 kB)\n",
            "\u001b[2K   \u001b[90m━━━━━━━━━━━━━━━━━━━━━━━━━━━━━━━━━━━━━━━━\u001b[0m \u001b[32m150.6/150.6 kB\u001b[0m \u001b[31m11.5 MB/s\u001b[0m eta \u001b[36m0:00:00\u001b[0m\n",
            "\u001b[?25hDownloading nvidia_cublas_cu12-12.4.5.8-py3-none-manylinux2014_x86_64.whl (363.4 MB)\n",
            "\u001b[2K   \u001b[90m━━━━━━━━━━━━━━━━━━━━━━━━━━━━━━━━━━━━━━━━\u001b[0m \u001b[32m363.4/363.4 MB\u001b[0m \u001b[31m3.1 MB/s\u001b[0m eta \u001b[36m0:00:00\u001b[0m\n",
            "\u001b[?25hDownloading nvidia_cuda_cupti_cu12-12.4.127-py3-none-manylinux2014_x86_64.whl (13.8 MB)\n",
            "\u001b[2K   \u001b[90m━━━━━━━━━━━━━━━━━━━━━━━━━━━━━━━━━━━━━━━━\u001b[0m \u001b[32m13.8/13.8 MB\u001b[0m \u001b[31m75.8 MB/s\u001b[0m eta \u001b[36m0:00:00\u001b[0m\n",
            "\u001b[?25hDownloading nvidia_cuda_nvrtc_cu12-12.4.127-py3-none-manylinux2014_x86_64.whl (24.6 MB)\n",
            "\u001b[2K   \u001b[90m━━━━━━━━━━━━━━━━━━━━━━━━━━━━━━━━━━━━━━━━\u001b[0m \u001b[32m24.6/24.6 MB\u001b[0m \u001b[31m79.2 MB/s\u001b[0m eta \u001b[36m0:00:00\u001b[0m\n",
            "\u001b[?25hDownloading nvidia_cuda_runtime_cu12-12.4.127-py3-none-manylinux2014_x86_64.whl (883 kB)\n",
            "\u001b[2K   \u001b[90m━━━━━━━━━━━━━━━━━━━━━━━━━━━━━━━━━━━━━━━━\u001b[0m \u001b[32m883.7/883.7 kB\u001b[0m \u001b[31m27.4 MB/s\u001b[0m eta \u001b[36m0:00:00\u001b[0m\n",
            "\u001b[?25hDownloading nvidia_cudnn_cu12-9.1.0.70-py3-none-manylinux2014_x86_64.whl (664.8 MB)\n",
            "\u001b[2K   \u001b[90m━━━━━━━━━━━━━━━━━━━━━━━━━━━━━━━━━━━━━━━━\u001b[0m \u001b[32m664.8/664.8 MB\u001b[0m \u001b[31m2.1 MB/s\u001b[0m eta \u001b[36m0:00:00\u001b[0m\n",
            "\u001b[?25hDownloading nvidia_cufft_cu12-11.2.1.3-py3-none-manylinux2014_x86_64.whl (211.5 MB)\n",
            "\u001b[2K   \u001b[90m━━━━━━━━━━━━━━━━━━━━━━━━━━━━━━━━━━━━━━━━\u001b[0m \u001b[32m211.5/211.5 MB\u001b[0m \u001b[31m4.4 MB/s\u001b[0m eta \u001b[36m0:00:00\u001b[0m\n",
            "\u001b[?25hDownloading nvidia_curand_cu12-10.3.5.147-py3-none-manylinux2014_x86_64.whl (56.3 MB)\n",
            "\u001b[2K   \u001b[90m━━━━━━━━━━━━━━━━━━━━━━━━━━━━━━━━━━━━━━━━\u001b[0m \u001b[32m56.3/56.3 MB\u001b[0m \u001b[31m37.2 MB/s\u001b[0m eta \u001b[36m0:00:00\u001b[0m\n",
            "\u001b[?25hDownloading nvidia_cusolver_cu12-11.6.1.9-py3-none-manylinux2014_x86_64.whl (127.9 MB)\n",
            "\u001b[2K   \u001b[90m━━━━━━━━━━━━━━━━━━━━━━━━━━━━━━━━━━━━━━━━\u001b[0m \u001b[32m127.9/127.9 MB\u001b[0m \u001b[31m17.6 MB/s\u001b[0m eta \u001b[36m0:00:00\u001b[0m\n",
            "\u001b[?25hDownloading nvidia_cusparse_cu12-12.3.1.170-py3-none-manylinux2014_x86_64.whl (207.5 MB)\n",
            "\u001b[2K   \u001b[90m━━━━━━━━━━━━━━━━━━━━━━━━━━━━━━━━━━━━━━━━\u001b[0m \u001b[32m207.5/207.5 MB\u001b[0m \u001b[31m5.8 MB/s\u001b[0m eta \u001b[36m0:00:00\u001b[0m\n",
            "\u001b[?25hDownloading nvidia_nvjitlink_cu12-12.4.127-py3-none-manylinux2014_x86_64.whl (21.1 MB)\n",
            "\u001b[2K   \u001b[90m━━━━━━━━━━━━━━━━━━━━━━━━━━━━━━━━━━━━━━━━\u001b[0m \u001b[32m21.1/21.1 MB\u001b[0m \u001b[31m93.2 MB/s\u001b[0m eta \u001b[36m0:00:00\u001b[0m\n",
            "\u001b[?25hInstalling collected packages: nvidia-nvjitlink-cu12, nvidia-curand-cu12, nvidia-cufft-cu12, nvidia-cuda-runtime-cu12, nvidia-cuda-nvrtc-cu12, nvidia-cuda-cupti-cu12, nvidia-cublas-cu12, nvidia-cusparse-cu12, nvidia-cudnn-cu12, nvidia-cusolver-cu12, BERTopic\n",
            "  Attempting uninstall: nvidia-nvjitlink-cu12\n",
            "    Found existing installation: nvidia-nvjitlink-cu12 12.5.82\n",
            "    Uninstalling nvidia-nvjitlink-cu12-12.5.82:\n",
            "      Successfully uninstalled nvidia-nvjitlink-cu12-12.5.82\n",
            "  Attempting uninstall: nvidia-curand-cu12\n",
            "    Found existing installation: nvidia-curand-cu12 10.3.6.82\n",
            "    Uninstalling nvidia-curand-cu12-10.3.6.82:\n",
            "      Successfully uninstalled nvidia-curand-cu12-10.3.6.82\n",
            "  Attempting uninstall: nvidia-cufft-cu12\n",
            "    Found existing installation: nvidia-cufft-cu12 11.2.3.61\n",
            "    Uninstalling nvidia-cufft-cu12-11.2.3.61:\n",
            "      Successfully uninstalled nvidia-cufft-cu12-11.2.3.61\n",
            "  Attempting uninstall: nvidia-cuda-runtime-cu12\n",
            "    Found existing installation: nvidia-cuda-runtime-cu12 12.5.82\n",
            "    Uninstalling nvidia-cuda-runtime-cu12-12.5.82:\n",
            "      Successfully uninstalled nvidia-cuda-runtime-cu12-12.5.82\n",
            "  Attempting uninstall: nvidia-cuda-nvrtc-cu12\n",
            "    Found existing installation: nvidia-cuda-nvrtc-cu12 12.5.82\n",
            "    Uninstalling nvidia-cuda-nvrtc-cu12-12.5.82:\n",
            "      Successfully uninstalled nvidia-cuda-nvrtc-cu12-12.5.82\n",
            "  Attempting uninstall: nvidia-cuda-cupti-cu12\n",
            "    Found existing installation: nvidia-cuda-cupti-cu12 12.5.82\n",
            "    Uninstalling nvidia-cuda-cupti-cu12-12.5.82:\n",
            "      Successfully uninstalled nvidia-cuda-cupti-cu12-12.5.82\n",
            "  Attempting uninstall: nvidia-cublas-cu12\n",
            "    Found existing installation: nvidia-cublas-cu12 12.5.3.2\n",
            "    Uninstalling nvidia-cublas-cu12-12.5.3.2:\n",
            "      Successfully uninstalled nvidia-cublas-cu12-12.5.3.2\n",
            "  Attempting uninstall: nvidia-cusparse-cu12\n",
            "    Found existing installation: nvidia-cusparse-cu12 12.5.1.3\n",
            "    Uninstalling nvidia-cusparse-cu12-12.5.1.3:\n",
            "      Successfully uninstalled nvidia-cusparse-cu12-12.5.1.3\n",
            "  Attempting uninstall: nvidia-cudnn-cu12\n",
            "    Found existing installation: nvidia-cudnn-cu12 9.3.0.75\n",
            "    Uninstalling nvidia-cudnn-cu12-9.3.0.75:\n",
            "      Successfully uninstalled nvidia-cudnn-cu12-9.3.0.75\n",
            "  Attempting uninstall: nvidia-cusolver-cu12\n",
            "    Found existing installation: nvidia-cusolver-cu12 11.6.3.83\n",
            "    Uninstalling nvidia-cusolver-cu12-11.6.3.83:\n",
            "      Successfully uninstalled nvidia-cusolver-cu12-11.6.3.83\n",
            "Successfully installed BERTopic-0.17.0 nvidia-cublas-cu12-12.4.5.8 nvidia-cuda-cupti-cu12-12.4.127 nvidia-cuda-nvrtc-cu12-12.4.127 nvidia-cuda-runtime-cu12-12.4.127 nvidia-cudnn-cu12-9.1.0.70 nvidia-cufft-cu12-11.2.1.3 nvidia-curand-cu12-10.3.5.147 nvidia-cusolver-cu12-11.6.1.9 nvidia-cusparse-cu12-12.3.1.170 nvidia-nvjitlink-cu12-12.4.127\n"
          ]
        }
      ]
    },
    {
      "cell_type": "code",
      "execution_count": 2,
      "metadata": {
        "id": "7OKv7TlaVDuY"
      },
      "outputs": [],
      "source": [
        "import pandas as pd\n",
        "import dask.dataframe as dd\n",
        "import gdown\n",
        "import re\n",
        "import numpy as np\n",
        "from sklearn.feature_extraction.text import CountVectorizer\n",
        "from sklearn.decomposition import LatentDirichletAllocation\n",
        "from bertopic import BERTopic\n",
        "from sentence_transformers import SentenceTransformer"
      ]
    },
    {
      "cell_type": "code",
      "source": [
        "# Mount Google Drive (For Colab Users)\n",
        "from google.colab import drive\n",
        "drive.mount('/content/drive')\n"
      ],
      "metadata": {
        "colab": {
          "base_uri": "https://localhost:8080/"
        },
        "id": "6e-EXUh9UqFV",
        "outputId": "97d665ff-784b-4149-b6c9-bad6cf8ec596"
      },
      "execution_count": 3,
      "outputs": [
        {
          "output_type": "stream",
          "name": "stdout",
          "text": [
            "Mounted at /content/drive\n"
          ]
        }
      ]
    },
    {
      "cell_type": "code",
      "source": [
        "amazonhkdatasetfileid = '14GcJAzyN2PFg2JuyzF0pRmxlMmimrz9o'\n",
        "amazonhkdatasetfilename = 'AmazonHomeKitchenReviews.csv'\n",
        "\n",
        "url = f\"https://drive.google.com/uc?export=download&id={amazonhkdatasetfileid}\"\n",
        "\n",
        "gdown.download(url,amazonhkdatasetfilename, quiet=False)\n"
      ],
      "metadata": {
        "colab": {
          "base_uri": "https://localhost:8080/",
          "height": 142
        },
        "id": "iWNpu5nWUwHc",
        "outputId": "5f7d1579-da2b-409d-db24-bbe6009f7489"
      },
      "execution_count": 4,
      "outputs": [
        {
          "output_type": "stream",
          "name": "stderr",
          "text": [
            "Downloading...\n",
            "From (original): https://drive.google.com/uc?export=download&id=14GcJAzyN2PFg2JuyzF0pRmxlMmimrz9o\n",
            "From (redirected): https://drive.google.com/uc?export=download&id=14GcJAzyN2PFg2JuyzF0pRmxlMmimrz9o&confirm=t&uuid=130918e0-9586-42d8-be81-a0fdf2c0623f\n",
            "To: /content/AmazonHomeKitchenReviews.csv\n",
            "100%|██████████| 692M/692M [00:10<00:00, 64.1MB/s]\n"
          ]
        },
        {
          "output_type": "execute_result",
          "data": {
            "text/plain": [
              "'AmazonHomeKitchenReviews.csv'"
            ],
            "application/vnd.google.colaboratory.intrinsic+json": {
              "type": "string"
            }
          },
          "metadata": {},
          "execution_count": 4
        }
      ]
    },
    {
      "cell_type": "markdown",
      "source": [
        "* Read the dataset csv  into dataframes"
      ],
      "metadata": {
        "id": "pwdcecevIGaQ"
      }
    },
    {
      "cell_type": "code",
      "source": [
        "df_data = pd.read_csv(amazonhkdatasetfilename)\n"
      ],
      "metadata": {
        "id": "g4fJmLTvVwP6"
      },
      "execution_count": 24,
      "outputs": []
    },
    {
      "cell_type": "markdown",
      "source": [
        "\n",
        "\n",
        "*   Analyse the datasets\n",
        "*  Check total number of unique products and the review counts\n",
        "\n",
        "\n"
      ],
      "metadata": {
        "id": "pPBfEocwH45Y"
      }
    },
    {
      "cell_type": "code",
      "source": [
        "df_renamed = df_data.rename(columns={'title_y' : 'product_title','title_x':'review_title','text':'review_text'})\n",
        "df_renamed.groupby('product_title').size().sort_values(ascending=False).head(5)\n",
        "print(df_renamed.columns)"
      ],
      "metadata": {
        "colab": {
          "base_uri": "https://localhost:8080/"
        },
        "id": "fOuYG18eWFZx",
        "outputId": "72d3694a-9ba3-4e6d-851b-dc5847262c88"
      },
      "execution_count": 25,
      "outputs": [
        {
          "output_type": "stream",
          "name": "stdout",
          "text": [
            "Index(['Unnamed: 0', 'rating', 'review_title', 'review_text', 'images', 'asin',\n",
            "       'parent_asin', 'user_id', 'timestamp', 'helpful_vote',\n",
            "       'verified_purchase', 'product_title', 'description', 'price', 'Brand',\n",
            "       'Material', 'Color', 'categories'],\n",
            "      dtype='object')\n"
          ]
        }
      ]
    },
    {
      "cell_type": "markdown",
      "source": [
        "* Pre-processing\n",
        "* X = review_title,review_text\n",
        "* y = rating"
      ],
      "metadata": {
        "id": "QyMt9EY-bAC-"
      }
    },
    {
      "cell_type": "code",
      "source": [
        "df_renamed.head(2)"
      ],
      "metadata": {
        "id": "d1wMXzhVbgAG",
        "outputId": "a7de445e-8b59-4a0d-c3c3-fd069ec8d4c2",
        "colab": {
          "base_uri": "https://localhost:8080/",
          "height": 288
        }
      },
      "execution_count": 26,
      "outputs": [
        {
          "output_type": "execute_result",
          "data": {
            "text/plain": [
              "   Unnamed: 0  rating                          review_title  \\\n",
              "0          59       5                             Adorable!   \n",
              "1          87       5  Stailess, healthier than coated pans   \n",
              "\n",
              "                                         review_text images        asin  \\\n",
              "0  These are so sweet. I do wish the stopper part...     []  B01HBWGU80   \n",
              "1  Great little stainless steel, balanced, good w...     []  B07T5CRVKQ   \n",
              "\n",
              "  parent_asin                       user_id                timestamp  \\\n",
              "0  B01DR2ACA0  AGKHLEW2SOWHNMFQIJGBECAF7INQ  2019-07-23 04:29:16.671   \n",
              "1  B08C7JYKZH  AEVWAM3YWN5URJVJIZZ6XPD2MKIA  2020-11-02 22:09:44.073   \n",
              "\n",
              "   helpful_vote  verified_purchase  \\\n",
              "0             0               True   \n",
              "1             1               True   \n",
              "\n",
              "                                       product_title description  price  \\\n",
              "0  Little Bird Wine Bottle Stopper, Silicone Stop...          []   9.49   \n",
              "1  Fortune Candy 8-Inch Fry Pan with Lid, 3-ply S...          []  24.99   \n",
              "\n",
              "           Brand                   Material           Color  \\\n",
              "0    LouisChoice                   Silicone  Assorted Color   \n",
              "1  Fortune Candy  Stainless Steel, Aluminum   Mirror Finish   \n",
              "\n",
              "                                          categories  \n",
              "0  ['Home & Kitchen', 'Kitchen & Dining', 'Kitche...  \n",
              "1  ['Home & Kitchen', 'Kitchen & Dining', 'Cookwa...  "
            ],
            "text/html": [
              "\n",
              "  <div id=\"df-48c03426-27c2-4acb-809c-75b4a67202de\" class=\"colab-df-container\">\n",
              "    <div>\n",
              "<style scoped>\n",
              "    .dataframe tbody tr th:only-of-type {\n",
              "        vertical-align: middle;\n",
              "    }\n",
              "\n",
              "    .dataframe tbody tr th {\n",
              "        vertical-align: top;\n",
              "    }\n",
              "\n",
              "    .dataframe thead th {\n",
              "        text-align: right;\n",
              "    }\n",
              "</style>\n",
              "<table border=\"1\" class=\"dataframe\">\n",
              "  <thead>\n",
              "    <tr style=\"text-align: right;\">\n",
              "      <th></th>\n",
              "      <th>Unnamed: 0</th>\n",
              "      <th>rating</th>\n",
              "      <th>review_title</th>\n",
              "      <th>review_text</th>\n",
              "      <th>images</th>\n",
              "      <th>asin</th>\n",
              "      <th>parent_asin</th>\n",
              "      <th>user_id</th>\n",
              "      <th>timestamp</th>\n",
              "      <th>helpful_vote</th>\n",
              "      <th>verified_purchase</th>\n",
              "      <th>product_title</th>\n",
              "      <th>description</th>\n",
              "      <th>price</th>\n",
              "      <th>Brand</th>\n",
              "      <th>Material</th>\n",
              "      <th>Color</th>\n",
              "      <th>categories</th>\n",
              "    </tr>\n",
              "  </thead>\n",
              "  <tbody>\n",
              "    <tr>\n",
              "      <th>0</th>\n",
              "      <td>59</td>\n",
              "      <td>5</td>\n",
              "      <td>Adorable!</td>\n",
              "      <td>These are so sweet. I do wish the stopper part...</td>\n",
              "      <td>[]</td>\n",
              "      <td>B01HBWGU80</td>\n",
              "      <td>B01DR2ACA0</td>\n",
              "      <td>AGKHLEW2SOWHNMFQIJGBECAF7INQ</td>\n",
              "      <td>2019-07-23 04:29:16.671</td>\n",
              "      <td>0</td>\n",
              "      <td>True</td>\n",
              "      <td>Little Bird Wine Bottle Stopper, Silicone Stop...</td>\n",
              "      <td>[]</td>\n",
              "      <td>9.49</td>\n",
              "      <td>LouisChoice</td>\n",
              "      <td>Silicone</td>\n",
              "      <td>Assorted Color</td>\n",
              "      <td>['Home &amp; Kitchen', 'Kitchen &amp; Dining', 'Kitche...</td>\n",
              "    </tr>\n",
              "    <tr>\n",
              "      <th>1</th>\n",
              "      <td>87</td>\n",
              "      <td>5</td>\n",
              "      <td>Stailess, healthier than coated pans</td>\n",
              "      <td>Great little stainless steel, balanced, good w...</td>\n",
              "      <td>[]</td>\n",
              "      <td>B07T5CRVKQ</td>\n",
              "      <td>B08C7JYKZH</td>\n",
              "      <td>AEVWAM3YWN5URJVJIZZ6XPD2MKIA</td>\n",
              "      <td>2020-11-02 22:09:44.073</td>\n",
              "      <td>1</td>\n",
              "      <td>True</td>\n",
              "      <td>Fortune Candy 8-Inch Fry Pan with Lid, 3-ply S...</td>\n",
              "      <td>[]</td>\n",
              "      <td>24.99</td>\n",
              "      <td>Fortune Candy</td>\n",
              "      <td>Stainless Steel, Aluminum</td>\n",
              "      <td>Mirror Finish</td>\n",
              "      <td>['Home &amp; Kitchen', 'Kitchen &amp; Dining', 'Cookwa...</td>\n",
              "    </tr>\n",
              "  </tbody>\n",
              "</table>\n",
              "</div>\n",
              "    <div class=\"colab-df-buttons\">\n",
              "\n",
              "  <div class=\"colab-df-container\">\n",
              "    <button class=\"colab-df-convert\" onclick=\"convertToInteractive('df-48c03426-27c2-4acb-809c-75b4a67202de')\"\n",
              "            title=\"Convert this dataframe to an interactive table.\"\n",
              "            style=\"display:none;\">\n",
              "\n",
              "  <svg xmlns=\"http://www.w3.org/2000/svg\" height=\"24px\" viewBox=\"0 -960 960 960\">\n",
              "    <path d=\"M120-120v-720h720v720H120Zm60-500h600v-160H180v160Zm220 220h160v-160H400v160Zm0 220h160v-160H400v160ZM180-400h160v-160H180v160Zm440 0h160v-160H620v160ZM180-180h160v-160H180v160Zm440 0h160v-160H620v160Z\"/>\n",
              "  </svg>\n",
              "    </button>\n",
              "\n",
              "  <style>\n",
              "    .colab-df-container {\n",
              "      display:flex;\n",
              "      gap: 12px;\n",
              "    }\n",
              "\n",
              "    .colab-df-convert {\n",
              "      background-color: #E8F0FE;\n",
              "      border: none;\n",
              "      border-radius: 50%;\n",
              "      cursor: pointer;\n",
              "      display: none;\n",
              "      fill: #1967D2;\n",
              "      height: 32px;\n",
              "      padding: 0 0 0 0;\n",
              "      width: 32px;\n",
              "    }\n",
              "\n",
              "    .colab-df-convert:hover {\n",
              "      background-color: #E2EBFA;\n",
              "      box-shadow: 0px 1px 2px rgba(60, 64, 67, 0.3), 0px 1px 3px 1px rgba(60, 64, 67, 0.15);\n",
              "      fill: #174EA6;\n",
              "    }\n",
              "\n",
              "    .colab-df-buttons div {\n",
              "      margin-bottom: 4px;\n",
              "    }\n",
              "\n",
              "    [theme=dark] .colab-df-convert {\n",
              "      background-color: #3B4455;\n",
              "      fill: #D2E3FC;\n",
              "    }\n",
              "\n",
              "    [theme=dark] .colab-df-convert:hover {\n",
              "      background-color: #434B5C;\n",
              "      box-shadow: 0px 1px 3px 1px rgba(0, 0, 0, 0.15);\n",
              "      filter: drop-shadow(0px 1px 2px rgba(0, 0, 0, 0.3));\n",
              "      fill: #FFFFFF;\n",
              "    }\n",
              "  </style>\n",
              "\n",
              "    <script>\n",
              "      const buttonEl =\n",
              "        document.querySelector('#df-48c03426-27c2-4acb-809c-75b4a67202de button.colab-df-convert');\n",
              "      buttonEl.style.display =\n",
              "        google.colab.kernel.accessAllowed ? 'block' : 'none';\n",
              "\n",
              "      async function convertToInteractive(key) {\n",
              "        const element = document.querySelector('#df-48c03426-27c2-4acb-809c-75b4a67202de');\n",
              "        const dataTable =\n",
              "          await google.colab.kernel.invokeFunction('convertToInteractive',\n",
              "                                                    [key], {});\n",
              "        if (!dataTable) return;\n",
              "\n",
              "        const docLinkHtml = 'Like what you see? Visit the ' +\n",
              "          '<a target=\"_blank\" href=https://colab.research.google.com/notebooks/data_table.ipynb>data table notebook</a>'\n",
              "          + ' to learn more about interactive tables.';\n",
              "        element.innerHTML = '';\n",
              "        dataTable['output_type'] = 'display_data';\n",
              "        await google.colab.output.renderOutput(dataTable, element);\n",
              "        const docLink = document.createElement('div');\n",
              "        docLink.innerHTML = docLinkHtml;\n",
              "        element.appendChild(docLink);\n",
              "      }\n",
              "    </script>\n",
              "  </div>\n",
              "\n",
              "\n",
              "<div id=\"df-877e2a7c-5434-449f-8cb6-3ee9eb23da5e\">\n",
              "  <button class=\"colab-df-quickchart\" onclick=\"quickchart('df-877e2a7c-5434-449f-8cb6-3ee9eb23da5e')\"\n",
              "            title=\"Suggest charts\"\n",
              "            style=\"display:none;\">\n",
              "\n",
              "<svg xmlns=\"http://www.w3.org/2000/svg\" height=\"24px\"viewBox=\"0 0 24 24\"\n",
              "     width=\"24px\">\n",
              "    <g>\n",
              "        <path d=\"M19 3H5c-1.1 0-2 .9-2 2v14c0 1.1.9 2 2 2h14c1.1 0 2-.9 2-2V5c0-1.1-.9-2-2-2zM9 17H7v-7h2v7zm4 0h-2V7h2v10zm4 0h-2v-4h2v4z\"/>\n",
              "    </g>\n",
              "</svg>\n",
              "  </button>\n",
              "\n",
              "<style>\n",
              "  .colab-df-quickchart {\n",
              "      --bg-color: #E8F0FE;\n",
              "      --fill-color: #1967D2;\n",
              "      --hover-bg-color: #E2EBFA;\n",
              "      --hover-fill-color: #174EA6;\n",
              "      --disabled-fill-color: #AAA;\n",
              "      --disabled-bg-color: #DDD;\n",
              "  }\n",
              "\n",
              "  [theme=dark] .colab-df-quickchart {\n",
              "      --bg-color: #3B4455;\n",
              "      --fill-color: #D2E3FC;\n",
              "      --hover-bg-color: #434B5C;\n",
              "      --hover-fill-color: #FFFFFF;\n",
              "      --disabled-bg-color: #3B4455;\n",
              "      --disabled-fill-color: #666;\n",
              "  }\n",
              "\n",
              "  .colab-df-quickchart {\n",
              "    background-color: var(--bg-color);\n",
              "    border: none;\n",
              "    border-radius: 50%;\n",
              "    cursor: pointer;\n",
              "    display: none;\n",
              "    fill: var(--fill-color);\n",
              "    height: 32px;\n",
              "    padding: 0;\n",
              "    width: 32px;\n",
              "  }\n",
              "\n",
              "  .colab-df-quickchart:hover {\n",
              "    background-color: var(--hover-bg-color);\n",
              "    box-shadow: 0 1px 2px rgba(60, 64, 67, 0.3), 0 1px 3px 1px rgba(60, 64, 67, 0.15);\n",
              "    fill: var(--button-hover-fill-color);\n",
              "  }\n",
              "\n",
              "  .colab-df-quickchart-complete:disabled,\n",
              "  .colab-df-quickchart-complete:disabled:hover {\n",
              "    background-color: var(--disabled-bg-color);\n",
              "    fill: var(--disabled-fill-color);\n",
              "    box-shadow: none;\n",
              "  }\n",
              "\n",
              "  .colab-df-spinner {\n",
              "    border: 2px solid var(--fill-color);\n",
              "    border-color: transparent;\n",
              "    border-bottom-color: var(--fill-color);\n",
              "    animation:\n",
              "      spin 1s steps(1) infinite;\n",
              "  }\n",
              "\n",
              "  @keyframes spin {\n",
              "    0% {\n",
              "      border-color: transparent;\n",
              "      border-bottom-color: var(--fill-color);\n",
              "      border-left-color: var(--fill-color);\n",
              "    }\n",
              "    20% {\n",
              "      border-color: transparent;\n",
              "      border-left-color: var(--fill-color);\n",
              "      border-top-color: var(--fill-color);\n",
              "    }\n",
              "    30% {\n",
              "      border-color: transparent;\n",
              "      border-left-color: var(--fill-color);\n",
              "      border-top-color: var(--fill-color);\n",
              "      border-right-color: var(--fill-color);\n",
              "    }\n",
              "    40% {\n",
              "      border-color: transparent;\n",
              "      border-right-color: var(--fill-color);\n",
              "      border-top-color: var(--fill-color);\n",
              "    }\n",
              "    60% {\n",
              "      border-color: transparent;\n",
              "      border-right-color: var(--fill-color);\n",
              "    }\n",
              "    80% {\n",
              "      border-color: transparent;\n",
              "      border-right-color: var(--fill-color);\n",
              "      border-bottom-color: var(--fill-color);\n",
              "    }\n",
              "    90% {\n",
              "      border-color: transparent;\n",
              "      border-bottom-color: var(--fill-color);\n",
              "    }\n",
              "  }\n",
              "</style>\n",
              "\n",
              "  <script>\n",
              "    async function quickchart(key) {\n",
              "      const quickchartButtonEl =\n",
              "        document.querySelector('#' + key + ' button');\n",
              "      quickchartButtonEl.disabled = true;  // To prevent multiple clicks.\n",
              "      quickchartButtonEl.classList.add('colab-df-spinner');\n",
              "      try {\n",
              "        const charts = await google.colab.kernel.invokeFunction(\n",
              "            'suggestCharts', [key], {});\n",
              "      } catch (error) {\n",
              "        console.error('Error during call to suggestCharts:', error);\n",
              "      }\n",
              "      quickchartButtonEl.classList.remove('colab-df-spinner');\n",
              "      quickchartButtonEl.classList.add('colab-df-quickchart-complete');\n",
              "    }\n",
              "    (() => {\n",
              "      let quickchartButtonEl =\n",
              "        document.querySelector('#df-877e2a7c-5434-449f-8cb6-3ee9eb23da5e button');\n",
              "      quickchartButtonEl.style.display =\n",
              "        google.colab.kernel.accessAllowed ? 'block' : 'none';\n",
              "    })();\n",
              "  </script>\n",
              "</div>\n",
              "\n",
              "    </div>\n",
              "  </div>\n"
            ],
            "application/vnd.google.colaboratory.intrinsic+json": {
              "type": "dataframe",
              "variable_name": "df_renamed"
            }
          },
          "metadata": {},
          "execution_count": 26
        }
      ]
    },
    {
      "cell_type": "markdown",
      "source": [
        "**Text Pre-processsing **\n",
        "\n",
        "* Used a lemmatizer for review title and review text\n",
        "* This improve accuracy: By grouping similar words together and it can help the model understand the meaning of text better.\n",
        "* It can reduce noise: It can help remove redundant information from your text data.\n",
        "* Improve efficiency: It can help reduce the size of your vocabulary and speed up your analysis."
      ],
      "metadata": {
        "id": "q4kjpzGogcQC"
      }
    },
    {
      "cell_type": "code",
      "source": [
        "import nltk\n",
        "from nltk.corpus import stopwords\n",
        "from nltk.tokenize import word_tokenize\n",
        "from nltk.stem import WordNetLemmatizer\n",
        "\n",
        "# Download stopwords and punkt if not already downloaded\n",
        "nltk.download('stopwords')\n",
        "nltk.download('punkt')\n",
        "nltk.download('punkt_tab')\n",
        "nltk.download('wordnet')\n",
        "lemmatizer = WordNetLemmatizer()\n",
        "stop_words = set(stopwords.words('english'))\n",
        "\n",
        "def preprocess_text(text):\n",
        "    # Tokenize text\n",
        "    tokens = word_tokenize(text.lower())  # Convert to lowercase and tokenize\n",
        "    # Remove stop words and lemmatize\n",
        "    cleaned_tokens = [lemmatizer.lemmatize(word) for word in tokens if word.isalpha() and word not in stop_words]\n",
        "    return \" \".join(cleaned_tokens)\n",
        "\n",
        "# Apply preprocessing to your review text\n",
        "df_renamed['processed_review'] = df_renamed['review_title'].astype(str) +  df_renamed['review_text'].astype(str).apply(preprocess_text)\n"
      ],
      "metadata": {
        "outputId": "a6af281a-9f0a-4f01-c584-0ef8477646db",
        "colab": {
          "base_uri": "https://localhost:8080/"
        },
        "id": "mnhZe5tIc0ma"
      },
      "execution_count": 27,
      "outputs": [
        {
          "output_type": "stream",
          "name": "stderr",
          "text": [
            "[nltk_data] Downloading package stopwords to /root/nltk_data...\n",
            "[nltk_data]   Package stopwords is already up-to-date!\n",
            "[nltk_data] Downloading package punkt to /root/nltk_data...\n",
            "[nltk_data]   Package punkt is already up-to-date!\n",
            "[nltk_data] Downloading package punkt_tab to /root/nltk_data...\n",
            "[nltk_data]   Package punkt_tab is already up-to-date!\n",
            "[nltk_data] Downloading package wordnet to /root/nltk_data...\n",
            "[nltk_data]   Package wordnet is already up-to-date!\n"
          ]
        }
      ]
    },
    {
      "cell_type": "code",
      "source": [
        "df_renamed['processed_review'].head(2)"
      ],
      "metadata": {
        "id": "pSiaz3pogNt_",
        "outputId": "c762d10d-d95f-4e9c-dd4c-07e72e6ff1a4",
        "colab": {
          "base_uri": "https://localhost:8080/",
          "height": 147
        }
      },
      "execution_count": 28,
      "outputs": [
        {
          "output_type": "execute_result",
          "data": {
            "text/plain": [
              "0    Adorable!sweet wish stopper part little longer...\n",
              "1    Stailess, healthier than coated pansgreat litt...\n",
              "Name: processed_review, dtype: object"
            ],
            "text/html": [
              "<div>\n",
              "<style scoped>\n",
              "    .dataframe tbody tr th:only-of-type {\n",
              "        vertical-align: middle;\n",
              "    }\n",
              "\n",
              "    .dataframe tbody tr th {\n",
              "        vertical-align: top;\n",
              "    }\n",
              "\n",
              "    .dataframe thead th {\n",
              "        text-align: right;\n",
              "    }\n",
              "</style>\n",
              "<table border=\"1\" class=\"dataframe\">\n",
              "  <thead>\n",
              "    <tr style=\"text-align: right;\">\n",
              "      <th></th>\n",
              "      <th>processed_review</th>\n",
              "    </tr>\n",
              "  </thead>\n",
              "  <tbody>\n",
              "    <tr>\n",
              "      <th>0</th>\n",
              "      <td>Adorable!sweet wish stopper part little longer...</td>\n",
              "    </tr>\n",
              "    <tr>\n",
              "      <th>1</th>\n",
              "      <td>Stailess, healthier than coated pansgreat litt...</td>\n",
              "    </tr>\n",
              "  </tbody>\n",
              "</table>\n",
              "</div><br><label><b>dtype:</b> object</label>"
            ]
          },
          "metadata": {},
          "execution_count": 28
        }
      ]
    },
    {
      "cell_type": "code",
      "source": [
        "df_renamed[\"categories\"].value_counts().sort_values(ascending=False).head(10)"
      ],
      "metadata": {
        "id": "8RXxKmWXs_Y5",
        "outputId": "4e7b4f22-9ec9-48d9-d6e2-e6e23e588abd",
        "colab": {
          "base_uri": "https://localhost:8080/",
          "height": 429
        }
      },
      "execution_count": 29,
      "outputs": [
        {
          "output_type": "execute_result",
          "data": {
            "text/plain": [
              "categories\n",
              "['Home & Kitchen', 'Bedding', 'Sheets & Pillowcases', 'Sheet & Pillowcase Sets']                                        91691\n",
              "['Home & Kitchen', 'Home Décor Products', 'Window Treatments', 'Curtains & Drapes', 'Panels']                           51297\n",
              "['Home & Kitchen', 'Bedding', 'Decorative Pillows, Inserts & Covers', 'Throw Pillow Covers']                            28532\n",
              "['Home & Kitchen', 'Bedding', 'Sheets & Pillowcases', 'Pillowcases']                                                    26212\n",
              "['Home & Kitchen', 'Bedding', 'Blankets & Throws', 'Throws']                                                            21117\n",
              "['Home & Kitchen', 'Bath', 'Bath Rugs']                                                                                 19613\n",
              "['Home & Kitchen', 'Home Décor Products', 'Slipcovers', 'Sofa Slipcovers']                                              17495\n",
              "['Home & Kitchen', 'Kitchen & Dining', 'Dining & Entertaining', 'Glassware & Drinkware', 'Tumblers & Water Glasses']    15843\n",
              "['Home & Kitchen', 'Kitchen & Dining', 'Kitchen & Table Linens', 'Tablecloths']                                         14710\n",
              "['Home & Kitchen', 'Bath', 'Bathroom Accessories', 'Shower Curtains, Hooks & Liners', 'Shower Curtain Liners']          13845\n",
              "Name: count, dtype: int64"
            ],
            "text/html": [
              "<div>\n",
              "<style scoped>\n",
              "    .dataframe tbody tr th:only-of-type {\n",
              "        vertical-align: middle;\n",
              "    }\n",
              "\n",
              "    .dataframe tbody tr th {\n",
              "        vertical-align: top;\n",
              "    }\n",
              "\n",
              "    .dataframe thead th {\n",
              "        text-align: right;\n",
              "    }\n",
              "</style>\n",
              "<table border=\"1\" class=\"dataframe\">\n",
              "  <thead>\n",
              "    <tr style=\"text-align: right;\">\n",
              "      <th></th>\n",
              "      <th>count</th>\n",
              "    </tr>\n",
              "    <tr>\n",
              "      <th>categories</th>\n",
              "      <th></th>\n",
              "    </tr>\n",
              "  </thead>\n",
              "  <tbody>\n",
              "    <tr>\n",
              "      <th>['Home &amp; Kitchen', 'Bedding', 'Sheets &amp; Pillowcases', 'Sheet &amp; Pillowcase Sets']</th>\n",
              "      <td>91691</td>\n",
              "    </tr>\n",
              "    <tr>\n",
              "      <th>['Home &amp; Kitchen', 'Home Décor Products', 'Window Treatments', 'Curtains &amp; Drapes', 'Panels']</th>\n",
              "      <td>51297</td>\n",
              "    </tr>\n",
              "    <tr>\n",
              "      <th>['Home &amp; Kitchen', 'Bedding', 'Decorative Pillows, Inserts &amp; Covers', 'Throw Pillow Covers']</th>\n",
              "      <td>28532</td>\n",
              "    </tr>\n",
              "    <tr>\n",
              "      <th>['Home &amp; Kitchen', 'Bedding', 'Sheets &amp; Pillowcases', 'Pillowcases']</th>\n",
              "      <td>26212</td>\n",
              "    </tr>\n",
              "    <tr>\n",
              "      <th>['Home &amp; Kitchen', 'Bedding', 'Blankets &amp; Throws', 'Throws']</th>\n",
              "      <td>21117</td>\n",
              "    </tr>\n",
              "    <tr>\n",
              "      <th>['Home &amp; Kitchen', 'Bath', 'Bath Rugs']</th>\n",
              "      <td>19613</td>\n",
              "    </tr>\n",
              "    <tr>\n",
              "      <th>['Home &amp; Kitchen', 'Home Décor Products', 'Slipcovers', 'Sofa Slipcovers']</th>\n",
              "      <td>17495</td>\n",
              "    </tr>\n",
              "    <tr>\n",
              "      <th>['Home &amp; Kitchen', 'Kitchen &amp; Dining', 'Dining &amp; Entertaining', 'Glassware &amp; Drinkware', 'Tumblers &amp; Water Glasses']</th>\n",
              "      <td>15843</td>\n",
              "    </tr>\n",
              "    <tr>\n",
              "      <th>['Home &amp; Kitchen', 'Kitchen &amp; Dining', 'Kitchen &amp; Table Linens', 'Tablecloths']</th>\n",
              "      <td>14710</td>\n",
              "    </tr>\n",
              "    <tr>\n",
              "      <th>['Home &amp; Kitchen', 'Bath', 'Bathroom Accessories', 'Shower Curtains, Hooks &amp; Liners', 'Shower Curtain Liners']</th>\n",
              "      <td>13845</td>\n",
              "    </tr>\n",
              "  </tbody>\n",
              "</table>\n",
              "</div><br><label><b>dtype:</b> int64</label>"
            ]
          },
          "metadata": {},
          "execution_count": 29
        }
      ]
    },
    {
      "cell_type": "markdown",
      "source": [
        "\n",
        "\n",
        "*   Categories column Encoding\n",
        "*   Multi - Hot Encoding  \n",
        "* Convert the categories column from string '<list>' to list before passing it to multi lable binarizer\n",
        "* To do - you can use TD-IDF to extract important category words if required\n"
      ],
      "metadata": {
        "id": "v2keYyvnvfZo"
      }
    },
    {
      "cell_type": "code",
      "source": [
        "import ast\n",
        "df_encoded = df_renamed.copy()\n",
        "# Because the categories column is a string <list> , we have to convert it into a list before encoding\n",
        "df_encoded['categories'] = df_encoded['categories'].apply(lambda x: ast.literal_eval(x) if isinstance(x, str) else x)\n"
      ],
      "metadata": {
        "id": "Fx3SFl2QzoWx"
      },
      "execution_count": 33,
      "outputs": []
    },
    {
      "cell_type": "code",
      "source": [
        "print(df_encoded['categories'].head(5))"
      ],
      "metadata": {
        "id": "tXZWsHR3zz6O",
        "outputId": "bc1be72d-157d-4ec4-b445-65a3d6e89331",
        "colab": {
          "base_uri": "https://localhost:8080/"
        }
      },
      "execution_count": 34,
      "outputs": [
        {
          "output_type": "stream",
          "name": "stdout",
          "text": [
            "0    [Home & Kitchen, Kitchen & Dining, Kitchen Ute...\n",
            "1    [Home & Kitchen, Kitchen & Dining, Cookware, P...\n",
            "2    [Home & Kitchen, Kitchen & Dining, Kitchen & T...\n",
            "3    [Home & Kitchen, Kitchen & Dining, Kitchen & T...\n",
            "4    [Home & Kitchen, Bedding, Sheets & Pillowcases...\n",
            "Name: categories, dtype: object\n"
          ]
        }
      ]
    },
    {
      "cell_type": "code",
      "source": [
        "from sklearn.preprocessing import MultiLabelBinarizer\n",
        "\n",
        "# Convert NaN or empty categories to empty lists\n",
        "df_encoded['categories'] = df_encoded['categories'].apply(lambda x: x if isinstance(x, list) else [])\n",
        "\n",
        "# Apply MultiLabelBinarizer\n",
        "mlb = MultiLabelBinarizer()\n",
        "categories_encoded = mlb.fit_transform(df_encoded['categories'])\n",
        "\n",
        "# Convert to DataFrame with category names as columns\n",
        "categories_df = pd.DataFrame(categories_encoded, columns=mlb.classes_)\n",
        "\n",
        "# Merge back with original DataFrame\n",
        "df = pd.concat([df_encoded, categories_df], axis=1)\n",
        "# df.drop(columns=['categories'], inplace=True)\n",
        "\n",
        "print(df.head(5))\n"
      ],
      "metadata": {
        "id": "Jwz4rFZqvdeB",
        "outputId": "fbc7ea58-71b4-4ad5-9686-cffc6636ce0f",
        "colab": {
          "base_uri": "https://localhost:8080/"
        }
      },
      "execution_count": 39,
      "outputs": [
        {
          "output_type": "stream",
          "name": "stdout",
          "text": [
            "   Unnamed: 0  rating                          review_title  \\\n",
            "0          59       5                             Adorable!   \n",
            "1          87       5  Stailess, healthier than coated pans   \n",
            "2          89       5               Pretty colors available   \n",
            "3          90       4                         Nice material   \n",
            "4          93       4                      Love the zipper!   \n",
            "\n",
            "                                         review_text images        asin  \\\n",
            "0  These are so sweet. I do wish the stopper part...     []  B01HBWGU80   \n",
            "1  Great little stainless steel, balanced, good w...     []  B07T5CRVKQ   \n",
            "2  Nice thin placemats of good size. Can be used ...     []  B07JRGZG6F   \n",
            "3                 Very pretty, wish they came bigger     []  B00TW2M6YA   \n",
            "4  The red is a deeper red rather than a bright r...     []  B01N6C4XJ7   \n",
            "\n",
            "  parent_asin                       user_id                timestamp  \\\n",
            "0  B01DR2ACA0  AGKHLEW2SOWHNMFQIJGBECAF7INQ  2019-07-23 04:29:16.671   \n",
            "1  B08C7JYKZH  AEVWAM3YWN5URJVJIZZ6XPD2MKIA  2020-11-02 22:09:44.073   \n",
            "2  B0BYYYQ354  AEVWAM3YWN5URJVJIZZ6XPD2MKIA  2019-04-23 18:20:11.716   \n",
            "3  B01N1411P6  AEVWAM3YWN5URJVJIZZ6XPD2MKIA  2019-04-23 18:17:55.301   \n",
            "4  B07BL41FQX  AEVWAM3YWN5URJVJIZZ6XPD2MKIA  2018-11-18 01:28:18.503   \n",
            "\n",
            "   helpful_vote  ...  Wine Stoppers & Pourers Wing Corkscrews  \\\n",
            "0             0  ...                        1               0   \n",
            "1             1  ...                        0               0   \n",
            "2             0  ...                        0               0   \n",
            "3             0  ...                        0               0   \n",
            "4             1  ...                        0               0   \n",
            "\n",
            "  Woks & Stir-Fry Pans  Wrapping & Packaging Wreath Hangers Wreaths  \\\n",
            "0                    0                     0              0       0   \n",
            "1                    0                     0              0       0   \n",
            "2                    0                     0              0       0   \n",
            "3                    0                     0              0       0   \n",
            "4                    0                     0              0       0   \n",
            "\n",
            "  Wreaths, Garlands & Swags Zesters bathroom  furniture  \n",
            "0                         0       0        0          0  \n",
            "1                         0       0        0          0  \n",
            "2                         0       0        0          0  \n",
            "3                         0       0        0          0  \n",
            "4                         0       0        0          0  \n",
            "\n",
            "[5 rows x 1097 columns]\n"
          ]
        }
      ]
    },
    {
      "cell_type": "code",
      "source": [
        "# print(categories_df.columns)  # Displays the binary-encoded category column names\n",
        "\n",
        "print(df.info)  # Categories are now binary-encoded"
      ],
      "metadata": {
        "id": "al-lcktuwAoa",
        "outputId": "027fd33c-347c-42c2-a99e-c10c79d7f221",
        "colab": {
          "base_uri": "https://localhost:8080/"
        }
      },
      "execution_count": 43,
      "outputs": [
        {
          "output_type": "stream",
          "name": "stdout",
          "text": [
            "<bound method DataFrame.info of         Unnamed: 0  rating                          review_title  \\\n",
            "0               59       5                             Adorable!   \n",
            "1               87       5  Stailess, healthier than coated pans   \n",
            "2               89       5               Pretty colors available   \n",
            "3               90       4                         Nice material   \n",
            "4               93       4                      Love the zipper!   \n",
            "...            ...     ...                                   ...   \n",
            "754074    13376217       5                            Five Stars   \n",
            "754075    13376226       5                          Blue beauty!   \n",
            "754076    13376239       5                           looks good!   \n",
            "754077    13376281       5                        Linen Favorite   \n",
            "754078    13376282       3                    Fine for Light Use   \n",
            "\n",
            "                                              review_text  \\\n",
            "0       These are so sweet. I do wish the stopper part...   \n",
            "1       Great little stainless steel, balanced, good w...   \n",
            "2       Nice thin placemats of good size. Can be used ...   \n",
            "3                      Very pretty, wish they came bigger   \n",
            "4       The red is a deeper red rather than a bright r...   \n",
            "...                                                   ...   \n",
            "754074                                   Good as always!!   \n",
            "754075  Added so much color to my room its gorgeous! A...   \n",
            "754076              looks good and totally fits my window   \n",
            "754077  Love linen, love these towels. They don't take...   \n",
            "754078  Soft but very thin. Cold water wash only. Sinc...   \n",
            "\n",
            "                                                   images        asin  \\\n",
            "0                                                      []  B01HBWGU80   \n",
            "1                                                      []  B07T5CRVKQ   \n",
            "2                                                      []  B07JRGZG6F   \n",
            "3                                                      []  B00TW2M6YA   \n",
            "4                                                      []  B01N6C4XJ7   \n",
            "...                                                   ...         ...   \n",
            "754074                                                 []  B00B80TJXU   \n",
            "754075  [{'small_image_url': 'https://m.media-amazon.c...  B01BCP6ZWS   \n",
            "754076                                                 []  B07L91XVGC   \n",
            "754077                                                 []  B004AMA00O   \n",
            "754078                                                 []  B015NBR9LS   \n",
            "\n",
            "       parent_asin                       user_id                timestamp  \\\n",
            "0       B01DR2ACA0  AGKHLEW2SOWHNMFQIJGBECAF7INQ  2019-07-23 04:29:16.671   \n",
            "1       B08C7JYKZH  AEVWAM3YWN5URJVJIZZ6XPD2MKIA  2020-11-02 22:09:44.073   \n",
            "2       B0BYYYQ354  AEVWAM3YWN5URJVJIZZ6XPD2MKIA  2019-04-23 18:20:11.716   \n",
            "3       B01N1411P6  AEVWAM3YWN5URJVJIZZ6XPD2MKIA  2019-04-23 18:17:55.301   \n",
            "4       B07BL41FQX  AEVWAM3YWN5URJVJIZZ6XPD2MKIA  2018-11-18 01:28:18.503   \n",
            "...            ...                           ...                      ...   \n",
            "754074  B00CCYM27Q  AEKTZCC2OFXW25DSWEWWXZ22SSGQ  2017-11-09 18:13:53.058   \n",
            "754075  B0C63ZXYXQ  AGRJWIHL4YLOM3FCCUYBFNWGUA5Q  2022-12-31 19:50:06.379   \n",
            "754076  B0822ST22S  AGRJWIHL4YLOM3FCCUYBFNWGUA5Q  2020-05-13 05:58:13.194   \n",
            "754077  B0C39Y2MKK  AGAWVDZHTUI4BSZRAGVB62VFWCXA  2019-08-06 15:00:54.574   \n",
            "754078  B0C3N1RLJB  AGAWVDZHTUI4BSZRAGVB62VFWCXA  2017-08-20 18:03:00.390   \n",
            "\n",
            "        helpful_vote  ...  Wine Stoppers & Pourers Wing Corkscrews  \\\n",
            "0                  0  ...                        1               0   \n",
            "1                  1  ...                        0               0   \n",
            "2                  0  ...                        0               0   \n",
            "3                  0  ...                        0               0   \n",
            "4                  1  ...                        0               0   \n",
            "...              ...  ...                      ...             ...   \n",
            "754074             0  ...                        0               0   \n",
            "754075             1  ...                        0               0   \n",
            "754076             0  ...                        0               0   \n",
            "754077             0  ...                        0               0   \n",
            "754078             0  ...                        0               0   \n",
            "\n",
            "       Woks & Stir-Fry Pans  Wrapping & Packaging Wreath Hangers Wreaths  \\\n",
            "0                         0                     0              0       0   \n",
            "1                         0                     0              0       0   \n",
            "2                         0                     0              0       0   \n",
            "3                         0                     0              0       0   \n",
            "4                         0                     0              0       0   \n",
            "...                     ...                   ...            ...     ...   \n",
            "754074                    0                     0              0       0   \n",
            "754075                    0                     0              0       0   \n",
            "754076                    0                     0              0       0   \n",
            "754077                    0                     0              0       0   \n",
            "754078                    0                     0              0       0   \n",
            "\n",
            "       Wreaths, Garlands & Swags Zesters bathroom  furniture  \n",
            "0                              0       0        0          0  \n",
            "1                              0       0        0          0  \n",
            "2                              0       0        0          0  \n",
            "3                              0       0        0          0  \n",
            "4                              0       0        0          0  \n",
            "...                          ...     ...      ...        ...  \n",
            "754074                         0       0        0          0  \n",
            "754075                         0       0        0          0  \n",
            "754076                         0       0        0          0  \n",
            "754077                         0       0        0          0  \n",
            "754078                         0       0        0          0  \n",
            "\n",
            "[754079 rows x 1097 columns]>\n"
          ]
        }
      ]
    },
    {
      "cell_type": "markdown",
      "source": [],
      "metadata": {
        "id": "osiyVBaQveMS"
      }
    },
    {
      "cell_type": "markdown",
      "source": [],
      "metadata": {
        "id": "0d7ZSrWB20PC"
      }
    },
    {
      "cell_type": "markdown",
      "source": [
        "\n",
        "* Convert category into embeddings rather than converting categories into many columns\n",
        "* Instead of converting categories into many columns , we can assign a unique index to each category and use an embedding layer in the neural network\n",
        "\n",
        "\n",
        "\n"
      ],
      "metadata": {
        "id": "0bnJJHSw3TpT"
      }
    },
    {
      "cell_type": "code",
      "source": [
        "df_renamed[\"categories\"].value_counts().sort_values(ascending=False).head(10)"
      ],
      "metadata": {
        "id": "wm518i2W21RB",
        "outputId": "dedcb5a3-b69c-44b6-c5a4-cde26d68f6e6",
        "colab": {
          "base_uri": "https://localhost:8080/",
          "height": 429
        }
      },
      "execution_count": 44,
      "outputs": [
        {
          "output_type": "execute_result",
          "data": {
            "text/plain": [
              "categories\n",
              "['Home & Kitchen', 'Bedding', 'Sheets & Pillowcases', 'Sheet & Pillowcase Sets']                                        91691\n",
              "['Home & Kitchen', 'Home Décor Products', 'Window Treatments', 'Curtains & Drapes', 'Panels']                           51297\n",
              "['Home & Kitchen', 'Bedding', 'Decorative Pillows, Inserts & Covers', 'Throw Pillow Covers']                            28532\n",
              "['Home & Kitchen', 'Bedding', 'Sheets & Pillowcases', 'Pillowcases']                                                    26212\n",
              "['Home & Kitchen', 'Bedding', 'Blankets & Throws', 'Throws']                                                            21117\n",
              "['Home & Kitchen', 'Bath', 'Bath Rugs']                                                                                 19613\n",
              "['Home & Kitchen', 'Home Décor Products', 'Slipcovers', 'Sofa Slipcovers']                                              17495\n",
              "['Home & Kitchen', 'Kitchen & Dining', 'Dining & Entertaining', 'Glassware & Drinkware', 'Tumblers & Water Glasses']    15843\n",
              "['Home & Kitchen', 'Kitchen & Dining', 'Kitchen & Table Linens', 'Tablecloths']                                         14710\n",
              "['Home & Kitchen', 'Bath', 'Bathroom Accessories', 'Shower Curtains, Hooks & Liners', 'Shower Curtain Liners']          13845\n",
              "Name: count, dtype: int64"
            ],
            "text/html": [
              "<div>\n",
              "<style scoped>\n",
              "    .dataframe tbody tr th:only-of-type {\n",
              "        vertical-align: middle;\n",
              "    }\n",
              "\n",
              "    .dataframe tbody tr th {\n",
              "        vertical-align: top;\n",
              "    }\n",
              "\n",
              "    .dataframe thead th {\n",
              "        text-align: right;\n",
              "    }\n",
              "</style>\n",
              "<table border=\"1\" class=\"dataframe\">\n",
              "  <thead>\n",
              "    <tr style=\"text-align: right;\">\n",
              "      <th></th>\n",
              "      <th>count</th>\n",
              "    </tr>\n",
              "    <tr>\n",
              "      <th>categories</th>\n",
              "      <th></th>\n",
              "    </tr>\n",
              "  </thead>\n",
              "  <tbody>\n",
              "    <tr>\n",
              "      <th>['Home &amp; Kitchen', 'Bedding', 'Sheets &amp; Pillowcases', 'Sheet &amp; Pillowcase Sets']</th>\n",
              "      <td>91691</td>\n",
              "    </tr>\n",
              "    <tr>\n",
              "      <th>['Home &amp; Kitchen', 'Home Décor Products', 'Window Treatments', 'Curtains &amp; Drapes', 'Panels']</th>\n",
              "      <td>51297</td>\n",
              "    </tr>\n",
              "    <tr>\n",
              "      <th>['Home &amp; Kitchen', 'Bedding', 'Decorative Pillows, Inserts &amp; Covers', 'Throw Pillow Covers']</th>\n",
              "      <td>28532</td>\n",
              "    </tr>\n",
              "    <tr>\n",
              "      <th>['Home &amp; Kitchen', 'Bedding', 'Sheets &amp; Pillowcases', 'Pillowcases']</th>\n",
              "      <td>26212</td>\n",
              "    </tr>\n",
              "    <tr>\n",
              "      <th>['Home &amp; Kitchen', 'Bedding', 'Blankets &amp; Throws', 'Throws']</th>\n",
              "      <td>21117</td>\n",
              "    </tr>\n",
              "    <tr>\n",
              "      <th>['Home &amp; Kitchen', 'Bath', 'Bath Rugs']</th>\n",
              "      <td>19613</td>\n",
              "    </tr>\n",
              "    <tr>\n",
              "      <th>['Home &amp; Kitchen', 'Home Décor Products', 'Slipcovers', 'Sofa Slipcovers']</th>\n",
              "      <td>17495</td>\n",
              "    </tr>\n",
              "    <tr>\n",
              "      <th>['Home &amp; Kitchen', 'Kitchen &amp; Dining', 'Dining &amp; Entertaining', 'Glassware &amp; Drinkware', 'Tumblers &amp; Water Glasses']</th>\n",
              "      <td>15843</td>\n",
              "    </tr>\n",
              "    <tr>\n",
              "      <th>['Home &amp; Kitchen', 'Kitchen &amp; Dining', 'Kitchen &amp; Table Linens', 'Tablecloths']</th>\n",
              "      <td>14710</td>\n",
              "    </tr>\n",
              "    <tr>\n",
              "      <th>['Home &amp; Kitchen', 'Bath', 'Bathroom Accessories', 'Shower Curtains, Hooks &amp; Liners', 'Shower Curtain Liners']</th>\n",
              "      <td>13845</td>\n",
              "    </tr>\n",
              "  </tbody>\n",
              "</table>\n",
              "</div><br><label><b>dtype:</b> int64</label>"
            ]
          },
          "metadata": {},
          "execution_count": 44
        }
      ]
    },
    {
      "cell_type": "code",
      "source": [
        "# import tensorflow as tf\n",
        "# from tensorflow.keras.preprocessing.text import Tokenizer\n",
        "# from tensorflow.keras.preprocessing.sequence import pad_sequences\n",
        "\n",
        "# df_categories_tokenized = df_renamed.copy()\n",
        "\n",
        "# # Flatten all categories into a single list for tokenization\n",
        "# all_categories = [cat for sublist in df_categories_tokenized['categories'] for cat in sublist]\n",
        "\n",
        "# # Fit tokenizer on all unique categories\n",
        "# tokenizer = Tokenizer()\n",
        "# tokenizer.fit_on_texts(all_categories)\n",
        "\n",
        "# # Convert each row’s category list into a sequence of indexes\n",
        "# df_categories_tokenized['categories_tokenized'] = df_categories_tokenized['categories'].apply(lambda x: tokenizer.texts_to_sequences(x))\n",
        "\n",
        "#THE PADDING IS FAILING HERE\n",
        "\n",
        "# # Set MAX_CATEGORIES to a reasonable value, e.g., 100\n",
        "# MAX_CATEGORIES = 100\n",
        "\n",
        "# # Apply padding to make all sequences the same length\n",
        "# padded_categories = pad_sequences(df['categories_tokenized'], maxlen=MAX_CATEGORIES, padding='post')\n",
        "\n",
        "# # Convert the padded sequences into a DataFrame\n",
        "# df_padded = pd.DataFrame(padded_categories, columns=[f'category_{i+1}' for i in range(MAX_CATEGORIES)])\n",
        "\n",
        "# # Check the padded output\n",
        "# print(df_padded.head())  # Verify the first few rows of the padded categories\n",
        "\n",
        "\n"
      ],
      "metadata": {
        "id": "0TzcVDL23o9y"
      },
      "execution_count": 78,
      "outputs": []
    },
    {
      "cell_type": "code",
      "source": [
        "# # Check the first few entries\n",
        "# print(df_categories_tokenized['categories_tokenized'].head())\n",
        "\n",
        "# # Check if each entry is a list\n",
        "# print(df_categories_tokenized['categories_tokenized'].apply(type).value_counts())  # Should output list for each row\n",
        "\n",
        "# df_categories_tokenized['categories_tokenized'] = df_categories_tokenized['categories_tokenized'].apply(lambda x: x if isinstance(x, list) else [])\n",
        "\n",
        "# # Check again\n",
        "# print(df_categories_tokenized['categories_tokenized'].apply(type).value_counts())  # Should now show only list\n",
        "\n",
        "\n",
        "# # Replace any null values with empty lists\n",
        "# df_categories_tokenized['categories_tokenized'] = df_categories_tokenized['categories_tokenized'].apply(lambda x: x if isinstance(x, list) else [])\n",
        "\n",
        "# # Ensure there are no empty lists if needed\n",
        "# df_categories_tokenized['categories_tokenized'] = df_categories_tokenized['categories_tokenized'].apply(lambda x: x if len(x) > 0 else [])\n",
        "\n",
        "\n",
        "# # Check if any lists are empty\n",
        "# empty_lists = df_categories_tokenized['categories_tokenized'].apply(lambda x: len(x) == 0)\n",
        "# print(f\"Number of empty lists: {empty_lists.sum()}\")\n",
        "\n",
        "# # Optionally replace empty lists with a default value (e.g., empty list)\n",
        "# df_categories_tokenized['categories_tokenized'] = df_categories_tokenized['categories_tokenized'].apply(lambda x: x if len(x) > 0 else [0])\n",
        "\n",
        "# category_lengths = df_categories_tokenized['categories_tokenized'].apply(len)\n",
        "# print(f\"Max number of categories: {category_lengths.max()}\")\n",
        "# print(f\"Min number of categories: {category_lengths.min()}\")\n",
        "# print(f\"Mean number of categories: {category_lengths.mean()}\")\n",
        "# # Check the first few rows of 'category_sequences' to understand its structure\n",
        "# print(df_categories_tokenized['categories_tokenized'].head())\n",
        "\n",
        "\n",
        "\n",
        "\n"
      ],
      "metadata": {
        "id": "iQGY11coBDsL"
      },
      "execution_count": 79,
      "outputs": []
    },
    {
      "cell_type": "markdown",
      "source": [
        "\n",
        "\n",
        "*   Encode Review and Review TExt\n",
        "* Use TD-IDF for encoding review and review text\n",
        "* I had ensure there are no null values in review_Text\n",
        "\n"
      ],
      "metadata": {
        "id": "DNS6tXa1GT2I"
      }
    },
    {
      "cell_type": "code",
      "source": [
        "from sklearn.feature_extraction.text import TfidfVectorizer\n",
        "\n",
        "# Initialize TF-IDF Vectorizer\n",
        "tfidf_vectorizer = TfidfVectorizer(max_features=5000)  # You can adjust the number of features\n",
        "df['review_title'] = df['review_title'].fillna('No Review')\n",
        "df['review_text'] = df['review_text'].fillna('No Review')\n",
        "\n",
        "# Fit and transform the review title and review text\n",
        "X_title = tfidf_vectorizer.fit_transform(df['review_title'])\n",
        "X_text = tfidf_vectorizer.fit_transform(df['review_text'])\n",
        "\n",
        "# Convert to dense format (optional, depending on your model)\n",
        "X_title_dense = X_title.toarray()\n",
        "X_text_dense = X_text.toarray()\n",
        "\n",
        "# Check the shape of the TF-IDF encoded title and text\n",
        "print(f\"Shape of review title matrix: {X_title_dense.shape}\")\n",
        "print(f\"Shape of review text matrix: {X_text_dense.shape}\")\n"
      ],
      "metadata": {
        "id": "_lqb4hErGoK_",
        "outputId": "56ac35d9-d70c-4371-c785-2f8e052f49df",
        "colab": {
          "base_uri": "https://localhost:8080/"
        }
      },
      "execution_count": 82,
      "outputs": [
        {
          "output_type": "stream",
          "name": "stdout",
          "text": [
            "Shape of review title matrix: (754079, 5000)\n",
            "Shape of review text matrix: (754079, 5000)\n"
          ]
        }
      ]
    },
    {
      "cell_type": "markdown",
      "source": [
        "If you're using a neural network model, Word Embeddings such as Word2Vec, GloVe, or the Keras Embedding layer can be used to learn better semantic representations of words."
      ],
      "metadata": {
        "id": "oZWDboFTI2eB"
      }
    },
    {
      "cell_type": "code",
      "source": [],
      "metadata": {
        "id": "-67YxtyiIdc4"
      },
      "execution_count": null,
      "outputs": []
    }
  ]
}