{
  "cells": [
    {
      "cell_type": "markdown",
      "metadata": {
        "id": "view-in-github",
        "colab_type": "text"
      },
      "source": [
        "<a href=\"https://colab.research.google.com/github/sowmyarshetty/NNClass/blob/main/Non_Negative_Matrix_Factorization.ipynb\" target=\"_parent\"><img src=\"https://colab.research.google.com/assets/colab-badge.svg\" alt=\"Open In Colab\"/></a>"
      ]
    },
    {
      "cell_type": "code",
      "execution_count": 1,
      "metadata": {
        "id": "UhKpAD-z59Ym"
      },
      "outputs": [],
      "source": [
        "# Import the dependencies\n",
        "import pandas as pd\n",
        "import re\n",
        "import numpy as np\n",
        "from sklearn.feature_extraction.text import TfidfVectorizer\n",
        "from sklearn.decomposition import NMF\n",
        "\n",
        "# Set the column width to 200.\n",
        "pd.set_option('max_colwidth', 200)"
      ]
    },
    {
      "cell_type": "code",
      "execution_count": 2,
      "metadata": {
        "colab": {
          "base_uri": "https://localhost:8080/",
          "height": 293
        },
        "id": "fqiXsQmK59Yn",
        "outputId": "0b4fcef1-acf0-4639-aa3f-71ae10a7e27f"
      },
      "outputs": [
        {
          "output_type": "stream",
          "name": "stdout",
          "text": [
            "Mounted at /content/drive\n"
          ]
        },
        {
          "output_type": "stream",
          "name": "stderr",
          "text": [
            "Downloading...\n",
            "From: https://drive.google.com/uc?id=1dCjysGH7CjseeifERUin9gaoKchtcGnh\n",
            "To: /content/news_article.csv\n",
            "100%|██████████| 1.43M/1.43M [00:00<00:00, 12.6MB/s]\n"
          ]
        },
        {
          "output_type": "execute_result",
          "data": {
            "text/plain": [
              "                                                                   headline\n",
              "0       Is 22 Too Young To Marry A 36-Year-Old? 'The Bachelor' Investigates\n",
              "1                         The Only Shopping Guide For Cyber Monday You Need\n",
              "2       Taylor Swift Dances When No One Can See Her In New 'Delicate' Video\n",
              "3                               How To Say 'Cheers' In 20 Languages (AUDIO)\n",
              "4  'Welcome To Hell': Rio Police Warn They Can't Promise Olympic Protection"
            ],
            "text/html": [
              "\n",
              "  <div id=\"df-54f769f1-4f6e-490f-b697-8d998a0a6baa\" class=\"colab-df-container\">\n",
              "    <div>\n",
              "<style scoped>\n",
              "    .dataframe tbody tr th:only-of-type {\n",
              "        vertical-align: middle;\n",
              "    }\n",
              "\n",
              "    .dataframe tbody tr th {\n",
              "        vertical-align: top;\n",
              "    }\n",
              "\n",
              "    .dataframe thead th {\n",
              "        text-align: right;\n",
              "    }\n",
              "</style>\n",
              "<table border=\"1\" class=\"dataframe\">\n",
              "  <thead>\n",
              "    <tr style=\"text-align: right;\">\n",
              "      <th></th>\n",
              "      <th>headline</th>\n",
              "    </tr>\n",
              "  </thead>\n",
              "  <tbody>\n",
              "    <tr>\n",
              "      <th>0</th>\n",
              "      <td>Is 22 Too Young To Marry A 36-Year-Old? 'The Bachelor' Investigates</td>\n",
              "    </tr>\n",
              "    <tr>\n",
              "      <th>1</th>\n",
              "      <td>The Only Shopping Guide For Cyber Monday You Need</td>\n",
              "    </tr>\n",
              "    <tr>\n",
              "      <th>2</th>\n",
              "      <td>Taylor Swift Dances When No One Can See Her In New 'Delicate' Video</td>\n",
              "    </tr>\n",
              "    <tr>\n",
              "      <th>3</th>\n",
              "      <td>How To Say 'Cheers' In 20 Languages (AUDIO)</td>\n",
              "    </tr>\n",
              "    <tr>\n",
              "      <th>4</th>\n",
              "      <td>'Welcome To Hell': Rio Police Warn They Can't Promise Olympic Protection</td>\n",
              "    </tr>\n",
              "  </tbody>\n",
              "</table>\n",
              "</div>\n",
              "    <div class=\"colab-df-buttons\">\n",
              "\n",
              "  <div class=\"colab-df-container\">\n",
              "    <button class=\"colab-df-convert\" onclick=\"convertToInteractive('df-54f769f1-4f6e-490f-b697-8d998a0a6baa')\"\n",
              "            title=\"Convert this dataframe to an interactive table.\"\n",
              "            style=\"display:none;\">\n",
              "\n",
              "  <svg xmlns=\"http://www.w3.org/2000/svg\" height=\"24px\" viewBox=\"0 -960 960 960\">\n",
              "    <path d=\"M120-120v-720h720v720H120Zm60-500h600v-160H180v160Zm220 220h160v-160H400v160Zm0 220h160v-160H400v160ZM180-400h160v-160H180v160Zm440 0h160v-160H620v160ZM180-180h160v-160H180v160Zm440 0h160v-160H620v160Z\"/>\n",
              "  </svg>\n",
              "    </button>\n",
              "\n",
              "  <style>\n",
              "    .colab-df-container {\n",
              "      display:flex;\n",
              "      gap: 12px;\n",
              "    }\n",
              "\n",
              "    .colab-df-convert {\n",
              "      background-color: #E8F0FE;\n",
              "      border: none;\n",
              "      border-radius: 50%;\n",
              "      cursor: pointer;\n",
              "      display: none;\n",
              "      fill: #1967D2;\n",
              "      height: 32px;\n",
              "      padding: 0 0 0 0;\n",
              "      width: 32px;\n",
              "    }\n",
              "\n",
              "    .colab-df-convert:hover {\n",
              "      background-color: #E2EBFA;\n",
              "      box-shadow: 0px 1px 2px rgba(60, 64, 67, 0.3), 0px 1px 3px 1px rgba(60, 64, 67, 0.15);\n",
              "      fill: #174EA6;\n",
              "    }\n",
              "\n",
              "    .colab-df-buttons div {\n",
              "      margin-bottom: 4px;\n",
              "    }\n",
              "\n",
              "    [theme=dark] .colab-df-convert {\n",
              "      background-color: #3B4455;\n",
              "      fill: #D2E3FC;\n",
              "    }\n",
              "\n",
              "    [theme=dark] .colab-df-convert:hover {\n",
              "      background-color: #434B5C;\n",
              "      box-shadow: 0px 1px 3px 1px rgba(0, 0, 0, 0.15);\n",
              "      filter: drop-shadow(0px 1px 2px rgba(0, 0, 0, 0.3));\n",
              "      fill: #FFFFFF;\n",
              "    }\n",
              "  </style>\n",
              "\n",
              "    <script>\n",
              "      const buttonEl =\n",
              "        document.querySelector('#df-54f769f1-4f6e-490f-b697-8d998a0a6baa button.colab-df-convert');\n",
              "      buttonEl.style.display =\n",
              "        google.colab.kernel.accessAllowed ? 'block' : 'none';\n",
              "\n",
              "      async function convertToInteractive(key) {\n",
              "        const element = document.querySelector('#df-54f769f1-4f6e-490f-b697-8d998a0a6baa');\n",
              "        const dataTable =\n",
              "          await google.colab.kernel.invokeFunction('convertToInteractive',\n",
              "                                                    [key], {});\n",
              "        if (!dataTable) return;\n",
              "\n",
              "        const docLinkHtml = 'Like what you see? Visit the ' +\n",
              "          '<a target=\"_blank\" href=https://colab.research.google.com/notebooks/data_table.ipynb>data table notebook</a>'\n",
              "          + ' to learn more about interactive tables.';\n",
              "        element.innerHTML = '';\n",
              "        dataTable['output_type'] = 'display_data';\n",
              "        await google.colab.output.renderOutput(dataTable, element);\n",
              "        const docLink = document.createElement('div');\n",
              "        docLink.innerHTML = docLinkHtml;\n",
              "        element.appendChild(docLink);\n",
              "      }\n",
              "    </script>\n",
              "  </div>\n",
              "\n",
              "\n",
              "<div id=\"df-abae8f48-ef9a-457a-b62a-161e03ec2432\">\n",
              "  <button class=\"colab-df-quickchart\" onclick=\"quickchart('df-abae8f48-ef9a-457a-b62a-161e03ec2432')\"\n",
              "            title=\"Suggest charts\"\n",
              "            style=\"display:none;\">\n",
              "\n",
              "<svg xmlns=\"http://www.w3.org/2000/svg\" height=\"24px\"viewBox=\"0 0 24 24\"\n",
              "     width=\"24px\">\n",
              "    <g>\n",
              "        <path d=\"M19 3H5c-1.1 0-2 .9-2 2v14c0 1.1.9 2 2 2h14c1.1 0 2-.9 2-2V5c0-1.1-.9-2-2-2zM9 17H7v-7h2v7zm4 0h-2V7h2v10zm4 0h-2v-4h2v4z\"/>\n",
              "    </g>\n",
              "</svg>\n",
              "  </button>\n",
              "\n",
              "<style>\n",
              "  .colab-df-quickchart {\n",
              "      --bg-color: #E8F0FE;\n",
              "      --fill-color: #1967D2;\n",
              "      --hover-bg-color: #E2EBFA;\n",
              "      --hover-fill-color: #174EA6;\n",
              "      --disabled-fill-color: #AAA;\n",
              "      --disabled-bg-color: #DDD;\n",
              "  }\n",
              "\n",
              "  [theme=dark] .colab-df-quickchart {\n",
              "      --bg-color: #3B4455;\n",
              "      --fill-color: #D2E3FC;\n",
              "      --hover-bg-color: #434B5C;\n",
              "      --hover-fill-color: #FFFFFF;\n",
              "      --disabled-bg-color: #3B4455;\n",
              "      --disabled-fill-color: #666;\n",
              "  }\n",
              "\n",
              "  .colab-df-quickchart {\n",
              "    background-color: var(--bg-color);\n",
              "    border: none;\n",
              "    border-radius: 50%;\n",
              "    cursor: pointer;\n",
              "    display: none;\n",
              "    fill: var(--fill-color);\n",
              "    height: 32px;\n",
              "    padding: 0;\n",
              "    width: 32px;\n",
              "  }\n",
              "\n",
              "  .colab-df-quickchart:hover {\n",
              "    background-color: var(--hover-bg-color);\n",
              "    box-shadow: 0 1px 2px rgba(60, 64, 67, 0.3), 0 1px 3px 1px rgba(60, 64, 67, 0.15);\n",
              "    fill: var(--button-hover-fill-color);\n",
              "  }\n",
              "\n",
              "  .colab-df-quickchart-complete:disabled,\n",
              "  .colab-df-quickchart-complete:disabled:hover {\n",
              "    background-color: var(--disabled-bg-color);\n",
              "    fill: var(--disabled-fill-color);\n",
              "    box-shadow: none;\n",
              "  }\n",
              "\n",
              "  .colab-df-spinner {\n",
              "    border: 2px solid var(--fill-color);\n",
              "    border-color: transparent;\n",
              "    border-bottom-color: var(--fill-color);\n",
              "    animation:\n",
              "      spin 1s steps(1) infinite;\n",
              "  }\n",
              "\n",
              "  @keyframes spin {\n",
              "    0% {\n",
              "      border-color: transparent;\n",
              "      border-bottom-color: var(--fill-color);\n",
              "      border-left-color: var(--fill-color);\n",
              "    }\n",
              "    20% {\n",
              "      border-color: transparent;\n",
              "      border-left-color: var(--fill-color);\n",
              "      border-top-color: var(--fill-color);\n",
              "    }\n",
              "    30% {\n",
              "      border-color: transparent;\n",
              "      border-left-color: var(--fill-color);\n",
              "      border-top-color: var(--fill-color);\n",
              "      border-right-color: var(--fill-color);\n",
              "    }\n",
              "    40% {\n",
              "      border-color: transparent;\n",
              "      border-right-color: var(--fill-color);\n",
              "      border-top-color: var(--fill-color);\n",
              "    }\n",
              "    60% {\n",
              "      border-color: transparent;\n",
              "      border-right-color: var(--fill-color);\n",
              "    }\n",
              "    80% {\n",
              "      border-color: transparent;\n",
              "      border-right-color: var(--fill-color);\n",
              "      border-bottom-color: var(--fill-color);\n",
              "    }\n",
              "    90% {\n",
              "      border-color: transparent;\n",
              "      border-bottom-color: var(--fill-color);\n",
              "    }\n",
              "  }\n",
              "</style>\n",
              "\n",
              "  <script>\n",
              "    async function quickchart(key) {\n",
              "      const quickchartButtonEl =\n",
              "        document.querySelector('#' + key + ' button');\n",
              "      quickchartButtonEl.disabled = true;  // To prevent multiple clicks.\n",
              "      quickchartButtonEl.classList.add('colab-df-spinner');\n",
              "      try {\n",
              "        const charts = await google.colab.kernel.invokeFunction(\n",
              "            'suggestCharts', [key], {});\n",
              "      } catch (error) {\n",
              "        console.error('Error during call to suggestCharts:', error);\n",
              "      }\n",
              "      quickchartButtonEl.classList.remove('colab-df-spinner');\n",
              "      quickchartButtonEl.classList.add('colab-df-quickchart-complete');\n",
              "    }\n",
              "    (() => {\n",
              "      let quickchartButtonEl =\n",
              "        document.querySelector('#df-abae8f48-ef9a-457a-b62a-161e03ec2432 button');\n",
              "      quickchartButtonEl.style.display =\n",
              "        google.colab.kernel.accessAllowed ? 'block' : 'none';\n",
              "    })();\n",
              "  </script>\n",
              "</div>\n",
              "\n",
              "    </div>\n",
              "  </div>\n"
            ],
            "application/vnd.google.colaboratory.intrinsic+json": {
              "type": "dataframe",
              "variable_name": "news_articles_df",
              "summary": "{\n  \"name\": \"news_articles_df\",\n  \"rows\": 23377,\n  \"fields\": [\n    {\n      \"column\": \"headline\",\n      \"properties\": {\n        \"dtype\": \"string\",\n        \"num_unique_values\": 23278,\n        \"samples\": [\n          \"SXSW Chronicles: Anticipation -- Day 1\",\n          \"Trump Tells 57,000 Honduran Immigrants To Leave Or Risk Deportation\",\n          \"This Just Might Be The Spot That Inspired 'Frozen'\"\n        ],\n        \"semantic_type\": \"\",\n        \"description\": \"\"\n      }\n    }\n  ]\n}"
            }
          },
          "metadata": {},
          "execution_count": 2
        }
      ],
      "source": [
        "# # Load the news_articles.csv into a DataFrame.\n",
        "# news_articles_df = pd.read_csv('Resources/news_articles.csv')\n",
        "# # Display the first 20 headlines\n",
        "# news_articles_df.head(10)\n",
        "import gdown\n",
        "# Mount Google Drive (For Colab Users)\n",
        "from google.colab import drive\n",
        "drive.mount('/content/drive')\n",
        "\n",
        "\n",
        "#URL for downloading lung cancer data\n",
        "url_lc = 'https://drive.google.com/uc?id=1dCjysGH7CjseeifERUin9gaoKchtcGnh'\n",
        "gdown.download(url_lc, 'news_article.csv', quiet=False)\n",
        "# https://drive.google.com/file/d/1dCjysGH7CjseeifERUin9gaoKchtcGnh/view?usp=drive_link\n",
        "\n",
        "\n",
        "#Read the Lung cancer data.csv\n",
        "news_articles_df = pd.read_csv(url_lc)\n",
        "news_articles_df.head()"
      ]
    },
    {
      "cell_type": "markdown",
      "metadata": {
        "id": "4Ln_RqM559Yo"
      },
      "source": [
        "## Preprocess the Text"
      ]
    },
    {
      "cell_type": "code",
      "execution_count": 4,
      "metadata": {
        "id": "xevELFA659Yp"
      },
      "outputs": [],
      "source": [
        "# Remove digits and non-alphabetic characters\n",
        "news_articles_df[\"headline\"] = news_articles_df['headline'].apply(lambda x :re.sub(r\"[^a-zA-Z\\s ]\",\"\",str(x)))"
      ]
    },
    {
      "cell_type": "markdown",
      "metadata": {
        "id": "KkjdXMwy59Yp"
      },
      "source": [
        "## Create a TF-IDF matrix from our documents."
      ]
    },
    {
      "cell_type": "code",
      "execution_count": 5,
      "metadata": {
        "id": "cHHeaev259Yq"
      },
      "outputs": [],
      "source": [
        "# Create an instance of the TfidfVectorizer and set the max_df to 0.95 and min_df to 10, and use the English stopwords to be ignored.\n",
        "vectorizer = TfidfVectorizer(max_df=0.95,min_df=10,stop_words='english')"
      ]
    },
    {
      "cell_type": "code",
      "execution_count": 6,
      "metadata": {
        "colab": {
          "base_uri": "https://localhost:8080/"
        },
        "id": "2B_2j6Xb59Yq",
        "outputId": "8fb0f441-0099-471a-ef0c-68357039d2a7"
      },
      "outputs": [
        {
          "output_type": "execute_result",
          "data": {
            "text/plain": [
              "(23377, 3149)"
            ]
          },
          "metadata": {},
          "execution_count": 6
        }
      ],
      "source": [
        "# Transform each row from the headlines Series to a DTM.\n",
        "dtm = vectorizer.fit_transform(news_articles_df[\"headline\"])\n",
        "# Get the shape of the DTM.\n",
        "dtm.shape"
      ]
    },
    {
      "cell_type": "code",
      "execution_count": null,
      "metadata": {
        "id": "Z67DUS1059Yq",
        "outputId": "c650c1ac-3f55-423a-cf9b-c3a4e47b7770"
      },
      "outputs": [
        {
          "name": "stdout",
          "output_type": "stream",
          "text": [
            "  (0, 183)\t0.6345657383532866\n",
            "  (0, 3131)\t0.5447013164784799\n",
            "  (0, 3138)\t0.5482944460185232\n",
            "  (1, 1881)\t0.35546248241584566\n",
            "  (1, 1831)\t0.4901265408973161\n",
            "  (1, 677)\t0.46003283951735585\n",
            "  (1, 1220)\t0.4113174150555592\n",
            "  (1, 2510)\t0.5026033904983209\n",
            "  (2, 2981)\t0.4263827647977379\n",
            "  (2, 1892)\t0.3375155487496725\n",
            "  (2, 2725)\t0.6290303789178769\n",
            "  (2, 2749)\t0.5555193737702372\n",
            "  (3, 168)\t0.8128170960317599\n",
            "  (3, 2414)\t0.5825189854403862\n",
            "  (4, 1949)\t0.3359899169063007\n",
            "  (4, 2158)\t0.4724418120156065\n",
            "  (4, 2081)\t0.38124866781045463\n",
            "  (4, 2327)\t0.3818919620518235\n",
            "  (4, 1281)\t0.4127191813776179\n",
            "  (4, 3060)\t0.4498670580656673\n",
            "  (5, 1618)\t0.35810060060128407\n",
            "  (5, 1681)\t0.3894063836492395\n",
            "  (5, 1182)\t0.4127062165437718\n",
            "  (5, 277)\t0.4026181555145373\n",
            "  (5, 2228)\t0.30472503847033977\n",
            "  :\t:\n",
            "  (23371, 1702)\t0.4830356653587415\n",
            "  (23371, 2781)\t0.4443808362877062\n",
            "  (23371, 2277)\t0.3677085237137301\n",
            "  (23371, 2963)\t0.4044727605382417\n",
            "  (23371, 255)\t0.3064420691643532\n",
            "  (23372, 2630)\t0.452129735249142\n",
            "  (23372, 53)\t0.4628007913624749\n",
            "  (23372, 769)\t0.37675152794760824\n",
            "  (23372, 1268)\t0.36839652806315726\n",
            "  (23372, 256)\t0.39862775908167214\n",
            "  (23372, 3132)\t0.3114061851456503\n",
            "  (23372, 2901)\t0.21876588367594865\n",
            "  (23373, 1544)\t1.0\n",
            "  (23374, 86)\t1.0\n",
            "  (23375, 647)\t0.5578600571569962\n",
            "  (23375, 2714)\t0.5033312540967919\n",
            "  (23375, 822)\t0.36006099269063996\n",
            "  (23375, 2291)\t0.48158456227378155\n",
            "  (23375, 2901)\t0.271812796240988\n",
            "  (23376, 1003)\t0.42358641576598555\n",
            "  (23376, 2674)\t0.5067298206032984\n",
            "  (23376, 500)\t0.38384249902422307\n",
            "  (23376, 1311)\t0.3910343387965926\n",
            "  (23376, 1079)\t0.30269215474415806\n",
            "  (23376, 615)\t0.41464922352630074\n"
          ]
        }
      ],
      "source": [
        "# Print the sparse matrix of the transformed data.\n",
        "# We have 23,377 documents, the first number in the tuple represents the document number.\n",
        "# The second number in the tuple represents the index of the word in the vocabulary created by fit_transform.\n",
        "# The last number represents the value of the TF-IDF score for the vocabulary word.\n"
      ]
    },
    {
      "cell_type": "code",
      "execution_count": 7,
      "metadata": {
        "colab": {
          "base_uri": "https://localhost:8080/"
        },
        "id": "jza-zhsC59Yq",
        "outputId": "e842a261-654f-4d5a-c25f-4c38163daf5e"
      },
      "outputs": [
        {
          "output_type": "stream",
          "name": "stdout",
          "text": [
            "The word : bachelor - index : 183 - count : 0.6345657383532867\n",
            "The word : yearold - index : 3131 - count : 0.5447013164784797\n",
            "The word : young - index : 3138 - count : 0.5482944460185232\n"
          ]
        }
      ],
      "source": [
        "# Get the feature names (words) from the TfidfVectorizer\n",
        "\n",
        "# Get all the non-zero elements from the first row.\n",
        "\n",
        "\n",
        "# Get the indices for each non-zero element.\n",
        "\n",
        "\n",
        "# Print out the word and the number of times the word is in the row.\n",
        "# Get the feature names (words) from the CountVectorizer\n",
        "feature_names = vectorizer.get_feature_names_out()\n",
        "\n",
        "# Get all the non-zero elements from the first row.\n",
        "non_zero_elements = dtm.toarray()[0]\n",
        "\n",
        "# Get the indices for each non-zero element.\n",
        "non_zero_indices = non_zero_elements.nonzero()[0]\n",
        "\n",
        "# Print out the word and the number of times the word is in the row.\n",
        "for i in non_zero_indices:\n",
        "   print(f\"The word : {feature_names[i]} - index : {i} - count : {non_zero_elements[i]}\")\n"
      ]
    },
    {
      "cell_type": "markdown",
      "metadata": {
        "id": "6N4HwKXY59Yq"
      },
      "source": [
        "## Applying NMF"
      ]
    },
    {
      "cell_type": "code",
      "execution_count": 8,
      "metadata": {
        "id": "HADyXw8M59Yr"
      },
      "outputs": [],
      "source": [
        "# Initialize the NMF and set the number of topics to 7.\n",
        "\n",
        "# Fit the model with our DTM data.\n",
        "\n",
        "NMF_model = NMF(n_components=7, random_state = 45)\n",
        "# Fit the model with our DTM data. This may take awhile if you have a large amount of documents.\n",
        "NMF_data = NMF_model.fit(dtm)\n"
      ]
    },
    {
      "cell_type": "code",
      "execution_count": 9,
      "metadata": {
        "colab": {
          "base_uri": "https://localhost:8080/"
        },
        "id": "qDDNBE8b59Yr",
        "outputId": "1d411abb-ed7e-42a0-bdcb-6ef7146477da"
      },
      "outputs": [
        {
          "output_type": "stream",
          "name": "stdout",
          "text": [
            "3149\n",
            "3149\n",
            "3149\n",
            "3149\n",
            "3149\n",
            "3149\n",
            "3149\n"
          ]
        }
      ],
      "source": [
        "# Get the length of the array of each topic. It should be the same as the vocabulary.\n",
        "for index, topic in enumerate(NMF_data.components_):\n",
        "  print(len(NMF_data.components_[index]))"
      ]
    },
    {
      "cell_type": "code",
      "execution_count": 11,
      "metadata": {
        "colab": {
          "base_uri": "https://localhost:8080/"
        },
        "id": "zkfzlb4A59Yr",
        "outputId": "6b5514ab-ce8d-4b50-a3f2-04b267a171c5"
      },
      "outputs": [
        {
          "output_type": "stream",
          "name": "stdout",
          "text": [
            "[0.00013266 0.00022071 0.         ... 0.00100991 0.         0.        ]\n"
          ]
        }
      ],
      "source": [
        "# Get the array of the first topic\n",
        "first_topic = NMF_data.components_[0]\n",
        "\n",
        "# This is the ranking of each word in the array. Lower values have less impact than higher values.\n",
        "print(first_topic)"
      ]
    },
    {
      "cell_type": "code",
      "execution_count": 14,
      "metadata": {
        "colab": {
          "base_uri": "https://localhost:8080/"
        },
        "id": "cCw3stgw59Yr",
        "outputId": "24ea49ef-e934-4ae2-a677-a12e69220f2e"
      },
      "outputs": [
        {
          "output_type": "stream",
          "name": "stdout",
          "text": [
            "[ 247 3114   94 1079   97 1336 1960 3115 2295  210]\n"
          ]
        }
      ],
      "source": [
        "# Get the indices of the top ten words for the first topic (e.g., top 10 words for topic 0):\n",
        "sorted_first_topic = np.argsort(-first_topic)\n",
        "top_word = first_topic.argsort()[-10:][::-1]\n",
        "print(top_word)"
      ]
    },
    {
      "cell_type": "code",
      "execution_count": 16,
      "metadata": {
        "colab": {
          "base_uri": "https://localhost:8080/"
        },
        "id": "PhAroVJl59Yr",
        "outputId": "2fd11b21-2b45-49f0-e0c2-9b87124bd864"
      },
      "outputs": [
        {
          "output_type": "stream",
          "name": "stdout",
          "text": [
            "best\n",
            "world\n",
            "america\n",
            "food\n",
            "americas\n",
            "hotels\n",
            "order\n",
            "worlds\n",
            "restaurants\n",
            "bars\n"
          ]
        }
      ],
      "source": [
        "# Get the top ten words from the indices.\n",
        "for i in top_word:\n",
        "  print(vectorizer.get_feature_names_out()[i])"
      ]
    },
    {
      "cell_type": "code",
      "execution_count": 17,
      "metadata": {
        "colab": {
          "base_uri": "https://localhost:8080/"
        },
        "id": "b8I2icqa59Ys",
        "outputId": "1ddd78b9-f215-4267-edff-b26a206741dd"
      },
      "outputs": [
        {
          "output_type": "stream",
          "name": "stdout",
          "text": [
            "topic 1 top 30 words \n",
            "['best', 'world', 'america', 'food', 'americas', 'hotels', 'order', 'worlds', 'restaurants', 'bars', 'cities', 'places', 'worst', 'time', 'taste', 'deals', 'beaches', 'according', 'deathmatch', 'eat', 'test', 'black', 'ways', 'foods', 'huffpost', 'cheese', 'friday', 'hotel', 'things', 'way']\n",
            "topic 2 top 30 words \n",
            "['new', 'york', 'watch', 'week', 'apple', 'city', 'thats', 'video', 'iphone', 'years', 'videos', 'youtube', 'just', 'world', 'amazon', 'like', 'orleans', 'hulu', 'game', 'year', 'prime', 'netflix', 'heres', 'love', 'shows', 'ad', 'time', 'rumors', 'tech', 'trailer']\n",
            "topic 3 top 30 words \n",
            "['photos', 'recipes', 'make', 'food', 'like', 'dessert', 'love', 'cheese', 'cook', 'eat', 'better', 'order', 'favorite', 'need', 'cream', 'ways', 'things', 'summer', 'worst', 'ice', 'easy', 'time', 'dinner', 'instagram', 'italian', 'coffee', 'taste', 'fall', 'chocolate', 'breakfast']\n",
            "topic 4 top 30 words \n",
            "['trump', 'donald', 'says', 'twitter', 'house', 'trumps', 'biden', 'white', 'gop', 'covid', 'report', 'just', 'joe', 'people', 'news', 'coronavirus', 'president', 'john', 'hes', 'melania', 'nfl', 'election', 'mueller', 'administration', 'million', 'users', 'calls', 'fox', 'wont', 'giuliani']\n",
            "topic 5 top 30 words \n",
            "['business', 'women', 'qa', 'ceo', 'founder', 'president', 'director', 'cofounder', 'marketing', 'chief', 'officer', 'vice', 'executive', 'make', 'way', 'partner', 'ways', 'company', 'men', 'small', 'sexual', 'leaders', 'uber', 'better', 'model', 'big', 'know', 'need', 'things', 'pay']\n",
            "topic 6 top 30 words \n",
            "['day', 'recipe', 'make', 'need', 'cake', 'valentines', 'chocolate', 'chicken', 'salad', 'youll', 'video', 'national', 'labor', 'ride', 'soup', 'corn', 'fathers', 'perfect', 'potato', 'pie', 'mothers', 'cream', 'st', 'chips', 'bread', 'stuffed', 'zucchini', 'weekend', 'just', 'grilled']\n",
            "topic 7 top 30 words \n",
            "['travel', 'make', 'ways', 'tips', 'zen', 'weekly', 'know', 'reasons', 'world', 'things', 'need', 'dont', 'destinations', 'way', 'summer', 'better', 'time', 'places', 'want', 'year', 'save', 'holiday', 'apps', 'hacks', 'trip', 'didnt', 'people', 'like', 'vacation', 'insurance']\n"
          ]
        }
      ],
      "source": [
        "# Print the top 30 words for each topic\n",
        "for i,topic in enumerate(NMF_data.components_):\n",
        "  print(f\"topic {i+1} top 30 words \" )\n",
        "  print ([vectorizer.get_feature_names_out()[j] for j in topic.argsort()[-30:][::-1]])"
      ]
    },
    {
      "cell_type": "markdown",
      "metadata": {
        "id": "l3guOb3r59Ys"
      },
      "source": [
        "### Taking our best guess at the topics.\n",
        "---\n",
        "- TOPIC 1:\n",
        "- TOPIC 2:\n",
        "- TOPIC 3:\n",
        "- TOPIC 4:\n",
        "- TOPIC 5:\n",
        "- TOPIC 6:\n",
        "- TOPIC 7:"
      ]
    },
    {
      "cell_type": "markdown",
      "metadata": {
        "id": "0UfSoGvW59Ys"
      },
      "source": [
        "## Assigning the Topic to the Headline"
      ]
    },
    {
      "cell_type": "code",
      "execution_count": null,
      "metadata": {
        "id": "F5OUScds59Ys",
        "outputId": "ea9eaccd-efef-4de4-a245-c084ab72dae7"
      },
      "outputs": [
        {
          "data": {
            "text/plain": [
              "(23377, 7)"
            ]
          },
          "execution_count": 14,
          "metadata": {},
          "output_type": "execute_result"
        }
      ],
      "source": [
        "# Transform our DTM so we get an array with the (number_of_documents, number_of_topics).\n",
        "\n",
        "\n",
        "# Get the shape of the topic results\n"
      ]
    },
    {
      "cell_type": "code",
      "execution_count": null,
      "metadata": {
        "id": "hByJipoM59Ys",
        "outputId": "0b12bdd9-57bd-433e-cdec-b07fa7b3feb0"
      },
      "outputs": [
        {
          "name": "stdout",
          "output_type": "stream",
          "text": [
            "Ranking of topics for the first headline:\n",
            "   Rank 1: Topic 7, Probability: 0.002277\n",
            "   Rank 2: Topic 4, Probability: 0.001495\n",
            "   Rank 3: Topic 2, Probability: 0.001041\n",
            "   Rank 4: Topic 5, Probability: 0.000894\n",
            "   Rank 5: Topic 3, Probability: 0.000472\n",
            "   Rank 6: Topic 1, Probability: 0.000284\n",
            "   Rank 7: Topic 6, Probability: 0.000208\n"
          ]
        }
      ],
      "source": [
        "# Get the sorted indices for each topic in the first headline.\n",
        "\n",
        "# Print the ranking of topics for the headline\n"
      ]
    },
    {
      "cell_type": "code",
      "execution_count": null,
      "metadata": {
        "id": "vfsFCTFf59Ys"
      },
      "outputs": [],
      "source": [
        "# Read in our original news headlines.\n",
        "\n",
        "# Combine the original data with the topic label.\n"
      ]
    },
    {
      "cell_type": "code",
      "execution_count": null,
      "metadata": {
        "id": "3nLOfUVV59Ys",
        "outputId": "04ac7de8-d4a1-4983-983b-ae560da4483d"
      },
      "outputs": [
        {
          "data": {
            "text/html": [
              "<div>\n",
              "<style scoped>\n",
              "    .dataframe tbody tr th:only-of-type {\n",
              "        vertical-align: middle;\n",
              "    }\n",
              "\n",
              "    .dataframe tbody tr th {\n",
              "        vertical-align: top;\n",
              "    }\n",
              "\n",
              "    .dataframe thead th {\n",
              "        text-align: right;\n",
              "    }\n",
              "</style>\n",
              "<table border=\"1\" class=\"dataframe\">\n",
              "  <thead>\n",
              "    <tr style=\"text-align: right;\">\n",
              "      <th></th>\n",
              "      <th>headline</th>\n",
              "      <th>topic</th>\n",
              "    </tr>\n",
              "  </thead>\n",
              "  <tbody>\n",
              "    <tr>\n",
              "      <th>0</th>\n",
              "      <td>Is 22 Too Young To Marry A 36-Year-Old? 'The Bachelor' Investigates</td>\n",
              "      <td>7</td>\n",
              "    </tr>\n",
              "    <tr>\n",
              "      <th>1</th>\n",
              "      <td>The Only Shopping Guide For Cyber Monday You Need</td>\n",
              "      <td>7</td>\n",
              "    </tr>\n",
              "    <tr>\n",
              "      <th>2</th>\n",
              "      <td>Taylor Swift Dances When No One Can See Her In New 'Delicate' Video</td>\n",
              "      <td>2</td>\n",
              "    </tr>\n",
              "    <tr>\n",
              "      <th>3</th>\n",
              "      <td>How To Say 'Cheers' In 20 Languages (AUDIO)</td>\n",
              "      <td>4</td>\n",
              "    </tr>\n",
              "    <tr>\n",
              "      <th>4</th>\n",
              "      <td>'Welcome To Hell': Rio Police Warn They Can't Promise Olympic Protection</td>\n",
              "      <td>4</td>\n",
              "    </tr>\n",
              "    <tr>\n",
              "      <th>5</th>\n",
              "      <td>Conservative Pundit Points Out Where Real Blame For GOP’s ‘Descent Into Madness’ Lies</td>\n",
              "      <td>4</td>\n",
              "    </tr>\n",
              "    <tr>\n",
              "      <th>6</th>\n",
              "      <td>We Asked The American Public To Settle 5 Of The Internet's Dumbest Debates</td>\n",
              "      <td>4</td>\n",
              "    </tr>\n",
              "    <tr>\n",
              "      <th>7</th>\n",
              "      <td>'Teen Mom OG's' Catelynn Lowell Heads To Treatment Over Suicidal Thoughts</td>\n",
              "      <td>4</td>\n",
              "    </tr>\n",
              "    <tr>\n",
              "      <th>8</th>\n",
              "      <td>The Major Problem With Electric Cars | TIME.com</td>\n",
              "      <td>4</td>\n",
              "    </tr>\n",
              "    <tr>\n",
              "      <th>9</th>\n",
              "      <td>Why Is Nobel-Winning Economist Richard Thaler So Jovial?</td>\n",
              "      <td>4</td>\n",
              "    </tr>\n",
              "  </tbody>\n",
              "</table>\n",
              "</div>"
            ],
            "text/plain": [
              "                                                                                headline  \\\n",
              "0                    Is 22 Too Young To Marry A 36-Year-Old? 'The Bachelor' Investigates   \n",
              "1                                      The Only Shopping Guide For Cyber Monday You Need   \n",
              "2                    Taylor Swift Dances When No One Can See Her In New 'Delicate' Video   \n",
              "3                                            How To Say 'Cheers' In 20 Languages (AUDIO)   \n",
              "4               'Welcome To Hell': Rio Police Warn They Can't Promise Olympic Protection   \n",
              "5  Conservative Pundit Points Out Where Real Blame For GOP’s ‘Descent Into Madness’ Lies   \n",
              "6             We Asked The American Public To Settle 5 Of The Internet's Dumbest Debates   \n",
              "7              'Teen Mom OG's' Catelynn Lowell Heads To Treatment Over Suicidal Thoughts   \n",
              "8                                        The Major Problem With Electric Cars | TIME.com   \n",
              "9                               Why Is Nobel-Winning Economist Richard Thaler So Jovial?   \n",
              "\n",
              "   topic  \n",
              "0      7  \n",
              "1      7  \n",
              "2      2  \n",
              "3      4  \n",
              "4      4  \n",
              "5      4  \n",
              "6      4  \n",
              "7      4  \n",
              "8      4  \n",
              "9      4  "
            ]
          },
          "execution_count": 17,
          "metadata": {},
          "output_type": "execute_result"
        }
      ],
      "source": [
        "# Get the first 10 rows.\n"
      ]
    },
    {
      "cell_type": "code",
      "execution_count": null,
      "metadata": {
        "id": "uUNSfFV559Ys",
        "outputId": "530027c2-100c-4ec6-9330-6b986eb861eb"
      },
      "outputs": [
        {
          "data": {
            "text/html": [
              "<div>\n",
              "<style scoped>\n",
              "    .dataframe tbody tr th:only-of-type {\n",
              "        vertical-align: middle;\n",
              "    }\n",
              "\n",
              "    .dataframe tbody tr th {\n",
              "        vertical-align: top;\n",
              "    }\n",
              "\n",
              "    .dataframe thead th {\n",
              "        text-align: right;\n",
              "    }\n",
              "</style>\n",
              "<table border=\"1\" class=\"dataframe\">\n",
              "  <thead>\n",
              "    <tr style=\"text-align: right;\">\n",
              "      <th></th>\n",
              "      <th>headline</th>\n",
              "      <th>topic</th>\n",
              "    </tr>\n",
              "  </thead>\n",
              "  <tbody>\n",
              "    <tr>\n",
              "      <th>23367</th>\n",
              "      <td>These Are 33 Of The Best, Most Iconic American Foods</td>\n",
              "      <td>1</td>\n",
              "    </tr>\n",
              "    <tr>\n",
              "      <th>23368</th>\n",
              "      <td>Does Your Marketing Plan Need an Exit Strategy?</td>\n",
              "      <td>7</td>\n",
              "    </tr>\n",
              "    <tr>\n",
              "      <th>23369</th>\n",
              "      <td>Summer Fancy Food Show, Part I</td>\n",
              "      <td>3</td>\n",
              "    </tr>\n",
              "    <tr>\n",
              "      <th>23370</th>\n",
              "      <td>7 Reasons to Include Galapagos Islands on Your Bucket List</td>\n",
              "      <td>7</td>\n",
              "    </tr>\n",
              "    <tr>\n",
              "      <th>23371</th>\n",
              "      <td>Biden To Republicans Threatening To Challenge Vaccine, Testing Mandates: ‘Have At It’</td>\n",
              "      <td>4</td>\n",
              "    </tr>\n",
              "    <tr>\n",
              "      <th>23372</th>\n",
              "      <td>Biden's Health Agenda Starts With Reversing Everything Trump Did In The Last 4 Years</td>\n",
              "      <td>4</td>\n",
              "    </tr>\n",
              "    <tr>\n",
              "      <th>23373</th>\n",
              "      <td>You Know Where You Are From the Very First Bite</td>\n",
              "      <td>7</td>\n",
              "    </tr>\n",
              "    <tr>\n",
              "      <th>23374</th>\n",
              "      <td>9 Cheeses We Would Happily Marry, If That Was Allowed</td>\n",
              "      <td>6</td>\n",
              "    </tr>\n",
              "    <tr>\n",
              "      <th>23375</th>\n",
              "      <td>Donald Trump Has A Surprising Response To Golfer Rory McIlroy's Criticism</td>\n",
              "      <td>4</td>\n",
              "    </tr>\n",
              "    <tr>\n",
              "      <th>23376</th>\n",
              "      <td>Fast Food Strikes Hit Cities Throughout The Country</td>\n",
              "      <td>3</td>\n",
              "    </tr>\n",
              "  </tbody>\n",
              "</table>\n",
              "</div>"
            ],
            "text/plain": [
              "                                                                                    headline  \\\n",
              "23367                                   These Are 33 Of The Best, Most Iconic American Foods   \n",
              "23368                                        Does Your Marketing Plan Need an Exit Strategy?   \n",
              "23369                                                         Summer Fancy Food Show, Part I   \n",
              "23370                             7 Reasons to Include Galapagos Islands on Your Bucket List   \n",
              "23371  Biden To Republicans Threatening To Challenge Vaccine, Testing Mandates: ‘Have At It’   \n",
              "23372   Biden's Health Agenda Starts With Reversing Everything Trump Did In The Last 4 Years   \n",
              "23373                                        You Know Where You Are From the Very First Bite   \n",
              "23374                                  9 Cheeses We Would Happily Marry, If That Was Allowed   \n",
              "23375              Donald Trump Has A Surprising Response To Golfer Rory McIlroy's Criticism   \n",
              "23376                                    Fast Food Strikes Hit Cities Throughout The Country   \n",
              "\n",
              "       topic  \n",
              "23367      1  \n",
              "23368      7  \n",
              "23369      3  \n",
              "23370      7  \n",
              "23371      4  \n",
              "23372      4  \n",
              "23373      7  \n",
              "23374      6  \n",
              "23375      4  \n",
              "23376      3  "
            ]
          },
          "execution_count": 18,
          "metadata": {},
          "output_type": "execute_result"
        }
      ],
      "source": [
        "# Get the last 10 rows.\n"
      ]
    },
    {
      "cell_type": "code",
      "execution_count": null,
      "metadata": {
        "id": "gnajcw-N59Ys"
      },
      "outputs": [],
      "source": []
    }
  ],
  "metadata": {
    "kernelspec": {
      "display_name": "Python 3 (ipykernel)",
      "language": "python",
      "name": "python3"
    },
    "language_info": {
      "codemirror_mode": {
        "name": "ipython",
        "version": 3
      },
      "file_extension": ".py",
      "mimetype": "text/x-python",
      "name": "python",
      "nbconvert_exporter": "python",
      "pygments_lexer": "ipython3",
      "version": "3.10.12"
    },
    "colab": {
      "provenance": [],
      "include_colab_link": true
    }
  },
  "nbformat": 4,
  "nbformat_minor": 0
}