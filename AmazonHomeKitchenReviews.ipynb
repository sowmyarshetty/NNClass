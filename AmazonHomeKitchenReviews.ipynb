{
  "nbformat": 4,
  "nbformat_minor": 0,
  "metadata": {
    "colab": {
      "provenance": [],
      "machine_shape": "hm",
      "gpuType": "A100",
      "authorship_tag": "ABX9TyNsfBugjIXg3jr97vBdd0gt",
      "include_colab_link": true
    },
    "kernelspec": {
      "name": "python3",
      "display_name": "Python 3"
    },
    "language_info": {
      "name": "python"
    },
    "accelerator": "GPU"
  },
  "cells": [
    {
      "cell_type": "markdown",
      "metadata": {
        "id": "view-in-github",
        "colab_type": "text"
      },
      "source": [
        "<a href=\"https://colab.research.google.com/github/sowmyarshetty/NNClass/blob/main/AmazonHomeKitchenReviews.ipynb\" target=\"_parent\"><img src=\"https://colab.research.google.com/assets/colab-badge.svg\" alt=\"Open In Colab\"/></a>"
      ]
    },
    {
      "cell_type": "code",
      "source": [
        "!pip install BERTopic"
      ],
      "metadata": {
        "colab": {
          "base_uri": "https://localhost:8080/"
        },
        "id": "PclZc23p7xUe",
        "outputId": "71f07fcd-eca3-4dd7-b621-89993753afe8"
      },
      "execution_count": 4,
      "outputs": [
        {
          "output_type": "stream",
          "name": "stdout",
          "text": [
            "Collecting BERTopic\n",
            "  Downloading bertopic-0.17.0-py3-none-any.whl.metadata (23 kB)\n",
            "Requirement already satisfied: hdbscan>=0.8.29 in /usr/local/lib/python3.11/dist-packages (from BERTopic) (0.8.40)\n",
            "Requirement already satisfied: numpy>=1.20.0 in /usr/local/lib/python3.11/dist-packages (from BERTopic) (2.0.2)\n",
            "Requirement already satisfied: pandas>=1.1.5 in /usr/local/lib/python3.11/dist-packages (from BERTopic) (2.2.2)\n",
            "Requirement already satisfied: plotly>=4.7.0 in /usr/local/lib/python3.11/dist-packages (from BERTopic) (5.24.1)\n",
            "Requirement already satisfied: scikit-learn>=1.0 in /usr/local/lib/python3.11/dist-packages (from BERTopic) (1.6.1)\n",
            "Requirement already satisfied: sentence-transformers>=0.4.1 in /usr/local/lib/python3.11/dist-packages (from BERTopic) (3.4.1)\n",
            "Requirement already satisfied: tqdm>=4.41.1 in /usr/local/lib/python3.11/dist-packages (from BERTopic) (4.67.1)\n",
            "Requirement already satisfied: umap-learn>=0.5.0 in /usr/local/lib/python3.11/dist-packages (from BERTopic) (0.5.7)\n",
            "Requirement already satisfied: scipy>=1.0 in /usr/local/lib/python3.11/dist-packages (from hdbscan>=0.8.29->BERTopic) (1.14.1)\n",
            "Requirement already satisfied: joblib>=1.0 in /usr/local/lib/python3.11/dist-packages (from hdbscan>=0.8.29->BERTopic) (1.4.2)\n",
            "Requirement already satisfied: python-dateutil>=2.8.2 in /usr/local/lib/python3.11/dist-packages (from pandas>=1.1.5->BERTopic) (2.8.2)\n",
            "Requirement already satisfied: pytz>=2020.1 in /usr/local/lib/python3.11/dist-packages (from pandas>=1.1.5->BERTopic) (2025.1)\n",
            "Requirement already satisfied: tzdata>=2022.7 in /usr/local/lib/python3.11/dist-packages (from pandas>=1.1.5->BERTopic) (2025.1)\n",
            "Requirement already satisfied: tenacity>=6.2.0 in /usr/local/lib/python3.11/dist-packages (from plotly>=4.7.0->BERTopic) (9.0.0)\n",
            "Requirement already satisfied: packaging in /usr/local/lib/python3.11/dist-packages (from plotly>=4.7.0->BERTopic) (24.2)\n",
            "Requirement already satisfied: threadpoolctl>=3.1.0 in /usr/local/lib/python3.11/dist-packages (from scikit-learn>=1.0->BERTopic) (3.6.0)\n",
            "Requirement already satisfied: transformers<5.0.0,>=4.41.0 in /usr/local/lib/python3.11/dist-packages (from sentence-transformers>=0.4.1->BERTopic) (4.50.0)\n",
            "Requirement already satisfied: torch>=1.11.0 in /usr/local/lib/python3.11/dist-packages (from sentence-transformers>=0.4.1->BERTopic) (2.6.0+cu124)\n",
            "Requirement already satisfied: huggingface-hub>=0.20.0 in /usr/local/lib/python3.11/dist-packages (from sentence-transformers>=0.4.1->BERTopic) (0.29.3)\n",
            "Requirement already satisfied: Pillow in /usr/local/lib/python3.11/dist-packages (from sentence-transformers>=0.4.1->BERTopic) (11.1.0)\n",
            "Requirement already satisfied: numba>=0.51.2 in /usr/local/lib/python3.11/dist-packages (from umap-learn>=0.5.0->BERTopic) (0.60.0)\n",
            "Requirement already satisfied: pynndescent>=0.5 in /usr/local/lib/python3.11/dist-packages (from umap-learn>=0.5.0->BERTopic) (0.5.13)\n",
            "Requirement already satisfied: filelock in /usr/local/lib/python3.11/dist-packages (from huggingface-hub>=0.20.0->sentence-transformers>=0.4.1->BERTopic) (3.18.0)\n",
            "Requirement already satisfied: fsspec>=2023.5.0 in /usr/local/lib/python3.11/dist-packages (from huggingface-hub>=0.20.0->sentence-transformers>=0.4.1->BERTopic) (2025.3.0)\n",
            "Requirement already satisfied: pyyaml>=5.1 in /usr/local/lib/python3.11/dist-packages (from huggingface-hub>=0.20.0->sentence-transformers>=0.4.1->BERTopic) (6.0.2)\n",
            "Requirement already satisfied: requests in /usr/local/lib/python3.11/dist-packages (from huggingface-hub>=0.20.0->sentence-transformers>=0.4.1->BERTopic) (2.32.3)\n",
            "Requirement already satisfied: typing-extensions>=3.7.4.3 in /usr/local/lib/python3.11/dist-packages (from huggingface-hub>=0.20.0->sentence-transformers>=0.4.1->BERTopic) (4.12.2)\n",
            "Requirement already satisfied: llvmlite<0.44,>=0.43.0dev0 in /usr/local/lib/python3.11/dist-packages (from numba>=0.51.2->umap-learn>=0.5.0->BERTopic) (0.43.0)\n",
            "Requirement already satisfied: six>=1.5 in /usr/local/lib/python3.11/dist-packages (from python-dateutil>=2.8.2->pandas>=1.1.5->BERTopic) (1.17.0)\n",
            "Requirement already satisfied: networkx in /usr/local/lib/python3.11/dist-packages (from torch>=1.11.0->sentence-transformers>=0.4.1->BERTopic) (3.4.2)\n",
            "Requirement already satisfied: jinja2 in /usr/local/lib/python3.11/dist-packages (from torch>=1.11.0->sentence-transformers>=0.4.1->BERTopic) (3.1.6)\n",
            "Collecting nvidia-cuda-nvrtc-cu12==12.4.127 (from torch>=1.11.0->sentence-transformers>=0.4.1->BERTopic)\n",
            "  Downloading nvidia_cuda_nvrtc_cu12-12.4.127-py3-none-manylinux2014_x86_64.whl.metadata (1.5 kB)\n",
            "Collecting nvidia-cuda-runtime-cu12==12.4.127 (from torch>=1.11.0->sentence-transformers>=0.4.1->BERTopic)\n",
            "  Downloading nvidia_cuda_runtime_cu12-12.4.127-py3-none-manylinux2014_x86_64.whl.metadata (1.5 kB)\n",
            "Collecting nvidia-cuda-cupti-cu12==12.4.127 (from torch>=1.11.0->sentence-transformers>=0.4.1->BERTopic)\n",
            "  Downloading nvidia_cuda_cupti_cu12-12.4.127-py3-none-manylinux2014_x86_64.whl.metadata (1.6 kB)\n",
            "Collecting nvidia-cudnn-cu12==9.1.0.70 (from torch>=1.11.0->sentence-transformers>=0.4.1->BERTopic)\n",
            "  Downloading nvidia_cudnn_cu12-9.1.0.70-py3-none-manylinux2014_x86_64.whl.metadata (1.6 kB)\n",
            "Collecting nvidia-cublas-cu12==12.4.5.8 (from torch>=1.11.0->sentence-transformers>=0.4.1->BERTopic)\n",
            "  Downloading nvidia_cublas_cu12-12.4.5.8-py3-none-manylinux2014_x86_64.whl.metadata (1.5 kB)\n",
            "Collecting nvidia-cufft-cu12==11.2.1.3 (from torch>=1.11.0->sentence-transformers>=0.4.1->BERTopic)\n",
            "  Downloading nvidia_cufft_cu12-11.2.1.3-py3-none-manylinux2014_x86_64.whl.metadata (1.5 kB)\n",
            "Collecting nvidia-curand-cu12==10.3.5.147 (from torch>=1.11.0->sentence-transformers>=0.4.1->BERTopic)\n",
            "  Downloading nvidia_curand_cu12-10.3.5.147-py3-none-manylinux2014_x86_64.whl.metadata (1.5 kB)\n",
            "Collecting nvidia-cusolver-cu12==11.6.1.9 (from torch>=1.11.0->sentence-transformers>=0.4.1->BERTopic)\n",
            "  Downloading nvidia_cusolver_cu12-11.6.1.9-py3-none-manylinux2014_x86_64.whl.metadata (1.6 kB)\n",
            "Collecting nvidia-cusparse-cu12==12.3.1.170 (from torch>=1.11.0->sentence-transformers>=0.4.1->BERTopic)\n",
            "  Downloading nvidia_cusparse_cu12-12.3.1.170-py3-none-manylinux2014_x86_64.whl.metadata (1.6 kB)\n",
            "Requirement already satisfied: nvidia-cusparselt-cu12==0.6.2 in /usr/local/lib/python3.11/dist-packages (from torch>=1.11.0->sentence-transformers>=0.4.1->BERTopic) (0.6.2)\n",
            "Requirement already satisfied: nvidia-nccl-cu12==2.21.5 in /usr/local/lib/python3.11/dist-packages (from torch>=1.11.0->sentence-transformers>=0.4.1->BERTopic) (2.21.5)\n",
            "Requirement already satisfied: nvidia-nvtx-cu12==12.4.127 in /usr/local/lib/python3.11/dist-packages (from torch>=1.11.0->sentence-transformers>=0.4.1->BERTopic) (12.4.127)\n",
            "Collecting nvidia-nvjitlink-cu12==12.4.127 (from torch>=1.11.0->sentence-transformers>=0.4.1->BERTopic)\n",
            "  Downloading nvidia_nvjitlink_cu12-12.4.127-py3-none-manylinux2014_x86_64.whl.metadata (1.5 kB)\n",
            "Requirement already satisfied: triton==3.2.0 in /usr/local/lib/python3.11/dist-packages (from torch>=1.11.0->sentence-transformers>=0.4.1->BERTopic) (3.2.0)\n",
            "Requirement already satisfied: sympy==1.13.1 in /usr/local/lib/python3.11/dist-packages (from torch>=1.11.0->sentence-transformers>=0.4.1->BERTopic) (1.13.1)\n",
            "Requirement already satisfied: mpmath<1.4,>=1.1.0 in /usr/local/lib/python3.11/dist-packages (from sympy==1.13.1->torch>=1.11.0->sentence-transformers>=0.4.1->BERTopic) (1.3.0)\n",
            "Requirement already satisfied: regex!=2019.12.17 in /usr/local/lib/python3.11/dist-packages (from transformers<5.0.0,>=4.41.0->sentence-transformers>=0.4.1->BERTopic) (2024.11.6)\n",
            "Requirement already satisfied: tokenizers<0.22,>=0.21 in /usr/local/lib/python3.11/dist-packages (from transformers<5.0.0,>=4.41.0->sentence-transformers>=0.4.1->BERTopic) (0.21.1)\n",
            "Requirement already satisfied: safetensors>=0.4.3 in /usr/local/lib/python3.11/dist-packages (from transformers<5.0.0,>=4.41.0->sentence-transformers>=0.4.1->BERTopic) (0.5.3)\n",
            "Requirement already satisfied: MarkupSafe>=2.0 in /usr/local/lib/python3.11/dist-packages (from jinja2->torch>=1.11.0->sentence-transformers>=0.4.1->BERTopic) (3.0.2)\n",
            "Requirement already satisfied: charset-normalizer<4,>=2 in /usr/local/lib/python3.11/dist-packages (from requests->huggingface-hub>=0.20.0->sentence-transformers>=0.4.1->BERTopic) (3.4.1)\n",
            "Requirement already satisfied: idna<4,>=2.5 in /usr/local/lib/python3.11/dist-packages (from requests->huggingface-hub>=0.20.0->sentence-transformers>=0.4.1->BERTopic) (3.10)\n",
            "Requirement already satisfied: urllib3<3,>=1.21.1 in /usr/local/lib/python3.11/dist-packages (from requests->huggingface-hub>=0.20.0->sentence-transformers>=0.4.1->BERTopic) (2.3.0)\n",
            "Requirement already satisfied: certifi>=2017.4.17 in /usr/local/lib/python3.11/dist-packages (from requests->huggingface-hub>=0.20.0->sentence-transformers>=0.4.1->BERTopic) (2025.1.31)\n",
            "Downloading bertopic-0.17.0-py3-none-any.whl (150 kB)\n",
            "\u001b[2K   \u001b[90m━━━━━━━━━━━━━━━━━━━━━━━━━━━━━━━━━━━━━━━━\u001b[0m \u001b[32m150.6/150.6 kB\u001b[0m \u001b[31m5.6 MB/s\u001b[0m eta \u001b[36m0:00:00\u001b[0m\n",
            "\u001b[?25hDownloading nvidia_cublas_cu12-12.4.5.8-py3-none-manylinux2014_x86_64.whl (363.4 MB)\n",
            "\u001b[2K   \u001b[90m━━━━━━━━━━━━━━━━━━━━━━━━━━━━━━━━━━━━━━━━\u001b[0m \u001b[32m363.4/363.4 MB\u001b[0m \u001b[31m3.9 MB/s\u001b[0m eta \u001b[36m0:00:00\u001b[0m\n",
            "\u001b[?25hDownloading nvidia_cuda_cupti_cu12-12.4.127-py3-none-manylinux2014_x86_64.whl (13.8 MB)\n",
            "\u001b[2K   \u001b[90m━━━━━━━━━━━━━━━━━━━━━━━━━━━━━━━━━━━━━━━━\u001b[0m \u001b[32m13.8/13.8 MB\u001b[0m \u001b[31m101.6 MB/s\u001b[0m eta \u001b[36m0:00:00\u001b[0m\n",
            "\u001b[?25hDownloading nvidia_cuda_nvrtc_cu12-12.4.127-py3-none-manylinux2014_x86_64.whl (24.6 MB)\n",
            "\u001b[2K   \u001b[90m━━━━━━━━━━━━━━━━━━━━━━━━━━━━━━━━━━━━━━━━\u001b[0m \u001b[32m24.6/24.6 MB\u001b[0m \u001b[31m73.4 MB/s\u001b[0m eta \u001b[36m0:00:00\u001b[0m\n",
            "\u001b[?25hDownloading nvidia_cuda_runtime_cu12-12.4.127-py3-none-manylinux2014_x86_64.whl (883 kB)\n",
            "\u001b[2K   \u001b[90m━━━━━━━━━━━━━━━━━━━━━━━━━━━━━━━━━━━━━━━━\u001b[0m \u001b[32m883.7/883.7 kB\u001b[0m \u001b[31m57.1 MB/s\u001b[0m eta \u001b[36m0:00:00\u001b[0m\n",
            "\u001b[?25hDownloading nvidia_cudnn_cu12-9.1.0.70-py3-none-manylinux2014_x86_64.whl (664.8 MB)\n",
            "\u001b[2K   \u001b[90m━━━━━━━━━━━━━━━━━━━━━━━━━━━━━━━━━━━━━━━━\u001b[0m \u001b[32m664.8/664.8 MB\u001b[0m \u001b[31m1.5 MB/s\u001b[0m eta \u001b[36m0:00:00\u001b[0m\n",
            "\u001b[?25hDownloading nvidia_cufft_cu12-11.2.1.3-py3-none-manylinux2014_x86_64.whl (211.5 MB)\n",
            "\u001b[2K   \u001b[90m━━━━━━━━━━━━━━━━━━━━━━━━━━━━━━━━━━━━━━━━\u001b[0m \u001b[32m211.5/211.5 MB\u001b[0m \u001b[31m10.1 MB/s\u001b[0m eta \u001b[36m0:00:00\u001b[0m\n",
            "\u001b[?25hDownloading nvidia_curand_cu12-10.3.5.147-py3-none-manylinux2014_x86_64.whl (56.3 MB)\n",
            "\u001b[2K   \u001b[90m━━━━━━━━━━━━━━━━━━━━━━━━━━━━━━━━━━━━━━━━\u001b[0m \u001b[32m56.3/56.3 MB\u001b[0m \u001b[31m34.7 MB/s\u001b[0m eta \u001b[36m0:00:00\u001b[0m\n",
            "\u001b[?25hDownloading nvidia_cusolver_cu12-11.6.1.9-py3-none-manylinux2014_x86_64.whl (127.9 MB)\n",
            "\u001b[2K   \u001b[90m━━━━━━━━━━━━━━━━━━━━━━━━━━━━━━━━━━━━━━━━\u001b[0m \u001b[32m127.9/127.9 MB\u001b[0m \u001b[31m4.5 MB/s\u001b[0m eta \u001b[36m0:00:00\u001b[0m\n",
            "\u001b[?25hDownloading nvidia_cusparse_cu12-12.3.1.170-py3-none-manylinux2014_x86_64.whl (207.5 MB)\n",
            "\u001b[2K   \u001b[90m━━━━━━━━━━━━━━━━━━━━━━━━━━━━━━━━━━━━━━━━\u001b[0m \u001b[32m207.5/207.5 MB\u001b[0m \u001b[31m11.3 MB/s\u001b[0m eta \u001b[36m0:00:00\u001b[0m\n",
            "\u001b[?25hDownloading nvidia_nvjitlink_cu12-12.4.127-py3-none-manylinux2014_x86_64.whl (21.1 MB)\n",
            "\u001b[2K   \u001b[90m━━━━━━━━━━━━━━━━━━━━━━━━━━━━━━━━━━━━━━━━\u001b[0m \u001b[32m21.1/21.1 MB\u001b[0m \u001b[31m94.6 MB/s\u001b[0m eta \u001b[36m0:00:00\u001b[0m\n",
            "\u001b[?25hInstalling collected packages: nvidia-nvjitlink-cu12, nvidia-curand-cu12, nvidia-cufft-cu12, nvidia-cuda-runtime-cu12, nvidia-cuda-nvrtc-cu12, nvidia-cuda-cupti-cu12, nvidia-cublas-cu12, nvidia-cusparse-cu12, nvidia-cudnn-cu12, nvidia-cusolver-cu12, BERTopic\n",
            "  Attempting uninstall: nvidia-nvjitlink-cu12\n",
            "    Found existing installation: nvidia-nvjitlink-cu12 12.5.82\n",
            "    Uninstalling nvidia-nvjitlink-cu12-12.5.82:\n",
            "      Successfully uninstalled nvidia-nvjitlink-cu12-12.5.82\n",
            "  Attempting uninstall: nvidia-curand-cu12\n",
            "    Found existing installation: nvidia-curand-cu12 10.3.6.82\n",
            "    Uninstalling nvidia-curand-cu12-10.3.6.82:\n",
            "      Successfully uninstalled nvidia-curand-cu12-10.3.6.82\n",
            "  Attempting uninstall: nvidia-cufft-cu12\n",
            "    Found existing installation: nvidia-cufft-cu12 11.2.3.61\n",
            "    Uninstalling nvidia-cufft-cu12-11.2.3.61:\n",
            "      Successfully uninstalled nvidia-cufft-cu12-11.2.3.61\n",
            "  Attempting uninstall: nvidia-cuda-runtime-cu12\n",
            "    Found existing installation: nvidia-cuda-runtime-cu12 12.5.82\n",
            "    Uninstalling nvidia-cuda-runtime-cu12-12.5.82:\n",
            "      Successfully uninstalled nvidia-cuda-runtime-cu12-12.5.82\n",
            "  Attempting uninstall: nvidia-cuda-nvrtc-cu12\n",
            "    Found existing installation: nvidia-cuda-nvrtc-cu12 12.5.82\n",
            "    Uninstalling nvidia-cuda-nvrtc-cu12-12.5.82:\n",
            "      Successfully uninstalled nvidia-cuda-nvrtc-cu12-12.5.82\n",
            "  Attempting uninstall: nvidia-cuda-cupti-cu12\n",
            "    Found existing installation: nvidia-cuda-cupti-cu12 12.5.82\n",
            "    Uninstalling nvidia-cuda-cupti-cu12-12.5.82:\n",
            "      Successfully uninstalled nvidia-cuda-cupti-cu12-12.5.82\n",
            "  Attempting uninstall: nvidia-cublas-cu12\n",
            "    Found existing installation: nvidia-cublas-cu12 12.5.3.2\n",
            "    Uninstalling nvidia-cublas-cu12-12.5.3.2:\n",
            "      Successfully uninstalled nvidia-cublas-cu12-12.5.3.2\n",
            "  Attempting uninstall: nvidia-cusparse-cu12\n",
            "    Found existing installation: nvidia-cusparse-cu12 12.5.1.3\n",
            "    Uninstalling nvidia-cusparse-cu12-12.5.1.3:\n",
            "      Successfully uninstalled nvidia-cusparse-cu12-12.5.1.3\n",
            "  Attempting uninstall: nvidia-cudnn-cu12\n",
            "    Found existing installation: nvidia-cudnn-cu12 9.3.0.75\n",
            "    Uninstalling nvidia-cudnn-cu12-9.3.0.75:\n",
            "      Successfully uninstalled nvidia-cudnn-cu12-9.3.0.75\n",
            "  Attempting uninstall: nvidia-cusolver-cu12\n",
            "    Found existing installation: nvidia-cusolver-cu12 11.6.3.83\n",
            "    Uninstalling nvidia-cusolver-cu12-11.6.3.83:\n",
            "      Successfully uninstalled nvidia-cusolver-cu12-11.6.3.83\n",
            "Successfully installed BERTopic-0.17.0 nvidia-cublas-cu12-12.4.5.8 nvidia-cuda-cupti-cu12-12.4.127 nvidia-cuda-nvrtc-cu12-12.4.127 nvidia-cuda-runtime-cu12-12.4.127 nvidia-cudnn-cu12-9.1.0.70 nvidia-cufft-cu12-11.2.1.3 nvidia-curand-cu12-10.3.5.147 nvidia-cusolver-cu12-11.6.1.9 nvidia-cusparse-cu12-12.3.1.170 nvidia-nvjitlink-cu12-12.4.127\n"
          ]
        }
      ]
    },
    {
      "cell_type": "code",
      "execution_count": 5,
      "metadata": {
        "id": "7OKv7TlaVDuY"
      },
      "outputs": [],
      "source": [
        "import pandas as pd\n",
        "import dask.dataframe as dd\n",
        "import gdown\n",
        "import re\n",
        "import numpy as np\n",
        "from sklearn.feature_extraction.text import CountVectorizer\n",
        "from sklearn.decomposition import LatentDirichletAllocation\n",
        "from bertopic import BERTopic\n",
        "from sentence_transformers import SentenceTransformer"
      ]
    },
    {
      "cell_type": "code",
      "source": [
        "# Mount Google Drive (For Colab Users)\n",
        "from google.colab import drive\n",
        "drive.mount('/content/drive')\n"
      ],
      "metadata": {
        "colab": {
          "base_uri": "https://localhost:8080/"
        },
        "id": "lm35v8Xx-3Jn",
        "outputId": "da9378c4-932e-40ac-f8fa-1375a9e1ba8d"
      },
      "execution_count": 6,
      "outputs": [
        {
          "output_type": "stream",
          "name": "stdout",
          "text": [
            "Mounted at /content/drive\n"
          ]
        }
      ]
    },
    {
      "cell_type": "markdown",
      "source": [],
      "metadata": {
        "id": "FIz7E3vW_Lm_"
      }
    },
    {
      "cell_type": "code",
      "source": [
        "metadatafileid = '1eo8HyJeC5_G9KCHItFsLdJWLcCPTsrS0'\n",
        "reviewsfileid = '1LFUK3el3oLgjcl1WKy-MzalCHh8xnJk5'\n",
        "metafilename = 'meta_Home_and_Kitchen_50k.jsonl'\n",
        "reviewsfilename = 'Home_and_Kitchen_1M.jsonl'\n",
        "\n",
        "metadataurl = f\"https://drive.google.com/uc?export=download&id={metadatafileid}\"\n",
        "reviewsurl = f\"https://drive.google.com/uc?export=download&id={reviewsfileid}\"\n",
        "\n",
        "gdown.download(metadataurl,metafilename, quiet=False)\n",
        "gdown.download(reviewsurl, reviewsfilename, quiet=False)\n",
        "\n"
      ],
      "metadata": {
        "colab": {
          "base_uri": "https://localhost:8080/",
          "height": 229
        },
        "id": "N2u7Btv9_JZC",
        "outputId": "70f5f9ec-35b5-448f-c8b5-12c6e8003447"
      },
      "execution_count": 7,
      "outputs": [
        {
          "output_type": "stream",
          "name": "stderr",
          "text": [
            "Downloading...\n",
            "From (original): https://drive.google.com/uc?export=download&id=1eo8HyJeC5_G9KCHItFsLdJWLcCPTsrS0\n",
            "From (redirected): https://drive.google.com/uc?export=download&id=1eo8HyJeC5_G9KCHItFsLdJWLcCPTsrS0&confirm=t&uuid=a648b428-16e9-4660-9502-d69ad7d4dfe0\n",
            "To: /content/meta_Home_and_Kitchen_50k.jsonl\n",
            "100%|██████████| 185M/185M [00:01<00:00, 144MB/s]\n",
            "Downloading...\n",
            "From (original): https://drive.google.com/uc?export=download&id=1LFUK3el3oLgjcl1WKy-MzalCHh8xnJk5\n",
            "From (redirected): https://drive.google.com/uc?export=download&id=1LFUK3el3oLgjcl1WKy-MzalCHh8xnJk5&confirm=t&uuid=bd73a497-0bf0-4815-b00e-f43e133b52b6\n",
            "To: /content/Home_and_Kitchen_1M.jsonl\n",
            "100%|██████████| 6.52G/6.52G [00:40<00:00, 160MB/s]\n"
          ]
        },
        {
          "output_type": "execute_result",
          "data": {
            "text/plain": [
              "'Home_and_Kitchen_1M.jsonl'"
            ],
            "application/vnd.google.colaboratory.intrinsic+json": {
              "type": "string"
            }
          },
          "metadata": {},
          "execution_count": 7
        }
      ]
    },
    {
      "cell_type": "markdown",
      "source": [
        "* Read the json files into dataframes"
      ],
      "metadata": {
        "id": "pwdcecevIGaQ"
      }
    },
    {
      "cell_type": "code",
      "source": [
        "df_meta = pd.read_json(metafilename,lines=True)\n",
        "df_reviews = pd.read_json(reviewsfilename,lines=True)\n"
      ],
      "metadata": {
        "id": "uPRFjrqLAbfP"
      },
      "execution_count": 8,
      "outputs": []
    },
    {
      "cell_type": "markdown",
      "source": [
        "\n",
        "\n",
        "*   Analyse the datasets\n",
        "\n",
        "\n"
      ],
      "metadata": {
        "id": "pPBfEocwH45Y"
      }
    },
    {
      "cell_type": "code",
      "source": [
        "print(df_meta.columns)\n",
        "print(df_reviews.columns)\n",
        "pd.set_option(\"display.max_colwidth\", None)\n",
        "print(df_meta.head(1))"
      ],
      "metadata": {
        "id": "o64ec0-EH4MN",
        "colab": {
          "base_uri": "https://localhost:8080/"
        },
        "outputId": "bb74add5-4526-4711-e351-70d2e3f83a92"
      },
      "execution_count": 9,
      "outputs": [
        {
          "output_type": "stream",
          "name": "stdout",
          "text": [
            "Index(['main_category', 'title', 'average_rating', 'rating_number', 'features',\n",
            "       'description', 'price', 'images', 'videos', 'store', 'categories',\n",
            "       'details', 'parent_asin', 'bought_together'],\n",
            "      dtype='object')\n",
            "Index(['rating', 'title', 'text', 'images', 'asin', 'parent_asin', 'user_id',\n",
            "       'timestamp', 'helpful_vote', 'verified_purchase'],\n",
            "      dtype='object')\n",
            "  main_category  \\\n",
            "0   Amazon Home   \n",
            "\n",
            "                                                                                                                                             title  \\\n",
            "0  Set of 4 Irish Coffee Glass Mugs Footed 10.5 oz.Thick Wall Glass For Coffee, tea, Cappuccinos, Mulled Ciders,Hot Chocolates, Ice cream and More   \n",
            "\n",
            "   average_rating  rating_number  \\\n",
            "0             4.6             18   \n",
            "\n",
            "                                                                                                                                                                                                                                                                                                                                                                                                                                                                                                                                                         features  \\\n",
            "0  [☕PERFECT IRISH COFFEE MUG: With our clear glass 10.5 ounce makes it a perfect mug for offering up your signature Coffee Drinks, Cappuccinos, Milk shakes, Dessert, Sundae and much more!, ☕FOOTED BOTTOM - Footed Bottom for an elegant look and easy sipping, ☕COFFEE & MORE-You can serve your favorite cappuccino, tea, coffee, ice cream,milk shakes,desserts and more!, ☕HIGHLY DURABLE GLASS - Our Irish Coffee Mugs are extremely durable with thick glass to ensure optimal durability for excellent service!, ☕DIMENSIONS: 12.8 x 11.8 x 5.3 inches]   \n",
            "\n",
            "                                                                                                                                                                                                                                                                                                                                                                        description  \\\n",
            "0  [Set of 12 Footed 10.5 oz. Irish coffee mug the perfect vessel for offering up your signature cappuccinos, mulled ciders, hot chocolates, and more! With its ornate stem and petite handle, this glass mug is certain to please. Plus, an elegant look and easy sipping, and its thick glass walls ensure optimal durability for excellent service life and fewer replacements.]   \n",
            "\n",
            "   price  \\\n",
            "0  24.95   \n",
            "\n",
            "                                                                                                                                                                                                                                                                                                                                                                                                                                                                                                                                                                                                                                                                                                                                                                                                                                                                                                                                                                                                 images  \\\n",
            "0  [{'thumb': 'https://m.media-amazon.com/images/I/41zOU0mN04L._AC_US75_.jpg', 'large': 'https://m.media-amazon.com/images/I/41zOU0mN04L._AC_.jpg', 'variant': 'MAIN', 'hi_res': 'https://m.media-amazon.com/images/I/61NZkejMUIL._AC_SL1169_.jpg'}, {'thumb': 'https://m.media-amazon.com/images/I/41OTFihWs4L._AC_US75_.jpg', 'large': 'https://m.media-amazon.com/images/I/41OTFihWs4L._AC_.jpg', 'variant': 'PT01', 'hi_res': 'https://m.media-amazon.com/images/I/61GBf06zZrL._AC_SL1500_.jpg'}, {'thumb': 'https://m.media-amazon.com/images/I/41GVQ3IIg-L._AC_US75_.jpg', 'large': 'https://m.media-amazon.com/images/I/41GVQ3IIg-L._AC_.jpg', 'variant': 'PT02', 'hi_res': 'https://m.media-amazon.com/images/I/61ll2aruhNL._AC_SL1116_.jpg'}, {'thumb': 'https://m.media-amazon.com/images/I/51dSaOaRoML._AC_US75_.jpg', 'large': 'https://m.media-amazon.com/images/I/51dSaOaRoML._AC_.jpg', 'variant': 'PT03', 'hi_res': 'https://m.media-amazon.com/images/I/81UZt+5OkjL._AC_SL1500_.jpg'}]   \n",
            "\n",
            "                                                                                                                                                                                                                                                                                                                                                                                                                                                                                                                                                                                                                                                                                                                                                                                                                                                                                                                                                                                                                                                                                                                                                                                                                                                                                                                                                                                                                                                                                                                                                                                                                                                                                                                                                                                              videos  \\\n",
            "0  [{'title': 'Irish Coffee Glass Coffee Mugs Regal Shape 8 oz. Cappuccinos', 'url': 'https://www.amazon.com/vdp/00df5d3c292b485fa88aa6c4537dcad5?ref=dp_vse_rvc_0', 'user_id': ''}, {'title': 'How to make a Toddy #mixology', 'url': 'https://www.amazon.com/vdp/07a4702140dc4e768f252b2c9504d26f?ref=dp_vse_rvc_1', 'user_id': '/shop/influencer-9643d294'}, {'title': 'Honey coffee with Javy #founditonamazon #coffeemaking ', 'url': 'https://www.amazon.com/vdp/01866724934b463bb381b3b00e18e255?ref=dp_vse_rvc_2', 'user_id': '/shop/ericas'}, {'title': 'Pink hot chocolate ', 'url': 'https://www.amazon.com/vdp/003d74e2d9a04f4a938131a18be5c0cc?ref=dp_vse_rvc_3', 'user_id': '/shop/influencer-31a10f3e'}, {'title': 'Irish coffee mugs with handle, great for hot beverages.', 'url': 'https://www.amazon.com/vdp/00493f2c9e544b528ad5623615f0653f?ref=dp_vse_rvc_4', 'user_id': ''}, {'title': 'Spiced Hot Toddy #Mixology #Cocktail #Bartend #HotToddy', 'url': 'https://www.amazon.com/vdp/01a0cdc1a1ea4af0a1f7f130fabd4a5b?ref=dp_vse_rvc_5', 'user_id': '/shop/influencer-9c4ffbfb'}, {'title': 'BTaT Double Wall Irish Mugs', 'url': 'https://www.amazon.com/vdp/5c85657167634f109c3c83f3eb109323?ref=dp_vse_rvc_6', 'user_id': ''}, {'title': 'How to make a hot toddy', 'url': 'https://www.amazon.com/vdp/d393248fe20847a188f0d958a85250ac?ref=dp_vse_rvc_7', 'user_id': 'AE3SL34RNZWZHBKVHTVDVIREYN5A'}, {'title': 'Rocky road latte #coffeemaking #founditonamazon', 'url': 'https://www.amazon.com/vdp/090320e60a8d45068ef65c07cd9dc3f4?ref=dp_vse_rvc_8', 'user_id': '/shop/ericas'}, {'title': 'Favorite coffee mugs #coffeemaking #founditonamazon', 'url': 'https://www.amazon.com/vdp/08ad285db275443992ad75f599088bc1?ref=dp_vse_rvc_9', 'user_id': '/shop/ericas'}]   \n",
            "\n",
            "      store  \\\n",
            "0  LavoHome   \n",
            "\n",
            "                                                                                                          categories  \\\n",
            "0  [Home & Kitchen, Kitchen & Dining, Dining & Entertaining, Glassware & Drinkware, Cups, Mugs, & Saucers, Mug Sets]   \n",
            "\n",
            "                                                                                                                                                                                                                                                                                                                                                                                                                                                                 details  \\\n",
            "0  {'Brand': 'LavoHome', 'Material': 'Glass', 'Color': 'Clear', 'Capacity': '10.5 Ounces', 'Style': 'Modern', 'Pattern': 'Solid', 'Product Care Instructions': 'Hand Wash Only', 'Unit Count': '4 Count', 'Product Dimensions': '12.8 x 11.8 x 5.3 inches', 'Number of Items': '4', 'Item Weight': '2 pounds', 'Best Sellers Rank': {'Kitchen & Dining': 143774, 'Mug Sets': 736}, 'Is Discontinued By Manufacturer': 'No', 'Date First Available': 'November 28, 2017'}   \n",
            "\n",
            "  parent_asin  bought_together  \n",
            "0  B07R3DYMH6              NaN  \n"
          ]
        }
      ]
    },
    {
      "cell_type": "markdown",
      "source": [
        "* Extract the brand, color and price data from the details column of the metadata"
      ],
      "metadata": {
        "id": "qeSjr7W9J--3"
      }
    },
    {
      "cell_type": "code",
      "source": [
        "df_meta_normalized = df_meta\n",
        "df_metadetails = pd.json_normalize(df_meta_normalized[\"details\"])\n",
        "# df_meta_normalized = df_meta_normalized.drop(columns=[\"details\"]).join(df_metadetails)  # Merge with main DataFrame\n",
        "print(df_metadetails.columns)\n",
        "df_meta_normalized = df_meta_normalized.drop(columns=[\"details\",\"images\",\"videos\"]).join(df_metadetails[[\"Brand\",\"Material\",\"Color\",\"Style\",\"Pattern\"]])\n",
        "print(df_meta_normalized.columns)"
      ],
      "metadata": {
        "colab": {
          "base_uri": "https://localhost:8080/"
        },
        "id": "e2EIfTT3J-Gg",
        "outputId": "e619bc41-d70a-42d6-94a7-e9a2af989639"
      },
      "execution_count": 10,
      "outputs": [
        {
          "output_type": "stream",
          "name": "stdout",
          "text": [
            "Index(['Brand', 'Material', 'Color', 'Capacity', 'Style', 'Pattern',\n",
            "       'Product Care Instructions', 'Unit Count', 'Product Dimensions',\n",
            "       'Number of Items',\n",
            "       ...\n",
            "       'Best Sellers Rank.Carpet & Upholstery Cleaning Machines Accessories',\n",
            "       'Best Sellers Rank.Sausage Stuffers',\n",
            "       'Best Sellers Rank.Tiered Serving Trays & Platters',\n",
            "       'Best Sellers Rank.Panel Track Blinds',\n",
            "       'Best Sellers Rank.Kitchen Drains & Strainers',\n",
            "       'Best Sellers Rank.Heating, Cooling & Air Quality',\n",
            "       'Best Sellers Rank.Novelty Toys & Amusements',\n",
            "       'Best Sellers Rank.Bottled Iced Tea',\n",
            "       'Best Sellers Rank.Students Round Edge Scissors',\n",
            "       'Best Sellers Rank.Honey Jars'],\n",
            "      dtype='object', length=2224)\n",
            "Index(['main_category', 'title', 'average_rating', 'rating_number', 'features',\n",
            "       'description', 'price', 'store', 'categories', 'parent_asin',\n",
            "       'bought_together', 'Brand', 'Material', 'Color', 'Style', 'Pattern'],\n",
            "      dtype='object')\n"
          ]
        }
      ]
    },
    {
      "cell_type": "code",
      "source": [
        "print(df_meta_normalized.head(1))"
      ],
      "metadata": {
        "colab": {
          "base_uri": "https://localhost:8080/"
        },
        "id": "wowD2VXsK531",
        "outputId": "38693fc4-4f98-4daf-dd44-6a1c71e57d13"
      },
      "execution_count": 11,
      "outputs": [
        {
          "output_type": "stream",
          "name": "stdout",
          "text": [
            "  main_category  \\\n",
            "0   Amazon Home   \n",
            "\n",
            "                                                                                                                                             title  \\\n",
            "0  Set of 4 Irish Coffee Glass Mugs Footed 10.5 oz.Thick Wall Glass For Coffee, tea, Cappuccinos, Mulled Ciders,Hot Chocolates, Ice cream and More   \n",
            "\n",
            "   average_rating  rating_number  \\\n",
            "0             4.6             18   \n",
            "\n",
            "                                                                                                                                                                                                                                                                                                                                                                                                                                                                                                                                                         features  \\\n",
            "0  [☕PERFECT IRISH COFFEE MUG: With our clear glass 10.5 ounce makes it a perfect mug for offering up your signature Coffee Drinks, Cappuccinos, Milk shakes, Dessert, Sundae and much more!, ☕FOOTED BOTTOM - Footed Bottom for an elegant look and easy sipping, ☕COFFEE & MORE-You can serve your favorite cappuccino, tea, coffee, ice cream,milk shakes,desserts and more!, ☕HIGHLY DURABLE GLASS - Our Irish Coffee Mugs are extremely durable with thick glass to ensure optimal durability for excellent service!, ☕DIMENSIONS: 12.8 x 11.8 x 5.3 inches]   \n",
            "\n",
            "                                                                                                                                                                                                                                                                                                                                                                        description  \\\n",
            "0  [Set of 12 Footed 10.5 oz. Irish coffee mug the perfect vessel for offering up your signature cappuccinos, mulled ciders, hot chocolates, and more! With its ornate stem and petite handle, this glass mug is certain to please. Plus, an elegant look and easy sipping, and its thick glass walls ensure optimal durability for excellent service life and fewer replacements.]   \n",
            "\n",
            "   price     store  \\\n",
            "0  24.95  LavoHome   \n",
            "\n",
            "                                                                                                          categories  \\\n",
            "0  [Home & Kitchen, Kitchen & Dining, Dining & Entertaining, Glassware & Drinkware, Cups, Mugs, & Saucers, Mug Sets]   \n",
            "\n",
            "  parent_asin  bought_together     Brand Material  Color   Style Pattern  \n",
            "0  B07R3DYMH6              NaN  LavoHome    Glass  Clear  Modern   Solid  \n"
          ]
        }
      ]
    },
    {
      "cell_type": "markdown",
      "source": [
        "* Merge the data sets from the meta and reviews with the relevant columns with parent_asin as the join key and index"
      ],
      "metadata": {
        "id": "HkfthO5LIJgD"
      }
    },
    {
      "cell_type": "code",
      "source": [
        "df_merged = df_reviews.merge(df_meta_normalized[['title','description','price','Brand','Material','Color','categories',\"parent_asin\"]],on='parent_asin',how='left')"
      ],
      "metadata": {
        "id": "iehbxUhCEeSE"
      },
      "execution_count": 12,
      "outputs": []
    },
    {
      "cell_type": "markdown",
      "source": [
        "* Look for reviews with missing product metadata"
      ],
      "metadata": {
        "id": "EKQYVk4jTw5k"
      }
    },
    {
      "cell_type": "code",
      "source": [
        "missing_asins_df = df_reviews[~df_reviews['parent_asin'].isin(df_meta_normalized['parent_asin'])]\n",
        "print(missing_asins_df[['parent_asin']].drop_duplicates().count())\n",
        "print(missing_asins_df[['parent_asin']].count())\n",
        "print(len(df_reviews))\n",
        "print(len(df_merged))\n",
        "print(df_merged.columns)"
      ],
      "metadata": {
        "colab": {
          "base_uri": "https://localhost:8080/"
        },
        "id": "OLpniptgRopW",
        "outputId": "d2c5cc8d-dac0-47a1-d996-e95ab1beb1a8"
      },
      "execution_count": 13,
      "outputs": [
        {
          "output_type": "stream",
          "name": "stdout",
          "text": [
            "parent_asin    1731834\n",
            "dtype: int64\n",
            "parent_asin    12359277\n",
            "dtype: int64\n",
            "13376345\n",
            "13376345\n",
            "Index(['rating', 'title_x', 'text', 'images', 'asin', 'parent_asin', 'user_id',\n",
            "       'timestamp', 'helpful_vote', 'verified_purchase', 'title_y',\n",
            "       'description', 'price', 'Brand', 'Material', 'Color', 'categories'],\n",
            "      dtype='object')\n"
          ]
        }
      ]
    },
    {
      "cell_type": "markdown",
      "source": [
        "* Remove the reviews which do not have product metadata"
      ],
      "metadata": {
        "id": "VIOBO29fT1xx"
      }
    },
    {
      "cell_type": "code",
      "source": [
        "df_new = df_merged.dropna(subset = ['title_y','description','price','Brand','Material','Color','categories','parent_asin'])\n",
        "print(len(df_new))"
      ],
      "metadata": {
        "colab": {
          "base_uri": "https://localhost:8080/"
        },
        "id": "Unw18UAVT9Ax",
        "outputId": "75390e49-1617-43b1-a476-edd866e29bd9"
      },
      "execution_count": 14,
      "outputs": [
        {
          "output_type": "stream",
          "name": "stdout",
          "text": [
            "754079\n"
          ]
        }
      ]
    },
    {
      "cell_type": "code",
      "source": [
        "df_new.to_csv('AmazonHomeKitchenReviews.csv')"
      ],
      "metadata": {
        "id": "CiQ8Dii1BhYz"
      },
      "execution_count": 15,
      "outputs": []
    },
    {
      "cell_type": "code",
      "source": [
        " !cp /content/AmazonHomeKitchenReviews.csv /content/drive/MyDrive/"
      ],
      "metadata": {
        "id": "UZgI9QxICR5w"
      },
      "execution_count": 16,
      "outputs": []
    }
  ]
}