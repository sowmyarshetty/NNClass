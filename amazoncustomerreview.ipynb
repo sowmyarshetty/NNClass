{
  "cells": [
    {
      "cell_type": "markdown",
      "metadata": {
        "id": "view-in-github",
        "colab_type": "text"
      },
      "source": [
        "<a href=\"https://colab.research.google.com/github/sowmyarshetty/NNClass/blob/main/amazoncustomerreview.ipynb\" target=\"_parent\"><img src=\"https://colab.research.google.com/assets/colab-badge.svg\" alt=\"Open In Colab\"/></a>"
      ]
    },
    {
      "cell_type": "code",
      "source": [],
      "metadata": {
        "id": "gQkH1koahIDt"
      },
      "execution_count": null,
      "outputs": []
    },
    {
      "cell_type": "code",
      "source": [
        "import pandas as pd\n",
        "import dask.dataframe as dd\n",
        "import gdown"
      ],
      "metadata": {
        "id": "A7QZNmPRhERM"
      },
      "execution_count": 91,
      "outputs": []
    },
    {
      "cell_type": "code",
      "source": [
        "# Mount Google Drive (For Colab Users)\n",
        "from google.colab import drive\n",
        "drive.mount('/content/drive')\n"
      ],
      "metadata": {
        "id": "4TmNPnRr2Shd",
        "outputId": "eb91b3dd-885b-47a3-86f1-8c7fed805fc0",
        "colab": {
          "base_uri": "https://localhost:8080/"
        }
      },
      "execution_count": 92,
      "outputs": [
        {
          "output_type": "stream",
          "name": "stdout",
          "text": [
            "Drive already mounted at /content/drive; to attempt to forcibly remount, call drive.mount(\"/content/drive\", force_remount=True).\n"
          ]
        }
      ]
    },
    {
      "cell_type": "code",
      "source": [
        "file_id = '1TiwWTY4OT9UCAxOsZCTb9dCmGp34vnDX'\n",
        "\n",
        "# Construct the download URL (with confirmation bypass)\n",
        "url = f\"https://drive.google.com/uc?export=download&id={file_id}\"\n",
        "\n",
        "# Download the file\n",
        "gdown.download(url, \"amazonreviews_train.csv\", quiet=False)\n",
        "\n"
      ],
      "metadata": {
        "id": "GOXBO-z7vrya",
        "outputId": "647e7594-2c32-4ebf-ee99-3203fe4ae9a2",
        "colab": {
          "base_uri": "https://localhost:8080/",
          "height": 142
        }
      },
      "execution_count": 95,
      "outputs": [
        {
          "output_type": "stream",
          "name": "stderr",
          "text": [
            "Downloading...\n",
            "From (original): https://drive.google.com/uc?export=download&id=1TiwWTY4OT9UCAxOsZCTb9dCmGp34vnDX\n",
            "From (redirected): https://drive.google.com/uc?export=download&id=1TiwWTY4OT9UCAxOsZCTb9dCmGp34vnDX&confirm=t&uuid=af8e8032-6730-4658-a04c-1e0c3791f1e3\n",
            "To: /content/amazonreviews_train.csv\n",
            "100%|██████████| 1.59G/1.59G [00:26<00:00, 60.2MB/s]\n"
          ]
        },
        {
          "output_type": "execute_result",
          "data": {
            "text/plain": [
              "'amazonreviews_train.csv'"
            ],
            "application/vnd.google.colaboratory.intrinsic+json": {
              "type": "string"
            }
          },
          "metadata": {},
          "execution_count": 95
        }
      ]
    },
    {
      "cell_type": "code",
      "source": [
        "import pandas as pd\n",
        "\n",
        "chunk_size = 100000  # Adjust chunk size as needed\n",
        "chunks = []  # List to store chunk DataFrames\n",
        "\n",
        "# Read the CSV in chunks\n",
        "for chunk in pd.read_csv(\"amazonreviews_train.csv\", chunksize=chunk_size):\n",
        "    chunks.append(chunk)  # Store each chunk\n",
        "\n",
        "# Concatenate all chunks into a single DataFrame\n",
        "df = pd.concat(chunks, axis=0)\n",
        "\n",
        "# Display the first few rows\n",
        "print(df.head())\n"
      ],
      "metadata": {
        "id": "UVUHNhCu54UK",
        "outputId": "dc2092fa-dd6c-4606-f691-4db35e2cbc64",
        "colab": {
          "base_uri": "https://localhost:8080/"
        }
      },
      "execution_count": 96,
      "outputs": [
        {
          "output_type": "stream",
          "name": "stdout",
          "text": [
            "   polarity                                              title  \\\n",
            "0         2                     Stuning even for the non-gamer   \n",
            "1         2              The best soundtrack ever to anything.   \n",
            "2         2                                           Amazing!   \n",
            "3         2                               Excellent Soundtrack   \n",
            "4         2  Remember, Pull Your Jaw Off The Floor After He...   \n",
            "\n",
            "                                                text  \n",
            "0  This sound track was beautiful! It paints the ...  \n",
            "1  I'm reading a lot of reviews saying that this ...  \n",
            "2  This soundtrack is my favorite music of all ti...  \n",
            "3  I truly like this soundtrack and I enjoy video...  \n",
            "4  If you've played the game, you know how divine...  \n"
          ]
        }
      ]
    },
    {
      "cell_type": "code",
      "source": [
        "print(df.tail())\n"
      ],
      "metadata": {
        "id": "mbrIaOT16FsZ",
        "outputId": "58fb4b29-4fe9-4b2b-9911-bae72c9053d4",
        "colab": {
          "base_uri": "https://localhost:8080/"
        }
      },
      "execution_count": 97,
      "outputs": [
        {
          "output_type": "stream",
          "name": "stdout",
          "text": [
            "         polarity                                  title  \\\n",
            "3599995         1                          Don't do it!!   \n",
            "3599996         1          Looks nice, low functionality   \n",
            "3599997         1             compact, but hard to clean   \n",
            "3599998         1                     what is it saying?   \n",
            "3599999         2  Makes My Blood Run Red-White-And-Blue   \n",
            "\n",
            "                                                      text  \n",
            "3599995  The high chair looks great when it first comes...  \n",
            "3599996  I have used this highchair for 2 kids now and ...  \n",
            "3599997  We have a small house, and really wanted two o...  \n",
            "3599998  not sure what this book is supposed to be. It ...  \n",
            "3599999  I agree that every American should read this b...  \n"
          ]
        }
      ]
    }
  ],
  "metadata": {
    "kernelspec": {
      "display_name": "Python 3 (ipykernel)",
      "language": "python",
      "name": "python3"
    },
    "language_info": {
      "codemirror_mode": {
        "name": "ipython",
        "version": 3
      },
      "file_extension": ".py",
      "mimetype": "text/x-python",
      "name": "python",
      "nbconvert_exporter": "python",
      "pygments_lexer": "ipython3",
      "version": "3.10.14"
    },
    "colab": {
      "provenance": [],
      "name": "amazoncustomerreview.ipynb",
      "include_colab_link": true
    }
  },
  "nbformat": 4,
  "nbformat_minor": 0
}