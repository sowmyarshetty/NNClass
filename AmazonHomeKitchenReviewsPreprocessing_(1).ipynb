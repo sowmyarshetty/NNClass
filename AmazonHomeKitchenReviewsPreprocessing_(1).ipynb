{
  "nbformat": 4,
  "nbformat_minor": 0,
  "metadata": {
    "colab": {
      "provenance": [],
      "machine_shape": "hm",
      "gpuType": "T4",
      "include_colab_link": true
    },
    "kernelspec": {
      "name": "python3",
      "display_name": "Python 3"
    },
    "language_info": {
      "name": "python"
    },
    "accelerator": "GPU"
  },
  "cells": [
    {
      "cell_type": "markdown",
      "metadata": {
        "id": "view-in-github",
        "colab_type": "text"
      },
      "source": [
        "<a href=\"https://colab.research.google.com/github/sowmyarshetty/NNClass/blob/main/AmazonHomeKitchenReviewsPreprocessing_(1).ipynb\" target=\"_parent\"><img src=\"https://colab.research.google.com/assets/colab-badge.svg\" alt=\"Open In Colab\"/></a>"
      ]
    },
    {
      "cell_type": "code",
      "source": [
        "!pip install BERTopic"
      ],
      "metadata": {
        "colab": {
          "base_uri": "https://localhost:8080/"
        },
        "id": "PclZc23p7xUe",
        "outputId": "a624a208-912c-436a-b5d9-f0f4b90417e7"
      },
      "execution_count": 160,
      "outputs": [
        {
          "output_type": "stream",
          "name": "stdout",
          "text": [
            "Requirement already satisfied: BERTopic in /usr/local/lib/python3.11/dist-packages (0.17.0)\n",
            "Requirement already satisfied: hdbscan>=0.8.29 in /usr/local/lib/python3.11/dist-packages (from BERTopic) (0.8.40)\n",
            "Requirement already satisfied: numpy>=1.20.0 in /usr/local/lib/python3.11/dist-packages (from BERTopic) (2.0.2)\n",
            "Requirement already satisfied: pandas>=1.1.5 in /usr/local/lib/python3.11/dist-packages (from BERTopic) (2.2.2)\n",
            "Requirement already satisfied: plotly>=4.7.0 in /usr/local/lib/python3.11/dist-packages (from BERTopic) (5.24.1)\n",
            "Requirement already satisfied: scikit-learn>=1.0 in /usr/local/lib/python3.11/dist-packages (from BERTopic) (1.6.1)\n",
            "Requirement already satisfied: sentence-transformers>=0.4.1 in /usr/local/lib/python3.11/dist-packages (from BERTopic) (3.4.1)\n",
            "Requirement already satisfied: tqdm>=4.41.1 in /usr/local/lib/python3.11/dist-packages (from BERTopic) (4.67.1)\n",
            "Requirement already satisfied: umap-learn>=0.5.0 in /usr/local/lib/python3.11/dist-packages (from BERTopic) (0.5.7)\n",
            "Requirement already satisfied: scipy>=1.0 in /usr/local/lib/python3.11/dist-packages (from hdbscan>=0.8.29->BERTopic) (1.14.1)\n",
            "Requirement already satisfied: joblib>=1.0 in /usr/local/lib/python3.11/dist-packages (from hdbscan>=0.8.29->BERTopic) (1.4.2)\n",
            "Requirement already satisfied: python-dateutil>=2.8.2 in /usr/local/lib/python3.11/dist-packages (from pandas>=1.1.5->BERTopic) (2.8.2)\n",
            "Requirement already satisfied: pytz>=2020.1 in /usr/local/lib/python3.11/dist-packages (from pandas>=1.1.5->BERTopic) (2025.1)\n",
            "Requirement already satisfied: tzdata>=2022.7 in /usr/local/lib/python3.11/dist-packages (from pandas>=1.1.5->BERTopic) (2025.1)\n",
            "Requirement already satisfied: tenacity>=6.2.0 in /usr/local/lib/python3.11/dist-packages (from plotly>=4.7.0->BERTopic) (9.0.0)\n",
            "Requirement already satisfied: packaging in /usr/local/lib/python3.11/dist-packages (from plotly>=4.7.0->BERTopic) (24.2)\n",
            "Requirement already satisfied: threadpoolctl>=3.1.0 in /usr/local/lib/python3.11/dist-packages (from scikit-learn>=1.0->BERTopic) (3.6.0)\n",
            "Requirement already satisfied: transformers<5.0.0,>=4.41.0 in /usr/local/lib/python3.11/dist-packages (from sentence-transformers>=0.4.1->BERTopic) (4.50.0)\n",
            "Requirement already satisfied: torch>=1.11.0 in /usr/local/lib/python3.11/dist-packages (from sentence-transformers>=0.4.1->BERTopic) (2.6.0+cu124)\n",
            "Requirement already satisfied: huggingface-hub>=0.20.0 in /usr/local/lib/python3.11/dist-packages (from sentence-transformers>=0.4.1->BERTopic) (0.29.3)\n",
            "Requirement already satisfied: Pillow in /usr/local/lib/python3.11/dist-packages (from sentence-transformers>=0.4.1->BERTopic) (11.1.0)\n",
            "Requirement already satisfied: numba>=0.51.2 in /usr/local/lib/python3.11/dist-packages (from umap-learn>=0.5.0->BERTopic) (0.60.0)\n",
            "Requirement already satisfied: pynndescent>=0.5 in /usr/local/lib/python3.11/dist-packages (from umap-learn>=0.5.0->BERTopic) (0.5.13)\n",
            "Requirement already satisfied: filelock in /usr/local/lib/python3.11/dist-packages (from huggingface-hub>=0.20.0->sentence-transformers>=0.4.1->BERTopic) (3.18.0)\n",
            "Requirement already satisfied: fsspec>=2023.5.0 in /usr/local/lib/python3.11/dist-packages (from huggingface-hub>=0.20.0->sentence-transformers>=0.4.1->BERTopic) (2025.3.0)\n",
            "Requirement already satisfied: pyyaml>=5.1 in /usr/local/lib/python3.11/dist-packages (from huggingface-hub>=0.20.0->sentence-transformers>=0.4.1->BERTopic) (6.0.2)\n",
            "Requirement already satisfied: requests in /usr/local/lib/python3.11/dist-packages (from huggingface-hub>=0.20.0->sentence-transformers>=0.4.1->BERTopic) (2.32.3)\n",
            "Requirement already satisfied: typing-extensions>=3.7.4.3 in /usr/local/lib/python3.11/dist-packages (from huggingface-hub>=0.20.0->sentence-transformers>=0.4.1->BERTopic) (4.12.2)\n",
            "Requirement already satisfied: llvmlite<0.44,>=0.43.0dev0 in /usr/local/lib/python3.11/dist-packages (from numba>=0.51.2->umap-learn>=0.5.0->BERTopic) (0.43.0)\n",
            "Requirement already satisfied: six>=1.5 in /usr/local/lib/python3.11/dist-packages (from python-dateutil>=2.8.2->pandas>=1.1.5->BERTopic) (1.17.0)\n",
            "Requirement already satisfied: networkx in /usr/local/lib/python3.11/dist-packages (from torch>=1.11.0->sentence-transformers>=0.4.1->BERTopic) (3.4.2)\n",
            "Requirement already satisfied: jinja2 in /usr/local/lib/python3.11/dist-packages (from torch>=1.11.0->sentence-transformers>=0.4.1->BERTopic) (3.1.6)\n",
            "Requirement already satisfied: nvidia-cuda-nvrtc-cu12==12.4.127 in /usr/local/lib/python3.11/dist-packages (from torch>=1.11.0->sentence-transformers>=0.4.1->BERTopic) (12.4.127)\n",
            "Requirement already satisfied: nvidia-cuda-runtime-cu12==12.4.127 in /usr/local/lib/python3.11/dist-packages (from torch>=1.11.0->sentence-transformers>=0.4.1->BERTopic) (12.4.127)\n",
            "Requirement already satisfied: nvidia-cuda-cupti-cu12==12.4.127 in /usr/local/lib/python3.11/dist-packages (from torch>=1.11.0->sentence-transformers>=0.4.1->BERTopic) (12.4.127)\n",
            "Requirement already satisfied: nvidia-cudnn-cu12==9.1.0.70 in /usr/local/lib/python3.11/dist-packages (from torch>=1.11.0->sentence-transformers>=0.4.1->BERTopic) (9.1.0.70)\n",
            "Requirement already satisfied: nvidia-cublas-cu12==12.4.5.8 in /usr/local/lib/python3.11/dist-packages (from torch>=1.11.0->sentence-transformers>=0.4.1->BERTopic) (12.4.5.8)\n",
            "Requirement already satisfied: nvidia-cufft-cu12==11.2.1.3 in /usr/local/lib/python3.11/dist-packages (from torch>=1.11.0->sentence-transformers>=0.4.1->BERTopic) (11.2.1.3)\n",
            "Requirement already satisfied: nvidia-curand-cu12==10.3.5.147 in /usr/local/lib/python3.11/dist-packages (from torch>=1.11.0->sentence-transformers>=0.4.1->BERTopic) (10.3.5.147)\n",
            "Requirement already satisfied: nvidia-cusolver-cu12==11.6.1.9 in /usr/local/lib/python3.11/dist-packages (from torch>=1.11.0->sentence-transformers>=0.4.1->BERTopic) (11.6.1.9)\n",
            "Requirement already satisfied: nvidia-cusparse-cu12==12.3.1.170 in /usr/local/lib/python3.11/dist-packages (from torch>=1.11.0->sentence-transformers>=0.4.1->BERTopic) (12.3.1.170)\n",
            "Requirement already satisfied: nvidia-cusparselt-cu12==0.6.2 in /usr/local/lib/python3.11/dist-packages (from torch>=1.11.0->sentence-transformers>=0.4.1->BERTopic) (0.6.2)\n",
            "Requirement already satisfied: nvidia-nccl-cu12==2.21.5 in /usr/local/lib/python3.11/dist-packages (from torch>=1.11.0->sentence-transformers>=0.4.1->BERTopic) (2.21.5)\n",
            "Requirement already satisfied: nvidia-nvtx-cu12==12.4.127 in /usr/local/lib/python3.11/dist-packages (from torch>=1.11.0->sentence-transformers>=0.4.1->BERTopic) (12.4.127)\n",
            "Requirement already satisfied: nvidia-nvjitlink-cu12==12.4.127 in /usr/local/lib/python3.11/dist-packages (from torch>=1.11.0->sentence-transformers>=0.4.1->BERTopic) (12.4.127)\n",
            "Requirement already satisfied: triton==3.2.0 in /usr/local/lib/python3.11/dist-packages (from torch>=1.11.0->sentence-transformers>=0.4.1->BERTopic) (3.2.0)\n",
            "Requirement already satisfied: sympy==1.13.1 in /usr/local/lib/python3.11/dist-packages (from torch>=1.11.0->sentence-transformers>=0.4.1->BERTopic) (1.13.1)\n",
            "Requirement already satisfied: mpmath<1.4,>=1.1.0 in /usr/local/lib/python3.11/dist-packages (from sympy==1.13.1->torch>=1.11.0->sentence-transformers>=0.4.1->BERTopic) (1.3.0)\n",
            "Requirement already satisfied: regex!=2019.12.17 in /usr/local/lib/python3.11/dist-packages (from transformers<5.0.0,>=4.41.0->sentence-transformers>=0.4.1->BERTopic) (2024.11.6)\n",
            "Requirement already satisfied: tokenizers<0.22,>=0.21 in /usr/local/lib/python3.11/dist-packages (from transformers<5.0.0,>=4.41.0->sentence-transformers>=0.4.1->BERTopic) (0.21.1)\n",
            "Requirement already satisfied: safetensors>=0.4.3 in /usr/local/lib/python3.11/dist-packages (from transformers<5.0.0,>=4.41.0->sentence-transformers>=0.4.1->BERTopic) (0.5.3)\n",
            "Requirement already satisfied: MarkupSafe>=2.0 in /usr/local/lib/python3.11/dist-packages (from jinja2->torch>=1.11.0->sentence-transformers>=0.4.1->BERTopic) (3.0.2)\n",
            "Requirement already satisfied: charset-normalizer<4,>=2 in /usr/local/lib/python3.11/dist-packages (from requests->huggingface-hub>=0.20.0->sentence-transformers>=0.4.1->BERTopic) (3.4.1)\n",
            "Requirement already satisfied: idna<4,>=2.5 in /usr/local/lib/python3.11/dist-packages (from requests->huggingface-hub>=0.20.0->sentence-transformers>=0.4.1->BERTopic) (3.10)\n",
            "Requirement already satisfied: urllib3<3,>=1.21.1 in /usr/local/lib/python3.11/dist-packages (from requests->huggingface-hub>=0.20.0->sentence-transformers>=0.4.1->BERTopic) (2.3.0)\n",
            "Requirement already satisfied: certifi>=2017.4.17 in /usr/local/lib/python3.11/dist-packages (from requests->huggingface-hub>=0.20.0->sentence-transformers>=0.4.1->BERTopic) (2025.1.31)\n"
          ]
        }
      ]
    },
    {
      "cell_type": "code",
      "execution_count": 161,
      "metadata": {
        "id": "7OKv7TlaVDuY"
      },
      "outputs": [],
      "source": [
        "import pandas as pd\n",
        "import dask.dataframe as dd\n",
        "import gdown\n",
        "import re\n",
        "import numpy as np\n",
        "from sklearn.feature_extraction.text import CountVectorizer\n",
        "from sklearn.decomposition import LatentDirichletAllocation\n",
        "from bertopic import BERTopic\n",
        "from sentence_transformers import SentenceTransformer"
      ]
    },
    {
      "cell_type": "code",
      "source": [
        "# Mount Google Drive (For Colab Users)\n",
        "from google.colab import drive\n",
        "drive.mount('/content/drive')\n"
      ],
      "metadata": {
        "colab": {
          "base_uri": "https://localhost:8080/"
        },
        "id": "6e-EXUh9UqFV",
        "outputId": "8ebe0d2d-bc68-4108-9e12-1ae6a7105c01"
      },
      "execution_count": 162,
      "outputs": [
        {
          "output_type": "stream",
          "name": "stdout",
          "text": [
            "Drive already mounted at /content/drive; to attempt to forcibly remount, call drive.mount(\"/content/drive\", force_remount=True).\n"
          ]
        }
      ]
    },
    {
      "cell_type": "code",
      "source": [
        "amazonhkdatasetfileid = '14GcJAzyN2PFg2JuyzF0pRmxlMmimrz9o'\n",
        "amazonhkdatasetfilename = 'AmazonHomeKitchenReviews.csv'\n",
        "\n",
        "url = f\"https://drive.google.com/uc?export=download&id={amazonhkdatasetfileid}\"\n",
        "\n",
        "gdown.download(url,amazonhkdatasetfilename, quiet=False)\n"
      ],
      "metadata": {
        "colab": {
          "base_uri": "https://localhost:8080/",
          "height": 122
        },
        "id": "iWNpu5nWUwHc",
        "outputId": "8c928c2a-5490-4e88-c578-65f1535eb911"
      },
      "execution_count": 163,
      "outputs": [
        {
          "output_type": "stream",
          "name": "stderr",
          "text": [
            "Downloading...\n",
            "From (original): https://drive.google.com/uc?export=download&id=14GcJAzyN2PFg2JuyzF0pRmxlMmimrz9o\n",
            "From (redirected): https://drive.google.com/uc?export=download&id=14GcJAzyN2PFg2JuyzF0pRmxlMmimrz9o&confirm=t&uuid=9bc33bd0-c2c1-42ae-b9af-0ad7f2c204f0\n",
            "To: /content/AmazonHomeKitchenReviews.csv\n",
            "100%|██████████| 692M/692M [00:07<00:00, 92.3MB/s]\n"
          ]
        },
        {
          "output_type": "execute_result",
          "data": {
            "text/plain": [
              "'AmazonHomeKitchenReviews.csv'"
            ],
            "application/vnd.google.colaboratory.intrinsic+json": {
              "type": "string"
            }
          },
          "metadata": {},
          "execution_count": 163
        }
      ]
    },
    {
      "cell_type": "markdown",
      "source": [
        "* Read the dataset csv  into dataframes"
      ],
      "metadata": {
        "id": "pwdcecevIGaQ"
      }
    },
    {
      "cell_type": "code",
      "source": [
        "df_data = pd.read_csv(amazonhkdatasetfilename)\n"
      ],
      "metadata": {
        "id": "g4fJmLTvVwP6"
      },
      "execution_count": 164,
      "outputs": []
    },
    {
      "cell_type": "code",
      "source": [
        "#reduce the dataset to 10000 records\n",
        "df_data = df_data.head(10000)"
      ],
      "metadata": {
        "id": "kMOXE2hUXrhm"
      },
      "execution_count": 165,
      "outputs": []
    },
    {
      "cell_type": "markdown",
      "source": [
        "\n",
        "\n",
        "*   Analyse the datasets\n",
        "*  Check total number of unique products and the review counts\n",
        "\n",
        "\n"
      ],
      "metadata": {
        "id": "pPBfEocwH45Y"
      }
    },
    {
      "cell_type": "code",
      "source": [
        "df_renamed = df_data.rename(columns={'title_y' : 'product_title','title_x':'review_title','text':'review_text'})\n",
        "df_renamed.groupby('product_title').size().sort_values(ascending=False).head(5)\n",
        "print(df_renamed.columns)"
      ],
      "metadata": {
        "colab": {
          "base_uri": "https://localhost:8080/"
        },
        "id": "fOuYG18eWFZx",
        "outputId": "a26ea54e-a2e3-4c19-f52b-850136829cda"
      },
      "execution_count": 166,
      "outputs": [
        {
          "output_type": "stream",
          "name": "stdout",
          "text": [
            "Index(['Unnamed: 0', 'rating', 'review_title', 'review_text', 'images', 'asin',\n",
            "       'parent_asin', 'user_id', 'timestamp', 'helpful_vote',\n",
            "       'verified_purchase', 'product_title', 'description', 'price', 'Brand',\n",
            "       'Material', 'Color', 'categories'],\n",
            "      dtype='object')\n"
          ]
        }
      ]
    },
    {
      "cell_type": "markdown",
      "source": [
        "* Pre-processing\n",
        "* X = review_title,review_text\n",
        "* y = rating"
      ],
      "metadata": {
        "id": "QyMt9EY-bAC-"
      }
    },
    {
      "cell_type": "code",
      "source": [
        "df_renamed.head(2)"
      ],
      "metadata": {
        "id": "d1wMXzhVbgAG",
        "outputId": "e402a080-8fcf-4d5d-88c3-2f3bc6837210",
        "colab": {
          "base_uri": "https://localhost:8080/",
          "height": 288
        }
      },
      "execution_count": 167,
      "outputs": [
        {
          "output_type": "execute_result",
          "data": {
            "text/plain": [
              "   Unnamed: 0  rating                          review_title  \\\n",
              "0          59       5                             Adorable!   \n",
              "1          87       5  Stailess, healthier than coated pans   \n",
              "\n",
              "                                         review_text images        asin  \\\n",
              "0  These are so sweet. I do wish the stopper part...     []  B01HBWGU80   \n",
              "1  Great little stainless steel, balanced, good w...     []  B07T5CRVKQ   \n",
              "\n",
              "  parent_asin                       user_id                timestamp  \\\n",
              "0  B01DR2ACA0  AGKHLEW2SOWHNMFQIJGBECAF7INQ  2019-07-23 04:29:16.671   \n",
              "1  B08C7JYKZH  AEVWAM3YWN5URJVJIZZ6XPD2MKIA  2020-11-02 22:09:44.073   \n",
              "\n",
              "   helpful_vote  verified_purchase  \\\n",
              "0             0               True   \n",
              "1             1               True   \n",
              "\n",
              "                                       product_title description  price  \\\n",
              "0  Little Bird Wine Bottle Stopper, Silicone Stop...          []   9.49   \n",
              "1  Fortune Candy 8-Inch Fry Pan with Lid, 3-ply S...          []  24.99   \n",
              "\n",
              "           Brand                   Material           Color  \\\n",
              "0    LouisChoice                   Silicone  Assorted Color   \n",
              "1  Fortune Candy  Stainless Steel, Aluminum   Mirror Finish   \n",
              "\n",
              "                                          categories  \n",
              "0  ['Home & Kitchen', 'Kitchen & Dining', 'Kitche...  \n",
              "1  ['Home & Kitchen', 'Kitchen & Dining', 'Cookwa...  "
            ],
            "text/html": [
              "\n",
              "  <div id=\"df-6f3a88a9-abf8-48bb-a686-9ff327007221\" class=\"colab-df-container\">\n",
              "    <div>\n",
              "<style scoped>\n",
              "    .dataframe tbody tr th:only-of-type {\n",
              "        vertical-align: middle;\n",
              "    }\n",
              "\n",
              "    .dataframe tbody tr th {\n",
              "        vertical-align: top;\n",
              "    }\n",
              "\n",
              "    .dataframe thead th {\n",
              "        text-align: right;\n",
              "    }\n",
              "</style>\n",
              "<table border=\"1\" class=\"dataframe\">\n",
              "  <thead>\n",
              "    <tr style=\"text-align: right;\">\n",
              "      <th></th>\n",
              "      <th>Unnamed: 0</th>\n",
              "      <th>rating</th>\n",
              "      <th>review_title</th>\n",
              "      <th>review_text</th>\n",
              "      <th>images</th>\n",
              "      <th>asin</th>\n",
              "      <th>parent_asin</th>\n",
              "      <th>user_id</th>\n",
              "      <th>timestamp</th>\n",
              "      <th>helpful_vote</th>\n",
              "      <th>verified_purchase</th>\n",
              "      <th>product_title</th>\n",
              "      <th>description</th>\n",
              "      <th>price</th>\n",
              "      <th>Brand</th>\n",
              "      <th>Material</th>\n",
              "      <th>Color</th>\n",
              "      <th>categories</th>\n",
              "    </tr>\n",
              "  </thead>\n",
              "  <tbody>\n",
              "    <tr>\n",
              "      <th>0</th>\n",
              "      <td>59</td>\n",
              "      <td>5</td>\n",
              "      <td>Adorable!</td>\n",
              "      <td>These are so sweet. I do wish the stopper part...</td>\n",
              "      <td>[]</td>\n",
              "      <td>B01HBWGU80</td>\n",
              "      <td>B01DR2ACA0</td>\n",
              "      <td>AGKHLEW2SOWHNMFQIJGBECAF7INQ</td>\n",
              "      <td>2019-07-23 04:29:16.671</td>\n",
              "      <td>0</td>\n",
              "      <td>True</td>\n",
              "      <td>Little Bird Wine Bottle Stopper, Silicone Stop...</td>\n",
              "      <td>[]</td>\n",
              "      <td>9.49</td>\n",
              "      <td>LouisChoice</td>\n",
              "      <td>Silicone</td>\n",
              "      <td>Assorted Color</td>\n",
              "      <td>['Home &amp; Kitchen', 'Kitchen &amp; Dining', 'Kitche...</td>\n",
              "    </tr>\n",
              "    <tr>\n",
              "      <th>1</th>\n",
              "      <td>87</td>\n",
              "      <td>5</td>\n",
              "      <td>Stailess, healthier than coated pans</td>\n",
              "      <td>Great little stainless steel, balanced, good w...</td>\n",
              "      <td>[]</td>\n",
              "      <td>B07T5CRVKQ</td>\n",
              "      <td>B08C7JYKZH</td>\n",
              "      <td>AEVWAM3YWN5URJVJIZZ6XPD2MKIA</td>\n",
              "      <td>2020-11-02 22:09:44.073</td>\n",
              "      <td>1</td>\n",
              "      <td>True</td>\n",
              "      <td>Fortune Candy 8-Inch Fry Pan with Lid, 3-ply S...</td>\n",
              "      <td>[]</td>\n",
              "      <td>24.99</td>\n",
              "      <td>Fortune Candy</td>\n",
              "      <td>Stainless Steel, Aluminum</td>\n",
              "      <td>Mirror Finish</td>\n",
              "      <td>['Home &amp; Kitchen', 'Kitchen &amp; Dining', 'Cookwa...</td>\n",
              "    </tr>\n",
              "  </tbody>\n",
              "</table>\n",
              "</div>\n",
              "    <div class=\"colab-df-buttons\">\n",
              "\n",
              "  <div class=\"colab-df-container\">\n",
              "    <button class=\"colab-df-convert\" onclick=\"convertToInteractive('df-6f3a88a9-abf8-48bb-a686-9ff327007221')\"\n",
              "            title=\"Convert this dataframe to an interactive table.\"\n",
              "            style=\"display:none;\">\n",
              "\n",
              "  <svg xmlns=\"http://www.w3.org/2000/svg\" height=\"24px\" viewBox=\"0 -960 960 960\">\n",
              "    <path d=\"M120-120v-720h720v720H120Zm60-500h600v-160H180v160Zm220 220h160v-160H400v160Zm0 220h160v-160H400v160ZM180-400h160v-160H180v160Zm440 0h160v-160H620v160ZM180-180h160v-160H180v160Zm440 0h160v-160H620v160Z\"/>\n",
              "  </svg>\n",
              "    </button>\n",
              "\n",
              "  <style>\n",
              "    .colab-df-container {\n",
              "      display:flex;\n",
              "      gap: 12px;\n",
              "    }\n",
              "\n",
              "    .colab-df-convert {\n",
              "      background-color: #E8F0FE;\n",
              "      border: none;\n",
              "      border-radius: 50%;\n",
              "      cursor: pointer;\n",
              "      display: none;\n",
              "      fill: #1967D2;\n",
              "      height: 32px;\n",
              "      padding: 0 0 0 0;\n",
              "      width: 32px;\n",
              "    }\n",
              "\n",
              "    .colab-df-convert:hover {\n",
              "      background-color: #E2EBFA;\n",
              "      box-shadow: 0px 1px 2px rgba(60, 64, 67, 0.3), 0px 1px 3px 1px rgba(60, 64, 67, 0.15);\n",
              "      fill: #174EA6;\n",
              "    }\n",
              "\n",
              "    .colab-df-buttons div {\n",
              "      margin-bottom: 4px;\n",
              "    }\n",
              "\n",
              "    [theme=dark] .colab-df-convert {\n",
              "      background-color: #3B4455;\n",
              "      fill: #D2E3FC;\n",
              "    }\n",
              "\n",
              "    [theme=dark] .colab-df-convert:hover {\n",
              "      background-color: #434B5C;\n",
              "      box-shadow: 0px 1px 3px 1px rgba(0, 0, 0, 0.15);\n",
              "      filter: drop-shadow(0px 1px 2px rgba(0, 0, 0, 0.3));\n",
              "      fill: #FFFFFF;\n",
              "    }\n",
              "  </style>\n",
              "\n",
              "    <script>\n",
              "      const buttonEl =\n",
              "        document.querySelector('#df-6f3a88a9-abf8-48bb-a686-9ff327007221 button.colab-df-convert');\n",
              "      buttonEl.style.display =\n",
              "        google.colab.kernel.accessAllowed ? 'block' : 'none';\n",
              "\n",
              "      async function convertToInteractive(key) {\n",
              "        const element = document.querySelector('#df-6f3a88a9-abf8-48bb-a686-9ff327007221');\n",
              "        const dataTable =\n",
              "          await google.colab.kernel.invokeFunction('convertToInteractive',\n",
              "                                                    [key], {});\n",
              "        if (!dataTable) return;\n",
              "\n",
              "        const docLinkHtml = 'Like what you see? Visit the ' +\n",
              "          '<a target=\"_blank\" href=https://colab.research.google.com/notebooks/data_table.ipynb>data table notebook</a>'\n",
              "          + ' to learn more about interactive tables.';\n",
              "        element.innerHTML = '';\n",
              "        dataTable['output_type'] = 'display_data';\n",
              "        await google.colab.output.renderOutput(dataTable, element);\n",
              "        const docLink = document.createElement('div');\n",
              "        docLink.innerHTML = docLinkHtml;\n",
              "        element.appendChild(docLink);\n",
              "      }\n",
              "    </script>\n",
              "  </div>\n",
              "\n",
              "\n",
              "<div id=\"df-5acf6358-d5cb-43bc-ad80-bfef8316ea92\">\n",
              "  <button class=\"colab-df-quickchart\" onclick=\"quickchart('df-5acf6358-d5cb-43bc-ad80-bfef8316ea92')\"\n",
              "            title=\"Suggest charts\"\n",
              "            style=\"display:none;\">\n",
              "\n",
              "<svg xmlns=\"http://www.w3.org/2000/svg\" height=\"24px\"viewBox=\"0 0 24 24\"\n",
              "     width=\"24px\">\n",
              "    <g>\n",
              "        <path d=\"M19 3H5c-1.1 0-2 .9-2 2v14c0 1.1.9 2 2 2h14c1.1 0 2-.9 2-2V5c0-1.1-.9-2-2-2zM9 17H7v-7h2v7zm4 0h-2V7h2v10zm4 0h-2v-4h2v4z\"/>\n",
              "    </g>\n",
              "</svg>\n",
              "  </button>\n",
              "\n",
              "<style>\n",
              "  .colab-df-quickchart {\n",
              "      --bg-color: #E8F0FE;\n",
              "      --fill-color: #1967D2;\n",
              "      --hover-bg-color: #E2EBFA;\n",
              "      --hover-fill-color: #174EA6;\n",
              "      --disabled-fill-color: #AAA;\n",
              "      --disabled-bg-color: #DDD;\n",
              "  }\n",
              "\n",
              "  [theme=dark] .colab-df-quickchart {\n",
              "      --bg-color: #3B4455;\n",
              "      --fill-color: #D2E3FC;\n",
              "      --hover-bg-color: #434B5C;\n",
              "      --hover-fill-color: #FFFFFF;\n",
              "      --disabled-bg-color: #3B4455;\n",
              "      --disabled-fill-color: #666;\n",
              "  }\n",
              "\n",
              "  .colab-df-quickchart {\n",
              "    background-color: var(--bg-color);\n",
              "    border: none;\n",
              "    border-radius: 50%;\n",
              "    cursor: pointer;\n",
              "    display: none;\n",
              "    fill: var(--fill-color);\n",
              "    height: 32px;\n",
              "    padding: 0;\n",
              "    width: 32px;\n",
              "  }\n",
              "\n",
              "  .colab-df-quickchart:hover {\n",
              "    background-color: var(--hover-bg-color);\n",
              "    box-shadow: 0 1px 2px rgba(60, 64, 67, 0.3), 0 1px 3px 1px rgba(60, 64, 67, 0.15);\n",
              "    fill: var(--button-hover-fill-color);\n",
              "  }\n",
              "\n",
              "  .colab-df-quickchart-complete:disabled,\n",
              "  .colab-df-quickchart-complete:disabled:hover {\n",
              "    background-color: var(--disabled-bg-color);\n",
              "    fill: var(--disabled-fill-color);\n",
              "    box-shadow: none;\n",
              "  }\n",
              "\n",
              "  .colab-df-spinner {\n",
              "    border: 2px solid var(--fill-color);\n",
              "    border-color: transparent;\n",
              "    border-bottom-color: var(--fill-color);\n",
              "    animation:\n",
              "      spin 1s steps(1) infinite;\n",
              "  }\n",
              "\n",
              "  @keyframes spin {\n",
              "    0% {\n",
              "      border-color: transparent;\n",
              "      border-bottom-color: var(--fill-color);\n",
              "      border-left-color: var(--fill-color);\n",
              "    }\n",
              "    20% {\n",
              "      border-color: transparent;\n",
              "      border-left-color: var(--fill-color);\n",
              "      border-top-color: var(--fill-color);\n",
              "    }\n",
              "    30% {\n",
              "      border-color: transparent;\n",
              "      border-left-color: var(--fill-color);\n",
              "      border-top-color: var(--fill-color);\n",
              "      border-right-color: var(--fill-color);\n",
              "    }\n",
              "    40% {\n",
              "      border-color: transparent;\n",
              "      border-right-color: var(--fill-color);\n",
              "      border-top-color: var(--fill-color);\n",
              "    }\n",
              "    60% {\n",
              "      border-color: transparent;\n",
              "      border-right-color: var(--fill-color);\n",
              "    }\n",
              "    80% {\n",
              "      border-color: transparent;\n",
              "      border-right-color: var(--fill-color);\n",
              "      border-bottom-color: var(--fill-color);\n",
              "    }\n",
              "    90% {\n",
              "      border-color: transparent;\n",
              "      border-bottom-color: var(--fill-color);\n",
              "    }\n",
              "  }\n",
              "</style>\n",
              "\n",
              "  <script>\n",
              "    async function quickchart(key) {\n",
              "      const quickchartButtonEl =\n",
              "        document.querySelector('#' + key + ' button');\n",
              "      quickchartButtonEl.disabled = true;  // To prevent multiple clicks.\n",
              "      quickchartButtonEl.classList.add('colab-df-spinner');\n",
              "      try {\n",
              "        const charts = await google.colab.kernel.invokeFunction(\n",
              "            'suggestCharts', [key], {});\n",
              "      } catch (error) {\n",
              "        console.error('Error during call to suggestCharts:', error);\n",
              "      }\n",
              "      quickchartButtonEl.classList.remove('colab-df-spinner');\n",
              "      quickchartButtonEl.classList.add('colab-df-quickchart-complete');\n",
              "    }\n",
              "    (() => {\n",
              "      let quickchartButtonEl =\n",
              "        document.querySelector('#df-5acf6358-d5cb-43bc-ad80-bfef8316ea92 button');\n",
              "      quickchartButtonEl.style.display =\n",
              "        google.colab.kernel.accessAllowed ? 'block' : 'none';\n",
              "    })();\n",
              "  </script>\n",
              "</div>\n",
              "\n",
              "    </div>\n",
              "  </div>\n"
            ],
            "application/vnd.google.colaboratory.intrinsic+json": {
              "type": "dataframe",
              "variable_name": "df_renamed",
              "summary": "{\n  \"name\": \"df_renamed\",\n  \"rows\": 10000,\n  \"fields\": [\n    {\n      \"column\": \"Unnamed: 0\",\n      \"properties\": {\n        \"dtype\": \"number\",\n        \"std\": 60667,\n        \"min\": 59,\n        \"max\": 210911,\n        \"num_unique_values\": 10000,\n        \"samples\": [\n          130122,\n          100167,\n          34140\n        ],\n        \"semantic_type\": \"\",\n        \"description\": \"\"\n      }\n    },\n    {\n      \"column\": \"rating\",\n      \"properties\": {\n        \"dtype\": \"number\",\n        \"std\": 1,\n        \"min\": 1,\n        \"max\": 5,\n        \"num_unique_values\": 5,\n        \"samples\": [\n          4,\n          3,\n          2\n        ],\n        \"semantic_type\": \"\",\n        \"description\": \"\"\n      }\n    },\n    {\n      \"column\": \"review_title\",\n      \"properties\": {\n        \"dtype\": \"string\",\n        \"num_unique_values\": 7699,\n        \"samples\": [\n          \"Would repurchase\",\n          \"Good product at good price.\",\n          \"Great tool\"\n        ],\n        \"semantic_type\": \"\",\n        \"description\": \"\"\n      }\n    },\n    {\n      \"column\": \"review_text\",\n      \"properties\": {\n        \"dtype\": \"string\",\n        \"num_unique_values\": 9708,\n        \"samples\": [\n          \"Great product.The textures,the sheerness and the wrinklessness is superior.\",\n          \"Not what I expected very small\",\n          \"Highly recommend this product if you have your own garden\"\n        ],\n        \"semantic_type\": \"\",\n        \"description\": \"\"\n      }\n    },\n    {\n      \"column\": \"images\",\n      \"properties\": {\n        \"dtype\": \"category\",\n        \"num_unique_values\": 946,\n        \"samples\": [\n          \"[{'small_image_url': 'https://images-na.ssl-images-amazon.com/images/I/71JQaZQQ8pL._SL256_.jpg', 'medium_image_url': 'https://images-na.ssl-images-amazon.com/images/I/71JQaZQQ8pL._SL800_.jpg', 'large_image_url': 'https://images-na.ssl-images-amazon.com/images/I/71JQaZQQ8pL.jpg', 'attachment_type': 'IMAGE'}, {'small_image_url': 'https://images-na.ssl-images-amazon.com/images/I/811tRjaq3zL._SL256_.jpg', 'medium_image_url': 'https://images-na.ssl-images-amazon.com/images/I/811tRjaq3zL._SL800_.jpg', 'large_image_url': 'https://images-na.ssl-images-amazon.com/images/I/811tRjaq3zL.jpg', 'attachment_type': 'IMAGE'}]\",\n          \"[{'small_image_url': 'https://images-na.ssl-images-amazon.com/images/I/61mf7HXPgZL._SL256_.jpg', 'medium_image_url': 'https://images-na.ssl-images-amazon.com/images/I/61mf7HXPgZL._SL800_.jpg', 'large_image_url': 'https://images-na.ssl-images-amazon.com/images/I/61mf7HXPgZL._SL1600_.jpg', 'attachment_type': 'IMAGE'}]\",\n          \"[{'small_image_url': 'https://images-na.ssl-images-amazon.com/images/I/71790PSVdUL._SL256_.jpg', 'medium_image_url': 'https://images-na.ssl-images-amazon.com/images/I/71790PSVdUL._SL800_.jpg', 'large_image_url': 'https://images-na.ssl-images-amazon.com/images/I/71790PSVdUL.jpg', 'attachment_type': 'IMAGE'}]\"\n        ],\n        \"semantic_type\": \"\",\n        \"description\": \"\"\n      }\n    },\n    {\n      \"column\": \"asin\",\n      \"properties\": {\n        \"dtype\": \"string\",\n        \"num_unique_values\": 7480,\n        \"samples\": [\n          \"B01LNSPL88\",\n          \"B0BHTZJG5M\",\n          \"B089WJH8G7\"\n        ],\n        \"semantic_type\": \"\",\n        \"description\": \"\"\n      }\n    },\n    {\n      \"column\": \"parent_asin\",\n      \"properties\": {\n        \"dtype\": \"category\",\n        \"num_unique_values\": 3341,\n        \"samples\": [\n          \"B07CP6J6FM\",\n          \"B07Z62231J\",\n          \"B072B83P49\"\n        ],\n        \"semantic_type\": \"\",\n        \"description\": \"\"\n      }\n    },\n    {\n      \"column\": \"user_id\",\n      \"properties\": {\n        \"dtype\": \"category\",\n        \"num_unique_values\": 4942,\n        \"samples\": [\n          \"AE3LOM7QWQC2PDQJ3KDBWSTIAEXA\",\n          \"AEHDGDO56R6SF2O4MBDD4TIKJE7Q\",\n          \"AFYKLS6DY6EJZBQHVXGZJRYPPZNA\"\n        ],\n        \"semantic_type\": \"\",\n        \"description\": \"\"\n      }\n    },\n    {\n      \"column\": \"timestamp\",\n      \"properties\": {\n        \"dtype\": \"object\",\n        \"num_unique_values\": 9999,\n        \"samples\": [\n          \"2019-07-07 00:10:44.151\",\n          \"2019-12-12 04:11:20.238\",\n          \"2020-05-16 17:28:20.642\"\n        ],\n        \"semantic_type\": \"\",\n        \"description\": \"\"\n      }\n    },\n    {\n      \"column\": \"helpful_vote\",\n      \"properties\": {\n        \"dtype\": \"number\",\n        \"std\": 29,\n        \"min\": 0,\n        \"max\": 2690,\n        \"num_unique_values\": 77,\n        \"samples\": [\n          53,\n          15,\n          7\n        ],\n        \"semantic_type\": \"\",\n        \"description\": \"\"\n      }\n    },\n    {\n      \"column\": \"verified_purchase\",\n      \"properties\": {\n        \"dtype\": \"boolean\",\n        \"num_unique_values\": 2,\n        \"samples\": [\n          false,\n          true\n        ],\n        \"semantic_type\": \"\",\n        \"description\": \"\"\n      }\n    },\n    {\n      \"column\": \"product_title\",\n      \"properties\": {\n        \"dtype\": \"category\",\n        \"num_unique_values\": 3341,\n        \"samples\": [\n          \"Tim & Tina Silk Satin Square Decorative Throw Pillow Case Cushion Cover (18\\\" x 18\\\", Ivory)\",\n          \"confibona Lightweight 90% White Down Comforter/Blanket,California/Oversized King Size,Duvet Insert for Summer/Warm Weather,Machine Washable,White\"\n        ],\n        \"semantic_type\": \"\",\n        \"description\": \"\"\n      }\n    },\n    {\n      \"column\": \"description\",\n      \"properties\": {\n        \"dtype\": \"category\",\n        \"num_unique_values\": 1270,\n        \"samples\": [\n          \"['TEJATAN Double Curtain Rod Brackets - Black']\",\n          \"[\\\"La Cuisine's PRO Round 5 Qt. Cast Iron Casserole can be used to rustle up all sorts of mouth-watering dishes cooked on the stovetop or in the oven. La Cuisine's PRO cast iron cookware is crafted using sand molds, which are used only once, forging a lighter product with a very fine enamel finish that is truly unique. Wonderfully versatile, La Cuisine's PRO round casseroles are suited to the oven and all cooktops, including induction. Food heats through evenly and remains hot until served. The non-toxic, matte black enamel interior surface is scratch-resistant, stain-resistant, gives excellent food release that improves through continued use, and is simple to clean \\u2013 just wash in warm water. Perfect for professional and domestic cooks alike, La Cuisine PRO gives you no-fuss, healthy cooking that looks great as it goes straight from cooking on the stovetop or in the oven to serving at the table or buffet (our trivets, sold separately, are recommended for table/buffet use).\\\"]\"\n        ],\n        \"semantic_type\": \"\",\n        \"description\": \"\"\n      }\n    },\n    {\n      \"column\": \"price\",\n      \"properties\": {\n        \"dtype\": \"number\",\n        \"std\": 55.48134945573987,\n        \"min\": 2.5,\n        \"max\": 1295.0,\n        \"num_unique_values\": 1089,\n        \"samples\": [\n          48.49,\n          29.95\n        ],\n        \"semantic_type\": \"\",\n        \"description\": \"\"\n      }\n    },\n    {\n      \"column\": \"Brand\",\n      \"properties\": {\n        \"dtype\": \"category\",\n        \"num_unique_values\": 2295,\n        \"samples\": [\n          \"HOSL\",\n          \"OMyTea\"\n        ],\n        \"semantic_type\": \"\",\n        \"description\": \"\"\n      }\n    },\n    {\n      \"column\": \"Material\",\n      \"properties\": {\n        \"dtype\": \"category\",\n        \"num_unique_values\": 606,\n        \"samples\": [\n          \"Microfiber feather yarn\",\n          \"Engineered Wood, Wood\"\n        ],\n        \"semantic_type\": \"\",\n        \"description\": \"\"\n      }\n    },\n    {\n      \"column\": \"Color\",\n      \"properties\": {\n        \"dtype\": \"category\",\n        \"num_unique_values\": 1494,\n        \"samples\": [\n          \"Olive\",\n          \"Brushed Chrome\"\n        ],\n        \"semantic_type\": \"\",\n        \"description\": \"\"\n      }\n    },\n    {\n      \"column\": \"categories\",\n      \"properties\": {\n        \"dtype\": \"category\",\n        \"num_unique_values\": 610,\n        \"samples\": [\n          \"['Home & Kitchen', 'Bath', 'Towels', 'Bath Towels']\",\n          \"['Home & Kitchen', 'Kitchen & Dining', 'Dining & Entertaining', 'Glassware & Drinkware', 'Cups, Mugs, & Saucers', 'Teacups']\"\n        ],\n        \"semantic_type\": \"\",\n        \"description\": \"\"\n      }\n    }\n  ]\n}"
            }
          },
          "metadata": {},
          "execution_count": 167
        }
      ]
    },
    {
      "cell_type": "markdown",
      "source": [
        "**Text Pre-processsing **\n",
        "\n",
        "* Used a lemmatizer for review title and review text\n",
        "* This improve accuracy: By grouping similar words together and it can help the model understand the meaning of text better.\n",
        "* It can reduce noise: It can help remove redundant information from your text data.\n",
        "* Improve efficiency: It can help reduce the size of your vocabulary and speed up your analysis."
      ],
      "metadata": {
        "id": "q4kjpzGogcQC"
      }
    },
    {
      "cell_type": "code",
      "source": [
        "import nltk\n",
        "from nltk.corpus import stopwords\n",
        "from nltk.tokenize import word_tokenize\n",
        "from nltk.stem import WordNetLemmatizer\n",
        "\n",
        "# Download stopwords and punkt if not already downloaded\n",
        "nltk.download('stopwords')\n",
        "nltk.download('punkt')\n",
        "nltk.download('punkt_tab')\n",
        "nltk.download('wordnet')\n",
        "lemmatizer = WordNetLemmatizer()\n",
        "stop_words = set(stopwords.words('english'))\n",
        "\n",
        "def preprocess_text(text):\n",
        "    # Tokenize text\n",
        "    tokens = word_tokenize(text.lower())  # Convert to lowercase and tokenize\n",
        "    # Remove stop words and lemmatize\n",
        "    cleaned_tokens = [lemmatizer.lemmatize(word) for word in tokens if word.isalpha() and word not in stop_words]\n",
        "    return \" \".join(cleaned_tokens)\n",
        "\n",
        "# Apply preprocessing to your review text\n",
        "df_renamed['processed_review'] = df_renamed['review_title'].astype(str) +  df_renamed['review_text'].astype(str).apply(preprocess_text)\n"
      ],
      "metadata": {
        "outputId": "faa1c5a2-412f-4488-f2a0-8eeca8928b99",
        "colab": {
          "base_uri": "https://localhost:8080/"
        },
        "id": "mnhZe5tIc0ma"
      },
      "execution_count": 168,
      "outputs": [
        {
          "output_type": "stream",
          "name": "stderr",
          "text": [
            "[nltk_data] Downloading package stopwords to /root/nltk_data...\n",
            "[nltk_data]   Package stopwords is already up-to-date!\n",
            "[nltk_data] Downloading package punkt to /root/nltk_data...\n",
            "[nltk_data]   Package punkt is already up-to-date!\n",
            "[nltk_data] Downloading package punkt_tab to /root/nltk_data...\n",
            "[nltk_data]   Package punkt_tab is already up-to-date!\n",
            "[nltk_data] Downloading package wordnet to /root/nltk_data...\n",
            "[nltk_data]   Package wordnet is already up-to-date!\n"
          ]
        }
      ]
    },
    {
      "cell_type": "code",
      "source": [
        "df_renamed['processed_review'].head(2)"
      ],
      "metadata": {
        "id": "pSiaz3pogNt_",
        "outputId": "87c1c39b-bd07-4f47-8c98-913dced29415",
        "colab": {
          "base_uri": "https://localhost:8080/",
          "height": 147
        }
      },
      "execution_count": 169,
      "outputs": [
        {
          "output_type": "execute_result",
          "data": {
            "text/plain": [
              "0    Adorable!sweet wish stopper part little longer...\n",
              "1    Stailess, healthier than coated pansgreat litt...\n",
              "Name: processed_review, dtype: object"
            ],
            "text/html": [
              "<div>\n",
              "<style scoped>\n",
              "    .dataframe tbody tr th:only-of-type {\n",
              "        vertical-align: middle;\n",
              "    }\n",
              "\n",
              "    .dataframe tbody tr th {\n",
              "        vertical-align: top;\n",
              "    }\n",
              "\n",
              "    .dataframe thead th {\n",
              "        text-align: right;\n",
              "    }\n",
              "</style>\n",
              "<table border=\"1\" class=\"dataframe\">\n",
              "  <thead>\n",
              "    <tr style=\"text-align: right;\">\n",
              "      <th></th>\n",
              "      <th>processed_review</th>\n",
              "    </tr>\n",
              "  </thead>\n",
              "  <tbody>\n",
              "    <tr>\n",
              "      <th>0</th>\n",
              "      <td>Adorable!sweet wish stopper part little longer...</td>\n",
              "    </tr>\n",
              "    <tr>\n",
              "      <th>1</th>\n",
              "      <td>Stailess, healthier than coated pansgreat litt...</td>\n",
              "    </tr>\n",
              "  </tbody>\n",
              "</table>\n",
              "</div><br><label><b>dtype:</b> object</label>"
            ]
          },
          "metadata": {},
          "execution_count": 169
        }
      ]
    },
    {
      "cell_type": "code",
      "source": [
        "df_renamed[\"categories\"].value_counts().sort_values(ascending=False).head(10)"
      ],
      "metadata": {
        "colab": {
          "base_uri": "https://localhost:8080/",
          "height": 429
        },
        "id": "8RXxKmWXs_Y5",
        "outputId": "95ce04de-2f67-4c01-a1f4-6df03ef8f186"
      },
      "execution_count": 170,
      "outputs": [
        {
          "output_type": "execute_result",
          "data": {
            "text/plain": [
              "categories\n",
              "['Home & Kitchen', 'Bedding', 'Sheets & Pillowcases', 'Sheet & Pillowcase Sets']                                        1153\n",
              "['Home & Kitchen', 'Home Décor Products', 'Window Treatments', 'Curtains & Drapes', 'Panels']                            560\n",
              "['Home & Kitchen', 'Bedding', 'Decorative Pillows, Inserts & Covers', 'Throw Pillow Covers']                             303\n",
              "['Home & Kitchen', 'Bedding', 'Sheets & Pillowcases', 'Pillowcases']                                                     289\n",
              "['Home & Kitchen', 'Bedding', 'Blankets & Throws', 'Throws']                                                             257\n",
              "['Home & Kitchen', 'Bath', 'Bath Rugs']                                                                                  224\n",
              "['Home & Kitchen', 'Home Décor Products', 'Slipcovers', 'Sofa Slipcovers']                                               220\n",
              "['Home & Kitchen', 'Kitchen & Dining', 'Kitchen & Table Linens', 'Tablecloths']                                          203\n",
              "['Home & Kitchen', 'Kitchen & Dining', 'Dining & Entertaining', 'Glassware & Drinkware', 'Tumblers & Water Glasses']     199\n",
              "['Home & Kitchen', 'Bedding', 'Sheets & Pillowcases', 'Fitted Sheets']                                                   158\n",
              "Name: count, dtype: int64"
            ],
            "text/html": [
              "<div>\n",
              "<style scoped>\n",
              "    .dataframe tbody tr th:only-of-type {\n",
              "        vertical-align: middle;\n",
              "    }\n",
              "\n",
              "    .dataframe tbody tr th {\n",
              "        vertical-align: top;\n",
              "    }\n",
              "\n",
              "    .dataframe thead th {\n",
              "        text-align: right;\n",
              "    }\n",
              "</style>\n",
              "<table border=\"1\" class=\"dataframe\">\n",
              "  <thead>\n",
              "    <tr style=\"text-align: right;\">\n",
              "      <th></th>\n",
              "      <th>count</th>\n",
              "    </tr>\n",
              "    <tr>\n",
              "      <th>categories</th>\n",
              "      <th></th>\n",
              "    </tr>\n",
              "  </thead>\n",
              "  <tbody>\n",
              "    <tr>\n",
              "      <th>['Home &amp; Kitchen', 'Bedding', 'Sheets &amp; Pillowcases', 'Sheet &amp; Pillowcase Sets']</th>\n",
              "      <td>1153</td>\n",
              "    </tr>\n",
              "    <tr>\n",
              "      <th>['Home &amp; Kitchen', 'Home Décor Products', 'Window Treatments', 'Curtains &amp; Drapes', 'Panels']</th>\n",
              "      <td>560</td>\n",
              "    </tr>\n",
              "    <tr>\n",
              "      <th>['Home &amp; Kitchen', 'Bedding', 'Decorative Pillows, Inserts &amp; Covers', 'Throw Pillow Covers']</th>\n",
              "      <td>303</td>\n",
              "    </tr>\n",
              "    <tr>\n",
              "      <th>['Home &amp; Kitchen', 'Bedding', 'Sheets &amp; Pillowcases', 'Pillowcases']</th>\n",
              "      <td>289</td>\n",
              "    </tr>\n",
              "    <tr>\n",
              "      <th>['Home &amp; Kitchen', 'Bedding', 'Blankets &amp; Throws', 'Throws']</th>\n",
              "      <td>257</td>\n",
              "    </tr>\n",
              "    <tr>\n",
              "      <th>['Home &amp; Kitchen', 'Bath', 'Bath Rugs']</th>\n",
              "      <td>224</td>\n",
              "    </tr>\n",
              "    <tr>\n",
              "      <th>['Home &amp; Kitchen', 'Home Décor Products', 'Slipcovers', 'Sofa Slipcovers']</th>\n",
              "      <td>220</td>\n",
              "    </tr>\n",
              "    <tr>\n",
              "      <th>['Home &amp; Kitchen', 'Kitchen &amp; Dining', 'Kitchen &amp; Table Linens', 'Tablecloths']</th>\n",
              "      <td>203</td>\n",
              "    </tr>\n",
              "    <tr>\n",
              "      <th>['Home &amp; Kitchen', 'Kitchen &amp; Dining', 'Dining &amp; Entertaining', 'Glassware &amp; Drinkware', 'Tumblers &amp; Water Glasses']</th>\n",
              "      <td>199</td>\n",
              "    </tr>\n",
              "    <tr>\n",
              "      <th>['Home &amp; Kitchen', 'Bedding', 'Sheets &amp; Pillowcases', 'Fitted Sheets']</th>\n",
              "      <td>158</td>\n",
              "    </tr>\n",
              "  </tbody>\n",
              "</table>\n",
              "</div><br><label><b>dtype:</b> int64</label>"
            ]
          },
          "metadata": {},
          "execution_count": 170
        }
      ]
    },
    {
      "cell_type": "markdown",
      "source": [
        "\n",
        "\n",
        "*   Categories column Encoding\n",
        "*   Multi - Hot Encoding  \n",
        "* Convert the categories column from string '<list>' to list before passing it to multi lable binarizer\n",
        "* To do - you can use TD-IDF to extract important category words if required\n"
      ],
      "metadata": {
        "id": "v2keYyvnvfZo"
      }
    },
    {
      "cell_type": "code",
      "source": [
        "import ast\n",
        "df_encoded = df_renamed.copy()\n",
        "# Because the categories column is a string <list> , we have to convert it into a list before encoding\n",
        "df_encoded['categories'] = df_encoded['categories'].apply(lambda x: ast.literal_eval(x) if isinstance(x, str) else x)\n"
      ],
      "metadata": {
        "id": "Fx3SFl2QzoWx"
      },
      "execution_count": 171,
      "outputs": []
    },
    {
      "cell_type": "code",
      "source": [
        "print(df_encoded['categories'].head(5))"
      ],
      "metadata": {
        "colab": {
          "base_uri": "https://localhost:8080/"
        },
        "id": "tXZWsHR3zz6O",
        "outputId": "3ac0f3ba-c311-4a0e-df70-83daa13ed0fa"
      },
      "execution_count": 172,
      "outputs": [
        {
          "output_type": "stream",
          "name": "stdout",
          "text": [
            "0    [Home & Kitchen, Kitchen & Dining, Kitchen Ute...\n",
            "1    [Home & Kitchen, Kitchen & Dining, Cookware, P...\n",
            "2    [Home & Kitchen, Kitchen & Dining, Kitchen & T...\n",
            "3    [Home & Kitchen, Kitchen & Dining, Kitchen & T...\n",
            "4    [Home & Kitchen, Bedding, Sheets & Pillowcases...\n",
            "Name: categories, dtype: object\n"
          ]
        }
      ]
    },
    {
      "cell_type": "code",
      "source": [
        "from sklearn.preprocessing import MultiLabelBinarizer\n",
        "\n",
        "# Convert NaN or empty categories to empty lists\n",
        "df_encoded['categories'] = df_encoded['categories'].apply(lambda x: x if isinstance(x, list) else [])\n",
        "\n",
        "# Apply MultiLabelBinarizer\n",
        "mlb = MultiLabelBinarizer()\n",
        "categories_encoded = mlb.fit_transform(df_encoded['categories'])\n",
        "\n",
        "# Convert to DataFrame with category names as columns\n",
        "categories_df = pd.DataFrame(categories_encoded, columns=mlb.classes_)\n",
        "\n",
        "# Merge back with original DataFrame\n",
        "df = pd.concat([df_encoded, categories_df], axis=1)\n",
        "# df.drop(columns=['categories'], inplace=True)\n",
        "\n",
        "print(df.head(2))\n"
      ],
      "metadata": {
        "colab": {
          "base_uri": "https://localhost:8080/"
        },
        "id": "Jwz4rFZqvdeB",
        "outputId": "a628c3a9-8569-4085-a905-636858849384"
      },
      "execution_count": 173,
      "outputs": [
        {
          "output_type": "stream",
          "name": "stdout",
          "text": [
            "   Unnamed: 0  rating                          review_title  \\\n",
            "0          59       5                             Adorable!   \n",
            "1          87       5  Stailess, healthier than coated pans   \n",
            "\n",
            "                                         review_text images        asin  \\\n",
            "0  These are so sweet. I do wish the stopper part...     []  B01HBWGU80   \n",
            "1  Great little stainless steel, balanced, good w...     []  B07T5CRVKQ   \n",
            "\n",
            "  parent_asin                       user_id                timestamp  \\\n",
            "0  B01DR2ACA0  AGKHLEW2SOWHNMFQIJGBECAF7INQ  2019-07-23 04:29:16.671   \n",
            "1  B08C7JYKZH  AEVWAM3YWN5URJVJIZZ6XPD2MKIA  2020-11-02 22:09:44.073   \n",
            "\n",
            "   helpful_vote  ...  Wine Pourers Wine Racks & Cabinets Wine Stoppers  \\\n",
            "0             0  ...             0                     0             1   \n",
            "1             1  ...             0                     0             0   \n",
            "\n",
            "   Wine Stoppers & Pourers Woks & Stir-Fry Pans Wreath Hangers Wreaths  \\\n",
            "0                        1                    0              0       0   \n",
            "1                        0                    0              0       0   \n",
            "\n",
            "  Wreaths, Garlands & Swags Zesters  bathroom  \n",
            "0                         0       0         0  \n",
            "1                         0       0         0  \n",
            "\n",
            "[2 rows x 781 columns]\n"
          ]
        }
      ]
    },
    {
      "cell_type": "code",
      "source": [
        "# print(categories_df.columns)  # Displays the binary-encoded category column names\n",
        "\n",
        "print(df.info)  # Categories are now binary-encoded"
      ],
      "metadata": {
        "colab": {
          "base_uri": "https://localhost:8080/"
        },
        "id": "al-lcktuwAoa",
        "outputId": "7850d28b-85eb-4e61-a8a1-f11fb405e1b4"
      },
      "execution_count": 174,
      "outputs": [
        {
          "output_type": "stream",
          "name": "stdout",
          "text": [
            "<bound method DataFrame.info of       Unnamed: 0  rating                          review_title  \\\n",
            "0             59       5                             Adorable!   \n",
            "1             87       5  Stailess, healthier than coated pans   \n",
            "2             89       5               Pretty colors available   \n",
            "3             90       4                         Nice material   \n",
            "4             93       4                      Love the zipper!   \n",
            "...          ...     ...                                   ...   \n",
            "9995      210824       5                                  Nice   \n",
            "9996      210827       3                          Okay towels.   \n",
            "9997      210880       4                  Good mattress cover.   \n",
            "9998      210882       3       Severely wrinkled after washing   \n",
            "9999      210911       1                               Blanket   \n",
            "\n",
            "                                            review_text images        asin  \\\n",
            "0     These are so sweet. I do wish the stopper part...     []  B01HBWGU80   \n",
            "1     Great little stainless steel, balanced, good w...     []  B07T5CRVKQ   \n",
            "2     Nice thin placemats of good size. Can be used ...     []  B07JRGZG6F   \n",
            "3                    Very pretty, wish they came bigger     []  B00TW2M6YA   \n",
            "4     The red is a deeper red rather than a bright r...     []  B01N6C4XJ7   \n",
            "...                                                 ...    ...         ...   \n",
            "9995                             Seem fine. Sleep well.     []  B06X9M6CW7   \n",
            "9996      Not as absorbing or soft as I was hoping for.     []  B07ZS4LC7K   \n",
            "9997    Nice mattress cover - like that is water proof.     []  B08V927W15   \n",
            "9998  Not something I would buy again. Took them out...     []  B00NKKQX76   \n",
            "9999             The blanket sheds so bad I returned it     []  B084RHWV39   \n",
            "\n",
            "     parent_asin                       user_id                timestamp  \\\n",
            "0     B01DR2ACA0  AGKHLEW2SOWHNMFQIJGBECAF7INQ  2019-07-23 04:29:16.671   \n",
            "1     B08C7JYKZH  AEVWAM3YWN5URJVJIZZ6XPD2MKIA  2020-11-02 22:09:44.073   \n",
            "2     B0BYYYQ354  AEVWAM3YWN5URJVJIZZ6XPD2MKIA  2019-04-23 18:20:11.716   \n",
            "3     B01N1411P6  AEVWAM3YWN5URJVJIZZ6XPD2MKIA  2019-04-23 18:17:55.301   \n",
            "4     B07BL41FQX  AEVWAM3YWN5URJVJIZZ6XPD2MKIA  2018-11-18 01:28:18.503   \n",
            "...          ...                           ...                      ...   \n",
            "9995  B0BRBSNXNT  AF3VDSE5IXDSWCKFMS6IOQDPGAOQ  2020-03-19 13:36:32.546   \n",
            "9996  B0C4M1QBDR  AF3VDSE5IXDSWCKFMS6IOQDPGAOQ  2020-01-24 04:32:39.816   \n",
            "9997  B09KRM734X  AGS3AJVWEH6OKZRNQDB7GJIWVQMA  2021-08-25 21:49:49.635   \n",
            "9998  B0B2MLT6FR  AGS3AJVWEH6OKZRNQDB7GJIWVQMA  2021-07-03 01:42:58.272   \n",
            "9999  B07N1F94DD  AEHKQUFGNRVGXZBNKTJRYA2VUTRQ  2021-02-03 13:47:08.491   \n",
            "\n",
            "      helpful_vote  ...  Wine Pourers Wine Racks & Cabinets Wine Stoppers  \\\n",
            "0                0  ...             0                     0             1   \n",
            "1                1  ...             0                     0             0   \n",
            "2                0  ...             0                     0             0   \n",
            "3                0  ...             0                     0             0   \n",
            "4                1  ...             0                     0             0   \n",
            "...            ...  ...           ...                   ...           ...   \n",
            "9995             0  ...             0                     0             0   \n",
            "9996             0  ...             0                     0             0   \n",
            "9997             0  ...             0                     0             0   \n",
            "9998             0  ...             0                     0             0   \n",
            "9999             0  ...             0                     0             0   \n",
            "\n",
            "      Wine Stoppers & Pourers Woks & Stir-Fry Pans Wreath Hangers Wreaths  \\\n",
            "0                           1                    0              0       0   \n",
            "1                           0                    0              0       0   \n",
            "2                           0                    0              0       0   \n",
            "3                           0                    0              0       0   \n",
            "4                           0                    0              0       0   \n",
            "...                       ...                  ...            ...     ...   \n",
            "9995                        0                    0              0       0   \n",
            "9996                        0                    0              0       0   \n",
            "9997                        0                    0              0       0   \n",
            "9998                        0                    0              0       0   \n",
            "9999                        0                    0              0       0   \n",
            "\n",
            "     Wreaths, Garlands & Swags Zesters  bathroom  \n",
            "0                            0       0         0  \n",
            "1                            0       0         0  \n",
            "2                            0       0         0  \n",
            "3                            0       0         0  \n",
            "4                            0       0         0  \n",
            "...                        ...     ...       ...  \n",
            "9995                         0       0         0  \n",
            "9996                         0       0         0  \n",
            "9997                         0       0         0  \n",
            "9998                         0       0         0  \n",
            "9999                         0       0         0  \n",
            "\n",
            "[10000 rows x 781 columns]>\n"
          ]
        }
      ]
    },
    {
      "cell_type": "markdown",
      "source": [],
      "metadata": {
        "id": "osiyVBaQveMS"
      }
    },
    {
      "cell_type": "markdown",
      "source": [],
      "metadata": {
        "id": "0d7ZSrWB20PC"
      }
    },
    {
      "cell_type": "markdown",
      "source": [
        "\n",
        "* Convert category into embeddings rather than converting categories into many columns\n",
        "* Instead of converting categories into many columns , we can assign a unique index to each category and use an embedding layer in the neural network\n",
        "\n",
        "* THIS FAILED\n",
        "\n"
      ],
      "metadata": {
        "id": "0bnJJHSw3TpT"
      }
    },
    {
      "cell_type": "code",
      "source": [
        "df_renamed[\"categories\"].value_counts().sort_values(ascending=False).head(10)"
      ],
      "metadata": {
        "colab": {
          "base_uri": "https://localhost:8080/",
          "height": 429
        },
        "id": "wm518i2W21RB",
        "outputId": "cedfbb4b-956b-4daf-d141-9bc712703337"
      },
      "execution_count": 175,
      "outputs": [
        {
          "output_type": "execute_result",
          "data": {
            "text/plain": [
              "categories\n",
              "['Home & Kitchen', 'Bedding', 'Sheets & Pillowcases', 'Sheet & Pillowcase Sets']                                        1153\n",
              "['Home & Kitchen', 'Home Décor Products', 'Window Treatments', 'Curtains & Drapes', 'Panels']                            560\n",
              "['Home & Kitchen', 'Bedding', 'Decorative Pillows, Inserts & Covers', 'Throw Pillow Covers']                             303\n",
              "['Home & Kitchen', 'Bedding', 'Sheets & Pillowcases', 'Pillowcases']                                                     289\n",
              "['Home & Kitchen', 'Bedding', 'Blankets & Throws', 'Throws']                                                             257\n",
              "['Home & Kitchen', 'Bath', 'Bath Rugs']                                                                                  224\n",
              "['Home & Kitchen', 'Home Décor Products', 'Slipcovers', 'Sofa Slipcovers']                                               220\n",
              "['Home & Kitchen', 'Kitchen & Dining', 'Kitchen & Table Linens', 'Tablecloths']                                          203\n",
              "['Home & Kitchen', 'Kitchen & Dining', 'Dining & Entertaining', 'Glassware & Drinkware', 'Tumblers & Water Glasses']     199\n",
              "['Home & Kitchen', 'Bedding', 'Sheets & Pillowcases', 'Fitted Sheets']                                                   158\n",
              "Name: count, dtype: int64"
            ],
            "text/html": [
              "<div>\n",
              "<style scoped>\n",
              "    .dataframe tbody tr th:only-of-type {\n",
              "        vertical-align: middle;\n",
              "    }\n",
              "\n",
              "    .dataframe tbody tr th {\n",
              "        vertical-align: top;\n",
              "    }\n",
              "\n",
              "    .dataframe thead th {\n",
              "        text-align: right;\n",
              "    }\n",
              "</style>\n",
              "<table border=\"1\" class=\"dataframe\">\n",
              "  <thead>\n",
              "    <tr style=\"text-align: right;\">\n",
              "      <th></th>\n",
              "      <th>count</th>\n",
              "    </tr>\n",
              "    <tr>\n",
              "      <th>categories</th>\n",
              "      <th></th>\n",
              "    </tr>\n",
              "  </thead>\n",
              "  <tbody>\n",
              "    <tr>\n",
              "      <th>['Home &amp; Kitchen', 'Bedding', 'Sheets &amp; Pillowcases', 'Sheet &amp; Pillowcase Sets']</th>\n",
              "      <td>1153</td>\n",
              "    </tr>\n",
              "    <tr>\n",
              "      <th>['Home &amp; Kitchen', 'Home Décor Products', 'Window Treatments', 'Curtains &amp; Drapes', 'Panels']</th>\n",
              "      <td>560</td>\n",
              "    </tr>\n",
              "    <tr>\n",
              "      <th>['Home &amp; Kitchen', 'Bedding', 'Decorative Pillows, Inserts &amp; Covers', 'Throw Pillow Covers']</th>\n",
              "      <td>303</td>\n",
              "    </tr>\n",
              "    <tr>\n",
              "      <th>['Home &amp; Kitchen', 'Bedding', 'Sheets &amp; Pillowcases', 'Pillowcases']</th>\n",
              "      <td>289</td>\n",
              "    </tr>\n",
              "    <tr>\n",
              "      <th>['Home &amp; Kitchen', 'Bedding', 'Blankets &amp; Throws', 'Throws']</th>\n",
              "      <td>257</td>\n",
              "    </tr>\n",
              "    <tr>\n",
              "      <th>['Home &amp; Kitchen', 'Bath', 'Bath Rugs']</th>\n",
              "      <td>224</td>\n",
              "    </tr>\n",
              "    <tr>\n",
              "      <th>['Home &amp; Kitchen', 'Home Décor Products', 'Slipcovers', 'Sofa Slipcovers']</th>\n",
              "      <td>220</td>\n",
              "    </tr>\n",
              "    <tr>\n",
              "      <th>['Home &amp; Kitchen', 'Kitchen &amp; Dining', 'Kitchen &amp; Table Linens', 'Tablecloths']</th>\n",
              "      <td>203</td>\n",
              "    </tr>\n",
              "    <tr>\n",
              "      <th>['Home &amp; Kitchen', 'Kitchen &amp; Dining', 'Dining &amp; Entertaining', 'Glassware &amp; Drinkware', 'Tumblers &amp; Water Glasses']</th>\n",
              "      <td>199</td>\n",
              "    </tr>\n",
              "    <tr>\n",
              "      <th>['Home &amp; Kitchen', 'Bedding', 'Sheets &amp; Pillowcases', 'Fitted Sheets']</th>\n",
              "      <td>158</td>\n",
              "    </tr>\n",
              "  </tbody>\n",
              "</table>\n",
              "</div><br><label><b>dtype:</b> int64</label>"
            ]
          },
          "metadata": {},
          "execution_count": 175
        }
      ]
    },
    {
      "cell_type": "code",
      "source": [
        "# import tensorflow as tf\n",
        "# from tensorflow.keras.preprocessing.text import Tokenizer\n",
        "# from tensorflow.keras.preprocessing.sequence import pad_sequences\n",
        "\n",
        "# df_categories_tokenized = df_renamed.copy()\n",
        "\n",
        "# # Flatten all categories into a single list for tokenization\n",
        "# all_categories = [cat for sublist in df_categories_tokenized['categories'] for cat in sublist]\n",
        "\n",
        "# # Fit tokenizer on all unique categories\n",
        "# tokenizer = Tokenizer()\n",
        "# tokenizer.fit_on_texts(all_categories)\n",
        "\n",
        "# # Convert each row’s category list into a sequence of indexes\n",
        "# df_categories_tokenized['categories_tokenized'] = df_categories_tokenized['categories'].apply(lambda x: tokenizer.texts_to_sequences(x))\n",
        "\n",
        "#THE PADDING IS FAILING HERE\n",
        "\n",
        "# # Set MAX_CATEGORIES to a reasonable value, e.g., 100\n",
        "# MAX_CATEGORIES = 100\n",
        "\n",
        "# # Apply padding to make all sequences the same length\n",
        "# padded_categories = pad_sequences(df['categories_tokenized'], maxlen=MAX_CATEGORIES, padding='post')\n",
        "\n",
        "# # Convert the padded sequences into a DataFrame\n",
        "# df_padded = pd.DataFrame(padded_categories, columns=[f'category_{i+1}' for i in range(MAX_CATEGORIES)])\n",
        "\n",
        "# # Check the padded output\n",
        "# print(df_padded.head())  # Verify the first few rows of the padded categories\n",
        "\n",
        "\n"
      ],
      "metadata": {
        "id": "0TzcVDL23o9y"
      },
      "execution_count": 176,
      "outputs": []
    },
    {
      "cell_type": "code",
      "source": [
        "# # Check the first few entries\n",
        "# print(df_categories_tokenized['categories_tokenized'].head())\n",
        "\n",
        "# # Check if each entry is a list\n",
        "# print(df_categories_tokenized['categories_tokenized'].apply(type).value_counts())  # Should output list for each row\n",
        "\n",
        "# df_categories_tokenized['categories_tokenized'] = df_categories_tokenized['categories_tokenized'].apply(lambda x: x if isinstance(x, list) else [])\n",
        "\n",
        "# # Check again\n",
        "# print(df_categories_tokenized['categories_tokenized'].apply(type).value_counts())  # Should now show only list\n",
        "\n",
        "\n",
        "# # Replace any null values with empty lists\n",
        "# df_categories_tokenized['categories_tokenized'] = df_categories_tokenized['categories_tokenized'].apply(lambda x: x if isinstance(x, list) else [])\n",
        "\n",
        "# # Ensure there are no empty lists if needed\n",
        "# df_categories_tokenized['categories_tokenized'] = df_categories_tokenized['categories_tokenized'].apply(lambda x: x if len(x) > 0 else [])\n",
        "\n",
        "\n",
        "# # Check if any lists are empty\n",
        "# empty_lists = df_categories_tokenized['categories_tokenized'].apply(lambda x: len(x) == 0)\n",
        "# print(f\"Number of empty lists: {empty_lists.sum()}\")\n",
        "\n",
        "# # Optionally replace empty lists with a default value (e.g., empty list)\n",
        "# df_categories_tokenized['categories_tokenized'] = df_categories_tokenized['categories_tokenized'].apply(lambda x: x if len(x) > 0 else [0])\n",
        "\n",
        "# category_lengths = df_categories_tokenized['categories_tokenized'].apply(len)\n",
        "# print(f\"Max number of categories: {category_lengths.max()}\")\n",
        "# print(f\"Min number of categories: {category_lengths.min()}\")\n",
        "# print(f\"Mean number of categories: {category_lengths.mean()}\")\n",
        "# # Check the first few rows of 'category_sequences' to understand its structure\n",
        "# print(df_categories_tokenized['categories_tokenized'].head())\n",
        "\n",
        "\n",
        "\n",
        "\n"
      ],
      "metadata": {
        "id": "iQGY11coBDsL"
      },
      "execution_count": 177,
      "outputs": []
    },
    {
      "cell_type": "markdown",
      "source": [
        "\n",
        "\n",
        "*   Encode Review and Review TExt\n",
        "* Use TD-IDF for encoding review and review text\n",
        "* I had ensure there are no null values in review_Text\n",
        "\n"
      ],
      "metadata": {
        "id": "DNS6tXa1GT2I"
      }
    },
    {
      "cell_type": "code",
      "source": [
        "from sklearn.feature_extraction.text import TfidfVectorizer\n",
        "\n",
        "# Initialize TF-IDF Vectorizer\n",
        "tfidf_vectorizer = TfidfVectorizer(max_features=5000)  # You can adjust the number of features\n",
        "df['review_title'] = df['review_title'].fillna('No Review')\n",
        "df['review_text'] = df['review_text'].fillna('No Review')\n",
        "\n",
        "# Fit and transform the review title and review text\n",
        "X_title = tfidf_vectorizer.fit_transform(df['review_title'])\n",
        "X_text = tfidf_vectorizer.fit_transform(df['review_text'])\n",
        "\n",
        "# Convert to dense format (optional, depending on your model)\n",
        "X_title_dense = X_title.toarray()\n",
        "X_text_dense = X_text.toarray()\n",
        "\n",
        "# Check the shape of the TF-IDF encoded title and text\n",
        "print(f\"Shape of review title matrix: {X_title_dense.shape}\")\n",
        "print(f\"Shape of review text matrix: {X_text_dense.shape}\")\n"
      ],
      "metadata": {
        "id": "_lqb4hErGoK_",
        "colab": {
          "base_uri": "https://localhost:8080/"
        },
        "outputId": "10efda05-f08b-4ec8-8623-ac4bb9abce6f"
      },
      "execution_count": 178,
      "outputs": [
        {
          "output_type": "stream",
          "name": "stdout",
          "text": [
            "Shape of review title matrix: (10000, 3920)\n",
            "Shape of review text matrix: (10000, 5000)\n"
          ]
        }
      ]
    },
    {
      "cell_type": "markdown",
      "source": [
        "If you're using a neural network model, Word Embeddings such as Word2Vec, GloVe, or the Keras Embedding layer can be used to learn better semantic representations of words.\n",
        "\n",
        "THIS FAILED"
      ],
      "metadata": {
        "id": "oZWDboFTI2eB"
      }
    },
    {
      "cell_type": "code",
      "source": [
        "# from transformers import BertTokenizer, TFBertModel\n",
        "\n",
        "# # Load pre-trained BERT model and tokenizer\n",
        "# tokenizer = BertTokenizer.from_pretrained('bert-base-uncased')\n",
        "# model = TFBertModel.from_pretrained('bert-base-uncased')\n",
        "\n",
        "# # Tokenize the review titles and texts\n",
        "# inputs_title = tokenizer(df['review_title'].tolist(), return_tensors='tf', padding=True, truncation=True)\n",
        "# inputs_text = tokenizer(df['review_text'].tolist(), return_tensors='tf', padding=True, truncation=True)\n",
        "\n",
        "# # Get BERT embeddings (last hidden state)\n",
        "# output_title = model(inputs_title).last_hidden_state\n",
        "# output_text = model(inputs_text).last_hidden_state\n",
        "\n",
        "# # Use the last token embedding (or you can average all token embeddings) for the entire sequence\n",
        "# X_title_bert = output_title[:, 0, :]  # [CLS] token embedding\n",
        "# X_text_bert = output_text[:, 0, :]    # [CLS] token embedding\n"
      ],
      "metadata": {
        "id": "-67YxtyiIdc4"
      },
      "execution_count": 179,
      "outputs": []
    },
    {
      "cell_type": "markdown",
      "source": [
        "* Since transformers work with tokenized inputs,used  a pre-trained tokenizer.\n",
        "* This encodes text into token IDs, attention masks, and token type IDs—which transformers can use.\n"
      ],
      "metadata": {
        "id": "f5KrTU_ff_9_"
      }
    },
    {
      "cell_type": "code",
      "source": [
        "from transformers import DistilBertTokenizer\n",
        "\n",
        "tokenizer = DistilBertTokenizer.from_pretrained(\"distilbert-base-uncased\")\n",
        "\n",
        "# Combine review title and review text\n",
        "def encode_reviews(title, text, max_length=256):\n",
        "    combined_text = str(title) + str(text)  # Separate title and text\n",
        "    encoded = tokenizer(combined_text, padding=\"max_length\", truncation=True, max_length=max_length, return_tensors=\"pt\")\n",
        "    return encoded[\"input_ids\"], encoded[\"attention_mask\"]\n",
        "\n",
        "\n",
        "df[[\"input_ids\",\"attention_mask\"]] = df.apply(lambda row: encode_reviews([\"review_title\"],row[\"review_text\"]),axis=1,result_type=\"expand\")\n",
        "\n",
        "\n"
      ],
      "metadata": {
        "id": "U5GCukVJRpI5"
      },
      "execution_count": 180,
      "outputs": []
    },
    {
      "cell_type": "markdown",
      "source": [
        "* Convert to tensor format for model training (2 step , first convert to int list and then tensor)"
      ],
      "metadata": {
        "id": "CMUiK_gKi-Kz"
      }
    },
    {
      "cell_type": "code",
      "source": [
        "df.head(5)\n",
        "\n",
        "df[\"input_ids\"] = df[\"input_ids\"].apply(lambda x: x.tolist() if isinstance(x, torch.Tensor) else x)\n",
        "df[\"attention_mask\"] = df[\"attention_mask\"].apply(lambda x: x.tolist() if isinstance(x, torch.Tensor) else x)\n",
        "\n",
        "\n",
        "\n",
        "print(df[\"input_ids\"].apply(type).value_counts())  # Check types in the column\n",
        "print(type(df[\"input_ids\"].iloc[0]), type(df[\"input_ids\"].iloc[0][0]))  # Should be list, int\n"
      ],
      "metadata": {
        "colab": {
          "base_uri": "https://localhost:8080/"
        },
        "id": "ZtwkqOGreoS7",
        "outputId": "e315df26-e17d-4cdf-85ba-4eb6897ffe37"
      },
      "execution_count": 181,
      "outputs": [
        {
          "output_type": "stream",
          "name": "stdout",
          "text": [
            "input_ids\n",
            "<class 'list'>    10000\n",
            "Name: count, dtype: int64\n",
            "<class 'list'> <class 'list'>\n"
          ]
        }
      ]
    },
    {
      "cell_type": "markdown",
      "source": [
        "* Ratings columns has value from 1 - 5\n",
        "* Convert the ratings value from 0 - 4 because distibertforsequenceclassifciation expects values to be between 0 and 4 and not 1 to 5"
      ],
      "metadata": {
        "id": "6NApMwRzuvN9"
      }
    },
    {
      "cell_type": "code",
      "source": [
        "df['rating'].value_counts()\n",
        "# df['rating'].value_counts()\n",
        "df['new_rating'] = df['rating']-1\n",
        "\n",
        "df['new_rating'].value_counts()"
      ],
      "metadata": {
        "colab": {
          "base_uri": "https://localhost:8080/",
          "height": 272
        },
        "id": "6Il8kE52ujjw",
        "outputId": "5f3ec889-eb08-448e-ca0e-cc56c5195da4"
      },
      "execution_count": 182,
      "outputs": [
        {
          "output_type": "execute_result",
          "data": {
            "text/plain": [
              "new_rating\n",
              "4    6963\n",
              "3    1364\n",
              "2     715\n",
              "0     545\n",
              "1     413\n",
              "Name: count, dtype: int64"
            ],
            "text/html": [
              "<div>\n",
              "<style scoped>\n",
              "    .dataframe tbody tr th:only-of-type {\n",
              "        vertical-align: middle;\n",
              "    }\n",
              "\n",
              "    .dataframe tbody tr th {\n",
              "        vertical-align: top;\n",
              "    }\n",
              "\n",
              "    .dataframe thead th {\n",
              "        text-align: right;\n",
              "    }\n",
              "</style>\n",
              "<table border=\"1\" class=\"dataframe\">\n",
              "  <thead>\n",
              "    <tr style=\"text-align: right;\">\n",
              "      <th></th>\n",
              "      <th>count</th>\n",
              "    </tr>\n",
              "    <tr>\n",
              "      <th>new_rating</th>\n",
              "      <th></th>\n",
              "    </tr>\n",
              "  </thead>\n",
              "  <tbody>\n",
              "    <tr>\n",
              "      <th>4</th>\n",
              "      <td>6963</td>\n",
              "    </tr>\n",
              "    <tr>\n",
              "      <th>3</th>\n",
              "      <td>1364</td>\n",
              "    </tr>\n",
              "    <tr>\n",
              "      <th>2</th>\n",
              "      <td>715</td>\n",
              "    </tr>\n",
              "    <tr>\n",
              "      <th>0</th>\n",
              "      <td>545</td>\n",
              "    </tr>\n",
              "    <tr>\n",
              "      <th>1</th>\n",
              "      <td>413</td>\n",
              "    </tr>\n",
              "  </tbody>\n",
              "</table>\n",
              "</div><br><label><b>dtype:</b> int64</label>"
            ]
          },
          "metadata": {},
          "execution_count": 182
        }
      ]
    },
    {
      "cell_type": "code",
      "source": [
        "import torch\n",
        "\n",
        "input_ids = torch.tensor(df[\"input_ids\"].tolist(), dtype=torch.long)\n",
        "attention_mask = torch.tensor(df[\"attention_mask\"].tolist(), dtype=torch.long)\n",
        "ratings = torch.tensor(df[\"new_rating\"].values, dtype=torch.long)  # Ensure target is integer type\n",
        "\n",
        "print(input_ids.shape, attention_mask.shape, ratings.shape)  # Should be (num_samples, sequence_length)\n"
      ],
      "metadata": {
        "colab": {
          "base_uri": "https://localhost:8080/"
        },
        "id": "mi_La0pzfCuT",
        "outputId": "2ca7170b-3682-4fb5-88cf-92893059f064"
      },
      "execution_count": 183,
      "outputs": [
        {
          "output_type": "stream",
          "name": "stdout",
          "text": [
            "torch.Size([10000, 1, 256]) torch.Size([10000, 1, 256]) torch.Size([10000])\n"
          ]
        }
      ]
    },
    {
      "cell_type": "markdown",
      "source": [
        "* Create a pytorch dataset and dataloader"
      ],
      "metadata": {
        "id": "ss6SM3-xjVNL"
      }
    },
    {
      "cell_type": "code",
      "source": [
        "from transformers import DistilBertTokenizer\n",
        "import torch\n",
        "from torch.utils.data import Dataset\n",
        "\n",
        "class ReviewDataset(Dataset):\n",
        "    def __init__(self, reviews, ratings, tokenizer, max_length=256):\n",
        "        self.tokenizer = tokenizer  # Properly assign tokenizer\n",
        "        self.reviews = reviews\n",
        "        self.ratings = ratings\n",
        "        self.max_length = max_length\n",
        "\n",
        "        # Tokenize the reviews and encode them\n",
        "        self.encodings = self.tokenizer(\n",
        "            self.reviews,\n",
        "            padding=True,\n",
        "            truncation=True,\n",
        "            max_length=self.max_length,\n",
        "            return_tensors=\"pt\"\n",
        "        )\n",
        "\n",
        "    def __len__(self):\n",
        "        return len(self.ratings)\n",
        "\n",
        "    def __getitem__(self, idx):\n",
        "        return {\n",
        "            \"input_ids\": self.encodings[\"input_ids\"][idx],\n",
        "            \"attention_mask\": self.encodings[\"attention_mask\"][idx],\n",
        "            \"labels\": torch.tensor(self.ratings[idx], dtype=torch.long)  # ensure labels are 0 -ratings\n",
        "        }\n"
      ],
      "metadata": {
        "id": "RoThZkPEpMkc"
      },
      "execution_count": 184,
      "outputs": []
    },
    {
      "cell_type": "code",
      "source": [
        "\n"
      ],
      "metadata": {
        "id": "NgZXPrDOjcuh"
      },
      "execution_count": 184,
      "outputs": []
    },
    {
      "cell_type": "markdown",
      "source": [
        "* Load a pre-trained DistitBERT model\n",
        "* Use DistilBERTForSequenceClassification if treating the task as classification (5 classes: 1-5 stars).\n",
        "\n",
        "* Use DistilBERTForSequenceRegression if treating it as regression (predict a continuous value)."
      ],
      "metadata": {
        "id": "cWtiIM7UlC5X"
      }
    },
    {
      "cell_type": "code",
      "source": [
        "from transformers import DistilBertTokenizer, DistilBertForSequenceClassification\n",
        "from torch.utils.data import DataLoader\n",
        "\n",
        "num_labels = 5  # Rating classes: 1, 2, 3, 4, 5\n",
        "\n",
        "# Load tokenizer\n",
        "tokenizer = DistilBertTokenizer.from_pretrained(\"distilbert-base-uncased\")\n",
        "\n",
        "device = torch.device(\"cpu\")  # Force CPU execution\n",
        "\n",
        "\n",
        "# Load model for classification\n",
        "model = DistilBertForSequenceClassification.from_pretrained(\n",
        "    \"distilbert-base-uncased\", num_labels=num_labels\n",
        ")\n",
        "\n",
        "# Example reviews and ratings\n",
        "reviews = [\"Great product! Works well.\", \"Not bad, but could be better.\", \"Very poor quality.\"]\n",
        "ratings = [4, 2, 0]  # Example ratings (1 to 5 stars)\n",
        "\n",
        "# Create dataset\n",
        "dataset = ReviewDataset(reviews, ratings, tokenizer)\n",
        "\n",
        "# Check the dataset's first item\n",
        "print(dataset[0])\n",
        "\n",
        "\n",
        "# Create DataLoader for batch processing\n",
        "batch_size = 32\n",
        "dataloader = DataLoader(dataset, batch_size=batch_size, shuffle=True)\n",
        "\n",
        "# Example batch\n",
        "batch = next(iter(dataloader))\n",
        "print(batch[\"input_ids\"].shape, batch[\"labels\"].shape)  # Expected output: (batch_size, 256) (batch_size,)\n",
        "\n"
      ],
      "metadata": {
        "colab": {
          "base_uri": "https://localhost:8080/"
        },
        "id": "HsHiLMDPk0iH",
        "outputId": "3e8d004e-6879-401a-f4c3-03e8cd344cdd"
      },
      "execution_count": 185,
      "outputs": [
        {
          "output_type": "stream",
          "name": "stderr",
          "text": [
            "Some weights of DistilBertForSequenceClassification were not initialized from the model checkpoint at distilbert-base-uncased and are newly initialized: ['classifier.bias', 'classifier.weight', 'pre_classifier.bias', 'pre_classifier.weight']\n",
            "You should probably TRAIN this model on a down-stream task to be able to use it for predictions and inference.\n"
          ]
        },
        {
          "output_type": "stream",
          "name": "stdout",
          "text": [
            "{'input_ids': tensor([ 101, 2307, 4031,  999, 2573, 2092, 1012,  102,    0,    0]), 'attention_mask': tensor([1, 1, 1, 1, 1, 1, 1, 1, 0, 0]), 'labels': tensor(4)}\n",
            "torch.Size([3, 10]) torch.Size([3])\n"
          ]
        }
      ]
    },
    {
      "cell_type": "markdown",
      "source": [
        "*  Set Up Optimizer and Learning Rate Scheduler . We need an optimizer to update the model’s parameters and a scheduler to adjust the learning rate over time. AdamW is the optimizer of choice when fine-tuning transformers.\n"
      ],
      "metadata": {
        "id": "UIZwCI6hmrg1"
      }
    },
    {
      "cell_type": "code",
      "source": [
        "from torch.optim import AdamW\n",
        "from transformers import get_scheduler\n",
        "\n",
        "# Set up the optimizer\n",
        "optimizer = AdamW(model.parameters(), lr=2e-5)\n",
        "\n",
        "# Scheduler for learning rate\n",
        "num_epochs = 3\n",
        "num_training_steps = len(dataloader) * num_epochs\n",
        "lr_scheduler = get_scheduler(\n",
        "    \"linear\", optimizer=optimizer, num_warmup_steps=0, num_training_steps=num_training_steps\n",
        ")\n"
      ],
      "metadata": {
        "id": "q_IQetKmmyhw"
      },
      "execution_count": 186,
      "outputs": []
    },
    {
      "cell_type": "markdown",
      "source": [
        "* Setup training loop  where the model will learn from our data\n"
      ],
      "metadata": {
        "id": "aVmBVlNjm3ku"
      }
    },
    {
      "cell_type": "code",
      "source": [
        "# Check the shape of the first batch in the DataLoader\n",
        "batch = next(iter(dataloader))\n",
        "print(batch[\"input_ids\"].shape)  # Expected: (batch_size, sequence_length)\n",
        "print(batch[\"attention_mask\"].shape)  # Expected: (batch_size, sequence_length)\n"
      ],
      "metadata": {
        "colab": {
          "base_uri": "https://localhost:8080/"
        },
        "id": "iy92lIzfnna0",
        "outputId": "01a6e15c-a5a1-4913-bdef-329b4ee1588f"
      },
      "execution_count": 187,
      "outputs": [
        {
          "output_type": "stream",
          "name": "stdout",
          "text": [
            "torch.Size([3, 10])\n",
            "torch.Size([3, 10])\n"
          ]
        }
      ]
    },
    {
      "cell_type": "markdown",
      "source": [],
      "metadata": {
        "id": "7xijFJg7rrEl"
      }
    },
    {
      "cell_type": "code",
      "source": [
        "print(\"Sample labels:\", ratings[:10])\n",
        "print(\"Label min/max:\", min(ratings), max(ratings))\n",
        "print(\"Label dtype:\", torch.tensor(ratings).dtype)\n",
        "\n",
        "for batch in dataloader:\n",
        "    print(\"Input IDs shape:\", batch[\"input_ids\"].shape)\n",
        "    print(\"Attention Mask shape:\", batch[\"attention_mask\"].shape)\n",
        "    print(\"Labels shape:\", batch[\"labels\"].shape)\n",
        "    print(\"Labels dtype:\", batch[\"labels\"].dtype)\n",
        "    break\n",
        "\n"
      ],
      "metadata": {
        "colab": {
          "base_uri": "https://localhost:8080/"
        },
        "id": "8zDh0INwrVz9",
        "outputId": "ddcd5f22-39f4-4203-b23e-26c9e8febe86"
      },
      "execution_count": 188,
      "outputs": [
        {
          "output_type": "stream",
          "name": "stdout",
          "text": [
            "Sample labels: [4, 2, 0]\n",
            "Label min/max: 0 4\n",
            "Label dtype: torch.int64\n",
            "Input IDs shape: torch.Size([3, 10])\n",
            "Attention Mask shape: torch.Size([3, 10])\n",
            "Labels shape: torch.Size([3])\n",
            "Labels dtype: torch.int64\n"
          ]
        }
      ]
    },
    {
      "cell_type": "code",
      "source": [
        "import os\n",
        "os.environ[\"TORCH_USE_CUDA_DSA\"] = \"1\"\n",
        "os.environ[\"CUDA_LAUNCH_BLOCKING\"] = \"1\"\n"
      ],
      "metadata": {
        "id": "MWyeE7PrxZI5"
      },
      "execution_count": 189,
      "outputs": []
    },
    {
      "cell_type": "code",
      "source": [
        "import torch\n",
        "from tqdm import tqdm\n",
        "\n",
        "device = torch.device(\"cpu\")  # Use CPU instead of GPU\n",
        "model.to(device)\n",
        "\n",
        "# Training loop\n",
        "for epoch in range(num_epochs):\n",
        "    model.train()  # Set model to training mode\n",
        "    loop = tqdm(dataloader, leave=True)  # Track progress during training\n",
        "    for batch in loop:\n",
        "        batch = {k: v.to(device) for k, v in batch.items()}  # Move data to device\n",
        "\n",
        "        # Forward pass\n",
        "        outputs = model(**batch)\n",
        "        loss = outputs.loss\n",
        "\n",
        "        # Backward pass\n",
        "        optimizer.zero_grad()\n",
        "        loss.backward()\n",
        "        optimizer.step()\n",
        "        lr_scheduler.step()\n",
        "\n",
        "        # Update progress bar\n",
        "        loop.set_description(f\"Epoch {epoch}\")\n",
        "        loop.set_postfix(loss=loss.item())\n",
        "\n",
        "    print(f\"Epoch {epoch} finished.\")\n"
      ],
      "metadata": {
        "colab": {
          "base_uri": "https://localhost:8080/",
          "height": 425
        },
        "id": "eg30MhQqm8PQ",
        "outputId": "adfb5b98-f5a4-4f69-cec3-eecc3a21a3eb"
      },
      "execution_count": 190,
      "outputs": [
        {
          "output_type": "stream",
          "name": "stderr",
          "text": [
            "  0%|          | 0/1 [00:00<?, ?it/s]\n"
          ]
        },
        {
          "output_type": "error",
          "ename": "RuntimeError",
          "evalue": "CUDA error: device-side assert triggered\nCUDA kernel errors might be asynchronously reported at some other API call, so the stacktrace below might be incorrect.\nFor debugging consider passing CUDA_LAUNCH_BLOCKING=1\nCompile with `TORCH_USE_CUDA_DSA` to enable device-side assertions.\n",
          "traceback": [
            "\u001b[0;31m---------------------------------------------------------------------------\u001b[0m",
            "\u001b[0;31mRuntimeError\u001b[0m                              Traceback (most recent call last)",
            "\u001b[0;32m<ipython-input-190-d1eb359371aa>\u001b[0m in \u001b[0;36m<cell line: 0>\u001b[0;34m()\u001b[0m\n\u001b[1;32m     19\u001b[0m         \u001b[0moptimizer\u001b[0m\u001b[0;34m.\u001b[0m\u001b[0mzero_grad\u001b[0m\u001b[0;34m(\u001b[0m\u001b[0;34m)\u001b[0m\u001b[0;34m\u001b[0m\u001b[0;34m\u001b[0m\u001b[0m\n\u001b[1;32m     20\u001b[0m         \u001b[0mloss\u001b[0m\u001b[0;34m.\u001b[0m\u001b[0mbackward\u001b[0m\u001b[0;34m(\u001b[0m\u001b[0;34m)\u001b[0m\u001b[0;34m\u001b[0m\u001b[0;34m\u001b[0m\u001b[0m\n\u001b[0;32m---> 21\u001b[0;31m         \u001b[0moptimizer\u001b[0m\u001b[0;34m.\u001b[0m\u001b[0mstep\u001b[0m\u001b[0;34m(\u001b[0m\u001b[0;34m)\u001b[0m\u001b[0;34m\u001b[0m\u001b[0;34m\u001b[0m\u001b[0m\n\u001b[0m\u001b[1;32m     22\u001b[0m         \u001b[0mlr_scheduler\u001b[0m\u001b[0;34m.\u001b[0m\u001b[0mstep\u001b[0m\u001b[0;34m(\u001b[0m\u001b[0;34m)\u001b[0m\u001b[0;34m\u001b[0m\u001b[0;34m\u001b[0m\u001b[0m\n\u001b[1;32m     23\u001b[0m \u001b[0;34m\u001b[0m\u001b[0m\n",
            "\u001b[0;32m/usr/local/lib/python3.11/dist-packages/torch/optim/lr_scheduler.py\u001b[0m in \u001b[0;36mwrapper\u001b[0;34m(*args, **kwargs)\u001b[0m\n\u001b[1;32m    138\u001b[0m                     \u001b[0mopt\u001b[0m \u001b[0;34m=\u001b[0m \u001b[0mopt_ref\u001b[0m\u001b[0;34m(\u001b[0m\u001b[0;34m)\u001b[0m\u001b[0;34m\u001b[0m\u001b[0;34m\u001b[0m\u001b[0m\n\u001b[1;32m    139\u001b[0m                     \u001b[0mopt\u001b[0m\u001b[0;34m.\u001b[0m\u001b[0m_opt_called\u001b[0m \u001b[0;34m=\u001b[0m \u001b[0;32mTrue\u001b[0m  \u001b[0;31m# type: ignore[union-attr]\u001b[0m\u001b[0;34m\u001b[0m\u001b[0;34m\u001b[0m\u001b[0m\n\u001b[0;32m--> 140\u001b[0;31m                     \u001b[0;32mreturn\u001b[0m \u001b[0mfunc\u001b[0m\u001b[0;34m.\u001b[0m\u001b[0m__get__\u001b[0m\u001b[0;34m(\u001b[0m\u001b[0mopt\u001b[0m\u001b[0;34m,\u001b[0m \u001b[0mopt\u001b[0m\u001b[0;34m.\u001b[0m\u001b[0m__class__\u001b[0m\u001b[0;34m)\u001b[0m\u001b[0;34m(\u001b[0m\u001b[0;34m*\u001b[0m\u001b[0margs\u001b[0m\u001b[0;34m,\u001b[0m \u001b[0;34m**\u001b[0m\u001b[0mkwargs\u001b[0m\u001b[0;34m)\u001b[0m\u001b[0;34m\u001b[0m\u001b[0;34m\u001b[0m\u001b[0m\n\u001b[0m\u001b[1;32m    141\u001b[0m \u001b[0;34m\u001b[0m\u001b[0m\n\u001b[1;32m    142\u001b[0m                 \u001b[0mwrapper\u001b[0m\u001b[0;34m.\u001b[0m\u001b[0m_wrapped_by_lr_sched\u001b[0m \u001b[0;34m=\u001b[0m \u001b[0;32mTrue\u001b[0m  \u001b[0;31m# type: ignore[attr-defined]\u001b[0m\u001b[0;34m\u001b[0m\u001b[0;34m\u001b[0m\u001b[0m\n",
            "\u001b[0;32m/usr/local/lib/python3.11/dist-packages/torch/optim/optimizer.py\u001b[0m in \u001b[0;36mwrapper\u001b[0;34m(*args, **kwargs)\u001b[0m\n\u001b[1;32m    491\u001b[0m                             )\n\u001b[1;32m    492\u001b[0m \u001b[0;34m\u001b[0m\u001b[0m\n\u001b[0;32m--> 493\u001b[0;31m                 \u001b[0mout\u001b[0m \u001b[0;34m=\u001b[0m \u001b[0mfunc\u001b[0m\u001b[0;34m(\u001b[0m\u001b[0;34m*\u001b[0m\u001b[0margs\u001b[0m\u001b[0;34m,\u001b[0m \u001b[0;34m**\u001b[0m\u001b[0mkwargs\u001b[0m\u001b[0;34m)\u001b[0m\u001b[0;34m\u001b[0m\u001b[0;34m\u001b[0m\u001b[0m\n\u001b[0m\u001b[1;32m    494\u001b[0m                 \u001b[0mself\u001b[0m\u001b[0;34m.\u001b[0m\u001b[0m_optimizer_step_code\u001b[0m\u001b[0;34m(\u001b[0m\u001b[0;34m)\u001b[0m\u001b[0;34m\u001b[0m\u001b[0;34m\u001b[0m\u001b[0m\n\u001b[1;32m    495\u001b[0m \u001b[0;34m\u001b[0m\u001b[0m\n",
            "\u001b[0;32m/usr/local/lib/python3.11/dist-packages/torch/optim/optimizer.py\u001b[0m in \u001b[0;36m_use_grad\u001b[0;34m(self, *args, **kwargs)\u001b[0m\n\u001b[1;32m     89\u001b[0m             \u001b[0mtorch\u001b[0m\u001b[0;34m.\u001b[0m\u001b[0mset_grad_enabled\u001b[0m\u001b[0;34m(\u001b[0m\u001b[0mself\u001b[0m\u001b[0;34m.\u001b[0m\u001b[0mdefaults\u001b[0m\u001b[0;34m[\u001b[0m\u001b[0;34m\"differentiable\"\u001b[0m\u001b[0;34m]\u001b[0m\u001b[0;34m)\u001b[0m\u001b[0;34m\u001b[0m\u001b[0;34m\u001b[0m\u001b[0m\n\u001b[1;32m     90\u001b[0m             \u001b[0mtorch\u001b[0m\u001b[0;34m.\u001b[0m\u001b[0m_dynamo\u001b[0m\u001b[0;34m.\u001b[0m\u001b[0mgraph_break\u001b[0m\u001b[0;34m(\u001b[0m\u001b[0;34m)\u001b[0m\u001b[0;34m\u001b[0m\u001b[0;34m\u001b[0m\u001b[0m\n\u001b[0;32m---> 91\u001b[0;31m             \u001b[0mret\u001b[0m \u001b[0;34m=\u001b[0m \u001b[0mfunc\u001b[0m\u001b[0;34m(\u001b[0m\u001b[0mself\u001b[0m\u001b[0;34m,\u001b[0m \u001b[0;34m*\u001b[0m\u001b[0margs\u001b[0m\u001b[0;34m,\u001b[0m \u001b[0;34m**\u001b[0m\u001b[0mkwargs\u001b[0m\u001b[0;34m)\u001b[0m\u001b[0;34m\u001b[0m\u001b[0;34m\u001b[0m\u001b[0m\n\u001b[0m\u001b[1;32m     92\u001b[0m         \u001b[0;32mfinally\u001b[0m\u001b[0;34m:\u001b[0m\u001b[0;34m\u001b[0m\u001b[0;34m\u001b[0m\u001b[0m\n\u001b[1;32m     93\u001b[0m             \u001b[0mtorch\u001b[0m\u001b[0;34m.\u001b[0m\u001b[0m_dynamo\u001b[0m\u001b[0;34m.\u001b[0m\u001b[0mgraph_break\u001b[0m\u001b[0;34m(\u001b[0m\u001b[0;34m)\u001b[0m\u001b[0;34m\u001b[0m\u001b[0;34m\u001b[0m\u001b[0m\n",
            "\u001b[0;32m/usr/local/lib/python3.11/dist-packages/torch/optim/adamw.py\u001b[0m in \u001b[0;36mstep\u001b[0;34m(self, closure)\u001b[0m\n\u001b[1;32m    213\u001b[0m                 \u001b[0;32mand\u001b[0m \u001b[0mreturns\u001b[0m \u001b[0mthe\u001b[0m \u001b[0mloss\u001b[0m\u001b[0;34m.\u001b[0m\u001b[0;34m\u001b[0m\u001b[0;34m\u001b[0m\u001b[0m\n\u001b[1;32m    214\u001b[0m         \"\"\"\n\u001b[0;32m--> 215\u001b[0;31m         \u001b[0mself\u001b[0m\u001b[0;34m.\u001b[0m\u001b[0m_cuda_graph_capture_health_check\u001b[0m\u001b[0;34m(\u001b[0m\u001b[0;34m)\u001b[0m\u001b[0;34m\u001b[0m\u001b[0;34m\u001b[0m\u001b[0m\n\u001b[0m\u001b[1;32m    216\u001b[0m \u001b[0;34m\u001b[0m\u001b[0m\n\u001b[1;32m    217\u001b[0m         \u001b[0mloss\u001b[0m \u001b[0;34m=\u001b[0m \u001b[0;32mNone\u001b[0m\u001b[0;34m\u001b[0m\u001b[0;34m\u001b[0m\u001b[0m\n",
            "\u001b[0;32m/usr/local/lib/python3.11/dist-packages/torch/optim/optimizer.py\u001b[0m in \u001b[0;36m_cuda_graph_capture_health_check\u001b[0;34m(self)\u001b[0m\n\u001b[1;32m    434\u001b[0m             \u001b[0;32mand\u001b[0m \u001b[0mtorch\u001b[0m\u001b[0;34m.\u001b[0m\u001b[0mcuda\u001b[0m\u001b[0;34m.\u001b[0m\u001b[0mis_available\u001b[0m\u001b[0;34m(\u001b[0m\u001b[0;34m)\u001b[0m\u001b[0;34m\u001b[0m\u001b[0;34m\u001b[0m\u001b[0m\n\u001b[1;32m    435\u001b[0m         ):\n\u001b[0;32m--> 436\u001b[0;31m             \u001b[0mcapturing\u001b[0m \u001b[0;34m=\u001b[0m \u001b[0mtorch\u001b[0m\u001b[0;34m.\u001b[0m\u001b[0mcuda\u001b[0m\u001b[0;34m.\u001b[0m\u001b[0mis_current_stream_capturing\u001b[0m\u001b[0;34m(\u001b[0m\u001b[0;34m)\u001b[0m\u001b[0;34m\u001b[0m\u001b[0;34m\u001b[0m\u001b[0m\n\u001b[0m\u001b[1;32m    437\u001b[0m \u001b[0;34m\u001b[0m\u001b[0m\n\u001b[1;32m    438\u001b[0m             if capturing and not all(\n",
            "\u001b[0;32m/usr/local/lib/python3.11/dist-packages/torch/cuda/graphs.py\u001b[0m in \u001b[0;36mis_current_stream_capturing\u001b[0;34m()\u001b[0m\n\u001b[1;32m     28\u001b[0m     \u001b[0mIf\u001b[0m \u001b[0ma\u001b[0m \u001b[0mCUDA\u001b[0m \u001b[0mcontext\u001b[0m \u001b[0mdoes\u001b[0m \u001b[0;32mnot\u001b[0m \u001b[0mexist\u001b[0m \u001b[0mon\u001b[0m \u001b[0mthe\u001b[0m \u001b[0mcurrent\u001b[0m \u001b[0mdevice\u001b[0m\u001b[0;34m,\u001b[0m \u001b[0mreturns\u001b[0m \u001b[0;32mFalse\u001b[0m \u001b[0mwithout\u001b[0m \u001b[0minitializing\u001b[0m \u001b[0mthe\u001b[0m \u001b[0mcontext\u001b[0m\u001b[0;34m.\u001b[0m\u001b[0;34m\u001b[0m\u001b[0;34m\u001b[0m\u001b[0m\n\u001b[1;32m     29\u001b[0m     \"\"\"\n\u001b[0;32m---> 30\u001b[0;31m     \u001b[0;32mreturn\u001b[0m \u001b[0m_cuda_isCurrentStreamCapturing\u001b[0m\u001b[0;34m(\u001b[0m\u001b[0;34m)\u001b[0m\u001b[0;34m\u001b[0m\u001b[0;34m\u001b[0m\u001b[0m\n\u001b[0m\u001b[1;32m     31\u001b[0m \u001b[0;34m\u001b[0m\u001b[0m\n\u001b[1;32m     32\u001b[0m \u001b[0;34m\u001b[0m\u001b[0m\n",
            "\u001b[0;31mRuntimeError\u001b[0m: CUDA error: device-side assert triggered\nCUDA kernel errors might be asynchronously reported at some other API call, so the stacktrace below might be incorrect.\nFor debugging consider passing CUDA_LAUNCH_BLOCKING=1\nCompile with `TORCH_USE_CUDA_DSA` to enable device-side assertions.\n"
          ]
        }
      ]
    }
  ]
}