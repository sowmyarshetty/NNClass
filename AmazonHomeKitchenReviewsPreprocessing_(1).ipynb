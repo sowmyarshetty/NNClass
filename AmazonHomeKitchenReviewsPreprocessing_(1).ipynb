{
  "nbformat": 4,
  "nbformat_minor": 0,
  "metadata": {
    "colab": {
      "provenance": [],
      "machine_shape": "hm",
      "gpuType": "T4",
      "include_colab_link": true
    },
    "kernelspec": {
      "name": "python3",
      "display_name": "Python 3"
    },
    "language_info": {
      "name": "python"
    },
    "accelerator": "GPU",
    "widgets": {
      "application/vnd.jupyter.widget-state+json": {
        "e767d88de03646dfb921483e14c7babf": {
          "model_module": "@jupyter-widgets/controls",
          "model_name": "HBoxModel",
          "model_module_version": "1.5.0",
          "state": {
            "_dom_classes": [],
            "_model_module": "@jupyter-widgets/controls",
            "_model_module_version": "1.5.0",
            "_model_name": "HBoxModel",
            "_view_count": null,
            "_view_module": "@jupyter-widgets/controls",
            "_view_module_version": "1.5.0",
            "_view_name": "HBoxView",
            "box_style": "",
            "children": [
              "IPY_MODEL_1e367f9963bc4807b777d31e509076ec",
              "IPY_MODEL_a82c80b451f94e598da4a3f074878b73",
              "IPY_MODEL_d5c3dafd056947588f1fd8501f889eab"
            ],
            "layout": "IPY_MODEL_316aff72585e44b58f22d09015ae6272"
          }
        },
        "1e367f9963bc4807b777d31e509076ec": {
          "model_module": "@jupyter-widgets/controls",
          "model_name": "HTMLModel",
          "model_module_version": "1.5.0",
          "state": {
            "_dom_classes": [],
            "_model_module": "@jupyter-widgets/controls",
            "_model_module_version": "1.5.0",
            "_model_name": "HTMLModel",
            "_view_count": null,
            "_view_module": "@jupyter-widgets/controls",
            "_view_module_version": "1.5.0",
            "_view_name": "HTMLView",
            "description": "",
            "description_tooltip": null,
            "layout": "IPY_MODEL_b42f94532ed24c7490e619f76bd4b3f6",
            "placeholder": "​",
            "style": "IPY_MODEL_61b0c8d05a574439991d6e23a72b4f47",
            "value": "tokenizer_config.json: 100%"
          }
        },
        "a82c80b451f94e598da4a3f074878b73": {
          "model_module": "@jupyter-widgets/controls",
          "model_name": "FloatProgressModel",
          "model_module_version": "1.5.0",
          "state": {
            "_dom_classes": [],
            "_model_module": "@jupyter-widgets/controls",
            "_model_module_version": "1.5.0",
            "_model_name": "FloatProgressModel",
            "_view_count": null,
            "_view_module": "@jupyter-widgets/controls",
            "_view_module_version": "1.5.0",
            "_view_name": "ProgressView",
            "bar_style": "success",
            "description": "",
            "description_tooltip": null,
            "layout": "IPY_MODEL_f935c24b77a44eeea0e911ce42406043",
            "max": 48,
            "min": 0,
            "orientation": "horizontal",
            "style": "IPY_MODEL_cc0935ec10164aaf91a6dfee245f9591",
            "value": 48
          }
        },
        "d5c3dafd056947588f1fd8501f889eab": {
          "model_module": "@jupyter-widgets/controls",
          "model_name": "HTMLModel",
          "model_module_version": "1.5.0",
          "state": {
            "_dom_classes": [],
            "_model_module": "@jupyter-widgets/controls",
            "_model_module_version": "1.5.0",
            "_model_name": "HTMLModel",
            "_view_count": null,
            "_view_module": "@jupyter-widgets/controls",
            "_view_module_version": "1.5.0",
            "_view_name": "HTMLView",
            "description": "",
            "description_tooltip": null,
            "layout": "IPY_MODEL_603d392bd56e4a718e5bfe7bd4b64b6f",
            "placeholder": "​",
            "style": "IPY_MODEL_6937f54240ec4f56b3cc835f5ff47df1",
            "value": " 48.0/48.0 [00:00&lt;00:00, 5.84kB/s]"
          }
        },
        "316aff72585e44b58f22d09015ae6272": {
          "model_module": "@jupyter-widgets/base",
          "model_name": "LayoutModel",
          "model_module_version": "1.2.0",
          "state": {
            "_model_module": "@jupyter-widgets/base",
            "_model_module_version": "1.2.0",
            "_model_name": "LayoutModel",
            "_view_count": null,
            "_view_module": "@jupyter-widgets/base",
            "_view_module_version": "1.2.0",
            "_view_name": "LayoutView",
            "align_content": null,
            "align_items": null,
            "align_self": null,
            "border": null,
            "bottom": null,
            "display": null,
            "flex": null,
            "flex_flow": null,
            "grid_area": null,
            "grid_auto_columns": null,
            "grid_auto_flow": null,
            "grid_auto_rows": null,
            "grid_column": null,
            "grid_gap": null,
            "grid_row": null,
            "grid_template_areas": null,
            "grid_template_columns": null,
            "grid_template_rows": null,
            "height": null,
            "justify_content": null,
            "justify_items": null,
            "left": null,
            "margin": null,
            "max_height": null,
            "max_width": null,
            "min_height": null,
            "min_width": null,
            "object_fit": null,
            "object_position": null,
            "order": null,
            "overflow": null,
            "overflow_x": null,
            "overflow_y": null,
            "padding": null,
            "right": null,
            "top": null,
            "visibility": null,
            "width": null
          }
        },
        "b42f94532ed24c7490e619f76bd4b3f6": {
          "model_module": "@jupyter-widgets/base",
          "model_name": "LayoutModel",
          "model_module_version": "1.2.0",
          "state": {
            "_model_module": "@jupyter-widgets/base",
            "_model_module_version": "1.2.0",
            "_model_name": "LayoutModel",
            "_view_count": null,
            "_view_module": "@jupyter-widgets/base",
            "_view_module_version": "1.2.0",
            "_view_name": "LayoutView",
            "align_content": null,
            "align_items": null,
            "align_self": null,
            "border": null,
            "bottom": null,
            "display": null,
            "flex": null,
            "flex_flow": null,
            "grid_area": null,
            "grid_auto_columns": null,
            "grid_auto_flow": null,
            "grid_auto_rows": null,
            "grid_column": null,
            "grid_gap": null,
            "grid_row": null,
            "grid_template_areas": null,
            "grid_template_columns": null,
            "grid_template_rows": null,
            "height": null,
            "justify_content": null,
            "justify_items": null,
            "left": null,
            "margin": null,
            "max_height": null,
            "max_width": null,
            "min_height": null,
            "min_width": null,
            "object_fit": null,
            "object_position": null,
            "order": null,
            "overflow": null,
            "overflow_x": null,
            "overflow_y": null,
            "padding": null,
            "right": null,
            "top": null,
            "visibility": null,
            "width": null
          }
        },
        "61b0c8d05a574439991d6e23a72b4f47": {
          "model_module": "@jupyter-widgets/controls",
          "model_name": "DescriptionStyleModel",
          "model_module_version": "1.5.0",
          "state": {
            "_model_module": "@jupyter-widgets/controls",
            "_model_module_version": "1.5.0",
            "_model_name": "DescriptionStyleModel",
            "_view_count": null,
            "_view_module": "@jupyter-widgets/base",
            "_view_module_version": "1.2.0",
            "_view_name": "StyleView",
            "description_width": ""
          }
        },
        "f935c24b77a44eeea0e911ce42406043": {
          "model_module": "@jupyter-widgets/base",
          "model_name": "LayoutModel",
          "model_module_version": "1.2.0",
          "state": {
            "_model_module": "@jupyter-widgets/base",
            "_model_module_version": "1.2.0",
            "_model_name": "LayoutModel",
            "_view_count": null,
            "_view_module": "@jupyter-widgets/base",
            "_view_module_version": "1.2.0",
            "_view_name": "LayoutView",
            "align_content": null,
            "align_items": null,
            "align_self": null,
            "border": null,
            "bottom": null,
            "display": null,
            "flex": null,
            "flex_flow": null,
            "grid_area": null,
            "grid_auto_columns": null,
            "grid_auto_flow": null,
            "grid_auto_rows": null,
            "grid_column": null,
            "grid_gap": null,
            "grid_row": null,
            "grid_template_areas": null,
            "grid_template_columns": null,
            "grid_template_rows": null,
            "height": null,
            "justify_content": null,
            "justify_items": null,
            "left": null,
            "margin": null,
            "max_height": null,
            "max_width": null,
            "min_height": null,
            "min_width": null,
            "object_fit": null,
            "object_position": null,
            "order": null,
            "overflow": null,
            "overflow_x": null,
            "overflow_y": null,
            "padding": null,
            "right": null,
            "top": null,
            "visibility": null,
            "width": null
          }
        },
        "cc0935ec10164aaf91a6dfee245f9591": {
          "model_module": "@jupyter-widgets/controls",
          "model_name": "ProgressStyleModel",
          "model_module_version": "1.5.0",
          "state": {
            "_model_module": "@jupyter-widgets/controls",
            "_model_module_version": "1.5.0",
            "_model_name": "ProgressStyleModel",
            "_view_count": null,
            "_view_module": "@jupyter-widgets/base",
            "_view_module_version": "1.2.0",
            "_view_name": "StyleView",
            "bar_color": null,
            "description_width": ""
          }
        },
        "603d392bd56e4a718e5bfe7bd4b64b6f": {
          "model_module": "@jupyter-widgets/base",
          "model_name": "LayoutModel",
          "model_module_version": "1.2.0",
          "state": {
            "_model_module": "@jupyter-widgets/base",
            "_model_module_version": "1.2.0",
            "_model_name": "LayoutModel",
            "_view_count": null,
            "_view_module": "@jupyter-widgets/base",
            "_view_module_version": "1.2.0",
            "_view_name": "LayoutView",
            "align_content": null,
            "align_items": null,
            "align_self": null,
            "border": null,
            "bottom": null,
            "display": null,
            "flex": null,
            "flex_flow": null,
            "grid_area": null,
            "grid_auto_columns": null,
            "grid_auto_flow": null,
            "grid_auto_rows": null,
            "grid_column": null,
            "grid_gap": null,
            "grid_row": null,
            "grid_template_areas": null,
            "grid_template_columns": null,
            "grid_template_rows": null,
            "height": null,
            "justify_content": null,
            "justify_items": null,
            "left": null,
            "margin": null,
            "max_height": null,
            "max_width": null,
            "min_height": null,
            "min_width": null,
            "object_fit": null,
            "object_position": null,
            "order": null,
            "overflow": null,
            "overflow_x": null,
            "overflow_y": null,
            "padding": null,
            "right": null,
            "top": null,
            "visibility": null,
            "width": null
          }
        },
        "6937f54240ec4f56b3cc835f5ff47df1": {
          "model_module": "@jupyter-widgets/controls",
          "model_name": "DescriptionStyleModel",
          "model_module_version": "1.5.0",
          "state": {
            "_model_module": "@jupyter-widgets/controls",
            "_model_module_version": "1.5.0",
            "_model_name": "DescriptionStyleModel",
            "_view_count": null,
            "_view_module": "@jupyter-widgets/base",
            "_view_module_version": "1.2.0",
            "_view_name": "StyleView",
            "description_width": ""
          }
        },
        "8c88a4aa438f4376b36a900717a2be0d": {
          "model_module": "@jupyter-widgets/controls",
          "model_name": "HBoxModel",
          "model_module_version": "1.5.0",
          "state": {
            "_dom_classes": [],
            "_model_module": "@jupyter-widgets/controls",
            "_model_module_version": "1.5.0",
            "_model_name": "HBoxModel",
            "_view_count": null,
            "_view_module": "@jupyter-widgets/controls",
            "_view_module_version": "1.5.0",
            "_view_name": "HBoxView",
            "box_style": "",
            "children": [
              "IPY_MODEL_97a32958dfb141f7bbd5477a3125f515",
              "IPY_MODEL_d67b7ce7a4304d7b84d055283bfbeaa2",
              "IPY_MODEL_5ff556b2f7af44759cb910fcbfd412db"
            ],
            "layout": "IPY_MODEL_248275f56ce44ef9b9766b7e65048f62"
          }
        },
        "97a32958dfb141f7bbd5477a3125f515": {
          "model_module": "@jupyter-widgets/controls",
          "model_name": "HTMLModel",
          "model_module_version": "1.5.0",
          "state": {
            "_dom_classes": [],
            "_model_module": "@jupyter-widgets/controls",
            "_model_module_version": "1.5.0",
            "_model_name": "HTMLModel",
            "_view_count": null,
            "_view_module": "@jupyter-widgets/controls",
            "_view_module_version": "1.5.0",
            "_view_name": "HTMLView",
            "description": "",
            "description_tooltip": null,
            "layout": "IPY_MODEL_b2941939353545669053626f53d53b59",
            "placeholder": "​",
            "style": "IPY_MODEL_96b3b36c34d7434dbd0940a4c6a44127",
            "value": "vocab.txt: 100%"
          }
        },
        "d67b7ce7a4304d7b84d055283bfbeaa2": {
          "model_module": "@jupyter-widgets/controls",
          "model_name": "FloatProgressModel",
          "model_module_version": "1.5.0",
          "state": {
            "_dom_classes": [],
            "_model_module": "@jupyter-widgets/controls",
            "_model_module_version": "1.5.0",
            "_model_name": "FloatProgressModel",
            "_view_count": null,
            "_view_module": "@jupyter-widgets/controls",
            "_view_module_version": "1.5.0",
            "_view_name": "ProgressView",
            "bar_style": "success",
            "description": "",
            "description_tooltip": null,
            "layout": "IPY_MODEL_952f2081c07f4282957bfbf86cc7aa44",
            "max": 231508,
            "min": 0,
            "orientation": "horizontal",
            "style": "IPY_MODEL_c6d57a2ee3da4c84b3b40c0578c468ee",
            "value": 231508
          }
        },
        "5ff556b2f7af44759cb910fcbfd412db": {
          "model_module": "@jupyter-widgets/controls",
          "model_name": "HTMLModel",
          "model_module_version": "1.5.0",
          "state": {
            "_dom_classes": [],
            "_model_module": "@jupyter-widgets/controls",
            "_model_module_version": "1.5.0",
            "_model_name": "HTMLModel",
            "_view_count": null,
            "_view_module": "@jupyter-widgets/controls",
            "_view_module_version": "1.5.0",
            "_view_name": "HTMLView",
            "description": "",
            "description_tooltip": null,
            "layout": "IPY_MODEL_5ecb20f389784227870109233982d238",
            "placeholder": "​",
            "style": "IPY_MODEL_50a4050ae7d9423a8608f066dacbbae4",
            "value": " 232k/232k [00:00&lt;00:00, 557kB/s]"
          }
        },
        "248275f56ce44ef9b9766b7e65048f62": {
          "model_module": "@jupyter-widgets/base",
          "model_name": "LayoutModel",
          "model_module_version": "1.2.0",
          "state": {
            "_model_module": "@jupyter-widgets/base",
            "_model_module_version": "1.2.0",
            "_model_name": "LayoutModel",
            "_view_count": null,
            "_view_module": "@jupyter-widgets/base",
            "_view_module_version": "1.2.0",
            "_view_name": "LayoutView",
            "align_content": null,
            "align_items": null,
            "align_self": null,
            "border": null,
            "bottom": null,
            "display": null,
            "flex": null,
            "flex_flow": null,
            "grid_area": null,
            "grid_auto_columns": null,
            "grid_auto_flow": null,
            "grid_auto_rows": null,
            "grid_column": null,
            "grid_gap": null,
            "grid_row": null,
            "grid_template_areas": null,
            "grid_template_columns": null,
            "grid_template_rows": null,
            "height": null,
            "justify_content": null,
            "justify_items": null,
            "left": null,
            "margin": null,
            "max_height": null,
            "max_width": null,
            "min_height": null,
            "min_width": null,
            "object_fit": null,
            "object_position": null,
            "order": null,
            "overflow": null,
            "overflow_x": null,
            "overflow_y": null,
            "padding": null,
            "right": null,
            "top": null,
            "visibility": null,
            "width": null
          }
        },
        "b2941939353545669053626f53d53b59": {
          "model_module": "@jupyter-widgets/base",
          "model_name": "LayoutModel",
          "model_module_version": "1.2.0",
          "state": {
            "_model_module": "@jupyter-widgets/base",
            "_model_module_version": "1.2.0",
            "_model_name": "LayoutModel",
            "_view_count": null,
            "_view_module": "@jupyter-widgets/base",
            "_view_module_version": "1.2.0",
            "_view_name": "LayoutView",
            "align_content": null,
            "align_items": null,
            "align_self": null,
            "border": null,
            "bottom": null,
            "display": null,
            "flex": null,
            "flex_flow": null,
            "grid_area": null,
            "grid_auto_columns": null,
            "grid_auto_flow": null,
            "grid_auto_rows": null,
            "grid_column": null,
            "grid_gap": null,
            "grid_row": null,
            "grid_template_areas": null,
            "grid_template_columns": null,
            "grid_template_rows": null,
            "height": null,
            "justify_content": null,
            "justify_items": null,
            "left": null,
            "margin": null,
            "max_height": null,
            "max_width": null,
            "min_height": null,
            "min_width": null,
            "object_fit": null,
            "object_position": null,
            "order": null,
            "overflow": null,
            "overflow_x": null,
            "overflow_y": null,
            "padding": null,
            "right": null,
            "top": null,
            "visibility": null,
            "width": null
          }
        },
        "96b3b36c34d7434dbd0940a4c6a44127": {
          "model_module": "@jupyter-widgets/controls",
          "model_name": "DescriptionStyleModel",
          "model_module_version": "1.5.0",
          "state": {
            "_model_module": "@jupyter-widgets/controls",
            "_model_module_version": "1.5.0",
            "_model_name": "DescriptionStyleModel",
            "_view_count": null,
            "_view_module": "@jupyter-widgets/base",
            "_view_module_version": "1.2.0",
            "_view_name": "StyleView",
            "description_width": ""
          }
        },
        "952f2081c07f4282957bfbf86cc7aa44": {
          "model_module": "@jupyter-widgets/base",
          "model_name": "LayoutModel",
          "model_module_version": "1.2.0",
          "state": {
            "_model_module": "@jupyter-widgets/base",
            "_model_module_version": "1.2.0",
            "_model_name": "LayoutModel",
            "_view_count": null,
            "_view_module": "@jupyter-widgets/base",
            "_view_module_version": "1.2.0",
            "_view_name": "LayoutView",
            "align_content": null,
            "align_items": null,
            "align_self": null,
            "border": null,
            "bottom": null,
            "display": null,
            "flex": null,
            "flex_flow": null,
            "grid_area": null,
            "grid_auto_columns": null,
            "grid_auto_flow": null,
            "grid_auto_rows": null,
            "grid_column": null,
            "grid_gap": null,
            "grid_row": null,
            "grid_template_areas": null,
            "grid_template_columns": null,
            "grid_template_rows": null,
            "height": null,
            "justify_content": null,
            "justify_items": null,
            "left": null,
            "margin": null,
            "max_height": null,
            "max_width": null,
            "min_height": null,
            "min_width": null,
            "object_fit": null,
            "object_position": null,
            "order": null,
            "overflow": null,
            "overflow_x": null,
            "overflow_y": null,
            "padding": null,
            "right": null,
            "top": null,
            "visibility": null,
            "width": null
          }
        },
        "c6d57a2ee3da4c84b3b40c0578c468ee": {
          "model_module": "@jupyter-widgets/controls",
          "model_name": "ProgressStyleModel",
          "model_module_version": "1.5.0",
          "state": {
            "_model_module": "@jupyter-widgets/controls",
            "_model_module_version": "1.5.0",
            "_model_name": "ProgressStyleModel",
            "_view_count": null,
            "_view_module": "@jupyter-widgets/base",
            "_view_module_version": "1.2.0",
            "_view_name": "StyleView",
            "bar_color": null,
            "description_width": ""
          }
        },
        "5ecb20f389784227870109233982d238": {
          "model_module": "@jupyter-widgets/base",
          "model_name": "LayoutModel",
          "model_module_version": "1.2.0",
          "state": {
            "_model_module": "@jupyter-widgets/base",
            "_model_module_version": "1.2.0",
            "_model_name": "LayoutModel",
            "_view_count": null,
            "_view_module": "@jupyter-widgets/base",
            "_view_module_version": "1.2.0",
            "_view_name": "LayoutView",
            "align_content": null,
            "align_items": null,
            "align_self": null,
            "border": null,
            "bottom": null,
            "display": null,
            "flex": null,
            "flex_flow": null,
            "grid_area": null,
            "grid_auto_columns": null,
            "grid_auto_flow": null,
            "grid_auto_rows": null,
            "grid_column": null,
            "grid_gap": null,
            "grid_row": null,
            "grid_template_areas": null,
            "grid_template_columns": null,
            "grid_template_rows": null,
            "height": null,
            "justify_content": null,
            "justify_items": null,
            "left": null,
            "margin": null,
            "max_height": null,
            "max_width": null,
            "min_height": null,
            "min_width": null,
            "object_fit": null,
            "object_position": null,
            "order": null,
            "overflow": null,
            "overflow_x": null,
            "overflow_y": null,
            "padding": null,
            "right": null,
            "top": null,
            "visibility": null,
            "width": null
          }
        },
        "50a4050ae7d9423a8608f066dacbbae4": {
          "model_module": "@jupyter-widgets/controls",
          "model_name": "DescriptionStyleModel",
          "model_module_version": "1.5.0",
          "state": {
            "_model_module": "@jupyter-widgets/controls",
            "_model_module_version": "1.5.0",
            "_model_name": "DescriptionStyleModel",
            "_view_count": null,
            "_view_module": "@jupyter-widgets/base",
            "_view_module_version": "1.2.0",
            "_view_name": "StyleView",
            "description_width": ""
          }
        },
        "536da9cc5dc843ac9120bb8c61d8546c": {
          "model_module": "@jupyter-widgets/controls",
          "model_name": "HBoxModel",
          "model_module_version": "1.5.0",
          "state": {
            "_dom_classes": [],
            "_model_module": "@jupyter-widgets/controls",
            "_model_module_version": "1.5.0",
            "_model_name": "HBoxModel",
            "_view_count": null,
            "_view_module": "@jupyter-widgets/controls",
            "_view_module_version": "1.5.0",
            "_view_name": "HBoxView",
            "box_style": "",
            "children": [
              "IPY_MODEL_77ada13640974c5da3a8291e11c4975a",
              "IPY_MODEL_40d4859f030e4dae94b9111460b20a2d",
              "IPY_MODEL_2f863a98e3d84f31bf3e4458e70cb585"
            ],
            "layout": "IPY_MODEL_2d88b7ed53894c3185ffa504c5403002"
          }
        },
        "77ada13640974c5da3a8291e11c4975a": {
          "model_module": "@jupyter-widgets/controls",
          "model_name": "HTMLModel",
          "model_module_version": "1.5.0",
          "state": {
            "_dom_classes": [],
            "_model_module": "@jupyter-widgets/controls",
            "_model_module_version": "1.5.0",
            "_model_name": "HTMLModel",
            "_view_count": null,
            "_view_module": "@jupyter-widgets/controls",
            "_view_module_version": "1.5.0",
            "_view_name": "HTMLView",
            "description": "",
            "description_tooltip": null,
            "layout": "IPY_MODEL_a8f538295eb64df0ac4ef1c10d6fb1bc",
            "placeholder": "​",
            "style": "IPY_MODEL_cebc5f6c83b04edcb4089c0f732d3b1f",
            "value": "tokenizer.json: 100%"
          }
        },
        "40d4859f030e4dae94b9111460b20a2d": {
          "model_module": "@jupyter-widgets/controls",
          "model_name": "FloatProgressModel",
          "model_module_version": "1.5.0",
          "state": {
            "_dom_classes": [],
            "_model_module": "@jupyter-widgets/controls",
            "_model_module_version": "1.5.0",
            "_model_name": "FloatProgressModel",
            "_view_count": null,
            "_view_module": "@jupyter-widgets/controls",
            "_view_module_version": "1.5.0",
            "_view_name": "ProgressView",
            "bar_style": "success",
            "description": "",
            "description_tooltip": null,
            "layout": "IPY_MODEL_3c37e78c8c2f4fcea2b1ecaabfb10b9a",
            "max": 466062,
            "min": 0,
            "orientation": "horizontal",
            "style": "IPY_MODEL_01b96b34076a478192fcd6854fb280eb",
            "value": 466062
          }
        },
        "2f863a98e3d84f31bf3e4458e70cb585": {
          "model_module": "@jupyter-widgets/controls",
          "model_name": "HTMLModel",
          "model_module_version": "1.5.0",
          "state": {
            "_dom_classes": [],
            "_model_module": "@jupyter-widgets/controls",
            "_model_module_version": "1.5.0",
            "_model_name": "HTMLModel",
            "_view_count": null,
            "_view_module": "@jupyter-widgets/controls",
            "_view_module_version": "1.5.0",
            "_view_name": "HTMLView",
            "description": "",
            "description_tooltip": null,
            "layout": "IPY_MODEL_16a426cb3709491884d68b9d06df636a",
            "placeholder": "​",
            "style": "IPY_MODEL_7f884cfd571f4dbf99333e9d396dfd06",
            "value": " 466k/466k [00:00&lt;00:00, 2.13MB/s]"
          }
        },
        "2d88b7ed53894c3185ffa504c5403002": {
          "model_module": "@jupyter-widgets/base",
          "model_name": "LayoutModel",
          "model_module_version": "1.2.0",
          "state": {
            "_model_module": "@jupyter-widgets/base",
            "_model_module_version": "1.2.0",
            "_model_name": "LayoutModel",
            "_view_count": null,
            "_view_module": "@jupyter-widgets/base",
            "_view_module_version": "1.2.0",
            "_view_name": "LayoutView",
            "align_content": null,
            "align_items": null,
            "align_self": null,
            "border": null,
            "bottom": null,
            "display": null,
            "flex": null,
            "flex_flow": null,
            "grid_area": null,
            "grid_auto_columns": null,
            "grid_auto_flow": null,
            "grid_auto_rows": null,
            "grid_column": null,
            "grid_gap": null,
            "grid_row": null,
            "grid_template_areas": null,
            "grid_template_columns": null,
            "grid_template_rows": null,
            "height": null,
            "justify_content": null,
            "justify_items": null,
            "left": null,
            "margin": null,
            "max_height": null,
            "max_width": null,
            "min_height": null,
            "min_width": null,
            "object_fit": null,
            "object_position": null,
            "order": null,
            "overflow": null,
            "overflow_x": null,
            "overflow_y": null,
            "padding": null,
            "right": null,
            "top": null,
            "visibility": null,
            "width": null
          }
        },
        "a8f538295eb64df0ac4ef1c10d6fb1bc": {
          "model_module": "@jupyter-widgets/base",
          "model_name": "LayoutModel",
          "model_module_version": "1.2.0",
          "state": {
            "_model_module": "@jupyter-widgets/base",
            "_model_module_version": "1.2.0",
            "_model_name": "LayoutModel",
            "_view_count": null,
            "_view_module": "@jupyter-widgets/base",
            "_view_module_version": "1.2.0",
            "_view_name": "LayoutView",
            "align_content": null,
            "align_items": null,
            "align_self": null,
            "border": null,
            "bottom": null,
            "display": null,
            "flex": null,
            "flex_flow": null,
            "grid_area": null,
            "grid_auto_columns": null,
            "grid_auto_flow": null,
            "grid_auto_rows": null,
            "grid_column": null,
            "grid_gap": null,
            "grid_row": null,
            "grid_template_areas": null,
            "grid_template_columns": null,
            "grid_template_rows": null,
            "height": null,
            "justify_content": null,
            "justify_items": null,
            "left": null,
            "margin": null,
            "max_height": null,
            "max_width": null,
            "min_height": null,
            "min_width": null,
            "object_fit": null,
            "object_position": null,
            "order": null,
            "overflow": null,
            "overflow_x": null,
            "overflow_y": null,
            "padding": null,
            "right": null,
            "top": null,
            "visibility": null,
            "width": null
          }
        },
        "cebc5f6c83b04edcb4089c0f732d3b1f": {
          "model_module": "@jupyter-widgets/controls",
          "model_name": "DescriptionStyleModel",
          "model_module_version": "1.5.0",
          "state": {
            "_model_module": "@jupyter-widgets/controls",
            "_model_module_version": "1.5.0",
            "_model_name": "DescriptionStyleModel",
            "_view_count": null,
            "_view_module": "@jupyter-widgets/base",
            "_view_module_version": "1.2.0",
            "_view_name": "StyleView",
            "description_width": ""
          }
        },
        "3c37e78c8c2f4fcea2b1ecaabfb10b9a": {
          "model_module": "@jupyter-widgets/base",
          "model_name": "LayoutModel",
          "model_module_version": "1.2.0",
          "state": {
            "_model_module": "@jupyter-widgets/base",
            "_model_module_version": "1.2.0",
            "_model_name": "LayoutModel",
            "_view_count": null,
            "_view_module": "@jupyter-widgets/base",
            "_view_module_version": "1.2.0",
            "_view_name": "LayoutView",
            "align_content": null,
            "align_items": null,
            "align_self": null,
            "border": null,
            "bottom": null,
            "display": null,
            "flex": null,
            "flex_flow": null,
            "grid_area": null,
            "grid_auto_columns": null,
            "grid_auto_flow": null,
            "grid_auto_rows": null,
            "grid_column": null,
            "grid_gap": null,
            "grid_row": null,
            "grid_template_areas": null,
            "grid_template_columns": null,
            "grid_template_rows": null,
            "height": null,
            "justify_content": null,
            "justify_items": null,
            "left": null,
            "margin": null,
            "max_height": null,
            "max_width": null,
            "min_height": null,
            "min_width": null,
            "object_fit": null,
            "object_position": null,
            "order": null,
            "overflow": null,
            "overflow_x": null,
            "overflow_y": null,
            "padding": null,
            "right": null,
            "top": null,
            "visibility": null,
            "width": null
          }
        },
        "01b96b34076a478192fcd6854fb280eb": {
          "model_module": "@jupyter-widgets/controls",
          "model_name": "ProgressStyleModel",
          "model_module_version": "1.5.0",
          "state": {
            "_model_module": "@jupyter-widgets/controls",
            "_model_module_version": "1.5.0",
            "_model_name": "ProgressStyleModel",
            "_view_count": null,
            "_view_module": "@jupyter-widgets/base",
            "_view_module_version": "1.2.0",
            "_view_name": "StyleView",
            "bar_color": null,
            "description_width": ""
          }
        },
        "16a426cb3709491884d68b9d06df636a": {
          "model_module": "@jupyter-widgets/base",
          "model_name": "LayoutModel",
          "model_module_version": "1.2.0",
          "state": {
            "_model_module": "@jupyter-widgets/base",
            "_model_module_version": "1.2.0",
            "_model_name": "LayoutModel",
            "_view_count": null,
            "_view_module": "@jupyter-widgets/base",
            "_view_module_version": "1.2.0",
            "_view_name": "LayoutView",
            "align_content": null,
            "align_items": null,
            "align_self": null,
            "border": null,
            "bottom": null,
            "display": null,
            "flex": null,
            "flex_flow": null,
            "grid_area": null,
            "grid_auto_columns": null,
            "grid_auto_flow": null,
            "grid_auto_rows": null,
            "grid_column": null,
            "grid_gap": null,
            "grid_row": null,
            "grid_template_areas": null,
            "grid_template_columns": null,
            "grid_template_rows": null,
            "height": null,
            "justify_content": null,
            "justify_items": null,
            "left": null,
            "margin": null,
            "max_height": null,
            "max_width": null,
            "min_height": null,
            "min_width": null,
            "object_fit": null,
            "object_position": null,
            "order": null,
            "overflow": null,
            "overflow_x": null,
            "overflow_y": null,
            "padding": null,
            "right": null,
            "top": null,
            "visibility": null,
            "width": null
          }
        },
        "7f884cfd571f4dbf99333e9d396dfd06": {
          "model_module": "@jupyter-widgets/controls",
          "model_name": "DescriptionStyleModel",
          "model_module_version": "1.5.0",
          "state": {
            "_model_module": "@jupyter-widgets/controls",
            "_model_module_version": "1.5.0",
            "_model_name": "DescriptionStyleModel",
            "_view_count": null,
            "_view_module": "@jupyter-widgets/base",
            "_view_module_version": "1.2.0",
            "_view_name": "StyleView",
            "description_width": ""
          }
        },
        "89b6262f2e424234963ec9122cf1ff3d": {
          "model_module": "@jupyter-widgets/controls",
          "model_name": "HBoxModel",
          "model_module_version": "1.5.0",
          "state": {
            "_dom_classes": [],
            "_model_module": "@jupyter-widgets/controls",
            "_model_module_version": "1.5.0",
            "_model_name": "HBoxModel",
            "_view_count": null,
            "_view_module": "@jupyter-widgets/controls",
            "_view_module_version": "1.5.0",
            "_view_name": "HBoxView",
            "box_style": "",
            "children": [
              "IPY_MODEL_3d2aa935d5cf4854ba53ba89e9ae3af0",
              "IPY_MODEL_8b97370d1af54cdbbb233e7ceb6c73c7",
              "IPY_MODEL_18ead476821d40eba6278b9b44d5fde4"
            ],
            "layout": "IPY_MODEL_f9e45a46b9cb4ba29bf8fc7e313aefb4"
          }
        },
        "3d2aa935d5cf4854ba53ba89e9ae3af0": {
          "model_module": "@jupyter-widgets/controls",
          "model_name": "HTMLModel",
          "model_module_version": "1.5.0",
          "state": {
            "_dom_classes": [],
            "_model_module": "@jupyter-widgets/controls",
            "_model_module_version": "1.5.0",
            "_model_name": "HTMLModel",
            "_view_count": null,
            "_view_module": "@jupyter-widgets/controls",
            "_view_module_version": "1.5.0",
            "_view_name": "HTMLView",
            "description": "",
            "description_tooltip": null,
            "layout": "IPY_MODEL_95d1cd2ba74143c5af80c48206dca3b2",
            "placeholder": "​",
            "style": "IPY_MODEL_8dc42cda59ad4b4ea5506589e719a13f",
            "value": "config.json: 100%"
          }
        },
        "8b97370d1af54cdbbb233e7ceb6c73c7": {
          "model_module": "@jupyter-widgets/controls",
          "model_name": "FloatProgressModel",
          "model_module_version": "1.5.0",
          "state": {
            "_dom_classes": [],
            "_model_module": "@jupyter-widgets/controls",
            "_model_module_version": "1.5.0",
            "_model_name": "FloatProgressModel",
            "_view_count": null,
            "_view_module": "@jupyter-widgets/controls",
            "_view_module_version": "1.5.0",
            "_view_name": "ProgressView",
            "bar_style": "success",
            "description": "",
            "description_tooltip": null,
            "layout": "IPY_MODEL_8ee4d8c758fc43db9c2b2fc3767a070b",
            "max": 483,
            "min": 0,
            "orientation": "horizontal",
            "style": "IPY_MODEL_9b4c4cfae7e44281a5aaad5cce385ea9",
            "value": 483
          }
        },
        "18ead476821d40eba6278b9b44d5fde4": {
          "model_module": "@jupyter-widgets/controls",
          "model_name": "HTMLModel",
          "model_module_version": "1.5.0",
          "state": {
            "_dom_classes": [],
            "_model_module": "@jupyter-widgets/controls",
            "_model_module_version": "1.5.0",
            "_model_name": "HTMLModel",
            "_view_count": null,
            "_view_module": "@jupyter-widgets/controls",
            "_view_module_version": "1.5.0",
            "_view_name": "HTMLView",
            "description": "",
            "description_tooltip": null,
            "layout": "IPY_MODEL_1f74df99bbcf42be8fc0b0643daf8267",
            "placeholder": "​",
            "style": "IPY_MODEL_be446febdfd34b59a6118e9823480737",
            "value": " 483/483 [00:00&lt;00:00, 44.8kB/s]"
          }
        },
        "f9e45a46b9cb4ba29bf8fc7e313aefb4": {
          "model_module": "@jupyter-widgets/base",
          "model_name": "LayoutModel",
          "model_module_version": "1.2.0",
          "state": {
            "_model_module": "@jupyter-widgets/base",
            "_model_module_version": "1.2.0",
            "_model_name": "LayoutModel",
            "_view_count": null,
            "_view_module": "@jupyter-widgets/base",
            "_view_module_version": "1.2.0",
            "_view_name": "LayoutView",
            "align_content": null,
            "align_items": null,
            "align_self": null,
            "border": null,
            "bottom": null,
            "display": null,
            "flex": null,
            "flex_flow": null,
            "grid_area": null,
            "grid_auto_columns": null,
            "grid_auto_flow": null,
            "grid_auto_rows": null,
            "grid_column": null,
            "grid_gap": null,
            "grid_row": null,
            "grid_template_areas": null,
            "grid_template_columns": null,
            "grid_template_rows": null,
            "height": null,
            "justify_content": null,
            "justify_items": null,
            "left": null,
            "margin": null,
            "max_height": null,
            "max_width": null,
            "min_height": null,
            "min_width": null,
            "object_fit": null,
            "object_position": null,
            "order": null,
            "overflow": null,
            "overflow_x": null,
            "overflow_y": null,
            "padding": null,
            "right": null,
            "top": null,
            "visibility": null,
            "width": null
          }
        },
        "95d1cd2ba74143c5af80c48206dca3b2": {
          "model_module": "@jupyter-widgets/base",
          "model_name": "LayoutModel",
          "model_module_version": "1.2.0",
          "state": {
            "_model_module": "@jupyter-widgets/base",
            "_model_module_version": "1.2.0",
            "_model_name": "LayoutModel",
            "_view_count": null,
            "_view_module": "@jupyter-widgets/base",
            "_view_module_version": "1.2.0",
            "_view_name": "LayoutView",
            "align_content": null,
            "align_items": null,
            "align_self": null,
            "border": null,
            "bottom": null,
            "display": null,
            "flex": null,
            "flex_flow": null,
            "grid_area": null,
            "grid_auto_columns": null,
            "grid_auto_flow": null,
            "grid_auto_rows": null,
            "grid_column": null,
            "grid_gap": null,
            "grid_row": null,
            "grid_template_areas": null,
            "grid_template_columns": null,
            "grid_template_rows": null,
            "height": null,
            "justify_content": null,
            "justify_items": null,
            "left": null,
            "margin": null,
            "max_height": null,
            "max_width": null,
            "min_height": null,
            "min_width": null,
            "object_fit": null,
            "object_position": null,
            "order": null,
            "overflow": null,
            "overflow_x": null,
            "overflow_y": null,
            "padding": null,
            "right": null,
            "top": null,
            "visibility": null,
            "width": null
          }
        },
        "8dc42cda59ad4b4ea5506589e719a13f": {
          "model_module": "@jupyter-widgets/controls",
          "model_name": "DescriptionStyleModel",
          "model_module_version": "1.5.0",
          "state": {
            "_model_module": "@jupyter-widgets/controls",
            "_model_module_version": "1.5.0",
            "_model_name": "DescriptionStyleModel",
            "_view_count": null,
            "_view_module": "@jupyter-widgets/base",
            "_view_module_version": "1.2.0",
            "_view_name": "StyleView",
            "description_width": ""
          }
        },
        "8ee4d8c758fc43db9c2b2fc3767a070b": {
          "model_module": "@jupyter-widgets/base",
          "model_name": "LayoutModel",
          "model_module_version": "1.2.0",
          "state": {
            "_model_module": "@jupyter-widgets/base",
            "_model_module_version": "1.2.0",
            "_model_name": "LayoutModel",
            "_view_count": null,
            "_view_module": "@jupyter-widgets/base",
            "_view_module_version": "1.2.0",
            "_view_name": "LayoutView",
            "align_content": null,
            "align_items": null,
            "align_self": null,
            "border": null,
            "bottom": null,
            "display": null,
            "flex": null,
            "flex_flow": null,
            "grid_area": null,
            "grid_auto_columns": null,
            "grid_auto_flow": null,
            "grid_auto_rows": null,
            "grid_column": null,
            "grid_gap": null,
            "grid_row": null,
            "grid_template_areas": null,
            "grid_template_columns": null,
            "grid_template_rows": null,
            "height": null,
            "justify_content": null,
            "justify_items": null,
            "left": null,
            "margin": null,
            "max_height": null,
            "max_width": null,
            "min_height": null,
            "min_width": null,
            "object_fit": null,
            "object_position": null,
            "order": null,
            "overflow": null,
            "overflow_x": null,
            "overflow_y": null,
            "padding": null,
            "right": null,
            "top": null,
            "visibility": null,
            "width": null
          }
        },
        "9b4c4cfae7e44281a5aaad5cce385ea9": {
          "model_module": "@jupyter-widgets/controls",
          "model_name": "ProgressStyleModel",
          "model_module_version": "1.5.0",
          "state": {
            "_model_module": "@jupyter-widgets/controls",
            "_model_module_version": "1.5.0",
            "_model_name": "ProgressStyleModel",
            "_view_count": null,
            "_view_module": "@jupyter-widgets/base",
            "_view_module_version": "1.2.0",
            "_view_name": "StyleView",
            "bar_color": null,
            "description_width": ""
          }
        },
        "1f74df99bbcf42be8fc0b0643daf8267": {
          "model_module": "@jupyter-widgets/base",
          "model_name": "LayoutModel",
          "model_module_version": "1.2.0",
          "state": {
            "_model_module": "@jupyter-widgets/base",
            "_model_module_version": "1.2.0",
            "_model_name": "LayoutModel",
            "_view_count": null,
            "_view_module": "@jupyter-widgets/base",
            "_view_module_version": "1.2.0",
            "_view_name": "LayoutView",
            "align_content": null,
            "align_items": null,
            "align_self": null,
            "border": null,
            "bottom": null,
            "display": null,
            "flex": null,
            "flex_flow": null,
            "grid_area": null,
            "grid_auto_columns": null,
            "grid_auto_flow": null,
            "grid_auto_rows": null,
            "grid_column": null,
            "grid_gap": null,
            "grid_row": null,
            "grid_template_areas": null,
            "grid_template_columns": null,
            "grid_template_rows": null,
            "height": null,
            "justify_content": null,
            "justify_items": null,
            "left": null,
            "margin": null,
            "max_height": null,
            "max_width": null,
            "min_height": null,
            "min_width": null,
            "object_fit": null,
            "object_position": null,
            "order": null,
            "overflow": null,
            "overflow_x": null,
            "overflow_y": null,
            "padding": null,
            "right": null,
            "top": null,
            "visibility": null,
            "width": null
          }
        },
        "be446febdfd34b59a6118e9823480737": {
          "model_module": "@jupyter-widgets/controls",
          "model_name": "DescriptionStyleModel",
          "model_module_version": "1.5.0",
          "state": {
            "_model_module": "@jupyter-widgets/controls",
            "_model_module_version": "1.5.0",
            "_model_name": "DescriptionStyleModel",
            "_view_count": null,
            "_view_module": "@jupyter-widgets/base",
            "_view_module_version": "1.2.0",
            "_view_name": "StyleView",
            "description_width": ""
          }
        }
      }
    }
  },
  "cells": [
    {
      "cell_type": "markdown",
      "metadata": {
        "id": "view-in-github",
        "colab_type": "text"
      },
      "source": [
        "<a href=\"https://colab.research.google.com/github/sowmyarshetty/NNClass/blob/main/AmazonHomeKitchenReviewsPreprocessing_(1).ipynb\" target=\"_parent\"><img src=\"https://colab.research.google.com/assets/colab-badge.svg\" alt=\"Open In Colab\"/></a>"
      ]
    },
    {
      "cell_type": "code",
      "source": [
        "!pip install BERTopic"
      ],
      "metadata": {
        "colab": {
          "base_uri": "https://localhost:8080/"
        },
        "id": "PclZc23p7xUe",
        "outputId": "6fede67e-e953-4262-ff63-c1a0bb9adef9"
      },
      "execution_count": 1,
      "outputs": [
        {
          "output_type": "stream",
          "name": "stdout",
          "text": [
            "Collecting BERTopic\n",
            "  Downloading bertopic-0.17.0-py3-none-any.whl.metadata (23 kB)\n",
            "Requirement already satisfied: hdbscan>=0.8.29 in /usr/local/lib/python3.11/dist-packages (from BERTopic) (0.8.40)\n",
            "Requirement already satisfied: numpy>=1.20.0 in /usr/local/lib/python3.11/dist-packages (from BERTopic) (2.0.2)\n",
            "Requirement already satisfied: pandas>=1.1.5 in /usr/local/lib/python3.11/dist-packages (from BERTopic) (2.2.2)\n",
            "Requirement already satisfied: plotly>=4.7.0 in /usr/local/lib/python3.11/dist-packages (from BERTopic) (5.24.1)\n",
            "Requirement already satisfied: scikit-learn>=1.0 in /usr/local/lib/python3.11/dist-packages (from BERTopic) (1.6.1)\n",
            "Requirement already satisfied: sentence-transformers>=0.4.1 in /usr/local/lib/python3.11/dist-packages (from BERTopic) (3.4.1)\n",
            "Requirement already satisfied: tqdm>=4.41.1 in /usr/local/lib/python3.11/dist-packages (from BERTopic) (4.67.1)\n",
            "Requirement already satisfied: umap-learn>=0.5.0 in /usr/local/lib/python3.11/dist-packages (from BERTopic) (0.5.7)\n",
            "Requirement already satisfied: scipy>=1.0 in /usr/local/lib/python3.11/dist-packages (from hdbscan>=0.8.29->BERTopic) (1.14.1)\n",
            "Requirement already satisfied: joblib>=1.0 in /usr/local/lib/python3.11/dist-packages (from hdbscan>=0.8.29->BERTopic) (1.4.2)\n",
            "Requirement already satisfied: python-dateutil>=2.8.2 in /usr/local/lib/python3.11/dist-packages (from pandas>=1.1.5->BERTopic) (2.8.2)\n",
            "Requirement already satisfied: pytz>=2020.1 in /usr/local/lib/python3.11/dist-packages (from pandas>=1.1.5->BERTopic) (2025.1)\n",
            "Requirement already satisfied: tzdata>=2022.7 in /usr/local/lib/python3.11/dist-packages (from pandas>=1.1.5->BERTopic) (2025.1)\n",
            "Requirement already satisfied: tenacity>=6.2.0 in /usr/local/lib/python3.11/dist-packages (from plotly>=4.7.0->BERTopic) (9.0.0)\n",
            "Requirement already satisfied: packaging in /usr/local/lib/python3.11/dist-packages (from plotly>=4.7.0->BERTopic) (24.2)\n",
            "Requirement already satisfied: threadpoolctl>=3.1.0 in /usr/local/lib/python3.11/dist-packages (from scikit-learn>=1.0->BERTopic) (3.6.0)\n",
            "Requirement already satisfied: transformers<5.0.0,>=4.41.0 in /usr/local/lib/python3.11/dist-packages (from sentence-transformers>=0.4.1->BERTopic) (4.50.0)\n",
            "Requirement already satisfied: torch>=1.11.0 in /usr/local/lib/python3.11/dist-packages (from sentence-transformers>=0.4.1->BERTopic) (2.6.0+cu124)\n",
            "Requirement already satisfied: huggingface-hub>=0.20.0 in /usr/local/lib/python3.11/dist-packages (from sentence-transformers>=0.4.1->BERTopic) (0.29.3)\n",
            "Requirement already satisfied: Pillow in /usr/local/lib/python3.11/dist-packages (from sentence-transformers>=0.4.1->BERTopic) (11.1.0)\n",
            "Requirement already satisfied: numba>=0.51.2 in /usr/local/lib/python3.11/dist-packages (from umap-learn>=0.5.0->BERTopic) (0.60.0)\n",
            "Requirement already satisfied: pynndescent>=0.5 in /usr/local/lib/python3.11/dist-packages (from umap-learn>=0.5.0->BERTopic) (0.5.13)\n",
            "Requirement already satisfied: filelock in /usr/local/lib/python3.11/dist-packages (from huggingface-hub>=0.20.0->sentence-transformers>=0.4.1->BERTopic) (3.18.0)\n",
            "Requirement already satisfied: fsspec>=2023.5.0 in /usr/local/lib/python3.11/dist-packages (from huggingface-hub>=0.20.0->sentence-transformers>=0.4.1->BERTopic) (2025.3.0)\n",
            "Requirement already satisfied: pyyaml>=5.1 in /usr/local/lib/python3.11/dist-packages (from huggingface-hub>=0.20.0->sentence-transformers>=0.4.1->BERTopic) (6.0.2)\n",
            "Requirement already satisfied: requests in /usr/local/lib/python3.11/dist-packages (from huggingface-hub>=0.20.0->sentence-transformers>=0.4.1->BERTopic) (2.32.3)\n",
            "Requirement already satisfied: typing-extensions>=3.7.4.3 in /usr/local/lib/python3.11/dist-packages (from huggingface-hub>=0.20.0->sentence-transformers>=0.4.1->BERTopic) (4.12.2)\n",
            "Requirement already satisfied: llvmlite<0.44,>=0.43.0dev0 in /usr/local/lib/python3.11/dist-packages (from numba>=0.51.2->umap-learn>=0.5.0->BERTopic) (0.43.0)\n",
            "Requirement already satisfied: six>=1.5 in /usr/local/lib/python3.11/dist-packages (from python-dateutil>=2.8.2->pandas>=1.1.5->BERTopic) (1.17.0)\n",
            "Requirement already satisfied: networkx in /usr/local/lib/python3.11/dist-packages (from torch>=1.11.0->sentence-transformers>=0.4.1->BERTopic) (3.4.2)\n",
            "Requirement already satisfied: jinja2 in /usr/local/lib/python3.11/dist-packages (from torch>=1.11.0->sentence-transformers>=0.4.1->BERTopic) (3.1.6)\n",
            "Collecting nvidia-cuda-nvrtc-cu12==12.4.127 (from torch>=1.11.0->sentence-transformers>=0.4.1->BERTopic)\n",
            "  Downloading nvidia_cuda_nvrtc_cu12-12.4.127-py3-none-manylinux2014_x86_64.whl.metadata (1.5 kB)\n",
            "Collecting nvidia-cuda-runtime-cu12==12.4.127 (from torch>=1.11.0->sentence-transformers>=0.4.1->BERTopic)\n",
            "  Downloading nvidia_cuda_runtime_cu12-12.4.127-py3-none-manylinux2014_x86_64.whl.metadata (1.5 kB)\n",
            "Collecting nvidia-cuda-cupti-cu12==12.4.127 (from torch>=1.11.0->sentence-transformers>=0.4.1->BERTopic)\n",
            "  Downloading nvidia_cuda_cupti_cu12-12.4.127-py3-none-manylinux2014_x86_64.whl.metadata (1.6 kB)\n",
            "Collecting nvidia-cudnn-cu12==9.1.0.70 (from torch>=1.11.0->sentence-transformers>=0.4.1->BERTopic)\n",
            "  Downloading nvidia_cudnn_cu12-9.1.0.70-py3-none-manylinux2014_x86_64.whl.metadata (1.6 kB)\n",
            "Collecting nvidia-cublas-cu12==12.4.5.8 (from torch>=1.11.0->sentence-transformers>=0.4.1->BERTopic)\n",
            "  Downloading nvidia_cublas_cu12-12.4.5.8-py3-none-manylinux2014_x86_64.whl.metadata (1.5 kB)\n",
            "Collecting nvidia-cufft-cu12==11.2.1.3 (from torch>=1.11.0->sentence-transformers>=0.4.1->BERTopic)\n",
            "  Downloading nvidia_cufft_cu12-11.2.1.3-py3-none-manylinux2014_x86_64.whl.metadata (1.5 kB)\n",
            "Collecting nvidia-curand-cu12==10.3.5.147 (from torch>=1.11.0->sentence-transformers>=0.4.1->BERTopic)\n",
            "  Downloading nvidia_curand_cu12-10.3.5.147-py3-none-manylinux2014_x86_64.whl.metadata (1.5 kB)\n",
            "Collecting nvidia-cusolver-cu12==11.6.1.9 (from torch>=1.11.0->sentence-transformers>=0.4.1->BERTopic)\n",
            "  Downloading nvidia_cusolver_cu12-11.6.1.9-py3-none-manylinux2014_x86_64.whl.metadata (1.6 kB)\n",
            "Collecting nvidia-cusparse-cu12==12.3.1.170 (from torch>=1.11.0->sentence-transformers>=0.4.1->BERTopic)\n",
            "  Downloading nvidia_cusparse_cu12-12.3.1.170-py3-none-manylinux2014_x86_64.whl.metadata (1.6 kB)\n",
            "Requirement already satisfied: nvidia-cusparselt-cu12==0.6.2 in /usr/local/lib/python3.11/dist-packages (from torch>=1.11.0->sentence-transformers>=0.4.1->BERTopic) (0.6.2)\n",
            "Requirement already satisfied: nvidia-nccl-cu12==2.21.5 in /usr/local/lib/python3.11/dist-packages (from torch>=1.11.0->sentence-transformers>=0.4.1->BERTopic) (2.21.5)\n",
            "Requirement already satisfied: nvidia-nvtx-cu12==12.4.127 in /usr/local/lib/python3.11/dist-packages (from torch>=1.11.0->sentence-transformers>=0.4.1->BERTopic) (12.4.127)\n",
            "Collecting nvidia-nvjitlink-cu12==12.4.127 (from torch>=1.11.0->sentence-transformers>=0.4.1->BERTopic)\n",
            "  Downloading nvidia_nvjitlink_cu12-12.4.127-py3-none-manylinux2014_x86_64.whl.metadata (1.5 kB)\n",
            "Requirement already satisfied: triton==3.2.0 in /usr/local/lib/python3.11/dist-packages (from torch>=1.11.0->sentence-transformers>=0.4.1->BERTopic) (3.2.0)\n",
            "Requirement already satisfied: sympy==1.13.1 in /usr/local/lib/python3.11/dist-packages (from torch>=1.11.0->sentence-transformers>=0.4.1->BERTopic) (1.13.1)\n",
            "Requirement already satisfied: mpmath<1.4,>=1.1.0 in /usr/local/lib/python3.11/dist-packages (from sympy==1.13.1->torch>=1.11.0->sentence-transformers>=0.4.1->BERTopic) (1.3.0)\n",
            "Requirement already satisfied: regex!=2019.12.17 in /usr/local/lib/python3.11/dist-packages (from transformers<5.0.0,>=4.41.0->sentence-transformers>=0.4.1->BERTopic) (2024.11.6)\n",
            "Requirement already satisfied: tokenizers<0.22,>=0.21 in /usr/local/lib/python3.11/dist-packages (from transformers<5.0.0,>=4.41.0->sentence-transformers>=0.4.1->BERTopic) (0.21.1)\n",
            "Requirement already satisfied: safetensors>=0.4.3 in /usr/local/lib/python3.11/dist-packages (from transformers<5.0.0,>=4.41.0->sentence-transformers>=0.4.1->BERTopic) (0.5.3)\n",
            "Requirement already satisfied: MarkupSafe>=2.0 in /usr/local/lib/python3.11/dist-packages (from jinja2->torch>=1.11.0->sentence-transformers>=0.4.1->BERTopic) (3.0.2)\n",
            "Requirement already satisfied: charset-normalizer<4,>=2 in /usr/local/lib/python3.11/dist-packages (from requests->huggingface-hub>=0.20.0->sentence-transformers>=0.4.1->BERTopic) (3.4.1)\n",
            "Requirement already satisfied: idna<4,>=2.5 in /usr/local/lib/python3.11/dist-packages (from requests->huggingface-hub>=0.20.0->sentence-transformers>=0.4.1->BERTopic) (3.10)\n",
            "Requirement already satisfied: urllib3<3,>=1.21.1 in /usr/local/lib/python3.11/dist-packages (from requests->huggingface-hub>=0.20.0->sentence-transformers>=0.4.1->BERTopic) (2.3.0)\n",
            "Requirement already satisfied: certifi>=2017.4.17 in /usr/local/lib/python3.11/dist-packages (from requests->huggingface-hub>=0.20.0->sentence-transformers>=0.4.1->BERTopic) (2025.1.31)\n",
            "Downloading bertopic-0.17.0-py3-none-any.whl (150 kB)\n",
            "\u001b[2K   \u001b[90m━━━━━━━━━━━━━━━━━━━━━━━━━━━━━━━━━━━━━━━━\u001b[0m \u001b[32m150.6/150.6 kB\u001b[0m \u001b[31m7.0 MB/s\u001b[0m eta \u001b[36m0:00:00\u001b[0m\n",
            "\u001b[?25hDownloading nvidia_cublas_cu12-12.4.5.8-py3-none-manylinux2014_x86_64.whl (363.4 MB)\n",
            "\u001b[2K   \u001b[90m━━━━━━━━━━━━━━━━━━━━━━━━━━━━━━━━━━━━━━━━\u001b[0m \u001b[32m363.4/363.4 MB\u001b[0m \u001b[31m3.0 MB/s\u001b[0m eta \u001b[36m0:00:00\u001b[0m\n",
            "\u001b[?25hDownloading nvidia_cuda_cupti_cu12-12.4.127-py3-none-manylinux2014_x86_64.whl (13.8 MB)\n",
            "\u001b[2K   \u001b[90m━━━━━━━━━━━━━━━━━━━━━━━━━━━━━━━━━━━━━━━━\u001b[0m \u001b[32m13.8/13.8 MB\u001b[0m \u001b[31m103.9 MB/s\u001b[0m eta \u001b[36m0:00:00\u001b[0m\n",
            "\u001b[?25hDownloading nvidia_cuda_nvrtc_cu12-12.4.127-py3-none-manylinux2014_x86_64.whl (24.6 MB)\n",
            "\u001b[2K   \u001b[90m━━━━━━━━━━━━━━━━━━━━━━━━━━━━━━━━━━━━━━━━\u001b[0m \u001b[32m24.6/24.6 MB\u001b[0m \u001b[31m76.0 MB/s\u001b[0m eta \u001b[36m0:00:00\u001b[0m\n",
            "\u001b[?25hDownloading nvidia_cuda_runtime_cu12-12.4.127-py3-none-manylinux2014_x86_64.whl (883 kB)\n",
            "\u001b[2K   \u001b[90m━━━━━━━━━━━━━━━━━━━━━━━━━━━━━━━━━━━━━━━━\u001b[0m \u001b[32m883.7/883.7 kB\u001b[0m \u001b[31m55.9 MB/s\u001b[0m eta \u001b[36m0:00:00\u001b[0m\n",
            "\u001b[?25hDownloading nvidia_cudnn_cu12-9.1.0.70-py3-none-manylinux2014_x86_64.whl (664.8 MB)\n",
            "\u001b[2K   \u001b[90m━━━━━━━━━━━━━━━━━━━━━━━━━━━━━━━━━━━━━━━━\u001b[0m \u001b[32m664.8/664.8 MB\u001b[0m \u001b[31m2.3 MB/s\u001b[0m eta \u001b[36m0:00:00\u001b[0m\n",
            "\u001b[?25hDownloading nvidia_cufft_cu12-11.2.1.3-py3-none-manylinux2014_x86_64.whl (211.5 MB)\n",
            "\u001b[2K   \u001b[90m━━━━━━━━━━━━━━━━━━━━━━━━━━━━━━━━━━━━━━━━\u001b[0m \u001b[32m211.5/211.5 MB\u001b[0m \u001b[31m4.5 MB/s\u001b[0m eta \u001b[36m0:00:00\u001b[0m\n",
            "\u001b[?25hDownloading nvidia_curand_cu12-10.3.5.147-py3-none-manylinux2014_x86_64.whl (56.3 MB)\n",
            "\u001b[2K   \u001b[90m━━━━━━━━━━━━━━━━━━━━━━━━━━━━━━━━━━━━━━━━\u001b[0m \u001b[32m56.3/56.3 MB\u001b[0m \u001b[31m37.7 MB/s\u001b[0m eta \u001b[36m0:00:00\u001b[0m\n",
            "\u001b[?25hDownloading nvidia_cusolver_cu12-11.6.1.9-py3-none-manylinux2014_x86_64.whl (127.9 MB)\n",
            "\u001b[2K   \u001b[90m━━━━━━━━━━━━━━━━━━━━━━━━━━━━━━━━━━━━━━━━\u001b[0m \u001b[32m127.9/127.9 MB\u001b[0m \u001b[31m18.1 MB/s\u001b[0m eta \u001b[36m0:00:00\u001b[0m\n",
            "\u001b[?25hDownloading nvidia_cusparse_cu12-12.3.1.170-py3-none-manylinux2014_x86_64.whl (207.5 MB)\n",
            "\u001b[2K   \u001b[90m━━━━━━━━━━━━━━━━━━━━━━━━━━━━━━━━━━━━━━━━\u001b[0m \u001b[32m207.5/207.5 MB\u001b[0m \u001b[31m5.0 MB/s\u001b[0m eta \u001b[36m0:00:00\u001b[0m\n",
            "\u001b[?25hDownloading nvidia_nvjitlink_cu12-12.4.127-py3-none-manylinux2014_x86_64.whl (21.1 MB)\n",
            "\u001b[2K   \u001b[90m━━━━━━━━━━━━━━━━━━━━━━━━━━━━━━━━━━━━━━━━\u001b[0m \u001b[32m21.1/21.1 MB\u001b[0m \u001b[31m92.6 MB/s\u001b[0m eta \u001b[36m0:00:00\u001b[0m\n",
            "\u001b[?25hInstalling collected packages: nvidia-nvjitlink-cu12, nvidia-curand-cu12, nvidia-cufft-cu12, nvidia-cuda-runtime-cu12, nvidia-cuda-nvrtc-cu12, nvidia-cuda-cupti-cu12, nvidia-cublas-cu12, nvidia-cusparse-cu12, nvidia-cudnn-cu12, nvidia-cusolver-cu12, BERTopic\n",
            "  Attempting uninstall: nvidia-nvjitlink-cu12\n",
            "    Found existing installation: nvidia-nvjitlink-cu12 12.5.82\n",
            "    Uninstalling nvidia-nvjitlink-cu12-12.5.82:\n",
            "      Successfully uninstalled nvidia-nvjitlink-cu12-12.5.82\n",
            "  Attempting uninstall: nvidia-curand-cu12\n",
            "    Found existing installation: nvidia-curand-cu12 10.3.6.82\n",
            "    Uninstalling nvidia-curand-cu12-10.3.6.82:\n",
            "      Successfully uninstalled nvidia-curand-cu12-10.3.6.82\n",
            "  Attempting uninstall: nvidia-cufft-cu12\n",
            "    Found existing installation: nvidia-cufft-cu12 11.2.3.61\n",
            "    Uninstalling nvidia-cufft-cu12-11.2.3.61:\n",
            "      Successfully uninstalled nvidia-cufft-cu12-11.2.3.61\n",
            "  Attempting uninstall: nvidia-cuda-runtime-cu12\n",
            "    Found existing installation: nvidia-cuda-runtime-cu12 12.5.82\n",
            "    Uninstalling nvidia-cuda-runtime-cu12-12.5.82:\n",
            "      Successfully uninstalled nvidia-cuda-runtime-cu12-12.5.82\n",
            "  Attempting uninstall: nvidia-cuda-nvrtc-cu12\n",
            "    Found existing installation: nvidia-cuda-nvrtc-cu12 12.5.82\n",
            "    Uninstalling nvidia-cuda-nvrtc-cu12-12.5.82:\n",
            "      Successfully uninstalled nvidia-cuda-nvrtc-cu12-12.5.82\n",
            "  Attempting uninstall: nvidia-cuda-cupti-cu12\n",
            "    Found existing installation: nvidia-cuda-cupti-cu12 12.5.82\n",
            "    Uninstalling nvidia-cuda-cupti-cu12-12.5.82:\n",
            "      Successfully uninstalled nvidia-cuda-cupti-cu12-12.5.82\n",
            "  Attempting uninstall: nvidia-cublas-cu12\n",
            "    Found existing installation: nvidia-cublas-cu12 12.5.3.2\n",
            "    Uninstalling nvidia-cublas-cu12-12.5.3.2:\n",
            "      Successfully uninstalled nvidia-cublas-cu12-12.5.3.2\n",
            "  Attempting uninstall: nvidia-cusparse-cu12\n",
            "    Found existing installation: nvidia-cusparse-cu12 12.5.1.3\n",
            "    Uninstalling nvidia-cusparse-cu12-12.5.1.3:\n",
            "      Successfully uninstalled nvidia-cusparse-cu12-12.5.1.3\n",
            "  Attempting uninstall: nvidia-cudnn-cu12\n",
            "    Found existing installation: nvidia-cudnn-cu12 9.3.0.75\n",
            "    Uninstalling nvidia-cudnn-cu12-9.3.0.75:\n",
            "      Successfully uninstalled nvidia-cudnn-cu12-9.3.0.75\n",
            "  Attempting uninstall: nvidia-cusolver-cu12\n",
            "    Found existing installation: nvidia-cusolver-cu12 11.6.3.83\n",
            "    Uninstalling nvidia-cusolver-cu12-11.6.3.83:\n",
            "      Successfully uninstalled nvidia-cusolver-cu12-11.6.3.83\n",
            "Successfully installed BERTopic-0.17.0 nvidia-cublas-cu12-12.4.5.8 nvidia-cuda-cupti-cu12-12.4.127 nvidia-cuda-nvrtc-cu12-12.4.127 nvidia-cuda-runtime-cu12-12.4.127 nvidia-cudnn-cu12-9.1.0.70 nvidia-cufft-cu12-11.2.1.3 nvidia-curand-cu12-10.3.5.147 nvidia-cusolver-cu12-11.6.1.9 nvidia-cusparse-cu12-12.3.1.170 nvidia-nvjitlink-cu12-12.4.127\n"
          ]
        }
      ]
    },
    {
      "cell_type": "code",
      "execution_count": 2,
      "metadata": {
        "id": "7OKv7TlaVDuY"
      },
      "outputs": [],
      "source": [
        "import pandas as pd\n",
        "import dask.dataframe as dd\n",
        "import gdown\n",
        "import re\n",
        "import numpy as np\n",
        "from sklearn.feature_extraction.text import CountVectorizer\n",
        "from sklearn.decomposition import LatentDirichletAllocation\n",
        "from bertopic import BERTopic\n",
        "from sentence_transformers import SentenceTransformer"
      ]
    },
    {
      "cell_type": "code",
      "source": [
        "# Mount Google Drive (For Colab Users)\n",
        "from google.colab import drive\n",
        "drive.mount('/content/drive')\n"
      ],
      "metadata": {
        "colab": {
          "base_uri": "https://localhost:8080/"
        },
        "id": "6e-EXUh9UqFV",
        "outputId": "ea148ae2-66cc-458a-bff0-521e9c93a197"
      },
      "execution_count": 4,
      "outputs": [
        {
          "output_type": "stream",
          "name": "stdout",
          "text": [
            "Mounted at /content/drive\n"
          ]
        }
      ]
    },
    {
      "cell_type": "code",
      "source": [
        "amazonhkdatasetfileid = '14GcJAzyN2PFg2JuyzF0pRmxlMmimrz9o'\n",
        "amazonhkdatasetfilename = 'AmazonHomeKitchenReviews.csv'\n",
        "\n",
        "url = f\"https://drive.google.com/uc?export=download&id={amazonhkdatasetfileid}\"\n",
        "\n",
        "gdown.download(url,amazonhkdatasetfilename, quiet=False)\n"
      ],
      "metadata": {
        "colab": {
          "base_uri": "https://localhost:8080/",
          "height": 122
        },
        "id": "iWNpu5nWUwHc",
        "outputId": "60572111-97b5-44fc-b0d9-c10641d5de11"
      },
      "execution_count": 5,
      "outputs": [
        {
          "output_type": "stream",
          "name": "stderr",
          "text": [
            "Downloading...\n",
            "From (original): https://drive.google.com/uc?export=download&id=14GcJAzyN2PFg2JuyzF0pRmxlMmimrz9o\n",
            "From (redirected): https://drive.google.com/uc?export=download&id=14GcJAzyN2PFg2JuyzF0pRmxlMmimrz9o&confirm=t&uuid=e2deb2dd-7229-47c0-9efd-c73b5f1f28ff\n",
            "To: /content/AmazonHomeKitchenReviews.csv\n",
            "100%|██████████| 692M/692M [00:09<00:00, 74.7MB/s]\n"
          ]
        },
        {
          "output_type": "execute_result",
          "data": {
            "text/plain": [
              "'AmazonHomeKitchenReviews.csv'"
            ],
            "application/vnd.google.colaboratory.intrinsic+json": {
              "type": "string"
            }
          },
          "metadata": {},
          "execution_count": 5
        }
      ]
    },
    {
      "cell_type": "markdown",
      "source": [
        "* Read the dataset csv  into dataframes"
      ],
      "metadata": {
        "id": "pwdcecevIGaQ"
      }
    },
    {
      "cell_type": "code",
      "source": [
        "df_data = pd.read_csv(amazonhkdatasetfilename)\n"
      ],
      "metadata": {
        "id": "g4fJmLTvVwP6"
      },
      "execution_count": 6,
      "outputs": []
    },
    {
      "cell_type": "code",
      "source": [
        "#reduce the dataset to 10000 records\n",
        "df_data = df_data.head(10000)"
      ],
      "metadata": {
        "id": "kMOXE2hUXrhm"
      },
      "execution_count": 7,
      "outputs": []
    },
    {
      "cell_type": "markdown",
      "source": [
        "\n",
        "\n",
        "*   Analyse the datasets\n",
        "*  Check total number of unique products and the review counts\n",
        "\n",
        "\n"
      ],
      "metadata": {
        "id": "pPBfEocwH45Y"
      }
    },
    {
      "cell_type": "code",
      "source": [
        "df_renamed = df_data.rename(columns={'title_y' : 'product_title','title_x':'review_title','text':'review_text'})\n",
        "df_renamed.groupby('product_title').size().sort_values(ascending=False).head(5)\n",
        "print(df_renamed.columns)"
      ],
      "metadata": {
        "colab": {
          "base_uri": "https://localhost:8080/"
        },
        "id": "fOuYG18eWFZx",
        "outputId": "2f14b53d-067a-446e-d8ba-1288154100aa"
      },
      "execution_count": 8,
      "outputs": [
        {
          "output_type": "stream",
          "name": "stdout",
          "text": [
            "Index(['Unnamed: 0', 'rating', 'review_title', 'review_text', 'images', 'asin',\n",
            "       'parent_asin', 'user_id', 'timestamp', 'helpful_vote',\n",
            "       'verified_purchase', 'product_title', 'description', 'price', 'Brand',\n",
            "       'Material', 'Color', 'categories'],\n",
            "      dtype='object')\n"
          ]
        }
      ]
    },
    {
      "cell_type": "markdown",
      "source": [
        "* Pre-processing\n",
        "* X = review_title,review_text\n",
        "* y = rating"
      ],
      "metadata": {
        "id": "QyMt9EY-bAC-"
      }
    },
    {
      "cell_type": "code",
      "source": [
        "df_renamed.head(2)"
      ],
      "metadata": {
        "id": "d1wMXzhVbgAG",
        "outputId": "b6ee278f-854b-4d58-f871-ad076e0154d3",
        "colab": {
          "base_uri": "https://localhost:8080/",
          "height": 288
        }
      },
      "execution_count": 9,
      "outputs": [
        {
          "output_type": "execute_result",
          "data": {
            "text/plain": [
              "   Unnamed: 0  rating                          review_title  \\\n",
              "0          59       5                             Adorable!   \n",
              "1          87       5  Stailess, healthier than coated pans   \n",
              "\n",
              "                                         review_text images        asin  \\\n",
              "0  These are so sweet. I do wish the stopper part...     []  B01HBWGU80   \n",
              "1  Great little stainless steel, balanced, good w...     []  B07T5CRVKQ   \n",
              "\n",
              "  parent_asin                       user_id                timestamp  \\\n",
              "0  B01DR2ACA0  AGKHLEW2SOWHNMFQIJGBECAF7INQ  2019-07-23 04:29:16.671   \n",
              "1  B08C7JYKZH  AEVWAM3YWN5URJVJIZZ6XPD2MKIA  2020-11-02 22:09:44.073   \n",
              "\n",
              "   helpful_vote  verified_purchase  \\\n",
              "0             0               True   \n",
              "1             1               True   \n",
              "\n",
              "                                       product_title description  price  \\\n",
              "0  Little Bird Wine Bottle Stopper, Silicone Stop...          []   9.49   \n",
              "1  Fortune Candy 8-Inch Fry Pan with Lid, 3-ply S...          []  24.99   \n",
              "\n",
              "           Brand                   Material           Color  \\\n",
              "0    LouisChoice                   Silicone  Assorted Color   \n",
              "1  Fortune Candy  Stainless Steel, Aluminum   Mirror Finish   \n",
              "\n",
              "                                          categories  \n",
              "0  ['Home & Kitchen', 'Kitchen & Dining', 'Kitche...  \n",
              "1  ['Home & Kitchen', 'Kitchen & Dining', 'Cookwa...  "
            ],
            "text/html": [
              "\n",
              "  <div id=\"df-f3a17cc4-716b-4123-b4c5-642b82509e06\" class=\"colab-df-container\">\n",
              "    <div>\n",
              "<style scoped>\n",
              "    .dataframe tbody tr th:only-of-type {\n",
              "        vertical-align: middle;\n",
              "    }\n",
              "\n",
              "    .dataframe tbody tr th {\n",
              "        vertical-align: top;\n",
              "    }\n",
              "\n",
              "    .dataframe thead th {\n",
              "        text-align: right;\n",
              "    }\n",
              "</style>\n",
              "<table border=\"1\" class=\"dataframe\">\n",
              "  <thead>\n",
              "    <tr style=\"text-align: right;\">\n",
              "      <th></th>\n",
              "      <th>Unnamed: 0</th>\n",
              "      <th>rating</th>\n",
              "      <th>review_title</th>\n",
              "      <th>review_text</th>\n",
              "      <th>images</th>\n",
              "      <th>asin</th>\n",
              "      <th>parent_asin</th>\n",
              "      <th>user_id</th>\n",
              "      <th>timestamp</th>\n",
              "      <th>helpful_vote</th>\n",
              "      <th>verified_purchase</th>\n",
              "      <th>product_title</th>\n",
              "      <th>description</th>\n",
              "      <th>price</th>\n",
              "      <th>Brand</th>\n",
              "      <th>Material</th>\n",
              "      <th>Color</th>\n",
              "      <th>categories</th>\n",
              "    </tr>\n",
              "  </thead>\n",
              "  <tbody>\n",
              "    <tr>\n",
              "      <th>0</th>\n",
              "      <td>59</td>\n",
              "      <td>5</td>\n",
              "      <td>Adorable!</td>\n",
              "      <td>These are so sweet. I do wish the stopper part...</td>\n",
              "      <td>[]</td>\n",
              "      <td>B01HBWGU80</td>\n",
              "      <td>B01DR2ACA0</td>\n",
              "      <td>AGKHLEW2SOWHNMFQIJGBECAF7INQ</td>\n",
              "      <td>2019-07-23 04:29:16.671</td>\n",
              "      <td>0</td>\n",
              "      <td>True</td>\n",
              "      <td>Little Bird Wine Bottle Stopper, Silicone Stop...</td>\n",
              "      <td>[]</td>\n",
              "      <td>9.49</td>\n",
              "      <td>LouisChoice</td>\n",
              "      <td>Silicone</td>\n",
              "      <td>Assorted Color</td>\n",
              "      <td>['Home &amp; Kitchen', 'Kitchen &amp; Dining', 'Kitche...</td>\n",
              "    </tr>\n",
              "    <tr>\n",
              "      <th>1</th>\n",
              "      <td>87</td>\n",
              "      <td>5</td>\n",
              "      <td>Stailess, healthier than coated pans</td>\n",
              "      <td>Great little stainless steel, balanced, good w...</td>\n",
              "      <td>[]</td>\n",
              "      <td>B07T5CRVKQ</td>\n",
              "      <td>B08C7JYKZH</td>\n",
              "      <td>AEVWAM3YWN5URJVJIZZ6XPD2MKIA</td>\n",
              "      <td>2020-11-02 22:09:44.073</td>\n",
              "      <td>1</td>\n",
              "      <td>True</td>\n",
              "      <td>Fortune Candy 8-Inch Fry Pan with Lid, 3-ply S...</td>\n",
              "      <td>[]</td>\n",
              "      <td>24.99</td>\n",
              "      <td>Fortune Candy</td>\n",
              "      <td>Stainless Steel, Aluminum</td>\n",
              "      <td>Mirror Finish</td>\n",
              "      <td>['Home &amp; Kitchen', 'Kitchen &amp; Dining', 'Cookwa...</td>\n",
              "    </tr>\n",
              "  </tbody>\n",
              "</table>\n",
              "</div>\n",
              "    <div class=\"colab-df-buttons\">\n",
              "\n",
              "  <div class=\"colab-df-container\">\n",
              "    <button class=\"colab-df-convert\" onclick=\"convertToInteractive('df-f3a17cc4-716b-4123-b4c5-642b82509e06')\"\n",
              "            title=\"Convert this dataframe to an interactive table.\"\n",
              "            style=\"display:none;\">\n",
              "\n",
              "  <svg xmlns=\"http://www.w3.org/2000/svg\" height=\"24px\" viewBox=\"0 -960 960 960\">\n",
              "    <path d=\"M120-120v-720h720v720H120Zm60-500h600v-160H180v160Zm220 220h160v-160H400v160Zm0 220h160v-160H400v160ZM180-400h160v-160H180v160Zm440 0h160v-160H620v160ZM180-180h160v-160H180v160Zm440 0h160v-160H620v160Z\"/>\n",
              "  </svg>\n",
              "    </button>\n",
              "\n",
              "  <style>\n",
              "    .colab-df-container {\n",
              "      display:flex;\n",
              "      gap: 12px;\n",
              "    }\n",
              "\n",
              "    .colab-df-convert {\n",
              "      background-color: #E8F0FE;\n",
              "      border: none;\n",
              "      border-radius: 50%;\n",
              "      cursor: pointer;\n",
              "      display: none;\n",
              "      fill: #1967D2;\n",
              "      height: 32px;\n",
              "      padding: 0 0 0 0;\n",
              "      width: 32px;\n",
              "    }\n",
              "\n",
              "    .colab-df-convert:hover {\n",
              "      background-color: #E2EBFA;\n",
              "      box-shadow: 0px 1px 2px rgba(60, 64, 67, 0.3), 0px 1px 3px 1px rgba(60, 64, 67, 0.15);\n",
              "      fill: #174EA6;\n",
              "    }\n",
              "\n",
              "    .colab-df-buttons div {\n",
              "      margin-bottom: 4px;\n",
              "    }\n",
              "\n",
              "    [theme=dark] .colab-df-convert {\n",
              "      background-color: #3B4455;\n",
              "      fill: #D2E3FC;\n",
              "    }\n",
              "\n",
              "    [theme=dark] .colab-df-convert:hover {\n",
              "      background-color: #434B5C;\n",
              "      box-shadow: 0px 1px 3px 1px rgba(0, 0, 0, 0.15);\n",
              "      filter: drop-shadow(0px 1px 2px rgba(0, 0, 0, 0.3));\n",
              "      fill: #FFFFFF;\n",
              "    }\n",
              "  </style>\n",
              "\n",
              "    <script>\n",
              "      const buttonEl =\n",
              "        document.querySelector('#df-f3a17cc4-716b-4123-b4c5-642b82509e06 button.colab-df-convert');\n",
              "      buttonEl.style.display =\n",
              "        google.colab.kernel.accessAllowed ? 'block' : 'none';\n",
              "\n",
              "      async function convertToInteractive(key) {\n",
              "        const element = document.querySelector('#df-f3a17cc4-716b-4123-b4c5-642b82509e06');\n",
              "        const dataTable =\n",
              "          await google.colab.kernel.invokeFunction('convertToInteractive',\n",
              "                                                    [key], {});\n",
              "        if (!dataTable) return;\n",
              "\n",
              "        const docLinkHtml = 'Like what you see? Visit the ' +\n",
              "          '<a target=\"_blank\" href=https://colab.research.google.com/notebooks/data_table.ipynb>data table notebook</a>'\n",
              "          + ' to learn more about interactive tables.';\n",
              "        element.innerHTML = '';\n",
              "        dataTable['output_type'] = 'display_data';\n",
              "        await google.colab.output.renderOutput(dataTable, element);\n",
              "        const docLink = document.createElement('div');\n",
              "        docLink.innerHTML = docLinkHtml;\n",
              "        element.appendChild(docLink);\n",
              "      }\n",
              "    </script>\n",
              "  </div>\n",
              "\n",
              "\n",
              "<div id=\"df-682e7cf8-be53-41bc-9bab-747948d5ec13\">\n",
              "  <button class=\"colab-df-quickchart\" onclick=\"quickchart('df-682e7cf8-be53-41bc-9bab-747948d5ec13')\"\n",
              "            title=\"Suggest charts\"\n",
              "            style=\"display:none;\">\n",
              "\n",
              "<svg xmlns=\"http://www.w3.org/2000/svg\" height=\"24px\"viewBox=\"0 0 24 24\"\n",
              "     width=\"24px\">\n",
              "    <g>\n",
              "        <path d=\"M19 3H5c-1.1 0-2 .9-2 2v14c0 1.1.9 2 2 2h14c1.1 0 2-.9 2-2V5c0-1.1-.9-2-2-2zM9 17H7v-7h2v7zm4 0h-2V7h2v10zm4 0h-2v-4h2v4z\"/>\n",
              "    </g>\n",
              "</svg>\n",
              "  </button>\n",
              "\n",
              "<style>\n",
              "  .colab-df-quickchart {\n",
              "      --bg-color: #E8F0FE;\n",
              "      --fill-color: #1967D2;\n",
              "      --hover-bg-color: #E2EBFA;\n",
              "      --hover-fill-color: #174EA6;\n",
              "      --disabled-fill-color: #AAA;\n",
              "      --disabled-bg-color: #DDD;\n",
              "  }\n",
              "\n",
              "  [theme=dark] .colab-df-quickchart {\n",
              "      --bg-color: #3B4455;\n",
              "      --fill-color: #D2E3FC;\n",
              "      --hover-bg-color: #434B5C;\n",
              "      --hover-fill-color: #FFFFFF;\n",
              "      --disabled-bg-color: #3B4455;\n",
              "      --disabled-fill-color: #666;\n",
              "  }\n",
              "\n",
              "  .colab-df-quickchart {\n",
              "    background-color: var(--bg-color);\n",
              "    border: none;\n",
              "    border-radius: 50%;\n",
              "    cursor: pointer;\n",
              "    display: none;\n",
              "    fill: var(--fill-color);\n",
              "    height: 32px;\n",
              "    padding: 0;\n",
              "    width: 32px;\n",
              "  }\n",
              "\n",
              "  .colab-df-quickchart:hover {\n",
              "    background-color: var(--hover-bg-color);\n",
              "    box-shadow: 0 1px 2px rgba(60, 64, 67, 0.3), 0 1px 3px 1px rgba(60, 64, 67, 0.15);\n",
              "    fill: var(--button-hover-fill-color);\n",
              "  }\n",
              "\n",
              "  .colab-df-quickchart-complete:disabled,\n",
              "  .colab-df-quickchart-complete:disabled:hover {\n",
              "    background-color: var(--disabled-bg-color);\n",
              "    fill: var(--disabled-fill-color);\n",
              "    box-shadow: none;\n",
              "  }\n",
              "\n",
              "  .colab-df-spinner {\n",
              "    border: 2px solid var(--fill-color);\n",
              "    border-color: transparent;\n",
              "    border-bottom-color: var(--fill-color);\n",
              "    animation:\n",
              "      spin 1s steps(1) infinite;\n",
              "  }\n",
              "\n",
              "  @keyframes spin {\n",
              "    0% {\n",
              "      border-color: transparent;\n",
              "      border-bottom-color: var(--fill-color);\n",
              "      border-left-color: var(--fill-color);\n",
              "    }\n",
              "    20% {\n",
              "      border-color: transparent;\n",
              "      border-left-color: var(--fill-color);\n",
              "      border-top-color: var(--fill-color);\n",
              "    }\n",
              "    30% {\n",
              "      border-color: transparent;\n",
              "      border-left-color: var(--fill-color);\n",
              "      border-top-color: var(--fill-color);\n",
              "      border-right-color: var(--fill-color);\n",
              "    }\n",
              "    40% {\n",
              "      border-color: transparent;\n",
              "      border-right-color: var(--fill-color);\n",
              "      border-top-color: var(--fill-color);\n",
              "    }\n",
              "    60% {\n",
              "      border-color: transparent;\n",
              "      border-right-color: var(--fill-color);\n",
              "    }\n",
              "    80% {\n",
              "      border-color: transparent;\n",
              "      border-right-color: var(--fill-color);\n",
              "      border-bottom-color: var(--fill-color);\n",
              "    }\n",
              "    90% {\n",
              "      border-color: transparent;\n",
              "      border-bottom-color: var(--fill-color);\n",
              "    }\n",
              "  }\n",
              "</style>\n",
              "\n",
              "  <script>\n",
              "    async function quickchart(key) {\n",
              "      const quickchartButtonEl =\n",
              "        document.querySelector('#' + key + ' button');\n",
              "      quickchartButtonEl.disabled = true;  // To prevent multiple clicks.\n",
              "      quickchartButtonEl.classList.add('colab-df-spinner');\n",
              "      try {\n",
              "        const charts = await google.colab.kernel.invokeFunction(\n",
              "            'suggestCharts', [key], {});\n",
              "      } catch (error) {\n",
              "        console.error('Error during call to suggestCharts:', error);\n",
              "      }\n",
              "      quickchartButtonEl.classList.remove('colab-df-spinner');\n",
              "      quickchartButtonEl.classList.add('colab-df-quickchart-complete');\n",
              "    }\n",
              "    (() => {\n",
              "      let quickchartButtonEl =\n",
              "        document.querySelector('#df-682e7cf8-be53-41bc-9bab-747948d5ec13 button');\n",
              "      quickchartButtonEl.style.display =\n",
              "        google.colab.kernel.accessAllowed ? 'block' : 'none';\n",
              "    })();\n",
              "  </script>\n",
              "</div>\n",
              "\n",
              "    </div>\n",
              "  </div>\n"
            ],
            "application/vnd.google.colaboratory.intrinsic+json": {
              "type": "dataframe",
              "variable_name": "df_renamed",
              "summary": "{\n  \"name\": \"df_renamed\",\n  \"rows\": 10000,\n  \"fields\": [\n    {\n      \"column\": \"Unnamed: 0\",\n      \"properties\": {\n        \"dtype\": \"number\",\n        \"std\": 60667,\n        \"min\": 59,\n        \"max\": 210911,\n        \"num_unique_values\": 10000,\n        \"samples\": [\n          130122,\n          100167,\n          34140\n        ],\n        \"semantic_type\": \"\",\n        \"description\": \"\"\n      }\n    },\n    {\n      \"column\": \"rating\",\n      \"properties\": {\n        \"dtype\": \"number\",\n        \"std\": 1,\n        \"min\": 1,\n        \"max\": 5,\n        \"num_unique_values\": 5,\n        \"samples\": [\n          4,\n          3,\n          2\n        ],\n        \"semantic_type\": \"\",\n        \"description\": \"\"\n      }\n    },\n    {\n      \"column\": \"review_title\",\n      \"properties\": {\n        \"dtype\": \"string\",\n        \"num_unique_values\": 7699,\n        \"samples\": [\n          \"Would repurchase\",\n          \"Good product at good price.\",\n          \"Great tool\"\n        ],\n        \"semantic_type\": \"\",\n        \"description\": \"\"\n      }\n    },\n    {\n      \"column\": \"review_text\",\n      \"properties\": {\n        \"dtype\": \"string\",\n        \"num_unique_values\": 9708,\n        \"samples\": [\n          \"Great product.The textures,the sheerness and the wrinklessness is superior.\",\n          \"Not what I expected very small\",\n          \"Highly recommend this product if you have your own garden\"\n        ],\n        \"semantic_type\": \"\",\n        \"description\": \"\"\n      }\n    },\n    {\n      \"column\": \"images\",\n      \"properties\": {\n        \"dtype\": \"category\",\n        \"num_unique_values\": 946,\n        \"samples\": [\n          \"[{'small_image_url': 'https://images-na.ssl-images-amazon.com/images/I/71JQaZQQ8pL._SL256_.jpg', 'medium_image_url': 'https://images-na.ssl-images-amazon.com/images/I/71JQaZQQ8pL._SL800_.jpg', 'large_image_url': 'https://images-na.ssl-images-amazon.com/images/I/71JQaZQQ8pL.jpg', 'attachment_type': 'IMAGE'}, {'small_image_url': 'https://images-na.ssl-images-amazon.com/images/I/811tRjaq3zL._SL256_.jpg', 'medium_image_url': 'https://images-na.ssl-images-amazon.com/images/I/811tRjaq3zL._SL800_.jpg', 'large_image_url': 'https://images-na.ssl-images-amazon.com/images/I/811tRjaq3zL.jpg', 'attachment_type': 'IMAGE'}]\",\n          \"[{'small_image_url': 'https://images-na.ssl-images-amazon.com/images/I/61mf7HXPgZL._SL256_.jpg', 'medium_image_url': 'https://images-na.ssl-images-amazon.com/images/I/61mf7HXPgZL._SL800_.jpg', 'large_image_url': 'https://images-na.ssl-images-amazon.com/images/I/61mf7HXPgZL._SL1600_.jpg', 'attachment_type': 'IMAGE'}]\",\n          \"[{'small_image_url': 'https://images-na.ssl-images-amazon.com/images/I/71790PSVdUL._SL256_.jpg', 'medium_image_url': 'https://images-na.ssl-images-amazon.com/images/I/71790PSVdUL._SL800_.jpg', 'large_image_url': 'https://images-na.ssl-images-amazon.com/images/I/71790PSVdUL.jpg', 'attachment_type': 'IMAGE'}]\"\n        ],\n        \"semantic_type\": \"\",\n        \"description\": \"\"\n      }\n    },\n    {\n      \"column\": \"asin\",\n      \"properties\": {\n        \"dtype\": \"string\",\n        \"num_unique_values\": 7480,\n        \"samples\": [\n          \"B01LNSPL88\",\n          \"B0BHTZJG5M\",\n          \"B089WJH8G7\"\n        ],\n        \"semantic_type\": \"\",\n        \"description\": \"\"\n      }\n    },\n    {\n      \"column\": \"parent_asin\",\n      \"properties\": {\n        \"dtype\": \"category\",\n        \"num_unique_values\": 3341,\n        \"samples\": [\n          \"B07CP6J6FM\",\n          \"B07Z62231J\",\n          \"B072B83P49\"\n        ],\n        \"semantic_type\": \"\",\n        \"description\": \"\"\n      }\n    },\n    {\n      \"column\": \"user_id\",\n      \"properties\": {\n        \"dtype\": \"category\",\n        \"num_unique_values\": 4942,\n        \"samples\": [\n          \"AE3LOM7QWQC2PDQJ3KDBWSTIAEXA\",\n          \"AEHDGDO56R6SF2O4MBDD4TIKJE7Q\",\n          \"AFYKLS6DY6EJZBQHVXGZJRYPPZNA\"\n        ],\n        \"semantic_type\": \"\",\n        \"description\": \"\"\n      }\n    },\n    {\n      \"column\": \"timestamp\",\n      \"properties\": {\n        \"dtype\": \"object\",\n        \"num_unique_values\": 9999,\n        \"samples\": [\n          \"2019-07-07 00:10:44.151\",\n          \"2019-12-12 04:11:20.238\",\n          \"2020-05-16 17:28:20.642\"\n        ],\n        \"semantic_type\": \"\",\n        \"description\": \"\"\n      }\n    },\n    {\n      \"column\": \"helpful_vote\",\n      \"properties\": {\n        \"dtype\": \"number\",\n        \"std\": 29,\n        \"min\": 0,\n        \"max\": 2690,\n        \"num_unique_values\": 77,\n        \"samples\": [\n          53,\n          15,\n          7\n        ],\n        \"semantic_type\": \"\",\n        \"description\": \"\"\n      }\n    },\n    {\n      \"column\": \"verified_purchase\",\n      \"properties\": {\n        \"dtype\": \"boolean\",\n        \"num_unique_values\": 2,\n        \"samples\": [\n          false,\n          true\n        ],\n        \"semantic_type\": \"\",\n        \"description\": \"\"\n      }\n    },\n    {\n      \"column\": \"product_title\",\n      \"properties\": {\n        \"dtype\": \"category\",\n        \"num_unique_values\": 3341,\n        \"samples\": [\n          \"Tim & Tina Silk Satin Square Decorative Throw Pillow Case Cushion Cover (18\\\" x 18\\\", Ivory)\",\n          \"confibona Lightweight 90% White Down Comforter/Blanket,California/Oversized King Size,Duvet Insert for Summer/Warm Weather,Machine Washable,White\"\n        ],\n        \"semantic_type\": \"\",\n        \"description\": \"\"\n      }\n    },\n    {\n      \"column\": \"description\",\n      \"properties\": {\n        \"dtype\": \"category\",\n        \"num_unique_values\": 1270,\n        \"samples\": [\n          \"['TEJATAN Double Curtain Rod Brackets - Black']\",\n          \"[\\\"La Cuisine's PRO Round 5 Qt. Cast Iron Casserole can be used to rustle up all sorts of mouth-watering dishes cooked on the stovetop or in the oven. La Cuisine's PRO cast iron cookware is crafted using sand molds, which are used only once, forging a lighter product with a very fine enamel finish that is truly unique. Wonderfully versatile, La Cuisine's PRO round casseroles are suited to the oven and all cooktops, including induction. Food heats through evenly and remains hot until served. The non-toxic, matte black enamel interior surface is scratch-resistant, stain-resistant, gives excellent food release that improves through continued use, and is simple to clean \\u2013 just wash in warm water. Perfect for professional and domestic cooks alike, La Cuisine PRO gives you no-fuss, healthy cooking that looks great as it goes straight from cooking on the stovetop or in the oven to serving at the table or buffet (our trivets, sold separately, are recommended for table/buffet use).\\\"]\"\n        ],\n        \"semantic_type\": \"\",\n        \"description\": \"\"\n      }\n    },\n    {\n      \"column\": \"price\",\n      \"properties\": {\n        \"dtype\": \"number\",\n        \"std\": 55.48134945573987,\n        \"min\": 2.5,\n        \"max\": 1295.0,\n        \"num_unique_values\": 1089,\n        \"samples\": [\n          48.49,\n          29.95\n        ],\n        \"semantic_type\": \"\",\n        \"description\": \"\"\n      }\n    },\n    {\n      \"column\": \"Brand\",\n      \"properties\": {\n        \"dtype\": \"category\",\n        \"num_unique_values\": 2295,\n        \"samples\": [\n          \"HOSL\",\n          \"OMyTea\"\n        ],\n        \"semantic_type\": \"\",\n        \"description\": \"\"\n      }\n    },\n    {\n      \"column\": \"Material\",\n      \"properties\": {\n        \"dtype\": \"category\",\n        \"num_unique_values\": 606,\n        \"samples\": [\n          \"Microfiber feather yarn\",\n          \"Engineered Wood, Wood\"\n        ],\n        \"semantic_type\": \"\",\n        \"description\": \"\"\n      }\n    },\n    {\n      \"column\": \"Color\",\n      \"properties\": {\n        \"dtype\": \"category\",\n        \"num_unique_values\": 1494,\n        \"samples\": [\n          \"Olive\",\n          \"Brushed Chrome\"\n        ],\n        \"semantic_type\": \"\",\n        \"description\": \"\"\n      }\n    },\n    {\n      \"column\": \"categories\",\n      \"properties\": {\n        \"dtype\": \"category\",\n        \"num_unique_values\": 610,\n        \"samples\": [\n          \"['Home & Kitchen', 'Bath', 'Towels', 'Bath Towels']\",\n          \"['Home & Kitchen', 'Kitchen & Dining', 'Dining & Entertaining', 'Glassware & Drinkware', 'Cups, Mugs, & Saucers', 'Teacups']\"\n        ],\n        \"semantic_type\": \"\",\n        \"description\": \"\"\n      }\n    }\n  ]\n}"
            }
          },
          "metadata": {},
          "execution_count": 9
        }
      ]
    },
    {
      "cell_type": "markdown",
      "source": [
        "**Text Pre-processsing **\n",
        "\n",
        "* Used a lemmatizer for review title and review text\n",
        "* This improve accuracy: By grouping similar words together and it can help the model understand the meaning of text better.\n",
        "* It can reduce noise: It can help remove redundant information from your text data.\n",
        "* Improve efficiency: It can help reduce the size of your vocabulary and speed up your analysis."
      ],
      "metadata": {
        "id": "q4kjpzGogcQC"
      }
    },
    {
      "cell_type": "code",
      "source": [
        "import nltk\n",
        "from nltk.corpus import stopwords\n",
        "from nltk.tokenize import word_tokenize\n",
        "from nltk.stem import WordNetLemmatizer\n",
        "\n",
        "# Download stopwords and punkt if not already downloaded\n",
        "nltk.download('stopwords')\n",
        "nltk.download('punkt')\n",
        "nltk.download('punkt_tab')\n",
        "nltk.download('wordnet')\n",
        "lemmatizer = WordNetLemmatizer()\n",
        "stop_words = set(stopwords.words('english'))\n",
        "\n",
        "def preprocess_text(text):\n",
        "    # Tokenize text\n",
        "    tokens = word_tokenize(text.lower())  # Convert to lowercase and tokenize\n",
        "    # Remove stop words and lemmatize\n",
        "    cleaned_tokens = [lemmatizer.lemmatize(word) for word in tokens if word.isalpha() and word not in stop_words]\n",
        "    return \" \".join(cleaned_tokens)\n",
        "\n",
        "# Apply preprocessing to your review text\n",
        "df_renamed['processed_review'] = df_renamed['review_title'].astype(str) +  df_renamed['review_text'].astype(str).apply(preprocess_text)\n"
      ],
      "metadata": {
        "outputId": "70009ce6-eaa4-4b91-a228-9c525713009b",
        "colab": {
          "base_uri": "https://localhost:8080/"
        },
        "id": "mnhZe5tIc0ma"
      },
      "execution_count": 10,
      "outputs": [
        {
          "output_type": "stream",
          "name": "stderr",
          "text": [
            "[nltk_data] Downloading package stopwords to /root/nltk_data...\n",
            "[nltk_data]   Unzipping corpora/stopwords.zip.\n",
            "[nltk_data] Downloading package punkt to /root/nltk_data...\n",
            "[nltk_data]   Unzipping tokenizers/punkt.zip.\n",
            "[nltk_data] Downloading package punkt_tab to /root/nltk_data...\n",
            "[nltk_data]   Unzipping tokenizers/punkt_tab.zip.\n",
            "[nltk_data] Downloading package wordnet to /root/nltk_data...\n"
          ]
        }
      ]
    },
    {
      "cell_type": "code",
      "source": [
        "df_renamed['processed_review'].head(2)"
      ],
      "metadata": {
        "id": "pSiaz3pogNt_",
        "outputId": "ee04202f-37c3-4c6c-e16c-2999aaccc2f2",
        "colab": {
          "base_uri": "https://localhost:8080/",
          "height": 147
        }
      },
      "execution_count": 11,
      "outputs": [
        {
          "output_type": "execute_result",
          "data": {
            "text/plain": [
              "0    Adorable!sweet wish stopper part little longer...\n",
              "1    Stailess, healthier than coated pansgreat litt...\n",
              "Name: processed_review, dtype: object"
            ],
            "text/html": [
              "<div>\n",
              "<style scoped>\n",
              "    .dataframe tbody tr th:only-of-type {\n",
              "        vertical-align: middle;\n",
              "    }\n",
              "\n",
              "    .dataframe tbody tr th {\n",
              "        vertical-align: top;\n",
              "    }\n",
              "\n",
              "    .dataframe thead th {\n",
              "        text-align: right;\n",
              "    }\n",
              "</style>\n",
              "<table border=\"1\" class=\"dataframe\">\n",
              "  <thead>\n",
              "    <tr style=\"text-align: right;\">\n",
              "      <th></th>\n",
              "      <th>processed_review</th>\n",
              "    </tr>\n",
              "  </thead>\n",
              "  <tbody>\n",
              "    <tr>\n",
              "      <th>0</th>\n",
              "      <td>Adorable!sweet wish stopper part little longer...</td>\n",
              "    </tr>\n",
              "    <tr>\n",
              "      <th>1</th>\n",
              "      <td>Stailess, healthier than coated pansgreat litt...</td>\n",
              "    </tr>\n",
              "  </tbody>\n",
              "</table>\n",
              "</div><br><label><b>dtype:</b> object</label>"
            ]
          },
          "metadata": {},
          "execution_count": 11
        }
      ]
    },
    {
      "cell_type": "code",
      "source": [
        "df_renamed[\"categories\"].value_counts().sort_values(ascending=False).head(10)"
      ],
      "metadata": {
        "colab": {
          "base_uri": "https://localhost:8080/",
          "height": 429
        },
        "id": "8RXxKmWXs_Y5",
        "outputId": "d5077fb1-0dbd-4559-ac70-39dbfe27d6dc"
      },
      "execution_count": 12,
      "outputs": [
        {
          "output_type": "execute_result",
          "data": {
            "text/plain": [
              "categories\n",
              "['Home & Kitchen', 'Bedding', 'Sheets & Pillowcases', 'Sheet & Pillowcase Sets']                                        1153\n",
              "['Home & Kitchen', 'Home Décor Products', 'Window Treatments', 'Curtains & Drapes', 'Panels']                            560\n",
              "['Home & Kitchen', 'Bedding', 'Decorative Pillows, Inserts & Covers', 'Throw Pillow Covers']                             303\n",
              "['Home & Kitchen', 'Bedding', 'Sheets & Pillowcases', 'Pillowcases']                                                     289\n",
              "['Home & Kitchen', 'Bedding', 'Blankets & Throws', 'Throws']                                                             257\n",
              "['Home & Kitchen', 'Bath', 'Bath Rugs']                                                                                  224\n",
              "['Home & Kitchen', 'Home Décor Products', 'Slipcovers', 'Sofa Slipcovers']                                               220\n",
              "['Home & Kitchen', 'Kitchen & Dining', 'Kitchen & Table Linens', 'Tablecloths']                                          203\n",
              "['Home & Kitchen', 'Kitchen & Dining', 'Dining & Entertaining', 'Glassware & Drinkware', 'Tumblers & Water Glasses']     199\n",
              "['Home & Kitchen', 'Bedding', 'Sheets & Pillowcases', 'Fitted Sheets']                                                   158\n",
              "Name: count, dtype: int64"
            ],
            "text/html": [
              "<div>\n",
              "<style scoped>\n",
              "    .dataframe tbody tr th:only-of-type {\n",
              "        vertical-align: middle;\n",
              "    }\n",
              "\n",
              "    .dataframe tbody tr th {\n",
              "        vertical-align: top;\n",
              "    }\n",
              "\n",
              "    .dataframe thead th {\n",
              "        text-align: right;\n",
              "    }\n",
              "</style>\n",
              "<table border=\"1\" class=\"dataframe\">\n",
              "  <thead>\n",
              "    <tr style=\"text-align: right;\">\n",
              "      <th></th>\n",
              "      <th>count</th>\n",
              "    </tr>\n",
              "    <tr>\n",
              "      <th>categories</th>\n",
              "      <th></th>\n",
              "    </tr>\n",
              "  </thead>\n",
              "  <tbody>\n",
              "    <tr>\n",
              "      <th>['Home &amp; Kitchen', 'Bedding', 'Sheets &amp; Pillowcases', 'Sheet &amp; Pillowcase Sets']</th>\n",
              "      <td>1153</td>\n",
              "    </tr>\n",
              "    <tr>\n",
              "      <th>['Home &amp; Kitchen', 'Home Décor Products', 'Window Treatments', 'Curtains &amp; Drapes', 'Panels']</th>\n",
              "      <td>560</td>\n",
              "    </tr>\n",
              "    <tr>\n",
              "      <th>['Home &amp; Kitchen', 'Bedding', 'Decorative Pillows, Inserts &amp; Covers', 'Throw Pillow Covers']</th>\n",
              "      <td>303</td>\n",
              "    </tr>\n",
              "    <tr>\n",
              "      <th>['Home &amp; Kitchen', 'Bedding', 'Sheets &amp; Pillowcases', 'Pillowcases']</th>\n",
              "      <td>289</td>\n",
              "    </tr>\n",
              "    <tr>\n",
              "      <th>['Home &amp; Kitchen', 'Bedding', 'Blankets &amp; Throws', 'Throws']</th>\n",
              "      <td>257</td>\n",
              "    </tr>\n",
              "    <tr>\n",
              "      <th>['Home &amp; Kitchen', 'Bath', 'Bath Rugs']</th>\n",
              "      <td>224</td>\n",
              "    </tr>\n",
              "    <tr>\n",
              "      <th>['Home &amp; Kitchen', 'Home Décor Products', 'Slipcovers', 'Sofa Slipcovers']</th>\n",
              "      <td>220</td>\n",
              "    </tr>\n",
              "    <tr>\n",
              "      <th>['Home &amp; Kitchen', 'Kitchen &amp; Dining', 'Kitchen &amp; Table Linens', 'Tablecloths']</th>\n",
              "      <td>203</td>\n",
              "    </tr>\n",
              "    <tr>\n",
              "      <th>['Home &amp; Kitchen', 'Kitchen &amp; Dining', 'Dining &amp; Entertaining', 'Glassware &amp; Drinkware', 'Tumblers &amp; Water Glasses']</th>\n",
              "      <td>199</td>\n",
              "    </tr>\n",
              "    <tr>\n",
              "      <th>['Home &amp; Kitchen', 'Bedding', 'Sheets &amp; Pillowcases', 'Fitted Sheets']</th>\n",
              "      <td>158</td>\n",
              "    </tr>\n",
              "  </tbody>\n",
              "</table>\n",
              "</div><br><label><b>dtype:</b> int64</label>"
            ]
          },
          "metadata": {},
          "execution_count": 12
        }
      ]
    },
    {
      "cell_type": "markdown",
      "source": [
        "\n",
        "\n",
        "*   Categories column Encoding\n",
        "*   Multi - Hot Encoding  \n",
        "* Convert the categories column from string '<list>' to list before passing it to multi lable binarizer\n",
        "* To do - you can use TD-IDF to extract important category words if required\n"
      ],
      "metadata": {
        "id": "v2keYyvnvfZo"
      }
    },
    {
      "cell_type": "code",
      "source": [
        "import ast\n",
        "df_encoded = df_renamed.copy()\n",
        "# Because the categories column is a string <list> , we have to convert it into a list before encoding\n",
        "df_encoded['categories'] = df_encoded['categories'].apply(lambda x: ast.literal_eval(x) if isinstance(x, str) else x)\n"
      ],
      "metadata": {
        "id": "Fx3SFl2QzoWx"
      },
      "execution_count": 13,
      "outputs": []
    },
    {
      "cell_type": "code",
      "source": [
        "print(df_encoded['categories'].head(5))"
      ],
      "metadata": {
        "colab": {
          "base_uri": "https://localhost:8080/"
        },
        "id": "tXZWsHR3zz6O",
        "outputId": "eb517d2f-ec23-4dea-ab1e-ee3e96de99f4"
      },
      "execution_count": 14,
      "outputs": [
        {
          "output_type": "stream",
          "name": "stdout",
          "text": [
            "0    [Home & Kitchen, Kitchen & Dining, Kitchen Ute...\n",
            "1    [Home & Kitchen, Kitchen & Dining, Cookware, P...\n",
            "2    [Home & Kitchen, Kitchen & Dining, Kitchen & T...\n",
            "3    [Home & Kitchen, Kitchen & Dining, Kitchen & T...\n",
            "4    [Home & Kitchen, Bedding, Sheets & Pillowcases...\n",
            "Name: categories, dtype: object\n"
          ]
        }
      ]
    },
    {
      "cell_type": "code",
      "source": [
        "from sklearn.preprocessing import MultiLabelBinarizer\n",
        "\n",
        "# Convert NaN or empty categories to empty lists\n",
        "df_encoded['categories'] = df_encoded['categories'].apply(lambda x: x if isinstance(x, list) else [])\n",
        "\n",
        "# Apply MultiLabelBinarizer\n",
        "mlb = MultiLabelBinarizer()\n",
        "categories_encoded = mlb.fit_transform(df_encoded['categories'])\n",
        "\n",
        "# Convert to DataFrame with category names as columns\n",
        "categories_df = pd.DataFrame(categories_encoded, columns=mlb.classes_)\n",
        "\n",
        "# Merge back with original DataFrame\n",
        "df = pd.concat([df_encoded, categories_df], axis=1)\n",
        "# df.drop(columns=['categories'], inplace=True)\n",
        "\n",
        "print(df.head(2))\n"
      ],
      "metadata": {
        "colab": {
          "base_uri": "https://localhost:8080/"
        },
        "id": "Jwz4rFZqvdeB",
        "outputId": "f0777114-c555-4f69-bbcc-0c6cdaa873cb"
      },
      "execution_count": 15,
      "outputs": [
        {
          "output_type": "stream",
          "name": "stdout",
          "text": [
            "   Unnamed: 0  rating                          review_title  \\\n",
            "0          59       5                             Adorable!   \n",
            "1          87       5  Stailess, healthier than coated pans   \n",
            "\n",
            "                                         review_text images        asin  \\\n",
            "0  These are so sweet. I do wish the stopper part...     []  B01HBWGU80   \n",
            "1  Great little stainless steel, balanced, good w...     []  B07T5CRVKQ   \n",
            "\n",
            "  parent_asin                       user_id                timestamp  \\\n",
            "0  B01DR2ACA0  AGKHLEW2SOWHNMFQIJGBECAF7INQ  2019-07-23 04:29:16.671   \n",
            "1  B08C7JYKZH  AEVWAM3YWN5URJVJIZZ6XPD2MKIA  2020-11-02 22:09:44.073   \n",
            "\n",
            "   helpful_vote  ...  Wine Pourers Wine Racks & Cabinets Wine Stoppers  \\\n",
            "0             0  ...             0                     0             1   \n",
            "1             1  ...             0                     0             0   \n",
            "\n",
            "   Wine Stoppers & Pourers Woks & Stir-Fry Pans Wreath Hangers Wreaths  \\\n",
            "0                        1                    0              0       0   \n",
            "1                        0                    0              0       0   \n",
            "\n",
            "  Wreaths, Garlands & Swags Zesters  bathroom  \n",
            "0                         0       0         0  \n",
            "1                         0       0         0  \n",
            "\n",
            "[2 rows x 781 columns]\n"
          ]
        }
      ]
    },
    {
      "cell_type": "code",
      "source": [
        "# print(categories_df.columns)  # Displays the binary-encoded category column names\n",
        "\n",
        "print(df.info)  # Categories are now binary-encoded"
      ],
      "metadata": {
        "colab": {
          "base_uri": "https://localhost:8080/"
        },
        "id": "al-lcktuwAoa",
        "outputId": "3c54ebea-4835-459e-9fa8-96e7e1f64340"
      },
      "execution_count": 16,
      "outputs": [
        {
          "output_type": "stream",
          "name": "stdout",
          "text": [
            "<bound method DataFrame.info of       Unnamed: 0  rating                          review_title  \\\n",
            "0             59       5                             Adorable!   \n",
            "1             87       5  Stailess, healthier than coated pans   \n",
            "2             89       5               Pretty colors available   \n",
            "3             90       4                         Nice material   \n",
            "4             93       4                      Love the zipper!   \n",
            "...          ...     ...                                   ...   \n",
            "9995      210824       5                                  Nice   \n",
            "9996      210827       3                          Okay towels.   \n",
            "9997      210880       4                  Good mattress cover.   \n",
            "9998      210882       3       Severely wrinkled after washing   \n",
            "9999      210911       1                               Blanket   \n",
            "\n",
            "                                            review_text images        asin  \\\n",
            "0     These are so sweet. I do wish the stopper part...     []  B01HBWGU80   \n",
            "1     Great little stainless steel, balanced, good w...     []  B07T5CRVKQ   \n",
            "2     Nice thin placemats of good size. Can be used ...     []  B07JRGZG6F   \n",
            "3                    Very pretty, wish they came bigger     []  B00TW2M6YA   \n",
            "4     The red is a deeper red rather than a bright r...     []  B01N6C4XJ7   \n",
            "...                                                 ...    ...         ...   \n",
            "9995                             Seem fine. Sleep well.     []  B06X9M6CW7   \n",
            "9996      Not as absorbing or soft as I was hoping for.     []  B07ZS4LC7K   \n",
            "9997    Nice mattress cover - like that is water proof.     []  B08V927W15   \n",
            "9998  Not something I would buy again. Took them out...     []  B00NKKQX76   \n",
            "9999             The blanket sheds so bad I returned it     []  B084RHWV39   \n",
            "\n",
            "     parent_asin                       user_id                timestamp  \\\n",
            "0     B01DR2ACA0  AGKHLEW2SOWHNMFQIJGBECAF7INQ  2019-07-23 04:29:16.671   \n",
            "1     B08C7JYKZH  AEVWAM3YWN5URJVJIZZ6XPD2MKIA  2020-11-02 22:09:44.073   \n",
            "2     B0BYYYQ354  AEVWAM3YWN5URJVJIZZ6XPD2MKIA  2019-04-23 18:20:11.716   \n",
            "3     B01N1411P6  AEVWAM3YWN5URJVJIZZ6XPD2MKIA  2019-04-23 18:17:55.301   \n",
            "4     B07BL41FQX  AEVWAM3YWN5URJVJIZZ6XPD2MKIA  2018-11-18 01:28:18.503   \n",
            "...          ...                           ...                      ...   \n",
            "9995  B0BRBSNXNT  AF3VDSE5IXDSWCKFMS6IOQDPGAOQ  2020-03-19 13:36:32.546   \n",
            "9996  B0C4M1QBDR  AF3VDSE5IXDSWCKFMS6IOQDPGAOQ  2020-01-24 04:32:39.816   \n",
            "9997  B09KRM734X  AGS3AJVWEH6OKZRNQDB7GJIWVQMA  2021-08-25 21:49:49.635   \n",
            "9998  B0B2MLT6FR  AGS3AJVWEH6OKZRNQDB7GJIWVQMA  2021-07-03 01:42:58.272   \n",
            "9999  B07N1F94DD  AEHKQUFGNRVGXZBNKTJRYA2VUTRQ  2021-02-03 13:47:08.491   \n",
            "\n",
            "      helpful_vote  ...  Wine Pourers Wine Racks & Cabinets Wine Stoppers  \\\n",
            "0                0  ...             0                     0             1   \n",
            "1                1  ...             0                     0             0   \n",
            "2                0  ...             0                     0             0   \n",
            "3                0  ...             0                     0             0   \n",
            "4                1  ...             0                     0             0   \n",
            "...            ...  ...           ...                   ...           ...   \n",
            "9995             0  ...             0                     0             0   \n",
            "9996             0  ...             0                     0             0   \n",
            "9997             0  ...             0                     0             0   \n",
            "9998             0  ...             0                     0             0   \n",
            "9999             0  ...             0                     0             0   \n",
            "\n",
            "      Wine Stoppers & Pourers Woks & Stir-Fry Pans Wreath Hangers Wreaths  \\\n",
            "0                           1                    0              0       0   \n",
            "1                           0                    0              0       0   \n",
            "2                           0                    0              0       0   \n",
            "3                           0                    0              0       0   \n",
            "4                           0                    0              0       0   \n",
            "...                       ...                  ...            ...     ...   \n",
            "9995                        0                    0              0       0   \n",
            "9996                        0                    0              0       0   \n",
            "9997                        0                    0              0       0   \n",
            "9998                        0                    0              0       0   \n",
            "9999                        0                    0              0       0   \n",
            "\n",
            "     Wreaths, Garlands & Swags Zesters  bathroom  \n",
            "0                            0       0         0  \n",
            "1                            0       0         0  \n",
            "2                            0       0         0  \n",
            "3                            0       0         0  \n",
            "4                            0       0         0  \n",
            "...                        ...     ...       ...  \n",
            "9995                         0       0         0  \n",
            "9996                         0       0         0  \n",
            "9997                         0       0         0  \n",
            "9998                         0       0         0  \n",
            "9999                         0       0         0  \n",
            "\n",
            "[10000 rows x 781 columns]>\n"
          ]
        }
      ]
    },
    {
      "cell_type": "markdown",
      "source": [],
      "metadata": {
        "id": "osiyVBaQveMS"
      }
    },
    {
      "cell_type": "markdown",
      "source": [],
      "metadata": {
        "id": "0d7ZSrWB20PC"
      }
    },
    {
      "cell_type": "markdown",
      "source": [
        "\n",
        "* Convert category into embeddings rather than converting categories into many columns\n",
        "* Instead of converting categories into many columns , we can assign a unique index to each category and use an embedding layer in the neural network\n",
        "\n",
        "* THIS FAILED\n",
        "\n"
      ],
      "metadata": {
        "id": "0bnJJHSw3TpT"
      }
    },
    {
      "cell_type": "code",
      "source": [
        "df_renamed[\"categories\"].value_counts().sort_values(ascending=False).head(10)"
      ],
      "metadata": {
        "colab": {
          "base_uri": "https://localhost:8080/",
          "height": 429
        },
        "id": "wm518i2W21RB",
        "outputId": "720c5466-e2ff-414c-dde4-4f6ee63d2798"
      },
      "execution_count": 17,
      "outputs": [
        {
          "output_type": "execute_result",
          "data": {
            "text/plain": [
              "categories\n",
              "['Home & Kitchen', 'Bedding', 'Sheets & Pillowcases', 'Sheet & Pillowcase Sets']                                        1153\n",
              "['Home & Kitchen', 'Home Décor Products', 'Window Treatments', 'Curtains & Drapes', 'Panels']                            560\n",
              "['Home & Kitchen', 'Bedding', 'Decorative Pillows, Inserts & Covers', 'Throw Pillow Covers']                             303\n",
              "['Home & Kitchen', 'Bedding', 'Sheets & Pillowcases', 'Pillowcases']                                                     289\n",
              "['Home & Kitchen', 'Bedding', 'Blankets & Throws', 'Throws']                                                             257\n",
              "['Home & Kitchen', 'Bath', 'Bath Rugs']                                                                                  224\n",
              "['Home & Kitchen', 'Home Décor Products', 'Slipcovers', 'Sofa Slipcovers']                                               220\n",
              "['Home & Kitchen', 'Kitchen & Dining', 'Kitchen & Table Linens', 'Tablecloths']                                          203\n",
              "['Home & Kitchen', 'Kitchen & Dining', 'Dining & Entertaining', 'Glassware & Drinkware', 'Tumblers & Water Glasses']     199\n",
              "['Home & Kitchen', 'Bedding', 'Sheets & Pillowcases', 'Fitted Sheets']                                                   158\n",
              "Name: count, dtype: int64"
            ],
            "text/html": [
              "<div>\n",
              "<style scoped>\n",
              "    .dataframe tbody tr th:only-of-type {\n",
              "        vertical-align: middle;\n",
              "    }\n",
              "\n",
              "    .dataframe tbody tr th {\n",
              "        vertical-align: top;\n",
              "    }\n",
              "\n",
              "    .dataframe thead th {\n",
              "        text-align: right;\n",
              "    }\n",
              "</style>\n",
              "<table border=\"1\" class=\"dataframe\">\n",
              "  <thead>\n",
              "    <tr style=\"text-align: right;\">\n",
              "      <th></th>\n",
              "      <th>count</th>\n",
              "    </tr>\n",
              "    <tr>\n",
              "      <th>categories</th>\n",
              "      <th></th>\n",
              "    </tr>\n",
              "  </thead>\n",
              "  <tbody>\n",
              "    <tr>\n",
              "      <th>['Home &amp; Kitchen', 'Bedding', 'Sheets &amp; Pillowcases', 'Sheet &amp; Pillowcase Sets']</th>\n",
              "      <td>1153</td>\n",
              "    </tr>\n",
              "    <tr>\n",
              "      <th>['Home &amp; Kitchen', 'Home Décor Products', 'Window Treatments', 'Curtains &amp; Drapes', 'Panels']</th>\n",
              "      <td>560</td>\n",
              "    </tr>\n",
              "    <tr>\n",
              "      <th>['Home &amp; Kitchen', 'Bedding', 'Decorative Pillows, Inserts &amp; Covers', 'Throw Pillow Covers']</th>\n",
              "      <td>303</td>\n",
              "    </tr>\n",
              "    <tr>\n",
              "      <th>['Home &amp; Kitchen', 'Bedding', 'Sheets &amp; Pillowcases', 'Pillowcases']</th>\n",
              "      <td>289</td>\n",
              "    </tr>\n",
              "    <tr>\n",
              "      <th>['Home &amp; Kitchen', 'Bedding', 'Blankets &amp; Throws', 'Throws']</th>\n",
              "      <td>257</td>\n",
              "    </tr>\n",
              "    <tr>\n",
              "      <th>['Home &amp; Kitchen', 'Bath', 'Bath Rugs']</th>\n",
              "      <td>224</td>\n",
              "    </tr>\n",
              "    <tr>\n",
              "      <th>['Home &amp; Kitchen', 'Home Décor Products', 'Slipcovers', 'Sofa Slipcovers']</th>\n",
              "      <td>220</td>\n",
              "    </tr>\n",
              "    <tr>\n",
              "      <th>['Home &amp; Kitchen', 'Kitchen &amp; Dining', 'Kitchen &amp; Table Linens', 'Tablecloths']</th>\n",
              "      <td>203</td>\n",
              "    </tr>\n",
              "    <tr>\n",
              "      <th>['Home &amp; Kitchen', 'Kitchen &amp; Dining', 'Dining &amp; Entertaining', 'Glassware &amp; Drinkware', 'Tumblers &amp; Water Glasses']</th>\n",
              "      <td>199</td>\n",
              "    </tr>\n",
              "    <tr>\n",
              "      <th>['Home &amp; Kitchen', 'Bedding', 'Sheets &amp; Pillowcases', 'Fitted Sheets']</th>\n",
              "      <td>158</td>\n",
              "    </tr>\n",
              "  </tbody>\n",
              "</table>\n",
              "</div><br><label><b>dtype:</b> int64</label>"
            ]
          },
          "metadata": {},
          "execution_count": 17
        }
      ]
    },
    {
      "cell_type": "code",
      "source": [
        "# import tensorflow as tf\n",
        "# from tensorflow.keras.preprocessing.text import Tokenizer\n",
        "# from tensorflow.keras.preprocessing.sequence import pad_sequences\n",
        "\n",
        "# df_categories_tokenized = df_renamed.copy()\n",
        "\n",
        "# # Flatten all categories into a single list for tokenization\n",
        "# all_categories = [cat for sublist in df_categories_tokenized['categories'] for cat in sublist]\n",
        "\n",
        "# # Fit tokenizer on all unique categories\n",
        "# tokenizer = Tokenizer()\n",
        "# tokenizer.fit_on_texts(all_categories)\n",
        "\n",
        "# # Convert each row’s category list into a sequence of indexes\n",
        "# df_categories_tokenized['categories_tokenized'] = df_categories_tokenized['categories'].apply(lambda x: tokenizer.texts_to_sequences(x))\n",
        "\n",
        "#THE PADDING IS FAILING HERE\n",
        "\n",
        "# # Set MAX_CATEGORIES to a reasonable value, e.g., 100\n",
        "# MAX_CATEGORIES = 100\n",
        "\n",
        "# # Apply padding to make all sequences the same length\n",
        "# padded_categories = pad_sequences(df['categories_tokenized'], maxlen=MAX_CATEGORIES, padding='post')\n",
        "\n",
        "# # Convert the padded sequences into a DataFrame\n",
        "# df_padded = pd.DataFrame(padded_categories, columns=[f'category_{i+1}' for i in range(MAX_CATEGORIES)])\n",
        "\n",
        "# # Check the padded output\n",
        "# print(df_padded.head())  # Verify the first few rows of the padded categories\n",
        "\n",
        "\n"
      ],
      "metadata": {
        "id": "0TzcVDL23o9y"
      },
      "execution_count": null,
      "outputs": []
    },
    {
      "cell_type": "code",
      "source": [
        "# # Check the first few entries\n",
        "# print(df_categories_tokenized['categories_tokenized'].head())\n",
        "\n",
        "# # Check if each entry is a list\n",
        "# print(df_categories_tokenized['categories_tokenized'].apply(type).value_counts())  # Should output list for each row\n",
        "\n",
        "# df_categories_tokenized['categories_tokenized'] = df_categories_tokenized['categories_tokenized'].apply(lambda x: x if isinstance(x, list) else [])\n",
        "\n",
        "# # Check again\n",
        "# print(df_categories_tokenized['categories_tokenized'].apply(type).value_counts())  # Should now show only list\n",
        "\n",
        "\n",
        "# # Replace any null values with empty lists\n",
        "# df_categories_tokenized['categories_tokenized'] = df_categories_tokenized['categories_tokenized'].apply(lambda x: x if isinstance(x, list) else [])\n",
        "\n",
        "# # Ensure there are no empty lists if needed\n",
        "# df_categories_tokenized['categories_tokenized'] = df_categories_tokenized['categories_tokenized'].apply(lambda x: x if len(x) > 0 else [])\n",
        "\n",
        "\n",
        "# # Check if any lists are empty\n",
        "# empty_lists = df_categories_tokenized['categories_tokenized'].apply(lambda x: len(x) == 0)\n",
        "# print(f\"Number of empty lists: {empty_lists.sum()}\")\n",
        "\n",
        "# # Optionally replace empty lists with a default value (e.g., empty list)\n",
        "# df_categories_tokenized['categories_tokenized'] = df_categories_tokenized['categories_tokenized'].apply(lambda x: x if len(x) > 0 else [0])\n",
        "\n",
        "# category_lengths = df_categories_tokenized['categories_tokenized'].apply(len)\n",
        "# print(f\"Max number of categories: {category_lengths.max()}\")\n",
        "# print(f\"Min number of categories: {category_lengths.min()}\")\n",
        "# print(f\"Mean number of categories: {category_lengths.mean()}\")\n",
        "# # Check the first few rows of 'category_sequences' to understand its structure\n",
        "# print(df_categories_tokenized['categories_tokenized'].head())\n",
        "\n",
        "\n",
        "\n",
        "\n"
      ],
      "metadata": {
        "id": "iQGY11coBDsL"
      },
      "execution_count": null,
      "outputs": []
    },
    {
      "cell_type": "markdown",
      "source": [
        "\n",
        "\n",
        "*   Encode Review and Review TExt\n",
        "* Use TD-IDF for encoding review and review text\n",
        "* I had ensure there are no null values in review_Text\n",
        "\n"
      ],
      "metadata": {
        "id": "DNS6tXa1GT2I"
      }
    },
    {
      "cell_type": "code",
      "source": [
        "from sklearn.feature_extraction.text import TfidfVectorizer\n",
        "\n",
        "# Initialize TF-IDF Vectorizer\n",
        "tfidf_vectorizer = TfidfVectorizer(max_features=5000)  # You can adjust the number of features\n",
        "df['review_title'] = df['review_title'].fillna('No Review')\n",
        "df['review_text'] = df['review_text'].fillna('No Review')\n",
        "\n",
        "# Fit and transform the review title and review text\n",
        "X_title = tfidf_vectorizer.fit_transform(df['review_title'])\n",
        "X_text = tfidf_vectorizer.fit_transform(df['review_text'])\n",
        "\n",
        "# Convert to dense format (optional, depending on your model)\n",
        "X_title_dense = X_title.toarray()\n",
        "X_text_dense = X_text.toarray()\n",
        "\n",
        "# Check the shape of the TF-IDF encoded title and text\n",
        "print(f\"Shape of review title matrix: {X_title_dense.shape}\")\n",
        "print(f\"Shape of review text matrix: {X_text_dense.shape}\")\n"
      ],
      "metadata": {
        "id": "_lqb4hErGoK_",
        "colab": {
          "base_uri": "https://localhost:8080/"
        },
        "outputId": "a2a6d5c0-57e1-46ea-bc71-9398e853db0a"
      },
      "execution_count": 18,
      "outputs": [
        {
          "output_type": "stream",
          "name": "stdout",
          "text": [
            "Shape of review title matrix: (10000, 3920)\n",
            "Shape of review text matrix: (10000, 5000)\n"
          ]
        }
      ]
    },
    {
      "cell_type": "markdown",
      "source": [
        "If you're using a neural network model, Word Embeddings such as Word2Vec, GloVe, or the Keras Embedding layer can be used to learn better semantic representations of words.\n",
        "\n",
        "THIS FAILED"
      ],
      "metadata": {
        "id": "oZWDboFTI2eB"
      }
    },
    {
      "cell_type": "code",
      "source": [
        "# from transformers import BertTokenizer, TFBertModel\n",
        "\n",
        "# # Load pre-trained BERT model and tokenizer\n",
        "# tokenizer = BertTokenizer.from_pretrained('bert-base-uncased')\n",
        "# model = TFBertModel.from_pretrained('bert-base-uncased')\n",
        "\n",
        "# # Tokenize the review titles and texts\n",
        "# inputs_title = tokenizer(df['review_title'].tolist(), return_tensors='tf', padding=True, truncation=True)\n",
        "# inputs_text = tokenizer(df['review_text'].tolist(), return_tensors='tf', padding=True, truncation=True)\n",
        "\n",
        "# # Get BERT embeddings (last hidden state)\n",
        "# output_title = model(inputs_title).last_hidden_state\n",
        "# output_text = model(inputs_text).last_hidden_state\n",
        "\n",
        "# # Use the last token embedding (or you can average all token embeddings) for the entire sequence\n",
        "# X_title_bert = output_title[:, 0, :]  # [CLS] token embedding\n",
        "# X_text_bert = output_text[:, 0, :]    # [CLS] token embedding\n"
      ],
      "metadata": {
        "id": "-67YxtyiIdc4"
      },
      "execution_count": null,
      "outputs": []
    },
    {
      "cell_type": "markdown",
      "source": [
        "* Since transformers work with tokenized inputs,used  a pre-trained tokenizer.\n",
        "* This encodes text into token IDs, attention masks, and token type IDs—which transformers can use.\n"
      ],
      "metadata": {
        "id": "f5KrTU_ff_9_"
      }
    },
    {
      "cell_type": "code",
      "source": [
        "from transformers import DistilBertTokenizer\n",
        "\n",
        "tokenizer = DistilBertTokenizer.from_pretrained(\"distilbert-base-uncased\")\n",
        "\n",
        "# Combine review title and review text\n",
        "def encode_reviews(title, text, max_length=256):\n",
        "    combined_text = str(title) + str(text)  # Separate title and text\n",
        "    encoded = tokenizer(combined_text, padding=\"max_length\", truncation=True, max_length=max_length, return_tensors=\"pt\")\n",
        "    return encoded[\"input_ids\"], encoded[\"attention_mask\"]\n",
        "\n",
        "\n",
        "df[[\"input_ids\",\"attention_mask\"]] = df.apply(lambda row: encode_reviews([\"review_title\"],row[\"review_text\"]),axis=1,result_type=\"expand\")\n",
        "\n",
        "\n"
      ],
      "metadata": {
        "id": "U5GCukVJRpI5",
        "colab": {
          "base_uri": "https://localhost:8080/",
          "height": 145,
          "referenced_widgets": [
            "e767d88de03646dfb921483e14c7babf",
            "1e367f9963bc4807b777d31e509076ec",
            "a82c80b451f94e598da4a3f074878b73",
            "d5c3dafd056947588f1fd8501f889eab",
            "316aff72585e44b58f22d09015ae6272",
            "b42f94532ed24c7490e619f76bd4b3f6",
            "61b0c8d05a574439991d6e23a72b4f47",
            "f935c24b77a44eeea0e911ce42406043",
            "cc0935ec10164aaf91a6dfee245f9591",
            "603d392bd56e4a718e5bfe7bd4b64b6f",
            "6937f54240ec4f56b3cc835f5ff47df1",
            "8c88a4aa438f4376b36a900717a2be0d",
            "97a32958dfb141f7bbd5477a3125f515",
            "d67b7ce7a4304d7b84d055283bfbeaa2",
            "5ff556b2f7af44759cb910fcbfd412db",
            "248275f56ce44ef9b9766b7e65048f62",
            "b2941939353545669053626f53d53b59",
            "96b3b36c34d7434dbd0940a4c6a44127",
            "952f2081c07f4282957bfbf86cc7aa44",
            "c6d57a2ee3da4c84b3b40c0578c468ee",
            "5ecb20f389784227870109233982d238",
            "50a4050ae7d9423a8608f066dacbbae4",
            "536da9cc5dc843ac9120bb8c61d8546c",
            "77ada13640974c5da3a8291e11c4975a",
            "40d4859f030e4dae94b9111460b20a2d",
            "2f863a98e3d84f31bf3e4458e70cb585",
            "2d88b7ed53894c3185ffa504c5403002",
            "a8f538295eb64df0ac4ef1c10d6fb1bc",
            "cebc5f6c83b04edcb4089c0f732d3b1f",
            "3c37e78c8c2f4fcea2b1ecaabfb10b9a",
            "01b96b34076a478192fcd6854fb280eb",
            "16a426cb3709491884d68b9d06df636a",
            "7f884cfd571f4dbf99333e9d396dfd06",
            "89b6262f2e424234963ec9122cf1ff3d",
            "3d2aa935d5cf4854ba53ba89e9ae3af0",
            "8b97370d1af54cdbbb233e7ceb6c73c7",
            "18ead476821d40eba6278b9b44d5fde4",
            "f9e45a46b9cb4ba29bf8fc7e313aefb4",
            "95d1cd2ba74143c5af80c48206dca3b2",
            "8dc42cda59ad4b4ea5506589e719a13f",
            "8ee4d8c758fc43db9c2b2fc3767a070b",
            "9b4c4cfae7e44281a5aaad5cce385ea9",
            "1f74df99bbcf42be8fc0b0643daf8267",
            "be446febdfd34b59a6118e9823480737"
          ]
        },
        "outputId": "b5065bf0-77f9-4524-f6ea-8ac5b150a792"
      },
      "execution_count": 19,
      "outputs": [
        {
          "output_type": "display_data",
          "data": {
            "text/plain": [
              "tokenizer_config.json:   0%|          | 0.00/48.0 [00:00<?, ?B/s]"
            ],
            "application/vnd.jupyter.widget-view+json": {
              "version_major": 2,
              "version_minor": 0,
              "model_id": "e767d88de03646dfb921483e14c7babf"
            }
          },
          "metadata": {}
        },
        {
          "output_type": "display_data",
          "data": {
            "text/plain": [
              "vocab.txt:   0%|          | 0.00/232k [00:00<?, ?B/s]"
            ],
            "application/vnd.jupyter.widget-view+json": {
              "version_major": 2,
              "version_minor": 0,
              "model_id": "8c88a4aa438f4376b36a900717a2be0d"
            }
          },
          "metadata": {}
        },
        {
          "output_type": "display_data",
          "data": {
            "text/plain": [
              "tokenizer.json:   0%|          | 0.00/466k [00:00<?, ?B/s]"
            ],
            "application/vnd.jupyter.widget-view+json": {
              "version_major": 2,
              "version_minor": 0,
              "model_id": "536da9cc5dc843ac9120bb8c61d8546c"
            }
          },
          "metadata": {}
        },
        {
          "output_type": "display_data",
          "data": {
            "text/plain": [
              "config.json:   0%|          | 0.00/483 [00:00<?, ?B/s]"
            ],
            "application/vnd.jupyter.widget-view+json": {
              "version_major": 2,
              "version_minor": 0,
              "model_id": "89b6262f2e424234963ec9122cf1ff3d"
            }
          },
          "metadata": {}
        }
      ]
    },
    {
      "cell_type": "markdown",
      "source": [
        "* Convert to tensor format for model training (2 step , first convert to int list and then tensor)"
      ],
      "metadata": {
        "id": "CMUiK_gKi-Kz"
      }
    },
    {
      "cell_type": "code",
      "source": [
        "import torch\n",
        "\n",
        "df.head(5)\n",
        "\n",
        "df[\"input_ids\"] = df[\"input_ids\"].apply(lambda x: x.tolist() if isinstance(x, torch.Tensor) else x)\n",
        "df[\"attention_mask\"] = df[\"attention_mask\"].apply(lambda x: x.tolist() if isinstance(x, torch.Tensor) else x)\n",
        "\n",
        "\n",
        "\n",
        "print(df[\"input_ids\"].apply(type).value_counts())  # Check types in the column\n",
        "print(type(df[\"input_ids\"].iloc[0]), type(df[\"input_ids\"].iloc[0][0]))  # Should be list, int\n"
      ],
      "metadata": {
        "colab": {
          "base_uri": "https://localhost:8080/"
        },
        "id": "ZtwkqOGreoS7",
        "outputId": "dfff60d2-0119-4816-ddfa-ec712f6b05a9"
      },
      "execution_count": 22,
      "outputs": [
        {
          "output_type": "stream",
          "name": "stdout",
          "text": [
            "input_ids\n",
            "<class 'list'>    10000\n",
            "Name: count, dtype: int64\n",
            "<class 'list'> <class 'list'>\n"
          ]
        }
      ]
    },
    {
      "cell_type": "markdown",
      "source": [
        "* Ratings columns has value from 1 - 5\n",
        "* Convert the ratings value from 0 - 4 because distibertforsequenceclassifciation expects values to be between 0 and 4 and not 1 to 5"
      ],
      "metadata": {
        "id": "6NApMwRzuvN9"
      }
    },
    {
      "cell_type": "code",
      "source": [
        "df['rating'].value_counts()\n",
        "# df['rating'].value_counts()\n",
        "df['new_rating'] = df['rating']-1\n",
        "\n",
        "df['new_rating'].value_counts()"
      ],
      "metadata": {
        "colab": {
          "base_uri": "https://localhost:8080/",
          "height": 272
        },
        "id": "6Il8kE52ujjw",
        "outputId": "9bd65ba7-516a-4692-a11e-1f3c205262c4"
      },
      "execution_count": 23,
      "outputs": [
        {
          "output_type": "execute_result",
          "data": {
            "text/plain": [
              "new_rating\n",
              "4    6963\n",
              "3    1364\n",
              "2     715\n",
              "0     545\n",
              "1     413\n",
              "Name: count, dtype: int64"
            ],
            "text/html": [
              "<div>\n",
              "<style scoped>\n",
              "    .dataframe tbody tr th:only-of-type {\n",
              "        vertical-align: middle;\n",
              "    }\n",
              "\n",
              "    .dataframe tbody tr th {\n",
              "        vertical-align: top;\n",
              "    }\n",
              "\n",
              "    .dataframe thead th {\n",
              "        text-align: right;\n",
              "    }\n",
              "</style>\n",
              "<table border=\"1\" class=\"dataframe\">\n",
              "  <thead>\n",
              "    <tr style=\"text-align: right;\">\n",
              "      <th></th>\n",
              "      <th>count</th>\n",
              "    </tr>\n",
              "    <tr>\n",
              "      <th>new_rating</th>\n",
              "      <th></th>\n",
              "    </tr>\n",
              "  </thead>\n",
              "  <tbody>\n",
              "    <tr>\n",
              "      <th>4</th>\n",
              "      <td>6963</td>\n",
              "    </tr>\n",
              "    <tr>\n",
              "      <th>3</th>\n",
              "      <td>1364</td>\n",
              "    </tr>\n",
              "    <tr>\n",
              "      <th>2</th>\n",
              "      <td>715</td>\n",
              "    </tr>\n",
              "    <tr>\n",
              "      <th>0</th>\n",
              "      <td>545</td>\n",
              "    </tr>\n",
              "    <tr>\n",
              "      <th>1</th>\n",
              "      <td>413</td>\n",
              "    </tr>\n",
              "  </tbody>\n",
              "</table>\n",
              "</div><br><label><b>dtype:</b> int64</label>"
            ]
          },
          "metadata": {},
          "execution_count": 23
        }
      ]
    },
    {
      "cell_type": "code",
      "source": [
        "\n",
        "\n",
        "input_ids = torch.tensor(df[\"input_ids\"].tolist(), dtype=torch.long)\n",
        "attention_mask = torch.tensor(df[\"attention_mask\"].tolist(), dtype=torch.long)\n",
        "ratings = torch.tensor(df[\"new_rating\"].values, dtype=torch.long)  # Ensure target is integer type\n",
        "\n",
        "print(input_ids.shape, attention_mask.shape, ratings.shape)  # Should be (num_samples, sequence_length)\n",
        "\n",
        "squeezedinput_ids = input_ids.squeeze(1)  # Now shape is [10000, 256]\n",
        "squeezedattention_mask = attention_mask.squeeze(1)  # Now shape is [10000, 256]\n",
        "\n",
        "\n",
        "print(squeezedinput_ids.shape, squeezedattention_mask.shape, ratings.shape)  # Should be (num_samples, sequence_length)\n"
      ],
      "metadata": {
        "colab": {
          "base_uri": "https://localhost:8080/"
        },
        "id": "mi_La0pzfCuT",
        "outputId": "40f156ab-7beb-48e7-9e89-85ef538cb8b0"
      },
      "execution_count": 39,
      "outputs": [
        {
          "output_type": "stream",
          "name": "stdout",
          "text": [
            "torch.Size([10000, 1, 256]) torch.Size([10000, 1, 256]) torch.Size([10000])\n",
            "torch.Size([10000, 256]) torch.Size([10000, 256]) torch.Size([10000])\n"
          ]
        }
      ]
    },
    {
      "cell_type": "markdown",
      "source": [
        "* Split the dataset\n"
      ],
      "metadata": {
        "id": "H1-xzmxw5AqR"
      }
    },
    {
      "cell_type": "code",
      "source": [
        "from sklearn.model_selection import train_test_split\n",
        "import torch\n",
        "\n",
        "# Assuming input_ids, attention_mask, and ratings are tensors\n",
        "train_input_ids, val_input_ids, train_attention_mask, val_attention_mask, train_ratings, val_ratings = train_test_split(\n",
        "    squeezedinput_ids, squeezedattention_mask, ratings, test_size=0.2, random_state=42\n",
        ")\n",
        "\n",
        "# Convert to tensors\n",
        "train_input_ids = torch.tensor(train_input_ids)\n",
        "val_input_ids = torch.tensor(val_input_ids)\n",
        "train_attention_mask = torch.tensor(train_attention_mask)\n",
        "val_attention_mask = torch.tensor(val_attention_mask)\n",
        "train_ratings = torch.tensor(train_ratings, dtype=torch.long)\n",
        "val_ratings = torch.tensor(val_ratings, dtype=torch.long)\n"
      ],
      "metadata": {
        "id": "hGW6BvVo5AXB"
      },
      "execution_count": 40,
      "outputs": []
    },
    {
      "cell_type": "markdown",
      "source": [
        "* Create a pytorch dataset and dataloader"
      ],
      "metadata": {
        "id": "ss6SM3-xjVNL"
      }
    },
    {
      "cell_type": "code",
      "source": [
        "\n",
        "# from torch.utils.data import Dataset\n",
        "\n",
        "# class ReviewDataset(Dataset):\n",
        "#     def __init__(self, reviews, ratings, tokenizer, max_length=256):\n",
        "#         self.tokenizer = tokenizer  # Properly assign tokenizer\n",
        "#         self.reviews = reviews\n",
        "#         self.ratings = ratings\n",
        "#         self.max_length = max_length\n",
        "\n",
        "#         # Tokenize the reviews and encode them\n",
        "#         self.encodings = self.tokenizer(\n",
        "#             self.reviews,\n",
        "#             padding=True,\n",
        "#             truncation=True,\n",
        "#             max_length=self.max_length,\n",
        "#             return_tensors=\"pt\"\n",
        "#         )\n",
        "\n",
        "#     def __len__(self):\n",
        "#         return len(self.ratings)\n",
        "\n",
        "#     def __getitem__(self, idx):\n",
        "#         return {\n",
        "#             \"input_ids\": self.encodings[\"input_ids\"][idx],\n",
        "#             \"attention_mask\": self.encodings[\"attention_mask\"][idx],\n",
        "#             \"labels\": torch.tensor(self.ratings[idx], dtype=torch.long)  # ensure labels are 0 -ratings\n",
        "#         }\n",
        "\n",
        "\n"
      ],
      "metadata": {
        "id": "RoThZkPEpMkc"
      },
      "execution_count": 43,
      "outputs": []
    },
    {
      "cell_type": "code",
      "source": [
        "from torch.utils.data import Dataset, DataLoader\n",
        "\n",
        "class ReviewDataset(Dataset):\n",
        "    def __init__(self, input_ids, attention_mask, ratings):\n",
        "        self.input_ids = input_ids\n",
        "        self.attention_mask = attention_mask\n",
        "        self.ratings = ratings\n",
        "\n",
        "    def __len__(self):\n",
        "        return len(self.ratings)\n",
        "\n",
        "    def __getitem__(self, idx):\n",
        "        return {\n",
        "            \"input_ids\": self.input_ids[idx],\n",
        "            \"attention_mask\": self.attention_mask[idx],\n",
        "            \"labels\": self.ratings[idx]\n",
        "        }\n",
        "\n",
        "# Create train and validation datasets\n",
        "train_dataset = ReviewDataset(train_input_ids, train_attention_mask, train_ratings)\n",
        "val_dataset = ReviewDataset(val_input_ids, val_attention_mask, val_ratings)\n"
      ],
      "metadata": {
        "id": "NgZXPrDOjcuh"
      },
      "execution_count": 45,
      "outputs": []
    },
    {
      "cell_type": "markdown",
      "source": [
        "* Load a pre-trained DistitBERT model\n",
        "* Use DistilBERTForSequenceClassification if treating the task as classification (5 classes: 1-5 stars).\n",
        "\n",
        "* Use DistilBERTForSequenceRegression if treating it as regression (predict a continuous value)."
      ],
      "metadata": {
        "id": "cWtiIM7UlC5X"
      }
    },
    {
      "cell_type": "code",
      "source": [
        "from transformers import DistilBertTokenizer, DistilBertForSequenceClassification\n",
        "from torch.utils.data import DataLoader\n",
        "\n",
        "num_labels = 5  # Rating classes: 1, 2, 3, 4, 5\n",
        "\n",
        "# Load tokenizer\n",
        "tokenizer = DistilBertTokenizer.from_pretrained(\"distilbert-base-uncased\")\n",
        "\n",
        "device = torch.device(\"cpu\")  # Force CPU execution\n",
        "\n",
        "\n",
        "# Load model for classification\n",
        "model = DistilBertForSequenceClassification.from_pretrained(\n",
        "    \"distilbert-base-uncased\", num_labels=num_labels\n",
        ")\n",
        "\n",
        "# # Example reviews and ratings\n",
        "# reviews = [\"Great product! Works well.\", \"Not bad, but could be better.\", \"Very poor quality.\"]\n",
        "# ratings = [4, 2, 0]  # Example ratings (1 to 5 stars)\n",
        "\n",
        "# # Create dataset\n",
        "# dataset = ReviewDataset(reviews, ratings, tokenizer)\n",
        "\n",
        "# # Check the dataset's first item\n",
        "# print(dataset[0])\n",
        "\n",
        "\n",
        "# # Create DataLoader for batch processing\n",
        "# batch_size = 32\n",
        "# dataloader = DataLoader(dataset, batch_size=batch_size, shuffle=True)\n",
        "\n",
        "# # Example batch\n",
        "# batch = next(iter(dataloader))\n",
        "# print(batch[\"input_ids\"].shape, batch[\"labels\"].shape)  # Expected output: (batch_size, 256) (batch_size,)\n",
        "\n"
      ],
      "metadata": {
        "colab": {
          "base_uri": "https://localhost:8080/"
        },
        "id": "HsHiLMDPk0iH",
        "outputId": "4f115596-6e3e-41cc-843c-d5f952081dcc"
      },
      "execution_count": 47,
      "outputs": [
        {
          "output_type": "stream",
          "name": "stderr",
          "text": [
            "Some weights of DistilBertForSequenceClassification were not initialized from the model checkpoint at distilbert-base-uncased and are newly initialized: ['classifier.bias', 'classifier.weight', 'pre_classifier.bias', 'pre_classifier.weight']\n",
            "You should probably TRAIN this model on a down-stream task to be able to use it for predictions and inference.\n"
          ]
        }
      ]
    },
    {
      "cell_type": "code",
      "source": [
        "batch_size = 32\n",
        "num_epochs = 3\n",
        "\n",
        "train_dataloader = DataLoader(train_dataset, batch_size=batch_size, shuffle=True)\n",
        "val_dataloader = DataLoader(val_dataset, batch_size=batch_size, shuffle=False)\n",
        "\n"
      ],
      "metadata": {
        "id": "71I8iZec7PEp"
      },
      "execution_count": 48,
      "outputs": []
    },
    {
      "cell_type": "markdown",
      "source": [
        "*  Set Up Optimizer and Learning Rate Scheduler . We need an optimizer to update the model’s parameters and a scheduler to adjust the learning rate over time. AdamW is the optimizer of choice when fine-tuning transformers.\n"
      ],
      "metadata": {
        "id": "UIZwCI6hmrg1"
      }
    },
    {
      "cell_type": "code",
      "source": [
        "from torch.optim import AdamW\n",
        "from transformers import get_scheduler\n",
        "\n",
        "# Set up the optimizer\n",
        "optimizer = AdamW(model.parameters(), lr=2e-5)\n",
        "\n",
        "# Scheduler for learning rate\n",
        "num_epochs = 3\n",
        "num_training_steps = len(train_dataloader) * num_epochs\n",
        "lr_scheduler = get_scheduler(\n",
        "    \"linear\", optimizer=optimizer, num_warmup_steps=0, num_training_steps=num_training_steps\n",
        ")\n"
      ],
      "metadata": {
        "id": "q_IQetKmmyhw"
      },
      "execution_count": 50,
      "outputs": []
    },
    {
      "cell_type": "code",
      "source": [
        "from tqdm import tqdm\n",
        "import torch.nn.functional as F\n",
        "\n",
        "device = torch.device(\"cpu\")  # Use CPU instead of GPU\n",
        "model.to(device)\n",
        "\n",
        "\n",
        "for epoch in range(num_epochs):\n",
        "    model.train()\n",
        "    train_loss = 0\n",
        "\n",
        "    for batch in tqdm(train_dataloader, desc=f\"Epoch {epoch+1} Training\"):\n",
        "        batch = {k: v.to(device) for k, v in batch.items()}\n",
        "\n",
        "        outputs = model(**batch)\n",
        "        loss = outputs.loss\n",
        "\n",
        "        optimizer.zero_grad()\n",
        "        loss.backward()\n",
        "        optimizer.step()\n",
        "\n",
        "        train_loss += loss.item()\n",
        "\n",
        "    avg_train_loss = train_loss / len(train_dataloader)\n",
        "\n",
        "    # **Validation Phase**\n",
        "    model.eval()\n",
        "    val_loss = 0\n",
        "    correct = 0\n",
        "    total = 0\n",
        "\n",
        "    with torch.no_grad():\n",
        "        for batch in tqdm(val_dataloader, desc=\"Validation\"):\n",
        "            batch = {k: v.to(device) for k, v in batch.items()}\n",
        "\n",
        "            outputs = model(**batch)\n",
        "            loss = outputs.loss\n",
        "            val_loss += loss.item()\n",
        "\n",
        "            preds = torch.argmax(outputs.logits, dim=1)\n",
        "            correct += (preds == batch[\"labels\"]).sum().item()\n",
        "            total += batch[\"labels\"].size(0)\n",
        "\n",
        "    avg_val_loss = val_loss / len(val_dataloader)\n",
        "    val_accuracy = correct / total\n",
        "\n",
        "    print(f\"Epoch {epoch+1}: Train Loss: {avg_train_loss:.4f}, Val Loss: {avg_val_loss:.4f}, Val Accuracy: {val_accuracy:.4f}\")\n",
        "\n"
      ],
      "metadata": {
        "colab": {
          "base_uri": "https://localhost:8080/"
        },
        "id": "gojE9fAm8QGD",
        "outputId": "42b4e100-95b9-4b2e-d049-47f181ecf1aa"
      },
      "execution_count": 51,
      "outputs": [
        {
          "metadata": {
            "tags": null
          },
          "name": "stderr",
          "output_type": "stream",
          "text": [
            "Epoch 1 Training: 100%|██████████| 250/250 [27:34<00:00,  6.62s/it]\n",
            "Validation: 100%|██████████| 63/63 [01:54<00:00,  1.82s/it]\n"
          ]
        },
        {
          "metadata": {
            "tags": null
          },
          "name": "stdout",
          "output_type": "stream",
          "text": [
            "Epoch 1: Train Loss: 0.7745, Val Loss: 0.7112, Val Accuracy: 0.7215\n"
          ]
        },
        {
          "output_type": "stream",
          "name": "stderr",
          "text": [
            "Epoch 2 Training: 100%|██████████| 250/250 [27:12<00:00,  6.53s/it]\n",
            "Validation: 100%|██████████| 63/63 [01:54<00:00,  1.81s/it]\n"
          ]
        },
        {
          "output_type": "stream",
          "name": "stdout",
          "text": [
            "Epoch 2: Train Loss: 0.5770, Val Loss: 0.6757, Val Accuracy: 0.7280\n"
          ]
        },
        {
          "output_type": "stream",
          "name": "stderr",
          "text": [
            "Epoch 3 Training: 100%|██████████| 250/250 [26:38<00:00,  6.39s/it]\n",
            "Validation: 100%|██████████| 63/63 [01:55<00:00,  1.84s/it]"
          ]
        },
        {
          "output_type": "stream",
          "name": "stdout",
          "text": [
            "Epoch 3: Train Loss: 0.4831, Val Loss: 0.6715, Val Accuracy: 0.7565\n"
          ]
        },
        {
          "output_type": "stream",
          "name": "stderr",
          "text": [
            "\n"
          ]
        }
      ]
    },
    {
      "cell_type": "markdown",
      "source": [
        "* Setup training loop  where the model will learn from our data\n"
      ],
      "metadata": {
        "id": "aVmBVlNjm3ku"
      }
    },
    {
      "cell_type": "code",
      "source": [
        "# # Check the shape of the first batch in the DataLoader\n",
        "# batch = next(iter(dataloader))\n",
        "# print(batch[\"input_ids\"].shape)  # Expected: (batch_size, sequence_length)\n",
        "# print(batch[\"attention_mask\"].shape)  # Expected: (batch_size, sequence_length)\n"
      ],
      "metadata": {
        "colab": {
          "base_uri": "https://localhost:8080/"
        },
        "id": "iy92lIzfnna0",
        "outputId": "c798950e-3943-416e-f39e-2a27bc3d5218"
      },
      "execution_count": 30,
      "outputs": [
        {
          "output_type": "stream",
          "name": "stdout",
          "text": [
            "torch.Size([3, 10])\n",
            "torch.Size([3, 10])\n"
          ]
        }
      ]
    },
    {
      "cell_type": "markdown",
      "source": [],
      "metadata": {
        "id": "7xijFJg7rrEl"
      }
    },
    {
      "cell_type": "code",
      "source": [
        "# print(\"Sample labels:\", ratings[:10])\n",
        "# print(\"Label min/max:\", min(ratings), max(ratings))\n",
        "# print(\"Label dtype:\", torch.tensor(ratings).dtype)\n",
        "\n",
        "# for batch in dataloader:\n",
        "#     print(\"Input IDs shape:\", batch[\"input_ids\"].shape)\n",
        "#     print(\"Attention Mask shape:\", batch[\"attention_mask\"].shape)\n",
        "#     print(\"Labels shape:\", batch[\"labels\"].shape)\n",
        "#     print(\"Labels dtype:\", batch[\"labels\"].dtype)\n",
        "#     break\n",
        "\n"
      ],
      "metadata": {
        "colab": {
          "base_uri": "https://localhost:8080/"
        },
        "id": "8zDh0INwrVz9",
        "outputId": "aa575467-9157-43b6-af51-5b6e6d9437a0"
      },
      "execution_count": 31,
      "outputs": [
        {
          "output_type": "stream",
          "name": "stdout",
          "text": [
            "Sample labels: [4, 2, 0]\n",
            "Label min/max: 0 4\n",
            "Label dtype: torch.int64\n",
            "Input IDs shape: torch.Size([3, 10])\n",
            "Attention Mask shape: torch.Size([3, 10])\n",
            "Labels shape: torch.Size([3])\n",
            "Labels dtype: torch.int64\n"
          ]
        }
      ]
    },
    {
      "cell_type": "code",
      "source": [
        "# import os\n",
        "# os.environ[\"TORCH_USE_CUDA_DSA\"] = \"1\"\n",
        "# os.environ[\"CUDA_LAUNCH_BLOCKING\"] = \"1\"\n"
      ],
      "metadata": {
        "id": "MWyeE7PrxZI5"
      },
      "execution_count": 32,
      "outputs": []
    },
    {
      "cell_type": "code",
      "source": [
        "# import torch\n",
        "# from tqdm import tqdm\n",
        "\n",
        "# device = torch.device(\"cpu\")  # Use CPU instead of GPU\n",
        "# model.to(device)\n",
        "\n",
        "# # Training loop\n",
        "# for epoch in range(num_epochs):\n",
        "#     model.train()  # Set model to training mode\n",
        "#     loop = tqdm(dataloader, leave=True)  # Track progress during training\n",
        "#     for batch in loop:\n",
        "#         batch = {k: v.to(device) for k, v in batch.items()}  # Move data to device\n",
        "\n",
        "#         # Forward pass\n",
        "#         outputs = model(**batch)\n",
        "#         loss = outputs.loss\n",
        "\n",
        "#         # Backward pass\n",
        "#         optimizer.zero_grad()\n",
        "#         loss.backward()\n",
        "#         optimizer.step()\n",
        "#         lr_scheduler.step()\n",
        "\n",
        "#         # Update progress bar\n",
        "#         loop.set_description(f\"Epoch {epoch}\")\n",
        "#         loop.set_postfix(loss=loss.item())\n",
        "\n",
        "#     print(f\"Epoch {epoch} finished.\")\n"
      ],
      "metadata": {
        "colab": {
          "base_uri": "https://localhost:8080/"
        },
        "id": "eg30MhQqm8PQ",
        "outputId": "21041379-234c-49c3-f6b9-d5ca2de888d2"
      },
      "execution_count": 33,
      "outputs": [
        {
          "output_type": "stream",
          "name": "stderr",
          "text": [
            "Epoch 0: 100%|██████████| 1/1 [00:00<00:00,  1.35it/s, loss=1.7]\n"
          ]
        },
        {
          "output_type": "stream",
          "name": "stdout",
          "text": [
            "Epoch 0 finished.\n"
          ]
        },
        {
          "output_type": "stream",
          "name": "stderr",
          "text": [
            "Epoch 1: 100%|██████████| 1/1 [00:00<00:00,  3.93it/s, loss=1.64]\n"
          ]
        },
        {
          "output_type": "stream",
          "name": "stdout",
          "text": [
            "Epoch 1 finished.\n"
          ]
        },
        {
          "output_type": "stream",
          "name": "stderr",
          "text": [
            "Epoch 2: 100%|██████████| 1/1 [00:00<00:00,  3.86it/s, loss=1.67]"
          ]
        },
        {
          "output_type": "stream",
          "name": "stdout",
          "text": [
            "Epoch 2 finished.\n"
          ]
        },
        {
          "output_type": "stream",
          "name": "stderr",
          "text": [
            "\n"
          ]
        }
      ]
    },
    {
      "cell_type": "markdown",
      "source": [
        "\n",
        "\n",
        "*   Evaluate the models performance\n",
        "\n",
        "\n"
      ],
      "metadata": {
        "id": "YIOj1xiU4Fit"
      }
    },
    {
      "cell_type": "code",
      "source": [
        "# from sklearn.metrics import accuracy_score\n",
        "\n",
        "# model.eval()  # Set model to evaluation mode\n",
        "# predictions, true_labels = [], []\n",
        "\n",
        "# with torch.no_grad():\n",
        "#     for batch in val_dataloader:  # Assuming you have a validation dataloader\n",
        "#         batch = {k: v.to(device) for k, v in batch.items()}\n",
        "#         outputs = model(**batch)\n",
        "#         preds = torch.argmax(outputs.logits, dim=1).cpu().numpy()  # Get the predicted labels\n",
        "#         labels = batch[\"labels\"].cpu().numpy()\n",
        "\n",
        "#         predictions.extend(preds)\n",
        "#         true_labels.extend(labels)\n",
        "\n",
        "# # Calculate accuracy\n",
        "# accuracy = accuracy_score(true_labels, predictions)\n",
        "# print(f\"Validation Accuracy: {accuracy:.4f}\")\n"
      ],
      "metadata": {
        "colab": {
          "base_uri": "https://localhost:8080/",
          "height": 211
        },
        "id": "x0n-Xltj4FSx",
        "outputId": "3973db90-4ff1-4f09-d5ea-88395a7c11e6"
      },
      "execution_count": 34,
      "outputs": [
        {
          "output_type": "error",
          "ename": "NameError",
          "evalue": "name 'val_dataloader' is not defined",
          "traceback": [
            "\u001b[0;31m---------------------------------------------------------------------------\u001b[0m",
            "\u001b[0;31mNameError\u001b[0m                                 Traceback (most recent call last)",
            "\u001b[0;32m<ipython-input-34-083a96df701c>\u001b[0m in \u001b[0;36m<cell line: 0>\u001b[0;34m()\u001b[0m\n\u001b[1;32m      5\u001b[0m \u001b[0;34m\u001b[0m\u001b[0m\n\u001b[1;32m      6\u001b[0m \u001b[0;32mwith\u001b[0m \u001b[0mtorch\u001b[0m\u001b[0;34m.\u001b[0m\u001b[0mno_grad\u001b[0m\u001b[0;34m(\u001b[0m\u001b[0;34m)\u001b[0m\u001b[0;34m:\u001b[0m\u001b[0;34m\u001b[0m\u001b[0;34m\u001b[0m\u001b[0m\n\u001b[0;32m----> 7\u001b[0;31m     \u001b[0;32mfor\u001b[0m \u001b[0mbatch\u001b[0m \u001b[0;32min\u001b[0m \u001b[0mval_dataloader\u001b[0m\u001b[0;34m:\u001b[0m  \u001b[0;31m# Assuming you have a validation dataloader\u001b[0m\u001b[0;34m\u001b[0m\u001b[0;34m\u001b[0m\u001b[0m\n\u001b[0m\u001b[1;32m      8\u001b[0m         \u001b[0mbatch\u001b[0m \u001b[0;34m=\u001b[0m \u001b[0;34m{\u001b[0m\u001b[0mk\u001b[0m\u001b[0;34m:\u001b[0m \u001b[0mv\u001b[0m\u001b[0;34m.\u001b[0m\u001b[0mto\u001b[0m\u001b[0;34m(\u001b[0m\u001b[0mdevice\u001b[0m\u001b[0;34m)\u001b[0m \u001b[0;32mfor\u001b[0m \u001b[0mk\u001b[0m\u001b[0;34m,\u001b[0m \u001b[0mv\u001b[0m \u001b[0;32min\u001b[0m \u001b[0mbatch\u001b[0m\u001b[0;34m.\u001b[0m\u001b[0mitems\u001b[0m\u001b[0;34m(\u001b[0m\u001b[0;34m)\u001b[0m\u001b[0;34m}\u001b[0m\u001b[0;34m\u001b[0m\u001b[0;34m\u001b[0m\u001b[0m\n\u001b[1;32m      9\u001b[0m         \u001b[0moutputs\u001b[0m \u001b[0;34m=\u001b[0m \u001b[0mmodel\u001b[0m\u001b[0;34m(\u001b[0m\u001b[0;34m**\u001b[0m\u001b[0mbatch\u001b[0m\u001b[0;34m)\u001b[0m\u001b[0;34m\u001b[0m\u001b[0;34m\u001b[0m\u001b[0m\n",
            "\u001b[0;31mNameError\u001b[0m: name 'val_dataloader' is not defined"
          ]
        }
      ]
    }
  ]
}