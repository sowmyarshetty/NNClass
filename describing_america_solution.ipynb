{
  "cells": [
    {
      "cell_type": "markdown",
      "metadata": {
        "id": "view-in-github",
        "colab_type": "text"
      },
      "source": [
        "<a href=\"https://colab.research.google.com/github/sowmyarshetty/NNClass/blob/main/describing_america_solution.ipynb\" target=\"_parent\"><img src=\"https://colab.research.google.com/assets/colab-badge.svg\" alt=\"Open In Colab\"/></a>"
      ]
    },
    {
      "cell_type": "code",
      "execution_count": 15,
      "metadata": {
        "colab": {
          "base_uri": "https://localhost:8080/"
        },
        "id": "913PhjNjKh8R",
        "outputId": "8351995d-8830-4c21-c750-49ec771b4c27"
      },
      "outputs": [
        {
          "output_type": "stream",
          "name": "stderr",
          "text": [
            "[nltk_data] Downloading package punkt_tab to /root/nltk_data...\n",
            "[nltk_data]   Package punkt_tab is already up-to-date!\n",
            "[nltk_data] Downloading package inaugural to /root/nltk_data...\n",
            "[nltk_data]   Package inaugural is already up-to-date!\n"
          ]
        }
      ],
      "source": [
        "# Import dependencies\n",
        "import nltk\n",
        "import spacy\n",
        "import pandas as pd\n",
        "from collections import Counter\n",
        "from nltk.corpus import inaugural\n",
        "import nltk\n",
        "nltk.download('punkt_tab')\n",
        "# Download NLTK's inaugural corpus\n",
        "nltk.download(\"inaugural\")\n",
        "\n",
        "# Load the English language model for spaCy\n",
        "nlp = spacy.load(\"en_core_web_sm\")"
      ]
    },
    {
      "cell_type": "markdown",
      "metadata": {
        "id": "pZTQ1B4xKh8U"
      },
      "source": [
        "##  Retrieve the documents IDs and text of the U.S. presidential inaugural addresses"
      ]
    },
    {
      "cell_type": "code",
      "execution_count": 16,
      "metadata": {
        "colab": {
          "base_uri": "https://localhost:8080/"
        },
        "id": "vA1efWg0Kh8V",
        "outputId": "30c8732c-83da-4712-f192-384240bb4c2c"
      },
      "outputs": [
        {
          "output_type": "stream",
          "name": "stdout",
          "text": [
            "60 60\n"
          ]
        }
      ],
      "source": [
        "# Retrieve the IDs of inaugural addresses\n",
        "ids = inaugural.fileids()\n",
        "\n",
        "# Retrieve the text of all the inaugural addresses\n",
        "texts = [inaugural.raw(id) for id in ids]\n",
        "\n",
        "# Get the length of the ids and text\n",
        "print(len(ids), len(texts))"
      ]
    },
    {
      "cell_type": "code",
      "execution_count": 17,
      "metadata": {
        "colab": {
          "base_uri": "https://localhost:8080/"
        },
        "id": "cJ2ahUDzKh8X",
        "outputId": "e82b8dc3-b0d6-47f0-b95a-8aaf1a81d939"
      },
      "outputs": [
        {
          "output_type": "stream",
          "name": "stdout",
          "text": [
            "1829-Jackson.txt\n",
            "Fellow citizens, about to undertake the arduous duties that I have been appointed to perform by the choice of a free people, I avail myself of this customary and solemn occasion to express the gratitude which their confidence inspires and to acknowledge the accountability which my situation enjoins. While the magnitude of their interests convinces me that no thanks can be adequate to the honor they have conferred, it admonishes me that the best return I can make is the zealous dedication of my humble abilities to their service and their good.\n",
            "\n",
            "As the instrument of the Federal Constitution it will devolve on me for a stated period to execute the laws of the United States, to superintend their foreign and their confederate relations, to manage their revenue, to command their forces, and, by communications to the Legislature, to watch over and to promote their interests generally. And the principles of action by which I shall endeavor to accomplish this circle of duties it is now proper for me briefly to explain.\n",
            "\n",
            "In administering the laws of Congress I shall keep steadily in view the limitations as well as the extent of the Executive power trusting thereby to discharge the functions of my office without transcending its authority. With foreign nations it will be my study to preserve peace and to cultivate friendship on fair and honorable terms, and in the adjustment of any differences that may exist or arise to exhibit the forbearance becoming a powerful nation rather than the sensibility belonging to a gallant people.\n",
            "\n",
            "In such measures as I may be called on to pursue in regard to the rights of the separate States I hope to be animated by a proper respect for those sovereign members of our Union, taking care not to confound the powers they have reserved to themselves with those they have granted to the Confederacy.\n",
            "\n",
            "The management of the public revenue -- that searching operation in all governments -- is among the most delicate and important trusts in ours, and it will, of course, demand no inconsiderable share of my official solicitude. Under every aspect in which it can be considered it would appear that advantage must result from the observance of a strict and faithful economy. This I shall aim at the more anxiously both because it will facilitate the extinguishment of the national debt, the unnecessary duration of which is incompatible with real independence, and because it will counteract that tendency to public and private profligacy which a profuse expenditure of money by the Government is but too apt to engender. Powerful auxiliaries to the attainment of this desirable end are to be found in the regulations provided by the wisdom of Congress for the specific appropriation of public money and the prompt accountability of public officers.\n",
            "\n",
            "With regard to a proper selection of the subjects of impost with a view to revenue, it would seem to me that the spirit of equity, caution and compromise in which the Constitution was formed requires that the great interests of agriculture, commerce, and manufactures should be equally favored, and that perhaps the only exception to this rule should consist in the peculiar encouragement of any products of either of them that may be found essential to our national independence.\n",
            "\n",
            "Internal improvement and the diffusion of knowledge, so far as they can be promoted by the constitutional acts of the Federal Government, are of high importance.\n",
            "\n",
            "Considering standing armies as dangerous to free governments in time of peace, I shall not seek to enlarge our present establishment, nor disregard that salutary lesson of political experience which teaches that the military should be held subordinate to the civil power. The gradual increase of our Navy, whose flag has displayed in distant climes our skill in navigation and our fame in arms; the preservation of our forts, arsenals, and dockyards, and the introduction of progressive improvements in the discipline and science of both branches of our military service are so plainly prescribed by prudence that I should be excused for omitting their mention sooner than for enlarging on their importance. But the bulwark of our defense is the national militia, which in the present state of our intelligence and population must render us invincible. As long as our Government is administered for the good of the people, and is regulated by their will; as long as it secures to us the rights of person and of property, liberty of conscience and of the press, it will be worth defending; and so long as it is worth defending a patriotic militia will cover it with an impenetrable aegis. Partial injuries and occasional mortifications we may be subjected to, but a million of armed freemen, possessed of the means of war, can never be conquered by a foreign foe. To any just system, therefore, calculated to strengthen this natural safeguard of the country I shall cheerfully lend all the aid in my power.\n",
            "\n",
            "It will be my sincere and constant desire to observe toward the Indian tribes within our limits a just and liberal policy, and to give that humane and considerate attention to their rights and their wants which is consistent with the habits of our Government and the feelings of our people.\n",
            "\n",
            "The recent demonstration of public sentiment inscribes on the list of Executive duties, in characters too legible to be overlooked, the task of reform, which will require particularly the correction of those abuses that have brought the patronage of the Federal Government into conflict with the freedom of elections, and the counteraction of those causes which have disturbed the rightful course of appointment and have placed or continued power in unfaithful or incompetent hands.\n",
            "\n",
            "In the performance of a task thus generally delineated I shall endeavor to select men whose diligence and talents will insure in their respective stations able and faithful cooperation, depending for the advancement of the public service more on the integrity and zeal of the public officers than on their numbers.\n",
            "\n",
            "A diffidence, perhaps too just, in my own qualifications will teach me to look with reverence to the examples of public virtue left by my illustrious predecessors, and with veneration to the lights that flow from the mind that founded and the mind that reformed our system. The same diffidence induces me to hope for instruction and aid from the coordinate branches of the Government, and for the indulgence and support of my fellow citizens generally. And a firm reliance on the goodness of that Power whose providence mercifully protected our national infancy, and has since upheld our liberties in various vicissitudes, encourages me to offer up my ardent supplications that He will continue to make our beloved country the object of His divine care and gracious benediction.\n",
            "\n"
          ]
        }
      ],
      "source": [
        "# Display sample inaugural address\n",
        "print(ids[10])\n",
        "print(texts[10])"
      ]
    },
    {
      "cell_type": "markdown",
      "metadata": {
        "id": "nQpkb1BqKh8Y"
      },
      "source": [
        "## The Most Frequent Adjectives from each Inaugural Address"
      ]
    },
    {
      "cell_type": "code",
      "execution_count": 18,
      "metadata": {
        "id": "aI-iwU-ZKh8Y"
      },
      "outputs": [],
      "source": [
        "# Use the most_common_adjs function to tokenize the text, creates a list of with all the adjectives,\n",
        "# and retrieve the most common adjectives and their frequency.\n",
        "def most_common_adjs(text):\n",
        "    \"\"\"\n",
        "    Finds and returns the most common adjective in the given text.\n",
        "\n",
        "    Args:\n",
        "        text (str): The input text from which adjectives will be extracted.\n",
        "\n",
        "    Returns:\n",
        "        tuple: A tuple containing the most common adjectives and their frequency.\n",
        "               The tuple has the format (adjective, frequency).\n",
        "\n",
        "    Example:\n",
        "    >>> text = \"The quick brown fox jumps over the lazy dog. The fast fox is brown.\"\n",
        "    >>> most_common_adj(text)\n",
        "    ('brown', 2)\n",
        "    \"\"\"\n",
        "    # Tokenizes text and parse each token\n",
        "    doc = nlp(text)\n",
        "\n",
        "    # Creates a list with all the adjectives in the text\n",
        "    adjs = [token.text.lower() for token in doc if token.pos_ == 'ADJ']\n",
        "\n",
        "    # Retrieves the most frequent adjective in the adjectives list using the Counter module\n",
        "    most_common_adj = Counter(adjs).most_common(1)[0]\n",
        "\n",
        "    return most_common_adj\n"
      ]
    },
    {
      "cell_type": "code",
      "execution_count": 19,
      "metadata": {
        "colab": {
          "base_uri": "https://localhost:8080/"
        },
        "id": "TExv5UleKh8Z",
        "outputId": "2608121f-4860-473b-a041-9a842ad08d08"
      },
      "outputs": [
        {
          "output_type": "stream",
          "name": "stdout",
          "text": [
            "[('public', 6), ('fellow', 1), ('foreign', 8), ('own', 6), ('public', 14), ('public', 6), ('other', 4), ('great', 20), ('great', 26), ('other', 10), ('public', 8), ('fellow', 3), ('other', 8), ('other', 26), ('free', 12), ('own', 5), ('great', 8), ('great', 11), ('such', 15), ('other', 3), ('best', 5), ('best', 5), ('political', 10), ('great', 11), ('public', 11), ('public', 17), ('public', 8), ('great', 15), ('american', 7), ('great', 5), ('proper', 15), ('great', 14), ('own', 15), ('new', 13), ('great', 15), ('other', 9), ('national', 9), ('good', 7), ('human', 5), ('simple', 2), ('free', 11), ('free', 21), ('own', 9), ('new', 7), ('old', 7), ('new', 8), ('new', 15), ('new', 9), ('other', 4), ('new', 9), ('new', 14), ('new', 9), ('new', 29), ('common', 5), ('own', 9), ('new', 11), ('new', 6), ('american', 9), ('american', 7), ('american', 13)]\n"
          ]
        }
      ],
      "source": [
        "# Create a list of the most common adjective for each inaugural address\n",
        "common_adjs = [most_common_adjs(text) for text in texts]\n",
        "\n",
        "# Print the common adjectives.\n",
        "print(common_adjs)"
      ]
    },
    {
      "cell_type": "code",
      "execution_count": 20,
      "metadata": {
        "id": "K7nUrY84Kh8a"
      },
      "outputs": [],
      "source": [
        "# Use list comprehensions to retrieve each adjective and the number of occurrences for each text in separate lists.\n",
        "adjs = [common_adjs[i][0] for i, _ in enumerate(common_adjs)]\n",
        "frequency = [common_adjs[i][1] for i, _ in enumerate(common_adjs)]"
      ]
    },
    {
      "cell_type": "code",
      "execution_count": 21,
      "metadata": {
        "id": "Gs8pZ504Kh8a"
      },
      "outputs": [],
      "source": [
        "# Save the year and president as 'inaugural_address' in the following format \"1789-Washington\"\n",
        "inaugural_address = [id.replace(\".txt\", \"\") for id in ids]"
      ]
    },
    {
      "cell_type": "code",
      "execution_count": 22,
      "metadata": {
        "colab": {
          "base_uri": "https://localhost:8080/",
          "height": 363
        },
        "id": "75nY61CMKh8a",
        "outputId": "8b4f9ca3-4b38-4496-cd61-a28f2402c2e6"
      },
      "outputs": [
        {
          "output_type": "execute_result",
          "data": {
            "text/plain": [
              "  inaugural address adjective  frequency\n",
              "0      1997-Clinton       new         29\n",
              "1       1821-Monroe     great         26\n",
              "2     1841-Harrison     other         26\n",
              "3   1953-Eisenhower      free         21\n",
              "4       1817-Monroe     great         20\n",
              "5     1889-Harrison    public         17\n",
              "6         1909-Taft    proper         15\n",
              "7      1861-Lincoln      such         15\n",
              "8        1973-Nixon       new         15\n",
              "9     1925-Coolidge     great         15"
            ],
            "text/html": [
              "\n",
              "  <div id=\"df-053deb2d-9f44-48e9-930a-ca921eeff86e\" class=\"colab-df-container\">\n",
              "    <div>\n",
              "<style scoped>\n",
              "    .dataframe tbody tr th:only-of-type {\n",
              "        vertical-align: middle;\n",
              "    }\n",
              "\n",
              "    .dataframe tbody tr th {\n",
              "        vertical-align: top;\n",
              "    }\n",
              "\n",
              "    .dataframe thead th {\n",
              "        text-align: right;\n",
              "    }\n",
              "</style>\n",
              "<table border=\"1\" class=\"dataframe\">\n",
              "  <thead>\n",
              "    <tr style=\"text-align: right;\">\n",
              "      <th></th>\n",
              "      <th>inaugural address</th>\n",
              "      <th>adjective</th>\n",
              "      <th>frequency</th>\n",
              "    </tr>\n",
              "  </thead>\n",
              "  <tbody>\n",
              "    <tr>\n",
              "      <th>0</th>\n",
              "      <td>1997-Clinton</td>\n",
              "      <td>new</td>\n",
              "      <td>29</td>\n",
              "    </tr>\n",
              "    <tr>\n",
              "      <th>1</th>\n",
              "      <td>1821-Monroe</td>\n",
              "      <td>great</td>\n",
              "      <td>26</td>\n",
              "    </tr>\n",
              "    <tr>\n",
              "      <th>2</th>\n",
              "      <td>1841-Harrison</td>\n",
              "      <td>other</td>\n",
              "      <td>26</td>\n",
              "    </tr>\n",
              "    <tr>\n",
              "      <th>3</th>\n",
              "      <td>1953-Eisenhower</td>\n",
              "      <td>free</td>\n",
              "      <td>21</td>\n",
              "    </tr>\n",
              "    <tr>\n",
              "      <th>4</th>\n",
              "      <td>1817-Monroe</td>\n",
              "      <td>great</td>\n",
              "      <td>20</td>\n",
              "    </tr>\n",
              "    <tr>\n",
              "      <th>5</th>\n",
              "      <td>1889-Harrison</td>\n",
              "      <td>public</td>\n",
              "      <td>17</td>\n",
              "    </tr>\n",
              "    <tr>\n",
              "      <th>6</th>\n",
              "      <td>1909-Taft</td>\n",
              "      <td>proper</td>\n",
              "      <td>15</td>\n",
              "    </tr>\n",
              "    <tr>\n",
              "      <th>7</th>\n",
              "      <td>1861-Lincoln</td>\n",
              "      <td>such</td>\n",
              "      <td>15</td>\n",
              "    </tr>\n",
              "    <tr>\n",
              "      <th>8</th>\n",
              "      <td>1973-Nixon</td>\n",
              "      <td>new</td>\n",
              "      <td>15</td>\n",
              "    </tr>\n",
              "    <tr>\n",
              "      <th>9</th>\n",
              "      <td>1925-Coolidge</td>\n",
              "      <td>great</td>\n",
              "      <td>15</td>\n",
              "    </tr>\n",
              "  </tbody>\n",
              "</table>\n",
              "</div>\n",
              "    <div class=\"colab-df-buttons\">\n",
              "\n",
              "  <div class=\"colab-df-container\">\n",
              "    <button class=\"colab-df-convert\" onclick=\"convertToInteractive('df-053deb2d-9f44-48e9-930a-ca921eeff86e')\"\n",
              "            title=\"Convert this dataframe to an interactive table.\"\n",
              "            style=\"display:none;\">\n",
              "\n",
              "  <svg xmlns=\"http://www.w3.org/2000/svg\" height=\"24px\" viewBox=\"0 -960 960 960\">\n",
              "    <path d=\"M120-120v-720h720v720H120Zm60-500h600v-160H180v160Zm220 220h160v-160H400v160Zm0 220h160v-160H400v160ZM180-400h160v-160H180v160Zm440 0h160v-160H620v160ZM180-180h160v-160H180v160Zm440 0h160v-160H620v160Z\"/>\n",
              "  </svg>\n",
              "    </button>\n",
              "\n",
              "  <style>\n",
              "    .colab-df-container {\n",
              "      display:flex;\n",
              "      gap: 12px;\n",
              "    }\n",
              "\n",
              "    .colab-df-convert {\n",
              "      background-color: #E8F0FE;\n",
              "      border: none;\n",
              "      border-radius: 50%;\n",
              "      cursor: pointer;\n",
              "      display: none;\n",
              "      fill: #1967D2;\n",
              "      height: 32px;\n",
              "      padding: 0 0 0 0;\n",
              "      width: 32px;\n",
              "    }\n",
              "\n",
              "    .colab-df-convert:hover {\n",
              "      background-color: #E2EBFA;\n",
              "      box-shadow: 0px 1px 2px rgba(60, 64, 67, 0.3), 0px 1px 3px 1px rgba(60, 64, 67, 0.15);\n",
              "      fill: #174EA6;\n",
              "    }\n",
              "\n",
              "    .colab-df-buttons div {\n",
              "      margin-bottom: 4px;\n",
              "    }\n",
              "\n",
              "    [theme=dark] .colab-df-convert {\n",
              "      background-color: #3B4455;\n",
              "      fill: #D2E3FC;\n",
              "    }\n",
              "\n",
              "    [theme=dark] .colab-df-convert:hover {\n",
              "      background-color: #434B5C;\n",
              "      box-shadow: 0px 1px 3px 1px rgba(0, 0, 0, 0.15);\n",
              "      filter: drop-shadow(0px 1px 2px rgba(0, 0, 0, 0.3));\n",
              "      fill: #FFFFFF;\n",
              "    }\n",
              "  </style>\n",
              "\n",
              "    <script>\n",
              "      const buttonEl =\n",
              "        document.querySelector('#df-053deb2d-9f44-48e9-930a-ca921eeff86e button.colab-df-convert');\n",
              "      buttonEl.style.display =\n",
              "        google.colab.kernel.accessAllowed ? 'block' : 'none';\n",
              "\n",
              "      async function convertToInteractive(key) {\n",
              "        const element = document.querySelector('#df-053deb2d-9f44-48e9-930a-ca921eeff86e');\n",
              "        const dataTable =\n",
              "          await google.colab.kernel.invokeFunction('convertToInteractive',\n",
              "                                                    [key], {});\n",
              "        if (!dataTable) return;\n",
              "\n",
              "        const docLinkHtml = 'Like what you see? Visit the ' +\n",
              "          '<a target=\"_blank\" href=https://colab.research.google.com/notebooks/data_table.ipynb>data table notebook</a>'\n",
              "          + ' to learn more about interactive tables.';\n",
              "        element.innerHTML = '';\n",
              "        dataTable['output_type'] = 'display_data';\n",
              "        await google.colab.output.renderOutput(dataTable, element);\n",
              "        const docLink = document.createElement('div');\n",
              "        docLink.innerHTML = docLinkHtml;\n",
              "        element.appendChild(docLink);\n",
              "      }\n",
              "    </script>\n",
              "  </div>\n",
              "\n",
              "\n",
              "<div id=\"df-6d839c72-4664-4f7a-a651-5ef12ae63050\">\n",
              "  <button class=\"colab-df-quickchart\" onclick=\"quickchart('df-6d839c72-4664-4f7a-a651-5ef12ae63050')\"\n",
              "            title=\"Suggest charts\"\n",
              "            style=\"display:none;\">\n",
              "\n",
              "<svg xmlns=\"http://www.w3.org/2000/svg\" height=\"24px\"viewBox=\"0 0 24 24\"\n",
              "     width=\"24px\">\n",
              "    <g>\n",
              "        <path d=\"M19 3H5c-1.1 0-2 .9-2 2v14c0 1.1.9 2 2 2h14c1.1 0 2-.9 2-2V5c0-1.1-.9-2-2-2zM9 17H7v-7h2v7zm4 0h-2V7h2v10zm4 0h-2v-4h2v4z\"/>\n",
              "    </g>\n",
              "</svg>\n",
              "  </button>\n",
              "\n",
              "<style>\n",
              "  .colab-df-quickchart {\n",
              "      --bg-color: #E8F0FE;\n",
              "      --fill-color: #1967D2;\n",
              "      --hover-bg-color: #E2EBFA;\n",
              "      --hover-fill-color: #174EA6;\n",
              "      --disabled-fill-color: #AAA;\n",
              "      --disabled-bg-color: #DDD;\n",
              "  }\n",
              "\n",
              "  [theme=dark] .colab-df-quickchart {\n",
              "      --bg-color: #3B4455;\n",
              "      --fill-color: #D2E3FC;\n",
              "      --hover-bg-color: #434B5C;\n",
              "      --hover-fill-color: #FFFFFF;\n",
              "      --disabled-bg-color: #3B4455;\n",
              "      --disabled-fill-color: #666;\n",
              "  }\n",
              "\n",
              "  .colab-df-quickchart {\n",
              "    background-color: var(--bg-color);\n",
              "    border: none;\n",
              "    border-radius: 50%;\n",
              "    cursor: pointer;\n",
              "    display: none;\n",
              "    fill: var(--fill-color);\n",
              "    height: 32px;\n",
              "    padding: 0;\n",
              "    width: 32px;\n",
              "  }\n",
              "\n",
              "  .colab-df-quickchart:hover {\n",
              "    background-color: var(--hover-bg-color);\n",
              "    box-shadow: 0 1px 2px rgba(60, 64, 67, 0.3), 0 1px 3px 1px rgba(60, 64, 67, 0.15);\n",
              "    fill: var(--button-hover-fill-color);\n",
              "  }\n",
              "\n",
              "  .colab-df-quickchart-complete:disabled,\n",
              "  .colab-df-quickchart-complete:disabled:hover {\n",
              "    background-color: var(--disabled-bg-color);\n",
              "    fill: var(--disabled-fill-color);\n",
              "    box-shadow: none;\n",
              "  }\n",
              "\n",
              "  .colab-df-spinner {\n",
              "    border: 2px solid var(--fill-color);\n",
              "    border-color: transparent;\n",
              "    border-bottom-color: var(--fill-color);\n",
              "    animation:\n",
              "      spin 1s steps(1) infinite;\n",
              "  }\n",
              "\n",
              "  @keyframes spin {\n",
              "    0% {\n",
              "      border-color: transparent;\n",
              "      border-bottom-color: var(--fill-color);\n",
              "      border-left-color: var(--fill-color);\n",
              "    }\n",
              "    20% {\n",
              "      border-color: transparent;\n",
              "      border-left-color: var(--fill-color);\n",
              "      border-top-color: var(--fill-color);\n",
              "    }\n",
              "    30% {\n",
              "      border-color: transparent;\n",
              "      border-left-color: var(--fill-color);\n",
              "      border-top-color: var(--fill-color);\n",
              "      border-right-color: var(--fill-color);\n",
              "    }\n",
              "    40% {\n",
              "      border-color: transparent;\n",
              "      border-right-color: var(--fill-color);\n",
              "      border-top-color: var(--fill-color);\n",
              "    }\n",
              "    60% {\n",
              "      border-color: transparent;\n",
              "      border-right-color: var(--fill-color);\n",
              "    }\n",
              "    80% {\n",
              "      border-color: transparent;\n",
              "      border-right-color: var(--fill-color);\n",
              "      border-bottom-color: var(--fill-color);\n",
              "    }\n",
              "    90% {\n",
              "      border-color: transparent;\n",
              "      border-bottom-color: var(--fill-color);\n",
              "    }\n",
              "  }\n",
              "</style>\n",
              "\n",
              "  <script>\n",
              "    async function quickchart(key) {\n",
              "      const quickchartButtonEl =\n",
              "        document.querySelector('#' + key + ' button');\n",
              "      quickchartButtonEl.disabled = true;  // To prevent multiple clicks.\n",
              "      quickchartButtonEl.classList.add('colab-df-spinner');\n",
              "      try {\n",
              "        const charts = await google.colab.kernel.invokeFunction(\n",
              "            'suggestCharts', [key], {});\n",
              "      } catch (error) {\n",
              "        console.error('Error during call to suggestCharts:', error);\n",
              "      }\n",
              "      quickchartButtonEl.classList.remove('colab-df-spinner');\n",
              "      quickchartButtonEl.classList.add('colab-df-quickchart-complete');\n",
              "    }\n",
              "    (() => {\n",
              "      let quickchartButtonEl =\n",
              "        document.querySelector('#df-6d839c72-4664-4f7a-a651-5ef12ae63050 button');\n",
              "      quickchartButtonEl.style.display =\n",
              "        google.colab.kernel.accessAllowed ? 'block' : 'none';\n",
              "    })();\n",
              "  </script>\n",
              "</div>\n",
              "\n",
              "    </div>\n",
              "  </div>\n"
            ],
            "application/vnd.google.colaboratory.intrinsic+json": {
              "type": "dataframe",
              "variable_name": "presidential_adjs",
              "summary": "{\n  \"name\": \"presidential_adjs\",\n  \"rows\": 60,\n  \"fields\": [\n    {\n      \"column\": \"inaugural address\",\n      \"properties\": {\n        \"dtype\": \"string\",\n        \"num_unique_values\": 60,\n        \"samples\": [\n          \"1997-Clinton\",\n          \"1889-Harrison\",\n          \"1797-Adams\"\n        ],\n        \"semantic_type\": \"\",\n        \"description\": \"\"\n      }\n    },\n    {\n      \"column\": \"adjective\",\n      \"properties\": {\n        \"dtype\": \"category\",\n        \"num_unique_values\": 19,\n        \"samples\": [\n          \"new\",\n          \"proper\",\n          \"foreign\"\n        ],\n        \"semantic_type\": \"\",\n        \"description\": \"\"\n      }\n    },\n    {\n      \"column\": \"frequency\",\n      \"properties\": {\n        \"dtype\": \"number\",\n        \"std\": 5,\n        \"min\": 1,\n        \"max\": 29,\n        \"num_unique_values\": 20,\n        \"samples\": [\n          29,\n          3,\n          5\n        ],\n        \"semantic_type\": \"\",\n        \"description\": \"\"\n      }\n    }\n  ]\n}"
            }
          },
          "metadata": {},
          "execution_count": 22
        }
      ],
      "source": [
        "# Create a DataFrame called, adjs_df, that has columns to hold the\n",
        "# inaugural addresses, the common adjective, and the number of times each adjective appears.\n",
        "common_adjs_df = pd.DataFrame(\n",
        "    {\n",
        "        'inaugural address':inaugural_address,\n",
        "        'adjective':adjs,\n",
        "        'frequency':frequency\n",
        "    }\n",
        ")\n",
        "\n",
        "# Sort the DataFrame to display the top 10 adjectives.\n",
        "presidential_adjs = common_adjs_df.sort_values(by=['frequency'], ascending=False).reset_index(drop=True)\n",
        "\n",
        "# Display the first ten rows.\n",
        "presidential_adjs.head(10)"
      ]
    },
    {
      "cell_type": "markdown",
      "metadata": {
        "id": "rgmMaW1eKh8b"
      },
      "source": [
        "## Most Common Adjectives Used in Inaugural Addresses"
      ]
    },
    {
      "cell_type": "code",
      "execution_count": 23,
      "metadata": {
        "id": "OWgv6sMXKh8b"
      },
      "outputs": [],
      "source": [
        "# Use the all_adjs function to retrieve all the adjectives in a given text.\n",
        "def all_adjs(text):\n",
        "    \"\"\"\n",
        "    This function retrieves all the adjectives in the given text.\n",
        "\n",
        "    Args:\n",
        "        text (string): The text to analyze.\n",
        "\n",
        "    Returns:\n",
        "        list: A list containing all the adjectives found in the text. Adjectives\n",
        "              are represented as lowercase strings.\n",
        "    Example:\n",
        "    >>> text = \"The quick brown fox jumps over the lazy dog. The fast fox is brown.\"\n",
        "    >>> all_adjs(text)\n",
        "    ['quick', 'brown', 'lazy', 'fast', 'brown']\n",
        "    \"\"\"\n",
        "\n",
        "    # Tokenize the text and parse each token\n",
        "    doc = nlp(text)\n",
        "\n",
        "    # Create a list with all the adjectives in the text\n",
        "    adjs = [token.text.lower() for token in doc if token.pos_ == 'ADJ']\n",
        "\n",
        "    return adjs"
      ]
    },
    {
      "cell_type": "code",
      "execution_count": 24,
      "metadata": {
        "colab": {
          "base_uri": "https://localhost:8080/"
        },
        "id": "OUe6ovMSKh8c",
        "outputId": "ede72491-27ee-433e-be59-60ee035adc13"
      },
      "outputs": [
        {
          "output_type": "execute_result",
          "data": {
            "text/plain": [
              "['greater',\n",
              " '14th',\n",
              " 'present',\n",
              " 'fondest',\n",
              " 'flattering',\n",
              " 'immutable',\n",
              " 'necessary',\n",
              " 'dear',\n",
              " 'frequent',\n",
              " 'gradual']"
            ]
          },
          "metadata": {},
          "execution_count": 24
        }
      ],
      "source": [
        "# Create an empty list to store all the adjectives\n",
        "all_adjectives = []\n",
        "\n",
        "# Use a for loop that sends the \"text\" of the inaugural addresses to the all_adj() function\n",
        "# and concatenates the returned adjectives to the all_adjectives list.\n",
        "for text in texts:\n",
        "    all_adjectives = all_adjectives + all_adjs(text)\n",
        "\n",
        "# Print sample data\n",
        "all_adjectives[:10]"
      ]
    },
    {
      "cell_type": "code",
      "execution_count": 25,
      "metadata": {
        "colab": {
          "base_uri": "https://localhost:8080/"
        },
        "id": "esLEFCO8Kh8c",
        "outputId": "3059c07a-fd4a-484f-c877-324e94ccd7d1"
      },
      "outputs": [
        {
          "output_type": "stream",
          "name": "stdout",
          "text": [
            "[('great', 342), ('other', 275), ('own', 248)]\n"
          ]
        }
      ],
      "source": [
        "# Create a variable, most_freq_adjectives, that stores the three most frequent adjectives\n",
        "# used in the inaugural addresses by using the most_common() function from the Counter module.\n",
        "most_freq_adjectives = Counter(all_adjectives).most_common(3)\n",
        "\n",
        "# Print the three most frequent adjectives\n",
        "print(most_freq_adjectives)"
      ]
    },
    {
      "cell_type": "code",
      "execution_count": 26,
      "metadata": {
        "id": "Nu5RQsm1Kh8c"
      },
      "outputs": [],
      "source": [
        "# Import the word_tokenize module from NLTK\n",
        "from nltk.tokenize import word_tokenize\n",
        "# Use the get_word_counts function to count the occurrences of a word in text.\n",
        "def get_word_counts(text, word):\n",
        "    \"\"\"\n",
        "    This function counts the occurrences of a word in a text.\n",
        "\n",
        "    Args:\n",
        "        text (string): The text where word counts will be analyzed.\n",
        "        word (string): The word to look into the text.\n",
        "\n",
        "    Returns:\n",
        "        word_count (int): The counts of the word in the given text.\n",
        "\n",
        "    Example:\n",
        "    >>> text = \"The quick brown fox jumps over the lazy dog. The quick brown dog is happy.\"\n",
        "    >>> word = \"quick\"\n",
        "    >>> get_word_counts(text, word)\n",
        "    2\n",
        "    \"\"\"\n",
        "\n",
        "    # Use the word_tokenize module from NLTK to tokenize the text\n",
        "    tok = word_tokenize(text)\n",
        "\n",
        "    # Create a list with all the tokens retrieved from the text\n",
        "    tok = [word.lower() for word in tok]\n",
        "\n",
        "    # Count the occurrences of the word in the text\n",
        "    word_count = tok.count(word)\n",
        "\n",
        "    return word_count"
      ]
    },
    {
      "cell_type": "code",
      "execution_count": 27,
      "metadata": {
        "scrolled": true,
        "colab": {
          "base_uri": "https://localhost:8080/"
        },
        "id": "qJhWnpzJKh8c",
        "outputId": "8a215b91-b305-4ef0-c222-1fa220a1a4e2"
      },
      "outputs": [
        {
          "output_type": "stream",
          "name": "stdout",
          "text": [
            "Great counts sample data: [3, 0, 5, 1, 1]\n",
            "Other counts sample data: [1, 0, 2, 1, 6]\n",
            "Own counts sample data: [2, 0, 4, 6, 5]\n"
          ]
        }
      ],
      "source": [
        "# Use list comprehensions to create a list with the counts of each top adjective in the inaugural addresses\n",
        "great_counts = [get_word_counts(text,'great') for text in texts]\n",
        "other_counts = [get_word_counts(text,'other') for text in texts]\n",
        "own_counts = [get_word_counts(text,'own') for text in texts]\n",
        "\n",
        "# Display sample data\n",
        "print(f\"Great counts sample data: {great_counts[:5]}\")\n",
        "print(f\"Other counts sample data: {other_counts[:5]}\")\n",
        "print(f\"Own counts sample data: {own_counts[:5]}\")"
      ]
    },
    {
      "cell_type": "markdown",
      "metadata": {
        "id": "74WFd3xpKh8d"
      },
      "source": [
        "## Analyze Adjectives Over Time"
      ]
    },
    {
      "cell_type": "code",
      "execution_count": 28,
      "metadata": {
        "colab": {
          "base_uri": "https://localhost:8080/"
        },
        "id": "CMs-HH4mKh8d",
        "outputId": "d75b3cbd-58a9-4789-f513-a4c8f42cd38e"
      },
      "outputs": [
        {
          "output_type": "stream",
          "name": "stdout",
          "text": [
            "['1789', '1793', '1797', '1801', '1805']\n"
          ]
        }
      ],
      "source": [
        "# Create a Python list dates to store the year when every inaugural address was delivered.\n",
        "dates = [id.split('-')[0] for id in ids]\n",
        "\n",
        "# Print sample data\n",
        "print(dates[:5])"
      ]
    },
    {
      "cell_type": "code",
      "execution_count": 29,
      "metadata": {
        "colab": {
          "base_uri": "https://localhost:8080/"
        },
        "id": "XrK8whVoKh8d",
        "outputId": "253dc3f4-719d-46c5-cfd4-e97d9567083b"
      },
      "outputs": [
        {
          "output_type": "stream",
          "name": "stdout",
          "text": [
            "['Washington', 'Washington', 'Adams', 'Jefferson', 'Jefferson']\n"
          ]
        }
      ],
      "source": [
        "# Create a Python list called, presidents,  to store the last name of each U.S. President from each inaugural address.\n",
        "presidents = [id.split('-')[1].split('.')[0] for id in ids]\n",
        "\n",
        "# Print sample data\n",
        "print(presidents[:5])"
      ]
    },
    {
      "cell_type": "code",
      "execution_count": 30,
      "metadata": {
        "colab": {
          "base_uri": "https://localhost:8080/",
          "height": 206
        },
        "id": "5uaV8BYKKh8e",
        "outputId": "9a3b4b40-8bbe-4993-c31e-bd3debe099e8"
      },
      "outputs": [
        {
          "output_type": "execute_result",
          "data": {
            "text/plain": [
              "       President  great  other  own\n",
              "1789  Washington      3      1    2\n",
              "1793  Washington      0      0    0\n",
              "1797       Adams      5      2    4\n",
              "1801   Jefferson      1      1    6\n",
              "1805   Jefferson      1      6    5"
            ],
            "text/html": [
              "\n",
              "  <div id=\"df-871ea7e4-c4d1-4281-8a9d-d7900ed66c8a\" class=\"colab-df-container\">\n",
              "    <div>\n",
              "<style scoped>\n",
              "    .dataframe tbody tr th:only-of-type {\n",
              "        vertical-align: middle;\n",
              "    }\n",
              "\n",
              "    .dataframe tbody tr th {\n",
              "        vertical-align: top;\n",
              "    }\n",
              "\n",
              "    .dataframe thead th {\n",
              "        text-align: right;\n",
              "    }\n",
              "</style>\n",
              "<table border=\"1\" class=\"dataframe\">\n",
              "  <thead>\n",
              "    <tr style=\"text-align: right;\">\n",
              "      <th></th>\n",
              "      <th>President</th>\n",
              "      <th>great</th>\n",
              "      <th>other</th>\n",
              "      <th>own</th>\n",
              "    </tr>\n",
              "  </thead>\n",
              "  <tbody>\n",
              "    <tr>\n",
              "      <th>1789</th>\n",
              "      <td>Washington</td>\n",
              "      <td>3</td>\n",
              "      <td>1</td>\n",
              "      <td>2</td>\n",
              "    </tr>\n",
              "    <tr>\n",
              "      <th>1793</th>\n",
              "      <td>Washington</td>\n",
              "      <td>0</td>\n",
              "      <td>0</td>\n",
              "      <td>0</td>\n",
              "    </tr>\n",
              "    <tr>\n",
              "      <th>1797</th>\n",
              "      <td>Adams</td>\n",
              "      <td>5</td>\n",
              "      <td>2</td>\n",
              "      <td>4</td>\n",
              "    </tr>\n",
              "    <tr>\n",
              "      <th>1801</th>\n",
              "      <td>Jefferson</td>\n",
              "      <td>1</td>\n",
              "      <td>1</td>\n",
              "      <td>6</td>\n",
              "    </tr>\n",
              "    <tr>\n",
              "      <th>1805</th>\n",
              "      <td>Jefferson</td>\n",
              "      <td>1</td>\n",
              "      <td>6</td>\n",
              "      <td>5</td>\n",
              "    </tr>\n",
              "  </tbody>\n",
              "</table>\n",
              "</div>\n",
              "    <div class=\"colab-df-buttons\">\n",
              "\n",
              "  <div class=\"colab-df-container\">\n",
              "    <button class=\"colab-df-convert\" onclick=\"convertToInteractive('df-871ea7e4-c4d1-4281-8a9d-d7900ed66c8a')\"\n",
              "            title=\"Convert this dataframe to an interactive table.\"\n",
              "            style=\"display:none;\">\n",
              "\n",
              "  <svg xmlns=\"http://www.w3.org/2000/svg\" height=\"24px\" viewBox=\"0 -960 960 960\">\n",
              "    <path d=\"M120-120v-720h720v720H120Zm60-500h600v-160H180v160Zm220 220h160v-160H400v160Zm0 220h160v-160H400v160ZM180-400h160v-160H180v160Zm440 0h160v-160H620v160ZM180-180h160v-160H180v160Zm440 0h160v-160H620v160Z\"/>\n",
              "  </svg>\n",
              "    </button>\n",
              "\n",
              "  <style>\n",
              "    .colab-df-container {\n",
              "      display:flex;\n",
              "      gap: 12px;\n",
              "    }\n",
              "\n",
              "    .colab-df-convert {\n",
              "      background-color: #E8F0FE;\n",
              "      border: none;\n",
              "      border-radius: 50%;\n",
              "      cursor: pointer;\n",
              "      display: none;\n",
              "      fill: #1967D2;\n",
              "      height: 32px;\n",
              "      padding: 0 0 0 0;\n",
              "      width: 32px;\n",
              "    }\n",
              "\n",
              "    .colab-df-convert:hover {\n",
              "      background-color: #E2EBFA;\n",
              "      box-shadow: 0px 1px 2px rgba(60, 64, 67, 0.3), 0px 1px 3px 1px rgba(60, 64, 67, 0.15);\n",
              "      fill: #174EA6;\n",
              "    }\n",
              "\n",
              "    .colab-df-buttons div {\n",
              "      margin-bottom: 4px;\n",
              "    }\n",
              "\n",
              "    [theme=dark] .colab-df-convert {\n",
              "      background-color: #3B4455;\n",
              "      fill: #D2E3FC;\n",
              "    }\n",
              "\n",
              "    [theme=dark] .colab-df-convert:hover {\n",
              "      background-color: #434B5C;\n",
              "      box-shadow: 0px 1px 3px 1px rgba(0, 0, 0, 0.15);\n",
              "      filter: drop-shadow(0px 1px 2px rgba(0, 0, 0, 0.3));\n",
              "      fill: #FFFFFF;\n",
              "    }\n",
              "  </style>\n",
              "\n",
              "    <script>\n",
              "      const buttonEl =\n",
              "        document.querySelector('#df-871ea7e4-c4d1-4281-8a9d-d7900ed66c8a button.colab-df-convert');\n",
              "      buttonEl.style.display =\n",
              "        google.colab.kernel.accessAllowed ? 'block' : 'none';\n",
              "\n",
              "      async function convertToInteractive(key) {\n",
              "        const element = document.querySelector('#df-871ea7e4-c4d1-4281-8a9d-d7900ed66c8a');\n",
              "        const dataTable =\n",
              "          await google.colab.kernel.invokeFunction('convertToInteractive',\n",
              "                                                    [key], {});\n",
              "        if (!dataTable) return;\n",
              "\n",
              "        const docLinkHtml = 'Like what you see? Visit the ' +\n",
              "          '<a target=\"_blank\" href=https://colab.research.google.com/notebooks/data_table.ipynb>data table notebook</a>'\n",
              "          + ' to learn more about interactive tables.';\n",
              "        element.innerHTML = '';\n",
              "        dataTable['output_type'] = 'display_data';\n",
              "        await google.colab.output.renderOutput(dataTable, element);\n",
              "        const docLink = document.createElement('div');\n",
              "        docLink.innerHTML = docLinkHtml;\n",
              "        element.appendChild(docLink);\n",
              "      }\n",
              "    </script>\n",
              "  </div>\n",
              "\n",
              "\n",
              "<div id=\"df-cf741fc1-cf4e-40bd-88d4-dece75216de9\">\n",
              "  <button class=\"colab-df-quickchart\" onclick=\"quickchart('df-cf741fc1-cf4e-40bd-88d4-dece75216de9')\"\n",
              "            title=\"Suggest charts\"\n",
              "            style=\"display:none;\">\n",
              "\n",
              "<svg xmlns=\"http://www.w3.org/2000/svg\" height=\"24px\"viewBox=\"0 0 24 24\"\n",
              "     width=\"24px\">\n",
              "    <g>\n",
              "        <path d=\"M19 3H5c-1.1 0-2 .9-2 2v14c0 1.1.9 2 2 2h14c1.1 0 2-.9 2-2V5c0-1.1-.9-2-2-2zM9 17H7v-7h2v7zm4 0h-2V7h2v10zm4 0h-2v-4h2v4z\"/>\n",
              "    </g>\n",
              "</svg>\n",
              "  </button>\n",
              "\n",
              "<style>\n",
              "  .colab-df-quickchart {\n",
              "      --bg-color: #E8F0FE;\n",
              "      --fill-color: #1967D2;\n",
              "      --hover-bg-color: #E2EBFA;\n",
              "      --hover-fill-color: #174EA6;\n",
              "      --disabled-fill-color: #AAA;\n",
              "      --disabled-bg-color: #DDD;\n",
              "  }\n",
              "\n",
              "  [theme=dark] .colab-df-quickchart {\n",
              "      --bg-color: #3B4455;\n",
              "      --fill-color: #D2E3FC;\n",
              "      --hover-bg-color: #434B5C;\n",
              "      --hover-fill-color: #FFFFFF;\n",
              "      --disabled-bg-color: #3B4455;\n",
              "      --disabled-fill-color: #666;\n",
              "  }\n",
              "\n",
              "  .colab-df-quickchart {\n",
              "    background-color: var(--bg-color);\n",
              "    border: none;\n",
              "    border-radius: 50%;\n",
              "    cursor: pointer;\n",
              "    display: none;\n",
              "    fill: var(--fill-color);\n",
              "    height: 32px;\n",
              "    padding: 0;\n",
              "    width: 32px;\n",
              "  }\n",
              "\n",
              "  .colab-df-quickchart:hover {\n",
              "    background-color: var(--hover-bg-color);\n",
              "    box-shadow: 0 1px 2px rgba(60, 64, 67, 0.3), 0 1px 3px 1px rgba(60, 64, 67, 0.15);\n",
              "    fill: var(--button-hover-fill-color);\n",
              "  }\n",
              "\n",
              "  .colab-df-quickchart-complete:disabled,\n",
              "  .colab-df-quickchart-complete:disabled:hover {\n",
              "    background-color: var(--disabled-bg-color);\n",
              "    fill: var(--disabled-fill-color);\n",
              "    box-shadow: none;\n",
              "  }\n",
              "\n",
              "  .colab-df-spinner {\n",
              "    border: 2px solid var(--fill-color);\n",
              "    border-color: transparent;\n",
              "    border-bottom-color: var(--fill-color);\n",
              "    animation:\n",
              "      spin 1s steps(1) infinite;\n",
              "  }\n",
              "\n",
              "  @keyframes spin {\n",
              "    0% {\n",
              "      border-color: transparent;\n",
              "      border-bottom-color: var(--fill-color);\n",
              "      border-left-color: var(--fill-color);\n",
              "    }\n",
              "    20% {\n",
              "      border-color: transparent;\n",
              "      border-left-color: var(--fill-color);\n",
              "      border-top-color: var(--fill-color);\n",
              "    }\n",
              "    30% {\n",
              "      border-color: transparent;\n",
              "      border-left-color: var(--fill-color);\n",
              "      border-top-color: var(--fill-color);\n",
              "      border-right-color: var(--fill-color);\n",
              "    }\n",
              "    40% {\n",
              "      border-color: transparent;\n",
              "      border-right-color: var(--fill-color);\n",
              "      border-top-color: var(--fill-color);\n",
              "    }\n",
              "    60% {\n",
              "      border-color: transparent;\n",
              "      border-right-color: var(--fill-color);\n",
              "    }\n",
              "    80% {\n",
              "      border-color: transparent;\n",
              "      border-right-color: var(--fill-color);\n",
              "      border-bottom-color: var(--fill-color);\n",
              "    }\n",
              "    90% {\n",
              "      border-color: transparent;\n",
              "      border-bottom-color: var(--fill-color);\n",
              "    }\n",
              "  }\n",
              "</style>\n",
              "\n",
              "  <script>\n",
              "    async function quickchart(key) {\n",
              "      const quickchartButtonEl =\n",
              "        document.querySelector('#' + key + ' button');\n",
              "      quickchartButtonEl.disabled = true;  // To prevent multiple clicks.\n",
              "      quickchartButtonEl.classList.add('colab-df-spinner');\n",
              "      try {\n",
              "        const charts = await google.colab.kernel.invokeFunction(\n",
              "            'suggestCharts', [key], {});\n",
              "      } catch (error) {\n",
              "        console.error('Error during call to suggestCharts:', error);\n",
              "      }\n",
              "      quickchartButtonEl.classList.remove('colab-df-spinner');\n",
              "      quickchartButtonEl.classList.add('colab-df-quickchart-complete');\n",
              "    }\n",
              "    (() => {\n",
              "      let quickchartButtonEl =\n",
              "        document.querySelector('#df-cf741fc1-cf4e-40bd-88d4-dece75216de9 button');\n",
              "      quickchartButtonEl.style.display =\n",
              "        google.colab.kernel.accessAllowed ? 'block' : 'none';\n",
              "    })();\n",
              "  </script>\n",
              "</div>\n",
              "\n",
              "    </div>\n",
              "  </div>\n"
            ],
            "application/vnd.google.colaboratory.intrinsic+json": {
              "type": "dataframe",
              "variable_name": "presidential_adjs_df",
              "summary": "{\n  \"name\": \"presidential_adjs_df\",\n  \"rows\": 60,\n  \"fields\": [\n    {\n      \"column\": \"President\",\n      \"properties\": {\n        \"dtype\": \"string\",\n        \"num_unique_values\": 36,\n        \"samples\": [\n          \"Biden\",\n          \"Grant\",\n          \"Kennedy\"\n        ],\n        \"semantic_type\": \"\",\n        \"description\": \"\"\n      }\n    },\n    {\n      \"column\": \"great\",\n      \"properties\": {\n        \"dtype\": \"number\",\n        \"std\": 5,\n        \"min\": 0,\n        \"max\": 29,\n        \"num_unique_values\": 16,\n        \"samples\": [\n          3,\n          0,\n          29\n        ],\n        \"semantic_type\": \"\",\n        \"description\": \"\"\n      }\n    },\n    {\n      \"column\": \"other\",\n      \"properties\": {\n        \"dtype\": \"number\",\n        \"std\": 4,\n        \"min\": 0,\n        \"max\": 26,\n        \"num_unique_values\": 16,\n        \"samples\": [\n          1,\n          0,\n          4\n        ],\n        \"semantic_type\": \"\",\n        \"description\": \"\"\n      }\n    },\n    {\n      \"column\": \"own\",\n      \"properties\": {\n        \"dtype\": \"number\",\n        \"std\": 3,\n        \"min\": 0,\n        \"max\": 16,\n        \"num_unique_values\": 13,\n        \"samples\": [\n          15,\n          7,\n          2\n        ],\n        \"semantic_type\": \"\",\n        \"description\": \"\"\n      }\n    }\n  ]\n}"
            }
          },
          "metadata": {},
          "execution_count": 30
        }
      ],
      "source": [
        "# Create a DataFrame presidential_adjs_df, that contains columns that hold the President's last name\n",
        "# and the number of times each adjective appears in the Presidents' inaugural address.\n",
        "presidential_adjs_df = {\n",
        "    'President': presidents,\n",
        "    'great':great_counts,\n",
        "    'other':other_counts,\n",
        "    'own': own_counts\n",
        "}\n",
        "\n",
        "# Set the index of the presidential_adjs_df DataFrame equal to the year in the dates list.\n",
        "presidential_adjs_df = pd.DataFrame(presidential_adjs_df, index=pd.to_datetime(dates).year)\n",
        "\n",
        "# Display same data\n",
        "presidential_adjs_df.head()"
      ]
    },
    {
      "cell_type": "code",
      "execution_count": 31,
      "metadata": {
        "colab": {
          "base_uri": "https://localhost:8080/",
          "height": 506
        },
        "id": "54IdYZ1WKh8e",
        "outputId": "9af092b6-80bf-4a08-e104-120c00c07156"
      },
      "outputs": [
        {
          "output_type": "execute_result",
          "data": {
            "text/plain": [
              "<Axes: title={'center': 'Most Common Adjectives Used in the U.S. Presidential Inaugural Addresses'}>"
            ]
          },
          "metadata": {},
          "execution_count": 31
        },
        {
          "output_type": "display_data",
          "data": {
            "text/plain": [
              "<Figure size 1500x500 with 1 Axes>"
            ],
            "image/png": "[encoded data removed]"
          },
          "metadata": {}
        }
      ],
      "source": [
        "# Create a bar plot that displays the most common adjectives used throughout the U.S. presidential inaugural addresses.\n",
        "presidential_adjs_df.plot.bar(\n",
        "    title = \"Most Common Adjectives Used in the U.S. Presidential Inaugural Addresses\",\n",
        "    figsize = (15, 5))"
      ]
    },
    {
      "cell_type": "markdown",
      "metadata": {
        "id": "2ahYZPAxKh8e"
      },
      "source": [
        "## The Most Common Adjectives Describing America"
      ]
    },
    {
      "cell_type": "code",
      "execution_count": 32,
      "metadata": {
        "id": "_4MkJlq-Kh8e"
      },
      "outputs": [],
      "source": [
        "def describe_america(text):\n",
        "    \"\"\"\n",
        "    This function retrieves the adjectives in the text that describe the word 'America'.\n",
        "\n",
        "    Args:\n",
        "        text (string): The text to analyze.\n",
        "\n",
        "    Returns:\n",
        "        adjs (list): A list of the adjectives that describe the word \"America\" in the text.\n",
        "    \"\"\"\n",
        "\n",
        "    # Use the spaCy English language model to tokenize the text and parse each token.\n",
        "    doc = nlp(text)\n",
        "\n",
        "    # Create a list with all the adjectives in the text of each inaugural address that describe the word \"America\".\n",
        "    adjs = [token.text.lower() for token in doc if (token.pos_ == 'ADJ' and token.head.text == 'America')]\n",
        "\n",
        "    return adjs"
      ]
    },
    {
      "cell_type": "code",
      "execution_count": 33,
      "metadata": {
        "colab": {
          "base_uri": "https://localhost:8080/"
        },
        "id": "Bs-bz7ImKh8e",
        "outputId": "cb562182-c263-4371-a640-1d96cc582891"
      },
      "outputs": [
        {
          "output_type": "execute_result",
          "data": {
            "text/plain": [
              "['productive', 'alert', 'illumined', 'strong', 'stronger', 'rich']"
            ]
          },
          "metadata": {},
          "execution_count": 33
        }
      ],
      "source": [
        "# Create an empty list to store the adjectives\n",
        "america_adjectives = []\n",
        "\n",
        "# Write a for loop that sends the \"text\" of the inaugural addresses to the describe_america() function\n",
        "# and concatenates the returned adjectives to the america_adjectives list.\n",
        "for text in texts:\n",
        "    america_adjectives = america_adjectives + describe_america(text)\n",
        "\n",
        "# Print the list of the adjectives describing the word 'America'\n",
        "america_adjectives"
      ]
    },
    {
      "cell_type": "code",
      "execution_count": 33,
      "metadata": {
        "id": "QSN5EFFlKh8f"
      },
      "outputs": [],
      "source": []
    }
  ],
  "metadata": {
    "kernelspec": {
      "display_name": "Python 3 (ipykernel)",
      "language": "python",
      "name": "python3"
    },
    "language_info": {
      "codemirror_mode": {
        "name": "ipython",
        "version": 3
      },
      "file_extension": ".py",
      "mimetype": "text/x-python",
      "name": "python",
      "nbconvert_exporter": "python",
      "pygments_lexer": "ipython3",
      "version": "3.10.12"
    },
    "colab": {
      "provenance": [],
      "include_colab_link": true
    }
  },
  "nbformat": 4,
  "nbformat_minor": 0
}